{
    "metadata": {
        "kernelspec": {
            "name": "SQL",
            "display_name": "SQL",
            "language": "sql"
        },
        "language_info": {
            "name": "sql",
            "version": ""
        }
    },
    "nbformat_minor": 2,
    "nbformat": 4,
    "cells": [
        {
            "cell_type": "markdown",
            "source": [
                "# **`SQL-Case Study-01`**\n",
                "\n",
                "**Course**  :  <span style=\"color:rgb(0, 0, 0);font-family:&quot;Helvetica Neue&quot;;font-size:13px;\">Executive Post Graduate Certification in Data Science &amp; Artificial Intelligence (iHub DIvya Sampark</span> <span style=\"color:rgb(0, 0, 0);font-family:&quot;Helvetica Neue&quot;;font-size:13px;\">IIT Roorkee and Intellipat</span><span style=\"color:rgb(0, 0, 0);font-family:&quot;Helvetica Neue&quot;;font-size:13px;\">)</span>\n",
                "\n",
                "**Batch** : 240206\n",
                "\n",
                "**Course Start Date** :  Jul 2024\n",
                "\n",
                "**Registered email** : [luckyrathod.forum@gmail.com](mailto:luckyrathod.forum@gmail.com)\n",
                "\n",
                "**Submitted By** : Major Laxman Rathod"
            ],
            "metadata": {
                "azdata_cell_guid": "41aca094-3c24-4074-9f39-0f8d78106ea3"
            },
            "attachments": {}
        },
        {
            "cell_type": "markdown",
            "source": [
                "<hr>"
            ],
            "metadata": {
                "azdata_cell_guid": "5670b4e4-a0a9-4900-aaf2-8245e8d099b0"
            },
            "attachments": {}
        },
        {
            "cell_type": "markdown",
            "source": [
                "<span style=\"font-size: 16.000000pt; font-family: 'Arial'; font-weight: 700\">Problem Statement:</span>\n",
                "\n",
                "<span style=\"font-size: 13.000000pt; font-family: 'ArialMT'\">You are a database administrator. You want to use the data to answer a few questions about your customers, especially about the sales and profit coming from different states, money spent in marketing and various other factors such as COGS (Cost of Goods Sold), budget profit etc. You plan on using these insights to help find out which items are being sold the most. You have been provided with the sample of the overall customer data due to privacy issues. But you hope that these samples are enough for you to write fully functioning SQL queries to help answer the questions.</span>\n",
                "\n",
                "<span style=\"font-size: 16.000000pt; font-family: 'Arial'; font-weight: 700\">Dataset:</span>\n",
                "\n",
                "<span style=\"font-size: 13.000000pt; font-family: 'ArialMT'\">The 3 key datasets for this case study:</span>\n",
                "\n",
                "1. <span style=\"font-size: 13.000000pt; font-family: 'Arial'; font-weight: 700\">FactTable: </span> <span style=\"font-size: 13pt;\">The Fact Table has 14 columns mentioned below and 4200 rows. Date, ProductID, Profit, Sales, Margin, COGS, Total Expenses, Marketing, Inventory, Budget Profit, Budget COGS, Budget Margin, Budget Sales, and Area Code</span>\n",
                "    \n",
                "    <span style=\"font-size: 13pt;\">Note: COGS stands for Cost of Goods Sold</span>\n",
                "    \n",
                "2. <span style=\"font-size: 13.000000pt; font-family: 'Arial'; font-weight: 700\">ProductTable: </span> <span style=\"font-size: 13pt;\">The ProductTable has four columns named Product Type, Product, ProductID, and Type. It has 13 rows which can be broken down into further details to retrieve the information mentioned in theFactTable.</span>\n",
                "    \n",
                "3. <span style=\"font-size: 13.000000pt; font-family: 'Arial'; font-weight: 700\">LocationTable: </span> <span style=\"font-size: 13pt;\">Finally, the LocationTable has 156 rows and follows a similar approach to ProductTable. It has four columns named Area Code, State, Market, and Market Size.&nbsp;</span>"
            ],
            "metadata": {
                "azdata_cell_guid": "38ea4e24-3d35-455f-ad28-30ab018b10c8"
            },
            "attachments": {}
        },
        {
            "cell_type": "markdown",
            "source": [
                "<hr>"
            ],
            "metadata": {
                "azdata_cell_guid": "2d8c2438-95ea-42b4-b5e6-8c25c05b7500"
            },
            "attachments": {}
        },
        {
            "cell_type": "code",
            "source": [
                "USE sql_case_study"
            ],
            "metadata": {
                "azdata_cell_guid": "31b4830b-45b6-4061-83ed-758134003299",
                "language": "sql"
            },
            "outputs": [
                {
                    "output_type": "display_data",
                    "data": {
                        "text/html": "Commands completed successfully."
                    },
                    "metadata": {}
                },
                {
                    "output_type": "display_data",
                    "data": {
                        "text/html": "Total execution time: 00:00:00.003"
                    },
                    "metadata": {}
                }
            ],
            "execution_count": 3
        },
        {
            "cell_type": "code",
            "source": [
                "SELECT * FROM ProductTable"
            ],
            "metadata": {
                "language": "sql",
                "azdata_cell_guid": "f858cae4-837e-4409-8469-785259505f0f"
            },
            "outputs": [
                {
                    "output_type": "display_data",
                    "data": {
                        "text/html": "(13 rows affected)"
                    },
                    "metadata": {}
                },
                {
                    "output_type": "display_data",
                    "data": {
                        "text/html": "Total execution time: 00:00:00.038"
                    },
                    "metadata": {}
                },
                {
                    "output_type": "execute_result",
                    "execution_count": 4,
                    "data": {
                        "application/vnd.dataresource+json": {
                            "schema": {
                                "fields": [
                                    {
                                        "name": "ProductId"
                                    },
                                    {
                                        "name": "Product_Type"
                                    },
                                    {
                                        "name": "Product"
                                    },
                                    {
                                        "name": "Type"
                                    }
                                ]
                            },
                            "data": [
                                {
                                    "ProductId": "1",
                                    "Product_Type": "Coffee",
                                    "Product": "Amaretto",
                                    "Type": "Regular"
                                },
                                {
                                    "ProductId": "2",
                                    "Product_Type": "Coffee",
                                    "Product": "Columbian",
                                    "Type": "Regular"
                                },
                                {
                                    "ProductId": "3",
                                    "Product_Type": "Coffee",
                                    "Product": "Decaf Irish Cream",
                                    "Type": "Decaf"
                                },
                                {
                                    "ProductId": "4",
                                    "Product_Type": "Espresso",
                                    "Product": "Caffe Latte",
                                    "Type": "Regular"
                                },
                                {
                                    "ProductId": "5",
                                    "Product_Type": "Espresso",
                                    "Product": "Caffe Mocha",
                                    "Type": "Regular"
                                },
                                {
                                    "ProductId": "6",
                                    "Product_Type": "Espresso",
                                    "Product": "Decaf Espresso",
                                    "Type": "Decaf"
                                },
                                {
                                    "ProductId": "7",
                                    "Product_Type": "Espresso",
                                    "Product": "Regular Espresso",
                                    "Type": "Regular"
                                },
                                {
                                    "ProductId": "8",
                                    "Product_Type": "Herbal Tea",
                                    "Product": "Chamomile",
                                    "Type": "Decaf"
                                },
                                {
                                    "ProductId": "9",
                                    "Product_Type": "Herbal Tea",
                                    "Product": "Lemon",
                                    "Type": "Decaf"
                                },
                                {
                                    "ProductId": "10",
                                    "Product_Type": "Herbal Tea",
                                    "Product": "Mint",
                                    "Type": "Decaf"
                                },
                                {
                                    "ProductId": "11",
                                    "Product_Type": "Tea",
                                    "Product": "Darjeeling",
                                    "Type": "Regular"
                                },
                                {
                                    "ProductId": "12",
                                    "Product_Type": "Tea",
                                    "Product": "Earl Grey",
                                    "Type": "Regular"
                                },
                                {
                                    "ProductId": "13",
                                    "Product_Type": "Tea",
                                    "Product": "Green Tea",
                                    "Type": "Regular"
                                }
                            ]
                        },
                        "text/html": "<table><tr><th>ProductId</th><th>Product_Type</th><th>Product</th><th>Type</th></tr><tr><td>1</td><td>Coffee</td><td>Amaretto</td><td>Regular</td></tr><tr><td>2</td><td>Coffee</td><td>Columbian</td><td>Regular</td></tr><tr><td>3</td><td>Coffee</td><td>Decaf Irish Cream</td><td>Decaf</td></tr><tr><td>4</td><td>Espresso</td><td>Caffe Latte</td><td>Regular</td></tr><tr><td>5</td><td>Espresso</td><td>Caffe Mocha</td><td>Regular</td></tr><tr><td>6</td><td>Espresso</td><td>Decaf Espresso</td><td>Decaf</td></tr><tr><td>7</td><td>Espresso</td><td>Regular Espresso</td><td>Regular</td></tr><tr><td>8</td><td>Herbal Tea</td><td>Chamomile</td><td>Decaf</td></tr><tr><td>9</td><td>Herbal Tea</td><td>Lemon</td><td>Decaf</td></tr><tr><td>10</td><td>Herbal Tea</td><td>Mint</td><td>Decaf</td></tr><tr><td>11</td><td>Tea</td><td>Darjeeling</td><td>Regular</td></tr><tr><td>12</td><td>Tea</td><td>Earl Grey</td><td>Regular</td></tr><tr><td>13</td><td>Tea</td><td>Green Tea</td><td>Regular</td></tr></table>"
                    },
                    "metadata": {}
                }
            ],
            "execution_count": 4
        },
        {
            "cell_type": "code",
            "source": [
                "SELECT Top 10 * FROM LocationTable"
            ],
            "metadata": {
                "language": "sql",
                "azdata_cell_guid": "76527f5a-4f56-4f7f-97d8-35259965a765"
            },
            "outputs": [
                {
                    "output_type": "display_data",
                    "data": {
                        "text/html": "(10 rows affected)"
                    },
                    "metadata": {}
                },
                {
                    "output_type": "display_data",
                    "data": {
                        "text/html": "Total execution time: 00:00:00.007"
                    },
                    "metadata": {}
                },
                {
                    "output_type": "execute_result",
                    "execution_count": 6,
                    "data": {
                        "application/vnd.dataresource+json": {
                            "schema": {
                                "fields": [
                                    {
                                        "name": "Area_Code"
                                    },
                                    {
                                        "name": "State"
                                    },
                                    {
                                        "name": "Market"
                                    },
                                    {
                                        "name": "Market_Size"
                                    }
                                ]
                            },
                            "data": [
                                {
                                    "Area_Code": "203",
                                    "State": "Connecticut",
                                    "Market": "East",
                                    "Market_Size": "Small Market"
                                },
                                {
                                    "Area_Code": "206",
                                    "State": "Washington",
                                    "Market": "West",
                                    "Market_Size": "Small Market"
                                },
                                {
                                    "Area_Code": "209",
                                    "State": "California",
                                    "Market": "West",
                                    "Market_Size": "Major Market"
                                },
                                {
                                    "Area_Code": "210",
                                    "State": "Texas",
                                    "Market": "South",
                                    "Market_Size": "Major Market"
                                },
                                {
                                    "Area_Code": "212",
                                    "State": "New York",
                                    "Market": "East",
                                    "Market_Size": "Major Market"
                                },
                                {
                                    "Area_Code": "213",
                                    "State": "California",
                                    "Market": "West",
                                    "Market_Size": "Major Market"
                                },
                                {
                                    "Area_Code": "214",
                                    "State": "Texas",
                                    "Market": "South",
                                    "Market_Size": "Major Market"
                                },
                                {
                                    "Area_Code": "216",
                                    "State": "Ohio",
                                    "Market": "Central",
                                    "Market_Size": "Major Market"
                                },
                                {
                                    "Area_Code": "217",
                                    "State": "Illinois",
                                    "Market": "Central",
                                    "Market_Size": "Major Market"
                                },
                                {
                                    "Area_Code": "224",
                                    "State": "Illinois",
                                    "Market": "Central",
                                    "Market_Size": "Major Market"
                                }
                            ]
                        },
                        "text/html": "<table><tr><th>Area_Code</th><th>State</th><th>Market</th><th>Market_Size</th></tr><tr><td>203</td><td>Connecticut</td><td>East</td><td>Small Market</td></tr><tr><td>206</td><td>Washington</td><td>West</td><td>Small Market</td></tr><tr><td>209</td><td>California</td><td>West</td><td>Major Market</td></tr><tr><td>210</td><td>Texas</td><td>South</td><td>Major Market</td></tr><tr><td>212</td><td>New York</td><td>East</td><td>Major Market</td></tr><tr><td>213</td><td>California</td><td>West</td><td>Major Market</td></tr><tr><td>214</td><td>Texas</td><td>South</td><td>Major Market</td></tr><tr><td>216</td><td>Ohio</td><td>Central</td><td>Major Market</td></tr><tr><td>217</td><td>Illinois</td><td>Central</td><td>Major Market</td></tr><tr><td>224</td><td>Illinois</td><td>Central</td><td>Major Market</td></tr></table>"
                    },
                    "metadata": {}
                }
            ],
            "execution_count": 6
        },
        {
            "cell_type": "code",
            "source": [
                "SELECT Top 5 * FROM Facttable"
            ],
            "metadata": {
                "language": "sql",
                "azdata_cell_guid": "76a8d90f-569e-4a3f-91d2-186857fab543"
            },
            "outputs": [
                {
                    "output_type": "display_data",
                    "data": {
                        "text/html": "(5 rows affected)"
                    },
                    "metadata": {}
                },
                {
                    "output_type": "display_data",
                    "data": {
                        "text/html": "Total execution time: 00:00:00.005"
                    },
                    "metadata": {}
                },
                {
                    "output_type": "execute_result",
                    "execution_count": 9,
                    "data": {
                        "application/vnd.dataresource+json": {
                            "schema": {
                                "fields": [
                                    {
                                        "name": "Date"
                                    },
                                    {
                                        "name": "ProductId"
                                    },
                                    {
                                        "name": "Profit"
                                    },
                                    {
                                        "name": "Sales"
                                    },
                                    {
                                        "name": "Margin"
                                    },
                                    {
                                        "name": "COGS"
                                    },
                                    {
                                        "name": "Total_Expenses"
                                    },
                                    {
                                        "name": "Marketing"
                                    },
                                    {
                                        "name": "Inventory"
                                    },
                                    {
                                        "name": "Budget_Profit"
                                    },
                                    {
                                        "name": "Budget_COGS"
                                    },
                                    {
                                        "name": "Budget_Margin"
                                    },
                                    {
                                        "name": "Budget_Sales"
                                    },
                                    {
                                        "name": "Area_Code"
                                    }
                                ]
                            },
                            "data": [
                                {
                                    "Date": "2010-01-01",
                                    "ProductId": "1",
                                    "Profit": "94",
                                    "Sales": "219",
                                    "Margin": "130",
                                    "COGS": "89",
                                    "Total_Expenses": "36",
                                    "Marketing": "24",
                                    "Inventory": "777",
                                    "Budget_Profit": "100",
                                    "Budget_COGS": "90",
                                    "Budget_Margin": "130",
                                    "Budget_Sales": "220",
                                    "Area_Code": "719"
                                },
                                {
                                    "Date": "2010-01-01",
                                    "ProductId": "2",
                                    "Profit": "68",
                                    "Sales": "190",
                                    "Margin": "107",
                                    "COGS": "83",
                                    "Total_Expenses": "39",
                                    "Marketing": "27",
                                    "Inventory": "623",
                                    "Budget_Profit": "80",
                                    "Budget_COGS": "80",
                                    "Budget_Margin": "110",
                                    "Budget_Sales": "190",
                                    "Area_Code": "970"
                                },
                                {
                                    "Date": "2010-01-01",
                                    "ProductId": "3",
                                    "Profit": "101",
                                    "Sales": "234",
                                    "Margin": "139",
                                    "COGS": "95",
                                    "Total_Expenses": "38",
                                    "Marketing": "26",
                                    "Inventory": "821",
                                    "Budget_Profit": "110",
                                    "Budget_COGS": "100",
                                    "Budget_Margin": "140",
                                    "Budget_Sales": "240",
                                    "Area_Code": "970"
                                },
                                {
                                    "Date": "2010-01-01",
                                    "ProductId": "13",
                                    "Profit": "30",
                                    "Sales": "100",
                                    "Margin": "56",
                                    "COGS": "44",
                                    "Total_Expenses": "26",
                                    "Marketing": "14",
                                    "Inventory": "623",
                                    "Budget_Profit": "30",
                                    "Budget_COGS": "30",
                                    "Budget_Margin": "50",
                                    "Budget_Sales": "80",
                                    "Area_Code": "303"
                                },
                                {
                                    "Date": "2010-01-01",
                                    "ProductId": "5",
                                    "Profit": "54",
                                    "Sales": "134",
                                    "Margin": "80",
                                    "COGS": "54",
                                    "Total_Expenses": "26",
                                    "Marketing": "15",
                                    "Inventory": "456",
                                    "Budget_Profit": "70",
                                    "Budget_COGS": "60",
                                    "Budget_Margin": "90",
                                    "Budget_Sales": "150",
                                    "Area_Code": "303"
                                }
                            ]
                        },
                        "text/html": "<table><tr><th>Date</th><th>ProductId</th><th>Profit</th><th>Sales</th><th>Margin</th><th>COGS</th><th>Total_Expenses</th><th>Marketing</th><th>Inventory</th><th>Budget_Profit</th><th>Budget_COGS</th><th>Budget_Margin</th><th>Budget_Sales</th><th>Area_Code</th></tr><tr><td>2010-01-01</td><td>1</td><td>94</td><td>219</td><td>130</td><td>89</td><td>36</td><td>24</td><td>777</td><td>100</td><td>90</td><td>130</td><td>220</td><td>719</td></tr><tr><td>2010-01-01</td><td>2</td><td>68</td><td>190</td><td>107</td><td>83</td><td>39</td><td>27</td><td>623</td><td>80</td><td>80</td><td>110</td><td>190</td><td>970</td></tr><tr><td>2010-01-01</td><td>3</td><td>101</td><td>234</td><td>139</td><td>95</td><td>38</td><td>26</td><td>821</td><td>110</td><td>100</td><td>140</td><td>240</td><td>970</td></tr><tr><td>2010-01-01</td><td>13</td><td>30</td><td>100</td><td>56</td><td>44</td><td>26</td><td>14</td><td>623</td><td>30</td><td>30</td><td>50</td><td>80</td><td>303</td></tr><tr><td>2010-01-01</td><td>5</td><td>54</td><td>134</td><td>80</td><td>54</td><td>26</td><td>15</td><td>456</td><td>70</td><td>60</td><td>90</td><td>150</td><td>303</td></tr></table>"
                    },
                    "metadata": {}
                }
            ],
            "execution_count": 9
        },
        {
            "cell_type": "code",
            "source": [
                "-- 1. Display the number of states present in the Location Table.\n",
                "\n",
                "SELECT DISTINCT State from Locationtable"
            ],
            "metadata": {
                "azdata_cell_guid": "ef3cc7cf-9793-4004-9633-10a80af0ce9f",
                "language": "sql"
            },
            "outputs": [
                {
                    "output_type": "display_data",
                    "data": {
                        "text/html": "(20 rows affected)"
                    },
                    "metadata": {}
                },
                {
                    "output_type": "display_data",
                    "data": {
                        "text/html": "Total execution time: 00:00:00.005"
                    },
                    "metadata": {}
                },
                {
                    "output_type": "execute_result",
                    "execution_count": 12,
                    "data": {
                        "application/vnd.dataresource+json": {
                            "schema": {
                                "fields": [
                                    {
                                        "name": "State"
                                    }
                                ]
                            },
                            "data": [
                                {
                                    "State": "California"
                                },
                                {
                                    "State": "Colorado"
                                },
                                {
                                    "State": "Connecticut"
                                },
                                {
                                    "State": "Florida"
                                },
                                {
                                    "State": "Illinois"
                                },
                                {
                                    "State": "Iowa"
                                },
                                {
                                    "State": "Louisiana"
                                },
                                {
                                    "State": "Massachusetts"
                                },
                                {
                                    "State": "Missouri"
                                },
                                {
                                    "State": "Nevada"
                                },
                                {
                                    "State": "New Hampshire"
                                },
                                {
                                    "State": "New Mexico"
                                },
                                {
                                    "State": "New York"
                                },
                                {
                                    "State": "Ohio"
                                },
                                {
                                    "State": "Oklahoma"
                                },
                                {
                                    "State": "Oregon"
                                },
                                {
                                    "State": "Texas"
                                },
                                {
                                    "State": "Utah"
                                },
                                {
                                    "State": "Washington"
                                },
                                {
                                    "State": "Wisconsin"
                                }
                            ]
                        },
                        "text/html": "<table><tr><th>State</th></tr><tr><td>California</td></tr><tr><td>Colorado</td></tr><tr><td>Connecticut</td></tr><tr><td>Florida</td></tr><tr><td>Illinois</td></tr><tr><td>Iowa</td></tr><tr><td>Louisiana</td></tr><tr><td>Massachusetts</td></tr><tr><td>Missouri</td></tr><tr><td>Nevada</td></tr><tr><td>New Hampshire</td></tr><tr><td>New Mexico</td></tr><tr><td>New York</td></tr><tr><td>Ohio</td></tr><tr><td>Oklahoma</td></tr><tr><td>Oregon</td></tr><tr><td>Texas</td></tr><tr><td>Utah</td></tr><tr><td>Washington</td></tr><tr><td>Wisconsin</td></tr></table>"
                    },
                    "metadata": {}
                }
            ],
            "execution_count": 12
        },
        {
            "cell_type": "code",
            "source": [
                "-- 2. How many products are of regular type?\n",
                "SELECT COUNT(Type) As NoOfRegularProduct\n",
                "FROM ProductTable\n",
                "WHERE Type='Regular'\n",
                "GROUP BY Type"
            ],
            "metadata": {
                "language": "sql",
                "azdata_cell_guid": "4b35fef3-615e-41f7-bca2-8a296711f7a6"
            },
            "outputs": [
                {
                    "output_type": "display_data",
                    "data": {
                        "text/html": "(1 row affected)"
                    },
                    "metadata": {}
                },
                {
                    "output_type": "display_data",
                    "data": {
                        "text/html": "Total execution time: 00:00:00.037"
                    },
                    "metadata": {}
                },
                {
                    "output_type": "execute_result",
                    "execution_count": 13,
                    "data": {
                        "application/vnd.dataresource+json": {
                            "schema": {
                                "fields": [
                                    {
                                        "name": "NoOfRegularProduct"
                                    }
                                ]
                            },
                            "data": [
                                {
                                    "NoOfRegularProduct": "8"
                                }
                            ]
                        },
                        "text/html": "<table><tr><th>NoOfRegularProduct</th></tr><tr><td>8</td></tr></table>"
                    },
                    "metadata": {}
                }
            ],
            "execution_count": 13
        },
        {
            "cell_type": "code",
            "source": [
                "-- 3. How much spending has been done on marketing of productID 1? \n",
                "\n",
                "SELECT SUM(Marketing) AS TotalMarketingCost\n",
                "FROM FactTable\n",
                "WHERE ProductId=1\n",
                ""
            ],
            "metadata": {
                "language": "sql",
                "azdata_cell_guid": "79043d17-3e86-4e38-a3e0-98ab5171dfa3"
            },
            "outputs": [
                {
                    "output_type": "display_data",
                    "data": {
                        "text/html": "(1 row affected)"
                    },
                    "metadata": {}
                },
                {
                    "output_type": "display_data",
                    "data": {
                        "text/html": "Total execution time: 00:00:00.057"
                    },
                    "metadata": {}
                },
                {
                    "output_type": "execute_result",
                    "execution_count": 14,
                    "data": {
                        "application/vnd.dataresource+json": {
                            "schema": {
                                "fields": [
                                    {
                                        "name": "TotalMarketingCost"
                                    }
                                ]
                            },
                            "data": [
                                {
                                    "TotalMarketingCost": "4658"
                                }
                            ]
                        },
                        "text/html": "<table><tr><th>TotalMarketingCost</th></tr><tr><td>4658</td></tr></table>"
                    },
                    "metadata": {}
                }
            ],
            "execution_count": 14
        },
        {
            "cell_type": "code",
            "source": [
                "-- 4. What is the minimum sales of a product?\n",
                "\n",
                "SELECT ProductID, MIN(Sales) AS MinSales\n",
                "FROM FactTable\n",
                "GROUP BY ProductId"
            ],
            "metadata": {
                "language": "sql",
                "azdata_cell_guid": "9b1f7f27-7d98-430d-8d88-b6d62fecf87b"
            },
            "outputs": [
                {
                    "output_type": "display_data",
                    "data": {
                        "text/html": "(13 rows affected)"
                    },
                    "metadata": {}
                },
                {
                    "output_type": "display_data",
                    "data": {
                        "text/html": "Total execution time: 00:00:00.038"
                    },
                    "metadata": {}
                },
                {
                    "output_type": "execute_result",
                    "execution_count": 15,
                    "data": {
                        "application/vnd.dataresource+json": {
                            "schema": {
                                "fields": [
                                    {
                                        "name": "ProductID"
                                    },
                                    {
                                        "name": "MinSales"
                                    }
                                ]
                            },
                            "data": [
                                {
                                    "ProductID": "9",
                                    "MinSales": "55"
                                },
                                {
                                    "ProductID": "3",
                                    "MinSales": "23"
                                },
                                {
                                    "ProductID": "12",
                                    "MinSales": "45"
                                },
                                {
                                    "ProductID": "6",
                                    "MinSales": "41"
                                },
                                {
                                    "ProductID": "7",
                                    "MinSales": "45"
                                },
                                {
                                    "ProductID": "1",
                                    "MinSales": "39"
                                },
                                {
                                    "ProductID": "10",
                                    "MinSales": "90"
                                },
                                {
                                    "ProductID": "4",
                                    "MinSales": "43"
                                },
                                {
                                    "ProductID": "13",
                                    "MinSales": "17"
                                },
                                {
                                    "ProductID": "5",
                                    "MinSales": "39"
                                },
                                {
                                    "ProductID": "2",
                                    "MinSales": "61"
                                },
                                {
                                    "ProductID": "11",
                                    "MinSales": "39"
                                },
                                {
                                    "ProductID": "8",
                                    "MinSales": "39"
                                }
                            ]
                        },
                        "text/html": "<table><tr><th>ProductID</th><th>MinSales</th></tr><tr><td>9</td><td>55</td></tr><tr><td>3</td><td>23</td></tr><tr><td>12</td><td>45</td></tr><tr><td>6</td><td>41</td></tr><tr><td>7</td><td>45</td></tr><tr><td>1</td><td>39</td></tr><tr><td>10</td><td>90</td></tr><tr><td>4</td><td>43</td></tr><tr><td>13</td><td>17</td></tr><tr><td>5</td><td>39</td></tr><tr><td>2</td><td>61</td></tr><tr><td>11</td><td>39</td></tr><tr><td>8</td><td>39</td></tr></table>"
                    },
                    "metadata": {}
                }
            ],
            "execution_count": 15
        },
        {
            "cell_type": "code",
            "source": [
                "-- 5. Display the max Cost of Good Sold(COGS).\n",
                "\n",
                "SELECT MAX(COGS) AS MaxCostOfGoodSold FROM FactTable"
            ],
            "metadata": {
                "language": "sql",
                "azdata_cell_guid": "8937c1b8-75e7-4fbf-8784-b55e6ba18ff3"
            },
            "outputs": [
                {
                    "output_type": "display_data",
                    "data": {
                        "text/html": "(1 row affected)"
                    },
                    "metadata": {}
                },
                {
                    "output_type": "display_data",
                    "data": {
                        "text/html": "Total execution time: 00:00:00.010"
                    },
                    "metadata": {}
                },
                {
                    "output_type": "execute_result",
                    "execution_count": 17,
                    "data": {
                        "application/vnd.dataresource+json": {
                            "schema": {
                                "fields": [
                                    {
                                        "name": "MaxCostOfGoodSold"
                                    }
                                ]
                            },
                            "data": [
                                {
                                    "MaxCostOfGoodSold": "364"
                                }
                            ]
                        },
                        "text/html": "<table><tr><th>MaxCostOfGoodSold</th></tr><tr><td>364</td></tr></table>"
                    },
                    "metadata": {}
                }
            ],
            "execution_count": 17
        },
        {
            "cell_type": "code",
            "source": [
                "-- 6. Display the details of the product where product type is coffee.\n",
                "SELECT Top 10 * \n",
                "FROM FactTable F\n",
                "JOIN ProductTable P\n",
                "ON F.ProductID = P.ProductID\n",
                "WHERE P.Product_Type='Coffee'\n",
                "\n",
                "-- Note : Number of rows are restricted to 10 because the application crashes/ Hangs\n",
                "-- Actual No of ROWS : 1056"
            ],
            "metadata": {
                "language": "sql",
                "azdata_cell_guid": "6dc1fbba-0565-4ac4-bf26-a69921a77cfe"
            },
            "outputs": [
                {
                    "output_type": "display_data",
                    "data": {
                        "text/html": "(10 rows affected)"
                    },
                    "metadata": {}
                },
                {
                    "output_type": "display_data",
                    "data": {
                        "text/html": "Total execution time: 00:00:00.014"
                    },
                    "metadata": {}
                },
                {
                    "output_type": "execute_result",
                    "execution_count": 30,
                    "data": {
                        "application/vnd.dataresource+json": {
                            "schema": {
                                "fields": [
                                    {
                                        "name": "Date"
                                    },
                                    {
                                        "name": "ProductId"
                                    },
                                    {
                                        "name": "Profit"
                                    },
                                    {
                                        "name": "Sales"
                                    },
                                    {
                                        "name": "Margin"
                                    },
                                    {
                                        "name": "COGS"
                                    },
                                    {
                                        "name": "Total_Expenses"
                                    },
                                    {
                                        "name": "Marketing"
                                    },
                                    {
                                        "name": "Inventory"
                                    },
                                    {
                                        "name": "Budget_Profit"
                                    },
                                    {
                                        "name": "Budget_COGS"
                                    },
                                    {
                                        "name": "Budget_Margin"
                                    },
                                    {
                                        "name": "Budget_Sales"
                                    },
                                    {
                                        "name": "Area_Code"
                                    },
                                    {
                                        "name": "ProductId"
                                    },
                                    {
                                        "name": "Product_Type"
                                    },
                                    {
                                        "name": "Product"
                                    },
                                    {
                                        "name": "Type"
                                    }
                                ]
                            },
                            "data": [
                                {
                                    "Date": "2010-01-01",
                                    "ProductId": "1",
                                    "Profit": "94",
                                    "Sales": "219",
                                    "Margin": "130",
                                    "COGS": "89",
                                    "Total_Expenses": "36",
                                    "Marketing": "24",
                                    "Inventory": "777",
                                    "Budget_Profit": "100",
                                    "Budget_COGS": "90",
                                    "Budget_Margin": "130",
                                    "Budget_Sales": "220",
                                    "Area_Code": "719",
                                    "Product_Type": "Coffee",
                                    "Product": "Amaretto",
                                    "Type": "Regular"
                                },
                                {
                                    "Date": "2010-01-01",
                                    "ProductId": "1",
                                    "Profit": "11",
                                    "Sales": "45",
                                    "Margin": "27",
                                    "COGS": "18",
                                    "Total_Expenses": "16",
                                    "Marketing": "5",
                                    "Inventory": "821",
                                    "Budget_Profit": "20",
                                    "Budget_COGS": "10",
                                    "Budget_Margin": "30",
                                    "Budget_Sales": "40",
                                    "Area_Code": "319",
                                    "Product_Type": "Coffee",
                                    "Product": "Amaretto",
                                    "Type": "Regular"
                                },
                                {
                                    "Date": "2010-01-01",
                                    "ProductId": "1",
                                    "Profit": "34",
                                    "Sales": "140",
                                    "Margin": "80",
                                    "COGS": "60",
                                    "Total_Expenses": "46",
                                    "Marketing": "19",
                                    "Inventory": "336",
                                    "Budget_Profit": "50",
                                    "Budget_COGS": "60",
                                    "Budget_Margin": "80",
                                    "Budget_Sales": "140",
                                    "Area_Code": "740",
                                    "Product_Type": "Coffee",
                                    "Product": "Amaretto",
                                    "Type": "Regular"
                                },
                                {
                                    "Date": "2010-01-01",
                                    "ProductId": "1",
                                    "Profit": "13",
                                    "Sales": "120",
                                    "Margin": "66",
                                    "COGS": "54",
                                    "Total_Expenses": "53",
                                    "Marketing": "20",
                                    "Inventory": "312",
                                    "Budget_Profit": "30",
                                    "Budget_COGS": "50",
                                    "Budget_Margin": "70",
                                    "Budget_Sales": "120",
                                    "Area_Code": "262",
                                    "Product_Type": "Coffee",
                                    "Product": "Amaretto",
                                    "Type": "Regular"
                                },
                                {
                                    "Date": "2010-01-01",
                                    "ProductId": "1",
                                    "Profit": "20",
                                    "Sales": "93",
                                    "Margin": "55",
                                    "COGS": "38",
                                    "Total_Expenses": "35",
                                    "Marketing": "12",
                                    "Inventory": "241",
                                    "Budget_Profit": "30",
                                    "Budget_COGS": "30",
                                    "Budget_Margin": "50",
                                    "Budget_Sales": "80",
                                    "Area_Code": "603",
                                    "Product_Type": "Coffee",
                                    "Product": "Amaretto",
                                    "Type": "Regular"
                                },
                                {
                                    "Date": "2010-01-01",
                                    "ProductId": "1",
                                    "Profit": "47",
                                    "Sales": "170",
                                    "Margin": "92",
                                    "COGS": "78",
                                    "Total_Expenses": "45",
                                    "Marketing": "24",
                                    "Inventory": "965",
                                    "Budget_Profit": "80",
                                    "Budget_COGS": "90",
                                    "Budget_Margin": "120",
                                    "Budget_Sales": "210",
                                    "Area_Code": "801",
                                    "Product_Type": "Coffee",
                                    "Product": "Amaretto",
                                    "Type": "Regular"
                                },
                                {
                                    "Date": "2010-01-01",
                                    "ProductId": "1",
                                    "Profit": "-2",
                                    "Sales": "145",
                                    "Margin": "50",
                                    "COGS": "95",
                                    "Total_Expenses": "52",
                                    "Marketing": "30",
                                    "Inventory": "608",
                                    "Budget_Profit": "30",
                                    "Budget_COGS": "110",
                                    "Budget_Margin": "70",
                                    "Budget_Sales": "180",
                                    "Area_Code": "916",
                                    "Product_Type": "Coffee",
                                    "Product": "Amaretto",
                                    "Type": "Regular"
                                },
                                {
                                    "Date": "2010-01-01",
                                    "ProductId": "1",
                                    "Profit": "1",
                                    "Sales": "150",
                                    "Margin": "87",
                                    "COGS": "63",
                                    "Total_Expenses": "86",
                                    "Marketing": "57",
                                    "Inventory": "435",
                                    "Budget_Profit": "40",
                                    "Budget_COGS": "70",
                                    "Budget_Margin": "110",
                                    "Budget_Sales": "180",
                                    "Area_Code": "541",
                                    "Product_Type": "Coffee",
                                    "Product": "Amaretto",
                                    "Type": "Regular"
                                },
                                {
                                    "Date": "2010-01-02",
                                    "ProductId": "1",
                                    "Profit": "105",
                                    "Sales": "243",
                                    "Margin": "144",
                                    "COGS": "99",
                                    "Total_Expenses": "39",
                                    "Marketing": "27",
                                    "Inventory": "766",
                                    "Budget_Profit": "120",
                                    "Budget_COGS": "100",
                                    "Budget_Margin": "150",
                                    "Budget_Sales": "250",
                                    "Area_Code": "303",
                                    "Product_Type": "Coffee",
                                    "Product": "Amaretto",
                                    "Type": "Regular"
                                },
                                {
                                    "Date": "2010-01-02",
                                    "ProductId": "1",
                                    "Profit": "10",
                                    "Sales": "45",
                                    "Margin": "27",
                                    "COGS": "18",
                                    "Total_Expenses": "17",
                                    "Marketing": "5",
                                    "Inventory": "818",
                                    "Budget_Profit": "20",
                                    "Budget_COGS": "10",
                                    "Budget_Margin": "30",
                                    "Budget_Sales": "40",
                                    "Area_Code": "712",
                                    "Product_Type": "Coffee",
                                    "Product": "Amaretto",
                                    "Type": "Regular"
                                }
                            ]
                        },
                        "text/html": "<table><tr><th>Date</th><th>ProductId</th><th>Profit</th><th>Sales</th><th>Margin</th><th>COGS</th><th>Total_Expenses</th><th>Marketing</th><th>Inventory</th><th>Budget_Profit</th><th>Budget_COGS</th><th>Budget_Margin</th><th>Budget_Sales</th><th>Area_Code</th><th>ProductId</th><th>Product_Type</th><th>Product</th><th>Type</th></tr><tr><td>2010-01-01</td><td>1</td><td>94</td><td>219</td><td>130</td><td>89</td><td>36</td><td>24</td><td>777</td><td>100</td><td>90</td><td>130</td><td>220</td><td>719</td><td>1</td><td>Coffee</td><td>Amaretto</td><td>Regular</td></tr><tr><td>2010-01-01</td><td>1</td><td>11</td><td>45</td><td>27</td><td>18</td><td>16</td><td>5</td><td>821</td><td>20</td><td>10</td><td>30</td><td>40</td><td>319</td><td>1</td><td>Coffee</td><td>Amaretto</td><td>Regular</td></tr><tr><td>2010-01-01</td><td>1</td><td>34</td><td>140</td><td>80</td><td>60</td><td>46</td><td>19</td><td>336</td><td>50</td><td>60</td><td>80</td><td>140</td><td>740</td><td>1</td><td>Coffee</td><td>Amaretto</td><td>Regular</td></tr><tr><td>2010-01-01</td><td>1</td><td>13</td><td>120</td><td>66</td><td>54</td><td>53</td><td>20</td><td>312</td><td>30</td><td>50</td><td>70</td><td>120</td><td>262</td><td>1</td><td>Coffee</td><td>Amaretto</td><td>Regular</td></tr><tr><td>2010-01-01</td><td>1</td><td>20</td><td>93</td><td>55</td><td>38</td><td>35</td><td>12</td><td>241</td><td>30</td><td>30</td><td>50</td><td>80</td><td>603</td><td>1</td><td>Coffee</td><td>Amaretto</td><td>Regular</td></tr><tr><td>2010-01-01</td><td>1</td><td>47</td><td>170</td><td>92</td><td>78</td><td>45</td><td>24</td><td>965</td><td>80</td><td>90</td><td>120</td><td>210</td><td>801</td><td>1</td><td>Coffee</td><td>Amaretto</td><td>Regular</td></tr><tr><td>2010-01-01</td><td>1</td><td>-2</td><td>145</td><td>50</td><td>95</td><td>52</td><td>30</td><td>608</td><td>30</td><td>110</td><td>70</td><td>180</td><td>916</td><td>1</td><td>Coffee</td><td>Amaretto</td><td>Regular</td></tr><tr><td>2010-01-01</td><td>1</td><td>1</td><td>150</td><td>87</td><td>63</td><td>86</td><td>57</td><td>435</td><td>40</td><td>70</td><td>110</td><td>180</td><td>541</td><td>1</td><td>Coffee</td><td>Amaretto</td><td>Regular</td></tr><tr><td>2010-01-02</td><td>1</td><td>105</td><td>243</td><td>144</td><td>99</td><td>39</td><td>27</td><td>766</td><td>120</td><td>100</td><td>150</td><td>250</td><td>303</td><td>1</td><td>Coffee</td><td>Amaretto</td><td>Regular</td></tr><tr><td>2010-01-02</td><td>1</td><td>10</td><td>45</td><td>27</td><td>18</td><td>17</td><td>5</td><td>818</td><td>20</td><td>10</td><td>30</td><td>40</td><td>712</td><td>1</td><td>Coffee</td><td>Amaretto</td><td>Regular</td></tr></table>"
                    },
                    "metadata": {}
                }
            ],
            "execution_count": 30
        },
        {
            "cell_type": "code",
            "source": [
                "-- 7. Display the details where total expenses are greater than 40.\n",
                "\n",
                "SELECT  Top 10 * \n",
                "FROM FactTable F\n",
                "JOIN ProductTable P\n",
                "ON F.ProductID = P.ProductID\n",
                "WHERE F.Total_Expenses > 40\n",
                "\n",
                "-- Note : Number of rows are restricted to 10 because the application crashes/ Hangs\n",
                "-- Actual No of ROWS : 2605"
            ],
            "metadata": {
                "language": "sql",
                "azdata_cell_guid": "8c127a28-5e7d-4111-a9ec-aef60d7f5626"
            },
            "outputs": [
                {
                    "output_type": "display_data",
                    "data": {
                        "text/html": "(10 rows affected)"
                    },
                    "metadata": {}
                },
                {
                    "output_type": "display_data",
                    "data": {
                        "text/html": "Total execution time: 00:00:00.034"
                    },
                    "metadata": {}
                },
                {
                    "output_type": "execute_result",
                    "execution_count": 32,
                    "data": {
                        "application/vnd.dataresource+json": {
                            "schema": {
                                "fields": [
                                    {
                                        "name": "Date"
                                    },
                                    {
                                        "name": "ProductId"
                                    },
                                    {
                                        "name": "Profit"
                                    },
                                    {
                                        "name": "Sales"
                                    },
                                    {
                                        "name": "Margin"
                                    },
                                    {
                                        "name": "COGS"
                                    },
                                    {
                                        "name": "Total_Expenses"
                                    },
                                    {
                                        "name": "Marketing"
                                    },
                                    {
                                        "name": "Inventory"
                                    },
                                    {
                                        "name": "Budget_Profit"
                                    },
                                    {
                                        "name": "Budget_COGS"
                                    },
                                    {
                                        "name": "Budget_Margin"
                                    },
                                    {
                                        "name": "Budget_Sales"
                                    },
                                    {
                                        "name": "Area_Code"
                                    },
                                    {
                                        "name": "ProductId"
                                    },
                                    {
                                        "name": "Product_Type"
                                    },
                                    {
                                        "name": "Product"
                                    },
                                    {
                                        "name": "Type"
                                    }
                                ]
                            },
                            "data": [
                                {
                                    "Date": "2010-01-01",
                                    "ProductId": "1",
                                    "Profit": "34",
                                    "Sales": "140",
                                    "Margin": "80",
                                    "COGS": "60",
                                    "Total_Expenses": "46",
                                    "Marketing": "19",
                                    "Inventory": "336",
                                    "Budget_Profit": "50",
                                    "Budget_COGS": "60",
                                    "Budget_Margin": "80",
                                    "Budget_Sales": "140",
                                    "Area_Code": "740",
                                    "Product_Type": "Coffee",
                                    "Product": "Amaretto",
                                    "Type": "Regular"
                                },
                                {
                                    "Date": "2010-01-01",
                                    "ProductId": "1",
                                    "Profit": "13",
                                    "Sales": "120",
                                    "Margin": "66",
                                    "COGS": "54",
                                    "Total_Expenses": "53",
                                    "Marketing": "20",
                                    "Inventory": "312",
                                    "Budget_Profit": "30",
                                    "Budget_COGS": "50",
                                    "Budget_Margin": "70",
                                    "Budget_Sales": "120",
                                    "Area_Code": "262",
                                    "Product_Type": "Coffee",
                                    "Product": "Amaretto",
                                    "Type": "Regular"
                                },
                                {
                                    "Date": "2010-01-01",
                                    "ProductId": "1",
                                    "Profit": "47",
                                    "Sales": "170",
                                    "Margin": "92",
                                    "COGS": "78",
                                    "Total_Expenses": "45",
                                    "Marketing": "24",
                                    "Inventory": "965",
                                    "Budget_Profit": "80",
                                    "Budget_COGS": "90",
                                    "Budget_Margin": "120",
                                    "Budget_Sales": "210",
                                    "Area_Code": "801",
                                    "Product_Type": "Coffee",
                                    "Product": "Amaretto",
                                    "Type": "Regular"
                                },
                                {
                                    "Date": "2010-01-01",
                                    "ProductId": "1",
                                    "Profit": "-2",
                                    "Sales": "145",
                                    "Margin": "50",
                                    "COGS": "95",
                                    "Total_Expenses": "52",
                                    "Marketing": "30",
                                    "Inventory": "608",
                                    "Budget_Profit": "30",
                                    "Budget_COGS": "110",
                                    "Budget_Margin": "70",
                                    "Budget_Sales": "180",
                                    "Area_Code": "916",
                                    "Product_Type": "Coffee",
                                    "Product": "Amaretto",
                                    "Type": "Regular"
                                },
                                {
                                    "Date": "2010-01-01",
                                    "ProductId": "1",
                                    "Profit": "1",
                                    "Sales": "150",
                                    "Margin": "87",
                                    "COGS": "63",
                                    "Total_Expenses": "86",
                                    "Marketing": "57",
                                    "Inventory": "435",
                                    "Budget_Profit": "40",
                                    "Budget_COGS": "70",
                                    "Budget_Margin": "110",
                                    "Budget_Sales": "180",
                                    "Area_Code": "541",
                                    "Product_Type": "Coffee",
                                    "Product": "Amaretto",
                                    "Type": "Regular"
                                },
                                {
                                    "Date": "2010-01-02",
                                    "ProductId": "1",
                                    "Profit": "33",
                                    "Sales": "140",
                                    "Margin": "80",
                                    "COGS": "60",
                                    "Total_Expenses": "47",
                                    "Marketing": "19",
                                    "Inventory": "329",
                                    "Budget_Profit": "50",
                                    "Budget_COGS": "60",
                                    "Budget_Margin": "80",
                                    "Budget_Sales": "140",
                                    "Area_Code": "937",
                                    "Product_Type": "Coffee",
                                    "Product": "Amaretto",
                                    "Type": "Regular"
                                },
                                {
                                    "Date": "2010-01-02",
                                    "ProductId": "1",
                                    "Profit": "12",
                                    "Sales": "118",
                                    "Margin": "65",
                                    "COGS": "53",
                                    "Total_Expenses": "53",
                                    "Marketing": "20",
                                    "Inventory": "306",
                                    "Budget_Profit": "30",
                                    "Budget_COGS": "50",
                                    "Budget_Margin": "70",
                                    "Budget_Sales": "120",
                                    "Area_Code": "262",
                                    "Product_Type": "Coffee",
                                    "Product": "Amaretto",
                                    "Type": "Regular"
                                },
                                {
                                    "Date": "2010-01-02",
                                    "ProductId": "1",
                                    "Profit": "46",
                                    "Sales": "165",
                                    "Margin": "90",
                                    "COGS": "75",
                                    "Total_Expenses": "44",
                                    "Marketing": "23",
                                    "Inventory": "956",
                                    "Budget_Profit": "70",
                                    "Budget_COGS": "90",
                                    "Budget_Margin": "110",
                                    "Budget_Sales": "200",
                                    "Area_Code": "435",
                                    "Product_Type": "Coffee",
                                    "Product": "Amaretto",
                                    "Type": "Regular"
                                },
                                {
                                    "Date": "2010-01-02",
                                    "ProductId": "1",
                                    "Profit": "-27",
                                    "Sales": "132",
                                    "Margin": "28",
                                    "COGS": "104",
                                    "Total_Expenses": "55",
                                    "Marketing": "33",
                                    "Inventory": "685",
                                    "Budget_Profit": "-20",
                                    "Budget_COGS": "130",
                                    "Budget_Margin": "30",
                                    "Budget_Sales": "160",
                                    "Area_Code": "909",
                                    "Product_Type": "Coffee",
                                    "Product": "Amaretto",
                                    "Type": "Regular"
                                },
                                {
                                    "Date": "2010-01-02",
                                    "ProductId": "1",
                                    "Profit": "-4",
                                    "Sales": "129",
                                    "Margin": "75",
                                    "COGS": "54",
                                    "Total_Expenses": "79",
                                    "Marketing": "49",
                                    "Inventory": "427",
                                    "Budget_Profit": "40",
                                    "Budget_COGS": "60",
                                    "Budget_Margin": "100",
                                    "Budget_Sales": "160",
                                    "Area_Code": "971",
                                    "Product_Type": "Coffee",
                                    "Product": "Amaretto",
                                    "Type": "Regular"
                                }
                            ]
                        },
                        "text/html": "<table><tr><th>Date</th><th>ProductId</th><th>Profit</th><th>Sales</th><th>Margin</th><th>COGS</th><th>Total_Expenses</th><th>Marketing</th><th>Inventory</th><th>Budget_Profit</th><th>Budget_COGS</th><th>Budget_Margin</th><th>Budget_Sales</th><th>Area_Code</th><th>ProductId</th><th>Product_Type</th><th>Product</th><th>Type</th></tr><tr><td>2010-01-01</td><td>1</td><td>34</td><td>140</td><td>80</td><td>60</td><td>46</td><td>19</td><td>336</td><td>50</td><td>60</td><td>80</td><td>140</td><td>740</td><td>1</td><td>Coffee</td><td>Amaretto</td><td>Regular</td></tr><tr><td>2010-01-01</td><td>1</td><td>13</td><td>120</td><td>66</td><td>54</td><td>53</td><td>20</td><td>312</td><td>30</td><td>50</td><td>70</td><td>120</td><td>262</td><td>1</td><td>Coffee</td><td>Amaretto</td><td>Regular</td></tr><tr><td>2010-01-01</td><td>1</td><td>47</td><td>170</td><td>92</td><td>78</td><td>45</td><td>24</td><td>965</td><td>80</td><td>90</td><td>120</td><td>210</td><td>801</td><td>1</td><td>Coffee</td><td>Amaretto</td><td>Regular</td></tr><tr><td>2010-01-01</td><td>1</td><td>-2</td><td>145</td><td>50</td><td>95</td><td>52</td><td>30</td><td>608</td><td>30</td><td>110</td><td>70</td><td>180</td><td>916</td><td>1</td><td>Coffee</td><td>Amaretto</td><td>Regular</td></tr><tr><td>2010-01-01</td><td>1</td><td>1</td><td>150</td><td>87</td><td>63</td><td>86</td><td>57</td><td>435</td><td>40</td><td>70</td><td>110</td><td>180</td><td>541</td><td>1</td><td>Coffee</td><td>Amaretto</td><td>Regular</td></tr><tr><td>2010-01-02</td><td>1</td><td>33</td><td>140</td><td>80</td><td>60</td><td>47</td><td>19</td><td>329</td><td>50</td><td>60</td><td>80</td><td>140</td><td>937</td><td>1</td><td>Coffee</td><td>Amaretto</td><td>Regular</td></tr><tr><td>2010-01-02</td><td>1</td><td>12</td><td>118</td><td>65</td><td>53</td><td>53</td><td>20</td><td>306</td><td>30</td><td>50</td><td>70</td><td>120</td><td>262</td><td>1</td><td>Coffee</td><td>Amaretto</td><td>Regular</td></tr><tr><td>2010-01-02</td><td>1</td><td>46</td><td>165</td><td>90</td><td>75</td><td>44</td><td>23</td><td>956</td><td>70</td><td>90</td><td>110</td><td>200</td><td>435</td><td>1</td><td>Coffee</td><td>Amaretto</td><td>Regular</td></tr><tr><td>2010-01-02</td><td>1</td><td>-27</td><td>132</td><td>28</td><td>104</td><td>55</td><td>33</td><td>685</td><td>-20</td><td>130</td><td>30</td><td>160</td><td>909</td><td>1</td><td>Coffee</td><td>Amaretto</td><td>Regular</td></tr><tr><td>2010-01-02</td><td>1</td><td>-4</td><td>129</td><td>75</td><td>54</td><td>79</td><td>49</td><td>427</td><td>40</td><td>60</td><td>100</td><td>160</td><td>971</td><td>1</td><td>Coffee</td><td>Amaretto</td><td>Regular</td></tr></table>"
                    },
                    "metadata": {}
                }
            ],
            "execution_count": 32
        },
        {
            "cell_type": "code",
            "source": [
                "-- 8. What is the average sales in area code 719?\n",
                "\n",
                "SELECT AVG(Sales) AS AverageSales\n",
                "FROM FactTable\n",
                "WHERE Area_Code=719"
            ],
            "metadata": {
                "language": "sql",
                "azdata_cell_guid": "13767f9b-f3e5-484a-87ee-647783bbd227"
            },
            "outputs": [
                {
                    "output_type": "display_data",
                    "data": {
                        "text/html": "(1 row affected)"
                    },
                    "metadata": {}
                },
                {
                    "output_type": "display_data",
                    "data": {
                        "text/html": "Total execution time: 00:00:00.033"
                    },
                    "metadata": {}
                },
                {
                    "output_type": "execute_result",
                    "execution_count": 23,
                    "data": {
                        "application/vnd.dataresource+json": {
                            "schema": {
                                "fields": [
                                    {
                                        "name": "AverageSales"
                                    }
                                ]
                            },
                            "data": [
                                {
                                    "AverageSales": "186"
                                }
                            ]
                        },
                        "text/html": "<table><tr><th>AverageSales</th></tr><tr><td>186</td></tr></table>"
                    },
                    "metadata": {}
                }
            ],
            "execution_count": 23
        },
        {
            "cell_type": "code",
            "source": [
                "-- 9. Find out the total profit generated by Colorado state. \n",
                "\n",
                "SELECT SUM(Profit) AS TotalProfit\n",
                "FROM FactTable\n",
                "WHERE Area_Code IN (Select Area_Code FROM LocationTable WHERE State='Colorado')"
            ],
            "metadata": {
                "language": "sql",
                "azdata_cell_guid": "6988f87d-aefa-4df8-b2ef-14b625fcd7a3"
            },
            "outputs": [
                {
                    "output_type": "display_data",
                    "data": {
                        "text/html": "(1 row affected)"
                    },
                    "metadata": {}
                },
                {
                    "output_type": "display_data",
                    "data": {
                        "text/html": "Total execution time: 00:00:00.039"
                    },
                    "metadata": {}
                },
                {
                    "output_type": "execute_result",
                    "execution_count": 26,
                    "data": {
                        "application/vnd.dataresource+json": {
                            "schema": {
                                "fields": [
                                    {
                                        "name": "TotalProfit"
                                    }
                                ]
                            },
                            "data": [
                                {
                                    "TotalProfit": "17743"
                                }
                            ]
                        },
                        "text/html": "<table><tr><th>TotalProfit</th></tr><tr><td>17743</td></tr></table>"
                    },
                    "metadata": {}
                }
            ],
            "execution_count": 26
        },
        {
            "cell_type": "code",
            "source": [
                "-- 10. Display the average inventory for each product ID. \n",
                "\n",
                "SELECT ProductID, AVG(Inventory) AS MinSales\n",
                "FROM FactTable\n",
                "GROUP BY ProductId"
            ],
            "metadata": {
                "language": "sql",
                "azdata_cell_guid": "7e3801a8-35de-45ee-8262-a1c71507ed35"
            },
            "outputs": [
                {
                    "output_type": "display_data",
                    "data": {
                        "text/html": "(13 rows affected)"
                    },
                    "metadata": {}
                },
                {
                    "output_type": "display_data",
                    "data": {
                        "text/html": "Total execution time: 00:00:00.028"
                    },
                    "metadata": {}
                },
                {
                    "output_type": "execute_result",
                    "execution_count": 27,
                    "data": {
                        "application/vnd.dataresource+json": {
                            "schema": {
                                "fields": [
                                    {
                                        "name": "ProductID"
                                    },
                                    {
                                        "name": "MinSales"
                                    }
                                ]
                            },
                            "data": [
                                {
                                    "ProductID": "9",
                                    "MinSales": "718"
                                },
                                {
                                    "ProductID": "3",
                                    "MinSales": "838"
                                },
                                {
                                    "ProductID": "12",
                                    "MinSales": "757"
                                },
                                {
                                    "ProductID": "6",
                                    "MinSales": "755"
                                },
                                {
                                    "ProductID": "7",
                                    "MinSales": "879"
                                },
                                {
                                    "ProductID": "1",
                                    "MinSales": "741"
                                },
                                {
                                    "ProductID": "10",
                                    "MinSales": "1095"
                                },
                                {
                                    "ProductID": "4",
                                    "MinSales": "255"
                                },
                                {
                                    "ProductID": "13",
                                    "MinSales": "900"
                                },
                                {
                                    "ProductID": "5",
                                    "MinSales": "756"
                                },
                                {
                                    "ProductID": "2",
                                    "MinSales": "707"
                                },
                                {
                                    "ProductID": "11",
                                    "MinSales": "737"
                                },
                                {
                                    "ProductID": "8",
                                    "MinSales": "712"
                                }
                            ]
                        },
                        "text/html": "<table><tr><th>ProductID</th><th>MinSales</th></tr><tr><td>9</td><td>718</td></tr><tr><td>3</td><td>838</td></tr><tr><td>12</td><td>757</td></tr><tr><td>6</td><td>755</td></tr><tr><td>7</td><td>879</td></tr><tr><td>1</td><td>741</td></tr><tr><td>10</td><td>1095</td></tr><tr><td>4</td><td>255</td></tr><tr><td>13</td><td>900</td></tr><tr><td>5</td><td>756</td></tr><tr><td>2</td><td>707</td></tr><tr><td>11</td><td>737</td></tr><tr><td>8</td><td>712</td></tr></table>"
                    },
                    "metadata": {}
                }
            ],
            "execution_count": 27
        },
        {
            "cell_type": "code",
            "source": [
                "-- 11. Display state in a sequential order in a Location Table. \n",
                "SELECT Top 10 * \n",
                "FROM Locationtable\n",
                "ORDER BY State\n",
                "\n",
                "-- Note : Number of rows are restricted to 10 because the application crashes/ Hangs\n",
                "-- Actual output is 156 rows"
            ],
            "metadata": {
                "language": "sql",
                "azdata_cell_guid": "98f11515-be3f-4786-a092-024b1fa321ec"
            },
            "outputs": [
                {
                    "output_type": "display_data",
                    "data": {
                        "text/html": "(10 rows affected)"
                    },
                    "metadata": {}
                },
                {
                    "output_type": "display_data",
                    "data": {
                        "text/html": "Total execution time: 00:00:00.008"
                    },
                    "metadata": {}
                },
                {
                    "output_type": "execute_result",
                    "execution_count": 30,
                    "data": {
                        "application/vnd.dataresource+json": {
                            "schema": {
                                "fields": [
                                    {
                                        "name": "Area_Code"
                                    },
                                    {
                                        "name": "State"
                                    },
                                    {
                                        "name": "Market"
                                    },
                                    {
                                        "name": "Market_Size"
                                    }
                                ]
                            },
                            "data": [
                                {
                                    "Area_Code": "209",
                                    "State": "California",
                                    "Market": "West",
                                    "Market_Size": "Major Market"
                                },
                                {
                                    "Area_Code": "213",
                                    "State": "California",
                                    "Market": "West",
                                    "Market_Size": "Major Market"
                                },
                                {
                                    "Area_Code": "310",
                                    "State": "California",
                                    "Market": "West",
                                    "Market_Size": "Major Market"
                                },
                                {
                                    "Area_Code": "323",
                                    "State": "California",
                                    "Market": "West",
                                    "Market_Size": "Major Market"
                                },
                                {
                                    "Area_Code": "408",
                                    "State": "California",
                                    "Market": "West",
                                    "Market_Size": "Major Market"
                                },
                                {
                                    "Area_Code": "415",
                                    "State": "California",
                                    "Market": "West",
                                    "Market_Size": "Major Market"
                                },
                                {
                                    "Area_Code": "510",
                                    "State": "California",
                                    "Market": "West",
                                    "Market_Size": "Major Market"
                                },
                                {
                                    "Area_Code": "530",
                                    "State": "California",
                                    "Market": "West",
                                    "Market_Size": "Major Market"
                                },
                                {
                                    "Area_Code": "559",
                                    "State": "California",
                                    "Market": "West",
                                    "Market_Size": "Major Market"
                                },
                                {
                                    "Area_Code": "562",
                                    "State": "California",
                                    "Market": "West",
                                    "Market_Size": "Major Market"
                                }
                            ]
                        },
                        "text/html": "<table><tr><th>Area_Code</th><th>State</th><th>Market</th><th>Market_Size</th></tr><tr><td>209</td><td>California</td><td>West</td><td>Major Market</td></tr><tr><td>213</td><td>California</td><td>West</td><td>Major Market</td></tr><tr><td>310</td><td>California</td><td>West</td><td>Major Market</td></tr><tr><td>323</td><td>California</td><td>West</td><td>Major Market</td></tr><tr><td>408</td><td>California</td><td>West</td><td>Major Market</td></tr><tr><td>415</td><td>California</td><td>West</td><td>Major Market</td></tr><tr><td>510</td><td>California</td><td>West</td><td>Major Market</td></tr><tr><td>530</td><td>California</td><td>West</td><td>Major Market</td></tr><tr><td>559</td><td>California</td><td>West</td><td>Major Market</td></tr><tr><td>562</td><td>California</td><td>West</td><td>Major Market</td></tr></table>"
                    },
                    "metadata": {}
                }
            ],
            "execution_count": 30
        },
        {
            "cell_type": "code",
            "source": [
                "-- 12. Display the average budget of the Product where the average budget margin should be greater than 100. \n",
                "USE sql_case_study\n",
                "SELECT Budget_Margin, AVG(Budget_Profit) AS Budget_Profit, AVG(Budget_COGS) Budget_COGS, AVG(Budget_Sales) AS Budget_Sales\n",
                "FROM FactTable\n",
                "GROUP BY Budget_Margin\n",
                "HAVING Budget_Margin>100\n",
                "\n",
                ""
            ],
            "metadata": {
                "language": "sql",
                "azdata_cell_guid": "7f5889d1-6dee-42e6-95e7-37cb35e10ef8"
            },
            "outputs": [
                {
                    "output_type": "display_data",
                    "data": {
                        "text/html": "(48 rows affected)"
                    },
                    "metadata": {}
                },
                {
                    "output_type": "display_data",
                    "data": {
                        "text/html": "Total execution time: 00:00:00.022"
                    },
                    "metadata": {}
                },
                {
                    "output_type": "execute_result",
                    "execution_count": 2,
                    "data": {
                        "application/vnd.dataresource+json": {
                            "schema": {
                                "fields": [
                                    {
                                        "name": "Budget_Margin"
                                    },
                                    {
                                        "name": "Budget_Profit"
                                    },
                                    {
                                        "name": "Budget_COGS"
                                    },
                                    {
                                        "name": "Budget_Sales"
                                    }
                                ]
                            },
                            "data": [
                                {
                                    "Budget_Margin": "430",
                                    "Budget_Profit": "333",
                                    "Budget_COGS": "216",
                                    "Budget_Sales": "646"
                                },
                                {
                                    "Budget_Margin": "670",
                                    "Budget_Profit": "500",
                                    "Budget_COGS": "440",
                                    "Budget_Sales": "1110"
                                },
                                {
                                    "Budget_Margin": "470",
                                    "Budget_Profit": "340",
                                    "Budget_COGS": "335",
                                    "Budget_Sales": "805"
                                },
                                {
                                    "Budget_Margin": "450",
                                    "Budget_Profit": "323",
                                    "Budget_COGS": "326",
                                    "Budget_Sales": "776"
                                },
                                {
                                    "Budget_Margin": "410",
                                    "Budget_Profit": "310",
                                    "Budget_COGS": "200",
                                    "Budget_Sales": "610"
                                },
                                {
                                    "Budget_Margin": "510",
                                    "Budget_Profit": "450",
                                    "Budget_COGS": "210",
                                    "Budget_Sales": "720"
                                },
                                {
                                    "Budget_Margin": "390",
                                    "Budget_Profit": "306",
                                    "Budget_COGS": "200",
                                    "Budget_Sales": "590"
                                },
                                {
                                    "Budget_Margin": "590",
                                    "Budget_Profit": "523",
                                    "Budget_COGS": "156",
                                    "Budget_Sales": "746"
                                },
                                {
                                    "Budget_Margin": "490",
                                    "Budget_Profit": "460",
                                    "Budget_COGS": "50",
                                    "Budget_Sales": "540"
                                },
                                {
                                    "Budget_Margin": "690",
                                    "Budget_Profit": "530",
                                    "Budget_COGS": "450",
                                    "Budget_Sales": "1140"
                                },
                                {
                                    "Budget_Margin": "190",
                                    "Budget_Profit": "124",
                                    "Budget_COGS": "136",
                                    "Budget_Sales": "326"
                                },
                                {
                                    "Budget_Margin": "330",
                                    "Budget_Profit": "235",
                                    "Budget_COGS": "235",
                                    "Budget_Sales": "565"
                                },
                                {
                                    "Budget_Margin": "230",
                                    "Budget_Profit": "145",
                                    "Budget_COGS": "184",
                                    "Budget_Sales": "414"
                                },
                                {
                                    "Budget_Margin": "370",
                                    "Budget_Profit": "272",
                                    "Budget_COGS": "253",
                                    "Budget_Sales": "623"
                                },
                                {
                                    "Budget_Margin": "250",
                                    "Budget_Profit": "162",
                                    "Budget_COGS": "182",
                                    "Budget_Sales": "432"
                                },
                                {
                                    "Budget_Margin": "130",
                                    "Budget_Profit": "81",
                                    "Budget_COGS": "86",
                                    "Budget_Sales": "216"
                                },
                                {
                                    "Budget_Margin": "350",
                                    "Budget_Profit": "282",
                                    "Budget_COGS": "200",
                                    "Budget_Sales": "550"
                                },
                                {
                                    "Budget_Margin": "150",
                                    "Budget_Profit": "98",
                                    "Budget_COGS": "105",
                                    "Budget_Sales": "255"
                                },
                                {
                                    "Budget_Margin": "310",
                                    "Budget_Profit": "210",
                                    "Budget_COGS": "255",
                                    "Budget_Sales": "565"
                                },
                                {
                                    "Budget_Margin": "210",
                                    "Budget_Profit": "134",
                                    "Budget_COGS": "166",
                                    "Budget_Sales": "376"
                                },
                                {
                                    "Budget_Margin": "270",
                                    "Budget_Profit": "185",
                                    "Budget_COGS": "219",
                                    "Budget_Sales": "489"
                                },
                                {
                                    "Budget_Margin": "170",
                                    "Budget_Profit": "115",
                                    "Budget_COGS": "117",
                                    "Budget_Sales": "287"
                                },
                                {
                                    "Budget_Margin": "110",
                                    "Budget_Profit": "73",
                                    "Budget_COGS": "73",
                                    "Budget_Sales": "183"
                                },
                                {
                                    "Budget_Margin": "290",
                                    "Budget_Profit": "193",
                                    "Budget_COGS": "224",
                                    "Budget_Sales": "514"
                                },
                                {
                                    "Budget_Margin": "480",
                                    "Budget_Profit": "360",
                                    "Budget_COGS": "320",
                                    "Budget_Sales": "800"
                                },
                                {
                                    "Budget_Margin": "520",
                                    "Budget_Profit": "386",
                                    "Budget_COGS": "350",
                                    "Budget_Sales": "870"
                                },
                                {
                                    "Budget_Margin": "420",
                                    "Budget_Profit": "325",
                                    "Budget_COGS": "300",
                                    "Budget_Sales": "720"
                                },
                                {
                                    "Budget_Margin": "560",
                                    "Budget_Profit": "470",
                                    "Budget_COGS": "215",
                                    "Budget_Sales": "775"
                                },
                                {
                                    "Budget_Margin": "460",
                                    "Budget_Profit": "410",
                                    "Budget_COGS": "130",
                                    "Budget_Sales": "590"
                                },
                                {
                                    "Budget_Margin": "540",
                                    "Budget_Profit": "400",
                                    "Budget_COGS": "350",
                                    "Budget_Sales": "890"
                                },
                                {
                                    "Budget_Margin": "500",
                                    "Budget_Profit": "360",
                                    "Budget_COGS": "337",
                                    "Budget_Sales": "837"
                                },
                                {
                                    "Budget_Margin": "680",
                                    "Budget_Profit": "520",
                                    "Budget_COGS": "450",
                                    "Budget_Sales": "1130"
                                },
                                {
                                    "Budget_Margin": "580",
                                    "Budget_Profit": "470",
                                    "Budget_COGS": "380",
                                    "Budget_Sales": "960"
                                },
                                {
                                    "Budget_Margin": "400",
                                    "Budget_Profit": "313",
                                    "Budget_COGS": "201",
                                    "Budget_Sales": "601"
                                },
                                {
                                    "Budget_Margin": "380",
                                    "Budget_Profit": "267",
                                    "Budget_COGS": "282",
                                    "Budget_Sales": "662"
                                },
                                {
                                    "Budget_Margin": "240",
                                    "Budget_Profit": "160",
                                    "Budget_COGS": "196",
                                    "Budget_Sales": "436"
                                },
                                {
                                    "Budget_Margin": "140",
                                    "Budget_Profit": "93",
                                    "Budget_COGS": "98",
                                    "Budget_Sales": "238"
                                },
                                {
                                    "Budget_Margin": "280",
                                    "Budget_Profit": "185",
                                    "Budget_COGS": "217",
                                    "Budget_Sales": "497"
                                },
                                {
                                    "Budget_Margin": "160",
                                    "Budget_Profit": "101",
                                    "Budget_COGS": "113",
                                    "Budget_Sales": "273"
                                },
                                {
                                    "Budget_Margin": "340",
                                    "Budget_Profit": "240",
                                    "Budget_COGS": "224",
                                    "Budget_Sales": "564"
                                },
                                {
                                    "Budget_Margin": "120",
                                    "Budget_Profit": "82",
                                    "Budget_COGS": "80",
                                    "Budget_Sales": "200"
                                },
                                {
                                    "Budget_Margin": "360",
                                    "Budget_Profit": "270",
                                    "Budget_COGS": "300",
                                    "Budget_Sales": "660"
                                },
                                {
                                    "Budget_Margin": "260",
                                    "Budget_Profit": "175",
                                    "Budget_COGS": "221",
                                    "Budget_Sales": "481"
                                },
                                {
                                    "Budget_Margin": "220",
                                    "Budget_Profit": "138",
                                    "Budget_COGS": "171",
                                    "Budget_Sales": "391"
                                },
                                {
                                    "Budget_Margin": "320",
                                    "Budget_Profit": "228",
                                    "Budget_COGS": "253",
                                    "Budget_Sales": "573"
                                },
                                {
                                    "Budget_Margin": "180",
                                    "Budget_Profit": "117",
                                    "Budget_COGS": "134",
                                    "Budget_Sales": "314"
                                },
                                {
                                    "Budget_Margin": "300",
                                    "Budget_Profit": "199",
                                    "Budget_COGS": "225",
                                    "Budget_Sales": "525"
                                },
                                {
                                    "Budget_Margin": "200",
                                    "Budget_Profit": "127",
                                    "Budget_COGS": "157",
                                    "Budget_Sales": "357"
                                }
                            ]
                        },
                        "text/html": "<table><tr><th>Budget_Margin</th><th>Budget_Profit</th><th>Budget_COGS</th><th>Budget_Sales</th></tr><tr><td>430</td><td>333</td><td>216</td><td>646</td></tr><tr><td>670</td><td>500</td><td>440</td><td>1110</td></tr><tr><td>470</td><td>340</td><td>335</td><td>805</td></tr><tr><td>450</td><td>323</td><td>326</td><td>776</td></tr><tr><td>410</td><td>310</td><td>200</td><td>610</td></tr><tr><td>510</td><td>450</td><td>210</td><td>720</td></tr><tr><td>390</td><td>306</td><td>200</td><td>590</td></tr><tr><td>590</td><td>523</td><td>156</td><td>746</td></tr><tr><td>490</td><td>460</td><td>50</td><td>540</td></tr><tr><td>690</td><td>530</td><td>450</td><td>1140</td></tr><tr><td>190</td><td>124</td><td>136</td><td>326</td></tr><tr><td>330</td><td>235</td><td>235</td><td>565</td></tr><tr><td>230</td><td>145</td><td>184</td><td>414</td></tr><tr><td>370</td><td>272</td><td>253</td><td>623</td></tr><tr><td>250</td><td>162</td><td>182</td><td>432</td></tr><tr><td>130</td><td>81</td><td>86</td><td>216</td></tr><tr><td>350</td><td>282</td><td>200</td><td>550</td></tr><tr><td>150</td><td>98</td><td>105</td><td>255</td></tr><tr><td>310</td><td>210</td><td>255</td><td>565</td></tr><tr><td>210</td><td>134</td><td>166</td><td>376</td></tr><tr><td>270</td><td>185</td><td>219</td><td>489</td></tr><tr><td>170</td><td>115</td><td>117</td><td>287</td></tr><tr><td>110</td><td>73</td><td>73</td><td>183</td></tr><tr><td>290</td><td>193</td><td>224</td><td>514</td></tr><tr><td>480</td><td>360</td><td>320</td><td>800</td></tr><tr><td>520</td><td>386</td><td>350</td><td>870</td></tr><tr><td>420</td><td>325</td><td>300</td><td>720</td></tr><tr><td>560</td><td>470</td><td>215</td><td>775</td></tr><tr><td>460</td><td>410</td><td>130</td><td>590</td></tr><tr><td>540</td><td>400</td><td>350</td><td>890</td></tr><tr><td>500</td><td>360</td><td>337</td><td>837</td></tr><tr><td>680</td><td>520</td><td>450</td><td>1130</td></tr><tr><td>580</td><td>470</td><td>380</td><td>960</td></tr><tr><td>400</td><td>313</td><td>201</td><td>601</td></tr><tr><td>380</td><td>267</td><td>282</td><td>662</td></tr><tr><td>240</td><td>160</td><td>196</td><td>436</td></tr><tr><td>140</td><td>93</td><td>98</td><td>238</td></tr><tr><td>280</td><td>185</td><td>217</td><td>497</td></tr><tr><td>160</td><td>101</td><td>113</td><td>273</td></tr><tr><td>340</td><td>240</td><td>224</td><td>564</td></tr><tr><td>120</td><td>82</td><td>80</td><td>200</td></tr><tr><td>360</td><td>270</td><td>300</td><td>660</td></tr><tr><td>260</td><td>175</td><td>221</td><td>481</td></tr><tr><td>220</td><td>138</td><td>171</td><td>391</td></tr><tr><td>320</td><td>228</td><td>253</td><td>573</td></tr><tr><td>180</td><td>117</td><td>134</td><td>314</td></tr><tr><td>300</td><td>199</td><td>225</td><td>525</td></tr><tr><td>200</td><td>127</td><td>157</td><td>357</td></tr></table>"
                    },
                    "metadata": {}
                }
            ],
            "execution_count": 2
        },
        {
            "cell_type": "code",
            "source": [
                "-- 13. What is the total sales done on date 2010-01-01? \n",
                "SELECT  SUM(Sales) AS TotalSales\n",
                "FROM FactTable\n",
                "WHERE date = '2010-01-01'"
            ],
            "metadata": {
                "language": "sql",
                "azdata_cell_guid": "27f15e58-99a9-418a-b5a1-2239f1beaa50"
            },
            "outputs": [
                {
                    "output_type": "display_data",
                    "data": {
                        "text/html": "(1 row affected)"
                    },
                    "metadata": {}
                },
                {
                    "output_type": "display_data",
                    "data": {
                        "text/html": "Total execution time: 00:00:00.010"
                    },
                    "metadata": {}
                },
                {
                    "output_type": "execute_result",
                    "execution_count": 34,
                    "data": {
                        "application/vnd.dataresource+json": {
                            "schema": {
                                "fields": [
                                    {
                                        "name": "TotalSales"
                                    }
                                ]
                            },
                            "data": [
                                {
                                    "TotalSales": "31555"
                                }
                            ]
                        },
                        "text/html": "<table><tr><th>TotalSales</th></tr><tr><td>31555</td></tr></table>"
                    },
                    "metadata": {}
                }
            ],
            "execution_count": 34
        },
        {
            "cell_type": "code",
            "source": [
                "-- 14. Display the average total expense of each product ID on an individual date.\n",
                "\n",
                "SELECT Top 10 ProductId, Date, AVG(Total_Expenses)\n",
                "FROM FactTable\n",
                "GROUP BY ProductId, Date\n",
                "ORDER BY ProductID, Date\n",
                "\n",
                "-- Note : Number of rows are restricted to 10 because the application crashes/ Hangs\n",
                "-- Actual output is 312 rows"
            ],
            "metadata": {
                "language": "sql",
                "azdata_cell_guid": "f1d39676-7a3c-4af5-8470-ff05b4beafb4"
            },
            "outputs": [
                {
                    "output_type": "display_data",
                    "data": {
                        "text/html": "(10 rows affected)"
                    },
                    "metadata": {}
                },
                {
                    "output_type": "display_data",
                    "data": {
                        "text/html": "Total execution time: 00:00:00.053"
                    },
                    "metadata": {}
                },
                {
                    "output_type": "execute_result",
                    "execution_count": 33,
                    "data": {
                        "application/vnd.dataresource+json": {
                            "schema": {
                                "fields": [
                                    {
                                        "name": "ProductId"
                                    },
                                    {
                                        "name": "Date"
                                    },
                                    {
                                        "name": "(No column name)"
                                    }
                                ]
                            },
                            "data": [
                                {
                                    "ProductId": "1",
                                    "Date": "2010-01-01",
                                    "(No column name)": "46"
                                },
                                {
                                    "ProductId": "1",
                                    "Date": "2010-01-02",
                                    "(No column name)": "46"
                                },
                                {
                                    "ProductId": "1",
                                    "Date": "2010-01-03",
                                    "(No column name)": "45"
                                },
                                {
                                    "ProductId": "1",
                                    "Date": "2010-01-04",
                                    "(No column name)": "46"
                                },
                                {
                                    "ProductId": "1",
                                    "Date": "2010-01-05",
                                    "(No column name)": "47"
                                },
                                {
                                    "ProductId": "1",
                                    "Date": "2010-01-06",
                                    "(No column name)": "47"
                                },
                                {
                                    "ProductId": "1",
                                    "Date": "2010-01-07",
                                    "(No column name)": "47"
                                },
                                {
                                    "ProductId": "1",
                                    "Date": "2010-01-08",
                                    "(No column name)": "47"
                                },
                                {
                                    "ProductId": "1",
                                    "Date": "2010-01-09",
                                    "(No column name)": "47"
                                },
                                {
                                    "ProductId": "1",
                                    "Date": "2010-01-10",
                                    "(No column name)": "47"
                                }
                            ]
                        },
                        "text/html": "<table><tr><th>ProductId</th><th>Date</th><th>(No column name)</th></tr><tr><td>1</td><td>2010-01-01</td><td>46</td></tr><tr><td>1</td><td>2010-01-02</td><td>46</td></tr><tr><td>1</td><td>2010-01-03</td><td>45</td></tr><tr><td>1</td><td>2010-01-04</td><td>46</td></tr><tr><td>1</td><td>2010-01-05</td><td>47</td></tr><tr><td>1</td><td>2010-01-06</td><td>47</td></tr><tr><td>1</td><td>2010-01-07</td><td>47</td></tr><tr><td>1</td><td>2010-01-08</td><td>47</td></tr><tr><td>1</td><td>2010-01-09</td><td>47</td></tr><tr><td>1</td><td>2010-01-10</td><td>47</td></tr></table>"
                    },
                    "metadata": {}
                }
            ],
            "execution_count": 33
        },
        {
            "cell_type": "code",
            "source": [
                "-- 15. Display the table with the following attributes such as date, productID, product_type, product, sales, profit, state, area_code. \n",
                "\n",
                "SELECT Top 10 F.Date, F.ProductId, P.Product_Type, P.Product, F.Sales, F.Profit, L.State, L.Area_Code \n",
                "FROM FactTable F\n",
                "JOIN ProductTable P ON F.ProductID = P.ProductID\n",
                "JOIN LocationTable L ON F.Area_Code = L.Area_Code\n",
                ""
            ],
            "metadata": {
                "language": "sql",
                "azdata_cell_guid": "98c389b4-250b-4c38-b7f9-c3fbc0624dfc"
            },
            "outputs": [
                {
                    "output_type": "display_data",
                    "data": {
                        "text/html": "(10 rows affected)"
                    },
                    "metadata": {}
                },
                {
                    "output_type": "display_data",
                    "data": {
                        "text/html": "Total execution time: 00:00:00.015"
                    },
                    "metadata": {}
                },
                {
                    "output_type": "execute_result",
                    "execution_count": 41,
                    "data": {
                        "application/vnd.dataresource+json": {
                            "schema": {
                                "fields": [
                                    {
                                        "name": "Date"
                                    },
                                    {
                                        "name": "ProductId"
                                    },
                                    {
                                        "name": "Product_Type"
                                    },
                                    {
                                        "name": "Product"
                                    },
                                    {
                                        "name": "Sales"
                                    },
                                    {
                                        "name": "Profit"
                                    },
                                    {
                                        "name": "State"
                                    },
                                    {
                                        "name": "Area_Code"
                                    }
                                ]
                            },
                            "data": [
                                {
                                    "Date": "2010-01-02",
                                    "ProductId": "6",
                                    "Product_Type": "Espresso",
                                    "Product": "Decaf Espresso",
                                    "Sales": "130",
                                    "Profit": "29",
                                    "State": "Connecticut",
                                    "Area_Code": "203"
                                },
                                {
                                    "Date": "2010-01-03",
                                    "ProductId": "9",
                                    "Product_Type": "Herbal Tea",
                                    "Product": "Lemon",
                                    "Sales": "189",
                                    "Profit": "39",
                                    "State": "Connecticut",
                                    "Area_Code": "203"
                                },
                                {
                                    "Date": "2010-01-03",
                                    "ProductId": "10",
                                    "Product_Type": "Herbal Tea",
                                    "Product": "Mint",
                                    "Sales": "163",
                                    "Profit": "46",
                                    "State": "Connecticut",
                                    "Area_Code": "203"
                                },
                                {
                                    "Date": "2010-01-04",
                                    "ProductId": "11",
                                    "Product_Type": "Tea",
                                    "Product": "Darjeeling",
                                    "Sales": "115",
                                    "Profit": "43",
                                    "State": "Connecticut",
                                    "Area_Code": "203"
                                },
                                {
                                    "Date": "2010-01-04",
                                    "ProductId": "2",
                                    "Product_Type": "Coffee",
                                    "Product": "Columbian",
                                    "Sales": "292",
                                    "Profit": "107",
                                    "State": "Connecticut",
                                    "Area_Code": "203"
                                },
                                {
                                    "Date": "2010-01-05",
                                    "ProductId": "6",
                                    "Product_Type": "Espresso",
                                    "Product": "Decaf Espresso",
                                    "Sales": "113",
                                    "Profit": "22",
                                    "State": "Connecticut",
                                    "Area_Code": "203"
                                },
                                {
                                    "Date": "2010-01-06",
                                    "ProductId": "13",
                                    "Product_Type": "Tea",
                                    "Product": "Green Tea",
                                    "Sales": "51",
                                    "Profit": "15",
                                    "State": "Connecticut",
                                    "Area_Code": "203"
                                },
                                {
                                    "Date": "2010-01-06",
                                    "ProductId": "5",
                                    "Product_Type": "Espresso",
                                    "Product": "Caffe Mocha",
                                    "Sales": "128",
                                    "Profit": "-2",
                                    "State": "Connecticut",
                                    "Area_Code": "203"
                                },
                                {
                                    "Date": "2010-01-06",
                                    "ProductId": "9",
                                    "Product_Type": "Herbal Tea",
                                    "Product": "Lemon",
                                    "Sales": "169",
                                    "Profit": "32",
                                    "State": "Connecticut",
                                    "Area_Code": "203"
                                },
                                {
                                    "Date": "2010-01-07",
                                    "ProductId": "11",
                                    "Product_Type": "Tea",
                                    "Product": "Darjeeling",
                                    "Sales": "87",
                                    "Profit": "32",
                                    "State": "Connecticut",
                                    "Area_Code": "203"
                                }
                            ]
                        },
                        "text/html": "<table><tr><th>Date</th><th>ProductId</th><th>Product_Type</th><th>Product</th><th>Sales</th><th>Profit</th><th>State</th><th>Area_Code</th></tr><tr><td>2010-01-02</td><td>6</td><td>Espresso</td><td>Decaf Espresso</td><td>130</td><td>29</td><td>Connecticut</td><td>203</td></tr><tr><td>2010-01-03</td><td>9</td><td>Herbal Tea</td><td>Lemon</td><td>189</td><td>39</td><td>Connecticut</td><td>203</td></tr><tr><td>2010-01-03</td><td>10</td><td>Herbal Tea</td><td>Mint</td><td>163</td><td>46</td><td>Connecticut</td><td>203</td></tr><tr><td>2010-01-04</td><td>11</td><td>Tea</td><td>Darjeeling</td><td>115</td><td>43</td><td>Connecticut</td><td>203</td></tr><tr><td>2010-01-04</td><td>2</td><td>Coffee</td><td>Columbian</td><td>292</td><td>107</td><td>Connecticut</td><td>203</td></tr><tr><td>2010-01-05</td><td>6</td><td>Espresso</td><td>Decaf Espresso</td><td>113</td><td>22</td><td>Connecticut</td><td>203</td></tr><tr><td>2010-01-06</td><td>13</td><td>Tea</td><td>Green Tea</td><td>51</td><td>15</td><td>Connecticut</td><td>203</td></tr><tr><td>2010-01-06</td><td>5</td><td>Espresso</td><td>Caffe Mocha</td><td>128</td><td>-2</td><td>Connecticut</td><td>203</td></tr><tr><td>2010-01-06</td><td>9</td><td>Herbal Tea</td><td>Lemon</td><td>169</td><td>32</td><td>Connecticut</td><td>203</td></tr><tr><td>2010-01-07</td><td>11</td><td>Tea</td><td>Darjeeling</td><td>87</td><td>32</td><td>Connecticut</td><td>203</td></tr></table>"
                    },
                    "metadata": {}
                }
            ],
            "execution_count": 41
        },
        {
            "cell_type": "code",
            "source": [
                "-- 16. Display the rank without any gap to show the sales wise rank. \n",
                "\n",
                "SELECT Top 10 F.Date, F.ProductId, P.Product_Type, P.Product, F.Profit, L.State, L.Area_Code, F.Sales, \n",
                "    DENSE_RANK() OVER (ORDER BY F.Sales DESC) AS SalesRank\n",
                "FROM FactTable F\n",
                "JOIN ProductTable P ON F.ProductID = P.ProductID\n",
                "JOIN LocationTable L ON F.Area_Code = L.Area_Code\n",
                "\n",
                ""
            ],
            "metadata": {
                "language": "sql",
                "azdata_cell_guid": "4c98b50c-7d36-4a47-b26a-53f578fbaba4"
            },
            "outputs": [
                {
                    "output_type": "display_data",
                    "data": {
                        "text/html": "(10 rows affected)"
                    },
                    "metadata": {}
                },
                {
                    "output_type": "display_data",
                    "data": {
                        "text/html": "Total execution time: 00:00:00.039"
                    },
                    "metadata": {}
                },
                {
                    "output_type": "execute_result",
                    "execution_count": 45,
                    "data": {
                        "application/vnd.dataresource+json": {
                            "schema": {
                                "fields": [
                                    {
                                        "name": "Date"
                                    },
                                    {
                                        "name": "ProductId"
                                    },
                                    {
                                        "name": "Product_Type"
                                    },
                                    {
                                        "name": "Product"
                                    },
                                    {
                                        "name": "Profit"
                                    },
                                    {
                                        "name": "State"
                                    },
                                    {
                                        "name": "Area_Code"
                                    },
                                    {
                                        "name": "Sales"
                                    },
                                    {
                                        "name": "SalesRank"
                                    }
                                ]
                            },
                            "data": [
                                {
                                    "Date": "2010-01-07",
                                    "ProductId": "2",
                                    "Product_Type": "Coffee",
                                    "Product": "Columbian",
                                    "Profit": "370",
                                    "State": "New York",
                                    "Area_Code": "845",
                                    "Sales": "912",
                                    "SalesRank": "1"
                                },
                                {
                                    "Date": "2010-01-07",
                                    "ProductId": "2",
                                    "Product_Type": "Coffee",
                                    "Product": "Columbian",
                                    "Profit": "370",
                                    "State": "California",
                                    "Area_Code": "707",
                                    "Sales": "912",
                                    "SalesRank": "1"
                                },
                                {
                                    "Date": "2010-01-08",
                                    "ProductId": "2",
                                    "Product_Type": "Coffee",
                                    "Product": "Columbian",
                                    "Profit": "368",
                                    "State": "New York",
                                    "Area_Code": "845",
                                    "Sales": "910",
                                    "SalesRank": "2"
                                },
                                {
                                    "Date": "2010-01-08",
                                    "ProductId": "2",
                                    "Product_Type": "Coffee",
                                    "Product": "Columbian",
                                    "Profit": "368",
                                    "State": "California",
                                    "Area_Code": "650",
                                    "Sales": "910",
                                    "SalesRank": "2"
                                },
                                {
                                    "Date": "2011-01-07",
                                    "ProductId": "2",
                                    "Product_Type": "Coffee",
                                    "Product": "Columbian",
                                    "Profit": "511",
                                    "State": "New York",
                                    "Area_Code": "716",
                                    "Sales": "904",
                                    "SalesRank": "3"
                                },
                                {
                                    "Date": "2011-01-07",
                                    "ProductId": "2",
                                    "Product_Type": "Coffee",
                                    "Product": "Columbian",
                                    "Profit": "511",
                                    "State": "California",
                                    "Area_Code": "650",
                                    "Sales": "904",
                                    "SalesRank": "3"
                                },
                                {
                                    "Date": "2011-01-08",
                                    "ProductId": "2",
                                    "Product_Type": "Coffee",
                                    "Product": "Columbian",
                                    "Profit": "508",
                                    "State": "New York",
                                    "Area_Code": "914",
                                    "Sales": "902",
                                    "SalesRank": "4"
                                },
                                {
                                    "Date": "2011-01-08",
                                    "ProductId": "2",
                                    "Product_Type": "Coffee",
                                    "Product": "Columbian",
                                    "Profit": "508",
                                    "State": "California",
                                    "Area_Code": "213",
                                    "Sales": "902",
                                    "SalesRank": "4"
                                },
                                {
                                    "Date": "2010-01-06",
                                    "ProductId": "2",
                                    "Product_Type": "Coffee",
                                    "Product": "Columbian",
                                    "Profit": "357",
                                    "State": "New York",
                                    "Area_Code": "646",
                                    "Sales": "890",
                                    "SalesRank": "5"
                                },
                                {
                                    "Date": "2010-01-06",
                                    "ProductId": "2",
                                    "Product_Type": "Coffee",
                                    "Product": "Columbian",
                                    "Profit": "357",
                                    "State": "California",
                                    "Area_Code": "805",
                                    "Sales": "890",
                                    "SalesRank": "5"
                                }
                            ]
                        },
                        "text/html": "<table><tr><th>Date</th><th>ProductId</th><th>Product_Type</th><th>Product</th><th>Profit</th><th>State</th><th>Area_Code</th><th>Sales</th><th>SalesRank</th></tr><tr><td>2010-01-07</td><td>2</td><td>Coffee</td><td>Columbian</td><td>370</td><td>New York</td><td>845</td><td>912</td><td>1</td></tr><tr><td>2010-01-07</td><td>2</td><td>Coffee</td><td>Columbian</td><td>370</td><td>California</td><td>707</td><td>912</td><td>1</td></tr><tr><td>2010-01-08</td><td>2</td><td>Coffee</td><td>Columbian</td><td>368</td><td>New York</td><td>845</td><td>910</td><td>2</td></tr><tr><td>2010-01-08</td><td>2</td><td>Coffee</td><td>Columbian</td><td>368</td><td>California</td><td>650</td><td>910</td><td>2</td></tr><tr><td>2011-01-07</td><td>2</td><td>Coffee</td><td>Columbian</td><td>511</td><td>New York</td><td>716</td><td>904</td><td>3</td></tr><tr><td>2011-01-07</td><td>2</td><td>Coffee</td><td>Columbian</td><td>511</td><td>California</td><td>650</td><td>904</td><td>3</td></tr><tr><td>2011-01-08</td><td>2</td><td>Coffee</td><td>Columbian</td><td>508</td><td>New York</td><td>914</td><td>902</td><td>4</td></tr><tr><td>2011-01-08</td><td>2</td><td>Coffee</td><td>Columbian</td><td>508</td><td>California</td><td>213</td><td>902</td><td>4</td></tr><tr><td>2010-01-06</td><td>2</td><td>Coffee</td><td>Columbian</td><td>357</td><td>New York</td><td>646</td><td>890</td><td>5</td></tr><tr><td>2010-01-06</td><td>2</td><td>Coffee</td><td>Columbian</td><td>357</td><td>California</td><td>805</td><td>890</td><td>5</td></tr></table>"
                    },
                    "metadata": {}
                }
            ],
            "execution_count": 45
        },
        {
            "cell_type": "code",
            "source": [
                "-- 17. Find the state wise profit and sales. \n",
                "USE sql_case_study\n",
                "SELECT Top 10 L.State, SUM(F.Sales) AS TotalSales, SUM(F.Profit) AS TotalProfit\n",
                "FROM FactTable F\n",
                "JOIN ProductTable P ON F.ProductID = P.ProductID\n",
                "JOIN LocationTable L ON F.Area_Code = L.Area_Code\n",
                "GROUP BY L.State\n",
                "\n",
                "-- Note : Number of rows are restricted to 10 because the application crashes/ Hangs\n",
                "-- Actual No of ROWS : 20"
            ],
            "metadata": {
                "language": "sql",
                "azdata_cell_guid": "ee13fa51-51e4-4f43-87aa-2c3ff36e0320"
            },
            "outputs": [
                {
                    "output_type": "display_data",
                    "data": {
                        "text/html": "(10 rows affected)"
                    },
                    "metadata": {}
                },
                {
                    "output_type": "display_data",
                    "data": {
                        "text/html": "Total execution time: 00:00:00.045"
                    },
                    "metadata": {}
                },
                {
                    "output_type": "execute_result",
                    "execution_count": 34,
                    "data": {
                        "application/vnd.dataresource+json": {
                            "schema": {
                                "fields": [
                                    {
                                        "name": "State"
                                    },
                                    {
                                        "name": "TotalSales"
                                    },
                                    {
                                        "name": "TotalProfit"
                                    }
                                ]
                            },
                            "data": [
                                {
                                    "State": "Illinois",
                                    "TotalSales": "69883",
                                    "TotalProfit": "30821"
                                },
                                {
                                    "State": "Oklahoma",
                                    "TotalSales": "27463",
                                    "TotalProfit": "8558"
                                },
                                {
                                    "State": "Wisconsin",
                                    "TotalSales": "33069",
                                    "TotalProfit": "8702"
                                },
                                {
                                    "State": "Massachusetts",
                                    "TotalSales": "29965",
                                    "TotalProfit": "16442"
                                },
                                {
                                    "State": "Ohio",
                                    "TotalSales": "34517",
                                    "TotalProfit": "10773"
                                },
                                {
                                    "State": "Oregon",
                                    "TotalSales": "40899",
                                    "TotalProfit": "12439"
                                },
                                {
                                    "State": "Louisiana",
                                    "TotalSales": "23161",
                                    "TotalProfit": "7355"
                                },
                                {
                                    "State": "New Hampshire",
                                    "TotalSales": "14887",
                                    "TotalProfit": "2748"
                                },
                                {
                                    "State": "New York",
                                    "TotalSales": "70852",
                                    "TotalProfit": "20096"
                                },
                                {
                                    "State": "California",
                                    "TotalSales": "96892",
                                    "TotalProfit": "31785"
                                }
                            ]
                        },
                        "text/html": "<table><tr><th>State</th><th>TotalSales</th><th>TotalProfit</th></tr><tr><td>Illinois</td><td>69883</td><td>30821</td></tr><tr><td>Oklahoma</td><td>27463</td><td>8558</td></tr><tr><td>Wisconsin</td><td>33069</td><td>8702</td></tr><tr><td>Massachusetts</td><td>29965</td><td>16442</td></tr><tr><td>Ohio</td><td>34517</td><td>10773</td></tr><tr><td>Oregon</td><td>40899</td><td>12439</td></tr><tr><td>Louisiana</td><td>23161</td><td>7355</td></tr><tr><td>New Hampshire</td><td>14887</td><td>2748</td></tr><tr><td>New York</td><td>70852</td><td>20096</td></tr><tr><td>California</td><td>96892</td><td>31785</td></tr></table>"
                    },
                    "metadata": {}
                }
            ],
            "execution_count": 34
        },
        {
            "cell_type": "code",
            "source": [
                "-- 18. Find the state wise profit and sales along with the product name. \n",
                "SELECT Top 10 L.State, P.Product,  SUM(F.Sales) AS TotalSales, SUM(F.Profit) AS TotalProfit\n",
                "FROM FactTable F\n",
                "JOIN ProductTable P ON F.ProductID = P.ProductID\n",
                "JOIN LocationTable L ON F.Area_Code = L.Area_Code\n",
                "GROUP BY L.State, P.Product \n",
                "ORDER BY L.State ASC, P.Product  ASC \n",
                "\n",
                "-- Note : Number of rows are restricted to 10 because the application crashes/ Hangs\n",
                "-- Actual No of ROWS : 177"
            ],
            "metadata": {
                "language": "sql",
                "azdata_cell_guid": "bfb45d45-f7fb-44b0-be6a-b5c7c71d2cb5"
            },
            "outputs": [
                {
                    "output_type": "display_data",
                    "data": {
                        "text/html": "(10 rows affected)"
                    },
                    "metadata": {}
                },
                {
                    "output_type": "display_data",
                    "data": {
                        "text/html": "Total execution time: 00:00:00.062"
                    },
                    "metadata": {}
                },
                {
                    "output_type": "execute_result",
                    "execution_count": 35,
                    "data": {
                        "application/vnd.dataresource+json": {
                            "schema": {
                                "fields": [
                                    {
                                        "name": "State"
                                    },
                                    {
                                        "name": "Product"
                                    },
                                    {
                                        "name": "TotalSales"
                                    },
                                    {
                                        "name": "TotalProfit"
                                    }
                                ]
                            },
                            "data": [
                                {
                                    "State": "California",
                                    "Product": "Amaretto",
                                    "TotalSales": "2714",
                                    "TotalProfit": "-2217"
                                },
                                {
                                    "State": "California",
                                    "Product": "Caffe Latte",
                                    "TotalSales": "12001",
                                    "TotalProfit": "4497"
                                },
                                {
                                    "State": "California",
                                    "Product": "Caffe Mocha",
                                    "TotalSales": "7691",
                                    "TotalProfit": "886"
                                },
                                {
                                    "State": "California",
                                    "Product": "Chamomile",
                                    "TotalSales": "6233",
                                    "TotalProfit": "3252"
                                },
                                {
                                    "State": "California",
                                    "Product": "Columbian",
                                    "TotalSales": "18245",
                                    "TotalProfit": "8566"
                                },
                                {
                                    "State": "California",
                                    "Product": "Darjeeling",
                                    "TotalSales": "6507",
                                    "TotalProfit": "3418"
                                },
                                {
                                    "State": "California",
                                    "Product": "Decaf Espresso",
                                    "TotalSales": "14607",
                                    "TotalProfit": "6580"
                                },
                                {
                                    "State": "California",
                                    "Product": "Decaf Irish Cream",
                                    "TotalSales": "3739",
                                    "TotalProfit": "-3891"
                                },
                                {
                                    "State": "California",
                                    "Product": "Earl Grey",
                                    "TotalSales": "4640",
                                    "TotalProfit": "2334"
                                },
                                {
                                    "State": "California",
                                    "Product": "Green Tea",
                                    "TotalSales": "4027",
                                    "TotalProfit": "1355"
                                }
                            ]
                        },
                        "text/html": "<table><tr><th>State</th><th>Product</th><th>TotalSales</th><th>TotalProfit</th></tr><tr><td>California</td><td>Amaretto</td><td>2714</td><td>-2217</td></tr><tr><td>California</td><td>Caffe Latte</td><td>12001</td><td>4497</td></tr><tr><td>California</td><td>Caffe Mocha</td><td>7691</td><td>886</td></tr><tr><td>California</td><td>Chamomile</td><td>6233</td><td>3252</td></tr><tr><td>California</td><td>Columbian</td><td>18245</td><td>8566</td></tr><tr><td>California</td><td>Darjeeling</td><td>6507</td><td>3418</td></tr><tr><td>California</td><td>Decaf Espresso</td><td>14607</td><td>6580</td></tr><tr><td>California</td><td>Decaf Irish Cream</td><td>3739</td><td>-3891</td></tr><tr><td>California</td><td>Earl Grey</td><td>4640</td><td>2334</td></tr><tr><td>California</td><td>Green Tea</td><td>4027</td><td>1355</td></tr></table>"
                    },
                    "metadata": {}
                }
            ],
            "execution_count": 35
        },
        {
            "cell_type": "code",
            "source": [
                "-- 19. If there is an increase in sales of 5%, calculate the increased sales. \n",
                "\n",
                "SELECT TOP 10 L.State, P.Product,  SUM(F.Sales) AS TotalSales, SUM(F.Sales + F.Sales*0.05) AS IncreasedSales\n",
                "FROM FactTable F\n",
                "JOIN ProductTable P ON F.ProductID = P.ProductID\n",
                "JOIN LocationTable L ON F.Area_Code = L.Area_Code\n",
                "GROUP BY L.State, P.Product \n",
                "ORDER BY L.State ASC, P.Product  ASC \n",
                "\n",
                "-- Note : Number of rows are restricted to 10 because the application crashes/ Hangs\n",
                "-- Actual No of ROWS : 177"
            ],
            "metadata": {
                "language": "sql",
                "azdata_cell_guid": "84ae7524-94cf-4617-bb6d-271e12d3b9da"
            },
            "outputs": [
                {
                    "output_type": "display_data",
                    "data": {
                        "text/html": "(10 rows affected)"
                    },
                    "metadata": {}
                },
                {
                    "output_type": "display_data",
                    "data": {
                        "text/html": "Total execution time: 00:00:00.042"
                    },
                    "metadata": {}
                },
                {
                    "output_type": "execute_result",
                    "execution_count": 36,
                    "data": {
                        "application/vnd.dataresource+json": {
                            "schema": {
                                "fields": [
                                    {
                                        "name": "State"
                                    },
                                    {
                                        "name": "Product"
                                    },
                                    {
                                        "name": "TotalSales"
                                    },
                                    {
                                        "name": "IncreasedSales"
                                    }
                                ]
                            },
                            "data": [
                                {
                                    "State": "California",
                                    "Product": "Amaretto",
                                    "TotalSales": "2714",
                                    "IncreasedSales": "2849.70"
                                },
                                {
                                    "State": "California",
                                    "Product": "Caffe Latte",
                                    "TotalSales": "12001",
                                    "IncreasedSales": "12601.05"
                                },
                                {
                                    "State": "California",
                                    "Product": "Caffe Mocha",
                                    "TotalSales": "7691",
                                    "IncreasedSales": "8075.55"
                                },
                                {
                                    "State": "California",
                                    "Product": "Chamomile",
                                    "TotalSales": "6233",
                                    "IncreasedSales": "6544.65"
                                },
                                {
                                    "State": "California",
                                    "Product": "Columbian",
                                    "TotalSales": "18245",
                                    "IncreasedSales": "19157.25"
                                },
                                {
                                    "State": "California",
                                    "Product": "Darjeeling",
                                    "TotalSales": "6507",
                                    "IncreasedSales": "6832.35"
                                },
                                {
                                    "State": "California",
                                    "Product": "Decaf Espresso",
                                    "TotalSales": "14607",
                                    "IncreasedSales": "15337.35"
                                },
                                {
                                    "State": "California",
                                    "Product": "Decaf Irish Cream",
                                    "TotalSales": "3739",
                                    "IncreasedSales": "3925.95"
                                },
                                {
                                    "State": "California",
                                    "Product": "Earl Grey",
                                    "TotalSales": "4640",
                                    "IncreasedSales": "4872.00"
                                },
                                {
                                    "State": "California",
                                    "Product": "Green Tea",
                                    "TotalSales": "4027",
                                    "IncreasedSales": "4228.35"
                                }
                            ]
                        },
                        "text/html": "<table><tr><th>State</th><th>Product</th><th>TotalSales</th><th>IncreasedSales</th></tr><tr><td>California</td><td>Amaretto</td><td>2714</td><td>2849.70</td></tr><tr><td>California</td><td>Caffe Latte</td><td>12001</td><td>12601.05</td></tr><tr><td>California</td><td>Caffe Mocha</td><td>7691</td><td>8075.55</td></tr><tr><td>California</td><td>Chamomile</td><td>6233</td><td>6544.65</td></tr><tr><td>California</td><td>Columbian</td><td>18245</td><td>19157.25</td></tr><tr><td>California</td><td>Darjeeling</td><td>6507</td><td>6832.35</td></tr><tr><td>California</td><td>Decaf Espresso</td><td>14607</td><td>15337.35</td></tr><tr><td>California</td><td>Decaf Irish Cream</td><td>3739</td><td>3925.95</td></tr><tr><td>California</td><td>Earl Grey</td><td>4640</td><td>4872.00</td></tr><tr><td>California</td><td>Green Tea</td><td>4027</td><td>4228.35</td></tr></table>"
                    },
                    "metadata": {}
                }
            ],
            "execution_count": 36
        },
        {
            "cell_type": "code",
            "source": [
                "-- 20. Find the maximum profit along with the product ID and product type. \n",
                "\n",
                "SELECT F.ProductId, P.Type,  Max(F.Profit) AS MaxProfit\n",
                "FROM FactTable F\n",
                "JOIN ProductTable P ON F.ProductID = P.ProductID\n",
                "GROUP BY F.ProductId, P.Type\n",
                "ORDER BY F.ProductId ASC, P.Type ASC"
            ],
            "metadata": {
                "language": "sql",
                "azdata_cell_guid": "01dec0f1-0b21-426a-826f-d0aa4d384edf"
            },
            "outputs": [
                {
                    "output_type": "display_data",
                    "data": {
                        "text/html": "(13 rows affected)"
                    },
                    "metadata": {}
                },
                {
                    "output_type": "display_data",
                    "data": {
                        "text/html": "Total execution time: 00:00:00.025"
                    },
                    "metadata": {}
                },
                {
                    "output_type": "execute_result",
                    "execution_count": 7,
                    "data": {
                        "application/vnd.dataresource+json": {
                            "schema": {
                                "fields": [
                                    {
                                        "name": "ProductId"
                                    },
                                    {
                                        "name": "Type"
                                    },
                                    {
                                        "name": "MaxProfit"
                                    }
                                ]
                            },
                            "data": [
                                {
                                    "ProductId": "1",
                                    "Type": "Regular",
                                    "MaxProfit": "199"
                                },
                                {
                                    "ProductId": "2",
                                    "Type": "Regular",
                                    "MaxProfit": "778"
                                },
                                {
                                    "ProductId": "3",
                                    "Type": "Decaf",
                                    "MaxProfit": "207"
                                },
                                {
                                    "ProductId": "4",
                                    "Type": "Regular",
                                    "MaxProfit": "233"
                                },
                                {
                                    "ProductId": "5",
                                    "Type": "Regular",
                                    "MaxProfit": "362"
                                },
                                {
                                    "ProductId": "6",
                                    "Type": "Decaf",
                                    "MaxProfit": "362"
                                },
                                {
                                    "ProductId": "7",
                                    "Type": "Regular",
                                    "MaxProfit": "646"
                                },
                                {
                                    "ProductId": "8",
                                    "Type": "Decaf",
                                    "MaxProfit": "362"
                                },
                                {
                                    "ProductId": "9",
                                    "Type": "Decaf",
                                    "MaxProfit": "536"
                                },
                                {
                                    "ProductId": "10",
                                    "Type": "Decaf",
                                    "MaxProfit": "207"
                                },
                                {
                                    "ProductId": "11",
                                    "Type": "Regular",
                                    "MaxProfit": "362"
                                },
                                {
                                    "ProductId": "12",
                                    "Type": "Regular",
                                    "MaxProfit": "331"
                                },
                                {
                                    "ProductId": "13",
                                    "Type": "Regular",
                                    "MaxProfit": "180"
                                }
                            ]
                        },
                        "text/html": "<table><tr><th>ProductId</th><th>Type</th><th>MaxProfit</th></tr><tr><td>1</td><td>Regular</td><td>199</td></tr><tr><td>2</td><td>Regular</td><td>778</td></tr><tr><td>3</td><td>Decaf</td><td>207</td></tr><tr><td>4</td><td>Regular</td><td>233</td></tr><tr><td>5</td><td>Regular</td><td>362</td></tr><tr><td>6</td><td>Decaf</td><td>362</td></tr><tr><td>7</td><td>Regular</td><td>646</td></tr><tr><td>8</td><td>Decaf</td><td>362</td></tr><tr><td>9</td><td>Decaf</td><td>536</td></tr><tr><td>10</td><td>Decaf</td><td>207</td></tr><tr><td>11</td><td>Regular</td><td>362</td></tr><tr><td>12</td><td>Regular</td><td>331</td></tr><tr><td>13</td><td>Regular</td><td>180</td></tr></table>"
                    },
                    "metadata": {}
                }
            ],
            "execution_count": 7
        },
        {
            "cell_type": "code",
            "source": [
                "-- 21. Create a stored procedure to fetch the result according to the product type from Product Table. \n",
                "\n",
                "CREATE PROCEDURE sp_getProductDetails @getProductType VARCHAR(20)\n",
                "AS\n",
                "(\n",
                "    SELECT * FROM ProductTable\n",
                "    WHERE Product_Type = @getProductType\n",
                ")\n",
                "\n",
                ""
            ],
            "metadata": {
                "language": "sql",
                "azdata_cell_guid": "18cedaf5-e9da-4a58-a817-c0ef93ee0601"
            },
            "outputs": [
                {
                    "output_type": "display_data",
                    "data": {
                        "text/html": "Commands completed successfully."
                    },
                    "metadata": {}
                },
                {
                    "output_type": "display_data",
                    "data": {
                        "text/html": "Total execution time: 00:00:00.012"
                    },
                    "metadata": {}
                }
            ],
            "execution_count": 5
        },
        {
            "cell_type": "code",
            "source": [
                "USE sql_case_study"
            ],
            "metadata": {
                "language": "sql",
                "azdata_cell_guid": "343b68ba-136a-4726-a501-26ee0f5a2506"
            },
            "outputs": [
                {
                    "output_type": "display_data",
                    "data": {
                        "text/html": "Commands completed successfully."
                    },
                    "metadata": {}
                },
                {
                    "output_type": "display_data",
                    "data": {
                        "text/html": "Total execution time: 00:00:00.004"
                    },
                    "metadata": {}
                }
            ],
            "execution_count": 4
        },
        {
            "cell_type": "code",
            "source": [
                "EXEC sp_getProductDetails @getProductType='Coffee'"
            ],
            "metadata": {
                "language": "sql",
                "azdata_cell_guid": "a4d62c78-efd3-4684-866c-b1afbc9e0fde"
            },
            "outputs": [
                {
                    "output_type": "display_data",
                    "data": {
                        "text/html": "(3 rows affected)"
                    },
                    "metadata": {}
                },
                {
                    "output_type": "display_data",
                    "data": {
                        "text/html": "Total execution time: 00:00:00.023"
                    },
                    "metadata": {}
                },
                {
                    "output_type": "execute_result",
                    "execution_count": 6,
                    "data": {
                        "application/vnd.dataresource+json": {
                            "schema": {
                                "fields": [
                                    {
                                        "name": "ProductId"
                                    },
                                    {
                                        "name": "Product_Type"
                                    },
                                    {
                                        "name": "Product"
                                    },
                                    {
                                        "name": "Type"
                                    }
                                ]
                            },
                            "data": [
                                {
                                    "ProductId": "1",
                                    "Product_Type": "Coffee",
                                    "Product": "Amaretto",
                                    "Type": "Regular"
                                },
                                {
                                    "ProductId": "2",
                                    "Product_Type": "Coffee",
                                    "Product": "Columbian",
                                    "Type": "Regular"
                                },
                                {
                                    "ProductId": "3",
                                    "Product_Type": "Coffee",
                                    "Product": "Decaf Irish Cream",
                                    "Type": "Decaf"
                                }
                            ]
                        },
                        "text/html": "<table><tr><th>ProductId</th><th>Product_Type</th><th>Product</th><th>Type</th></tr><tr><td>1</td><td>Coffee</td><td>Amaretto</td><td>Regular</td></tr><tr><td>2</td><td>Coffee</td><td>Columbian</td><td>Regular</td></tr><tr><td>3</td><td>Coffee</td><td>Decaf Irish Cream</td><td>Decaf</td></tr></table>"
                    },
                    "metadata": {}
                }
            ],
            "execution_count": 6
        },
        {
            "cell_type": "code",
            "source": [
                "-- 22. Write a query by creating a condition in which if the total expenses is less than 60 then it is a profit or else loss. \n",
                "\n",
                "-- Method 1 : Using CASE Statement\n",
                "SELECT Top 10 ProductId, Profit, Sales, COGS, Total_Expenses, ProfitOrLoss = \n",
                "CASE \n",
                "    WHEN Total_Expenses < 60 THEN 'In Profit'\n",
                "    ELSE 'IN LOSS'\n",
                "END\n",
                "FROM FactTable\n",
                "\n",
                "-- Method 2 : Using IIF function\n",
                "SELECT Top 10 ProductId, Profit, Sales, COGS, Total_Expenses, IIF(Total_Expenses < 60, 'In Profit','In Loss') AS InProfitOrLoss\n",
                "FROM FactTable"
            ],
            "metadata": {
                "language": "sql",
                "azdata_cell_guid": "8b36c9c8-100f-4da6-9542-6d0d0c3f224c"
            },
            "outputs": [
                {
                    "output_type": "display_data",
                    "data": {
                        "text/html": "(10 rows affected)"
                    },
                    "metadata": {}
                },
                {
                    "output_type": "display_data",
                    "data": {
                        "text/html": "(10 rows affected)"
                    },
                    "metadata": {}
                },
                {
                    "output_type": "display_data",
                    "data": {
                        "text/html": "Total execution time: 00:00:00.032"
                    },
                    "metadata": {}
                },
                {
                    "output_type": "execute_result",
                    "execution_count": 11,
                    "data": {
                        "application/vnd.dataresource+json": {
                            "schema": {
                                "fields": [
                                    {
                                        "name": "ProductId"
                                    },
                                    {
                                        "name": "Profit"
                                    },
                                    {
                                        "name": "Sales"
                                    },
                                    {
                                        "name": "COGS"
                                    },
                                    {
                                        "name": "Total_Expenses"
                                    },
                                    {
                                        "name": "ProfitOrLoss"
                                    }
                                ]
                            },
                            "data": [
                                {
                                    "ProductId": "1",
                                    "Profit": "94",
                                    "Sales": "219",
                                    "COGS": "89",
                                    "Total_Expenses": "36",
                                    "ProfitOrLoss": "In Profit"
                                },
                                {
                                    "ProductId": "2",
                                    "Profit": "68",
                                    "Sales": "190",
                                    "COGS": "83",
                                    "Total_Expenses": "39",
                                    "ProfitOrLoss": "In Profit"
                                },
                                {
                                    "ProductId": "3",
                                    "Profit": "101",
                                    "Sales": "234",
                                    "COGS": "95",
                                    "Total_Expenses": "38",
                                    "ProfitOrLoss": "In Profit"
                                },
                                {
                                    "ProductId": "13",
                                    "Profit": "30",
                                    "Sales": "100",
                                    "COGS": "44",
                                    "Total_Expenses": "26",
                                    "ProfitOrLoss": "In Profit"
                                },
                                {
                                    "ProductId": "5",
                                    "Profit": "54",
                                    "Sales": "134",
                                    "COGS": "54",
                                    "Total_Expenses": "26",
                                    "ProfitOrLoss": "In Profit"
                                },
                                {
                                    "ProductId": "6",
                                    "Profit": "53",
                                    "Sales": "180",
                                    "COGS": "72",
                                    "Total_Expenses": "55",
                                    "ProfitOrLoss": "In Profit"
                                },
                                {
                                    "ProductId": "8",
                                    "Profit": "99",
                                    "Sales": "341",
                                    "COGS": "170",
                                    "Total_Expenses": "72",
                                    "ProfitOrLoss": "IN LOSS"
                                },
                                {
                                    "ProductId": "9",
                                    "Profit": "0",
                                    "Sales": "150",
                                    "COGS": "63",
                                    "Total_Expenses": "87",
                                    "ProfitOrLoss": "IN LOSS"
                                },
                                {
                                    "ProductId": "10",
                                    "Profit": "33",
                                    "Sales": "140",
                                    "COGS": "60",
                                    "Total_Expenses": "47",
                                    "ProfitOrLoss": "In Profit"
                                },
                                {
                                    "ProductId": "11",
                                    "Profit": "17",
                                    "Sales": "130",
                                    "COGS": "58",
                                    "Total_Expenses": "55",
                                    "ProfitOrLoss": "In Profit"
                                }
                            ]
                        },
                        "text/html": "<table><tr><th>ProductId</th><th>Profit</th><th>Sales</th><th>COGS</th><th>Total_Expenses</th><th>ProfitOrLoss</th></tr><tr><td>1</td><td>94</td><td>219</td><td>89</td><td>36</td><td>In Profit</td></tr><tr><td>2</td><td>68</td><td>190</td><td>83</td><td>39</td><td>In Profit</td></tr><tr><td>3</td><td>101</td><td>234</td><td>95</td><td>38</td><td>In Profit</td></tr><tr><td>13</td><td>30</td><td>100</td><td>44</td><td>26</td><td>In Profit</td></tr><tr><td>5</td><td>54</td><td>134</td><td>54</td><td>26</td><td>In Profit</td></tr><tr><td>6</td><td>53</td><td>180</td><td>72</td><td>55</td><td>In Profit</td></tr><tr><td>8</td><td>99</td><td>341</td><td>170</td><td>72</td><td>IN LOSS</td></tr><tr><td>9</td><td>0</td><td>150</td><td>63</td><td>87</td><td>IN LOSS</td></tr><tr><td>10</td><td>33</td><td>140</td><td>60</td><td>47</td><td>In Profit</td></tr><tr><td>11</td><td>17</td><td>130</td><td>58</td><td>55</td><td>In Profit</td></tr></table>"
                    },
                    "metadata": {}
                },
                {
                    "output_type": "execute_result",
                    "execution_count": 11,
                    "data": {
                        "application/vnd.dataresource+json": {
                            "schema": {
                                "fields": [
                                    {
                                        "name": "ProductId"
                                    },
                                    {
                                        "name": "Profit"
                                    },
                                    {
                                        "name": "Sales"
                                    },
                                    {
                                        "name": "COGS"
                                    },
                                    {
                                        "name": "Total_Expenses"
                                    },
                                    {
                                        "name": "InProfitOrLoss"
                                    }
                                ]
                            },
                            "data": [
                                {
                                    "ProductId": "1",
                                    "Profit": "94",
                                    "Sales": "219",
                                    "COGS": "89",
                                    "Total_Expenses": "36",
                                    "InProfitOrLoss": "In Profit"
                                },
                                {
                                    "ProductId": "2",
                                    "Profit": "68",
                                    "Sales": "190",
                                    "COGS": "83",
                                    "Total_Expenses": "39",
                                    "InProfitOrLoss": "In Profit"
                                },
                                {
                                    "ProductId": "3",
                                    "Profit": "101",
                                    "Sales": "234",
                                    "COGS": "95",
                                    "Total_Expenses": "38",
                                    "InProfitOrLoss": "In Profit"
                                },
                                {
                                    "ProductId": "13",
                                    "Profit": "30",
                                    "Sales": "100",
                                    "COGS": "44",
                                    "Total_Expenses": "26",
                                    "InProfitOrLoss": "In Profit"
                                },
                                {
                                    "ProductId": "5",
                                    "Profit": "54",
                                    "Sales": "134",
                                    "COGS": "54",
                                    "Total_Expenses": "26",
                                    "InProfitOrLoss": "In Profit"
                                },
                                {
                                    "ProductId": "6",
                                    "Profit": "53",
                                    "Sales": "180",
                                    "COGS": "72",
                                    "Total_Expenses": "55",
                                    "InProfitOrLoss": "In Profit"
                                },
                                {
                                    "ProductId": "8",
                                    "Profit": "99",
                                    "Sales": "341",
                                    "COGS": "170",
                                    "Total_Expenses": "72",
                                    "InProfitOrLoss": "In Loss"
                                },
                                {
                                    "ProductId": "9",
                                    "Profit": "0",
                                    "Sales": "150",
                                    "COGS": "63",
                                    "Total_Expenses": "87",
                                    "InProfitOrLoss": "In Loss"
                                },
                                {
                                    "ProductId": "10",
                                    "Profit": "33",
                                    "Sales": "140",
                                    "COGS": "60",
                                    "Total_Expenses": "47",
                                    "InProfitOrLoss": "In Profit"
                                },
                                {
                                    "ProductId": "11",
                                    "Profit": "17",
                                    "Sales": "130",
                                    "COGS": "58",
                                    "Total_Expenses": "55",
                                    "InProfitOrLoss": "In Profit"
                                }
                            ]
                        },
                        "text/html": "<table><tr><th>ProductId</th><th>Profit</th><th>Sales</th><th>COGS</th><th>Total_Expenses</th><th>InProfitOrLoss</th></tr><tr><td>1</td><td>94</td><td>219</td><td>89</td><td>36</td><td>In Profit</td></tr><tr><td>2</td><td>68</td><td>190</td><td>83</td><td>39</td><td>In Profit</td></tr><tr><td>3</td><td>101</td><td>234</td><td>95</td><td>38</td><td>In Profit</td></tr><tr><td>13</td><td>30</td><td>100</td><td>44</td><td>26</td><td>In Profit</td></tr><tr><td>5</td><td>54</td><td>134</td><td>54</td><td>26</td><td>In Profit</td></tr><tr><td>6</td><td>53</td><td>180</td><td>72</td><td>55</td><td>In Profit</td></tr><tr><td>8</td><td>99</td><td>341</td><td>170</td><td>72</td><td>In Loss</td></tr><tr><td>9</td><td>0</td><td>150</td><td>63</td><td>87</td><td>In Loss</td></tr><tr><td>10</td><td>33</td><td>140</td><td>60</td><td>47</td><td>In Profit</td></tr><tr><td>11</td><td>17</td><td>130</td><td>58</td><td>55</td><td>In Profit</td></tr></table>"
                    },
                    "metadata": {}
                }
            ],
            "execution_count": 11
        },
        {
            "cell_type": "code",
            "source": [
                "-- 23. Give the total weekly sales value with the date and product ID details. Use roll-up to pull the data in hierarchical order. \n",
                "\n",
                "-- SELECT Date, ProductId, SUM(Sales) as TotalSales\n",
                "-- FROM FactTable\n",
                "-- GROUP BY Date, ProductId\n",
                "-- WITH ROLLUP\n",
                "USE sql_case_study\n",
                "SELECT DATEPART(WEEK, Date) AS WeekNumber, ProductId, SUM(Sales) as WeeklySales\n",
                "FROM FactTable\n",
                "GROUP BY ProductId, DATEPART(WEEK, Date)\n",
                "WITH ROLLUP\n",
                "\n",
                ""
            ],
            "metadata": {
                "language": "sql",
                "azdata_cell_guid": "673198ad-fa34-49f6-b3ef-1d6af18331bf"
            },
            "outputs": [
                {
                    "output_type": "display_data",
                    "data": {
                        "text/html": "(53 rows affected)"
                    },
                    "metadata": {}
                },
                {
                    "output_type": "display_data",
                    "data": {
                        "text/html": "Total execution time: 00:00:00.028"
                    },
                    "metadata": {}
                },
                {
                    "output_type": "execute_result",
                    "execution_count": 4,
                    "data": {
                        "application/vnd.dataresource+json": {
                            "schema": {
                                "fields": [
                                    {
                                        "name": "WeekNumber"
                                    },
                                    {
                                        "name": "ProductId"
                                    },
                                    {
                                        "name": "WeeklySales"
                                    }
                                ]
                            },
                            "data": [
                                {
                                    "WeekNumber": "1",
                                    "ProductId": "1",
                                    "WeeklySales": "3365"
                                },
                                {
                                    "WeekNumber": "2",
                                    "ProductId": "1",
                                    "WeeklySales": "14935"
                                },
                                {
                                    "WeekNumber": "3",
                                    "ProductId": "1",
                                    "WeeklySales": "7969"
                                },
                                {
                                    "WeekNumber": "NULL",
                                    "ProductId": "1",
                                    "WeeklySales": "26269"
                                },
                                {
                                    "WeekNumber": "1",
                                    "ProductId": "2",
                                    "WeeklySales": "15120"
                                },
                                {
                                    "WeekNumber": "2",
                                    "ProductId": "2",
                                    "WeeklySales": "76755"
                                },
                                {
                                    "WeekNumber": "3",
                                    "ProductId": "2",
                                    "WeeklySales": "36436"
                                },
                                {
                                    "WeekNumber": "NULL",
                                    "ProductId": "2",
                                    "WeeklySales": "128311"
                                },
                                {
                                    "WeekNumber": "1",
                                    "ProductId": "3",
                                    "WeeklySales": "7461"
                                },
                                {
                                    "WeekNumber": "2",
                                    "ProductId": "3",
                                    "WeeklySales": "37393"
                                },
                                {
                                    "WeekNumber": "3",
                                    "ProductId": "3",
                                    "WeeklySales": "17394"
                                },
                                {
                                    "WeekNumber": "NULL",
                                    "ProductId": "3",
                                    "WeeklySales": "62248"
                                },
                                {
                                    "WeekNumber": "1",
                                    "ProductId": "4",
                                    "WeeklySales": "4594"
                                },
                                {
                                    "WeekNumber": "2",
                                    "ProductId": "4",
                                    "WeeklySales": "21167"
                                },
                                {
                                    "WeekNumber": "3",
                                    "ProductId": "4",
                                    "WeeklySales": "10138"
                                },
                                {
                                    "WeekNumber": "NULL",
                                    "ProductId": "4",
                                    "WeeklySales": "35899"
                                },
                                {
                                    "WeekNumber": "1",
                                    "ProductId": "5",
                                    "WeeklySales": "10172"
                                },
                                {
                                    "WeekNumber": "2",
                                    "ProductId": "5",
                                    "WeeklySales": "49319"
                                },
                                {
                                    "WeekNumber": "3",
                                    "ProductId": "5",
                                    "WeeklySales": "25413"
                                },
                                {
                                    "WeekNumber": "NULL",
                                    "ProductId": "5",
                                    "WeeklySales": "84904"
                                },
                                {
                                    "WeekNumber": "1",
                                    "ProductId": "6",
                                    "WeeklySales": "9776"
                                },
                                {
                                    "WeekNumber": "2",
                                    "ProductId": "6",
                                    "WeeklySales": "46132"
                                },
                                {
                                    "WeekNumber": "3",
                                    "ProductId": "6",
                                    "WeeklySales": "22254"
                                },
                                {
                                    "WeekNumber": "NULL",
                                    "ProductId": "6",
                                    "WeeklySales": "78162"
                                },
                                {
                                    "WeekNumber": "1",
                                    "ProductId": "7",
                                    "WeeklySales": "2887"
                                },
                                {
                                    "WeekNumber": "2",
                                    "ProductId": "7",
                                    "WeeklySales": "13408"
                                },
                                {
                                    "WeekNumber": "3",
                                    "ProductId": "7",
                                    "WeeklySales": "7736"
                                },
                                {
                                    "WeekNumber": "NULL",
                                    "ProductId": "7",
                                    "WeeklySales": "24031"
                                },
                                {
                                    "WeekNumber": "1",
                                    "ProductId": "8",
                                    "WeeklySales": "9289"
                                },
                                {
                                    "WeekNumber": "2",
                                    "ProductId": "8",
                                    "WeeklySales": "43756"
                                },
                                {
                                    "WeekNumber": "3",
                                    "ProductId": "8",
                                    "WeeklySales": "22533"
                                },
                                {
                                    "WeekNumber": "NULL",
                                    "ProductId": "8",
                                    "WeeklySales": "75578"
                                },
                                {
                                    "WeekNumber": "1",
                                    "ProductId": "9",
                                    "WeeklySales": "11067"
                                },
                                {
                                    "WeekNumber": "2",
                                    "ProductId": "9",
                                    "WeeklySales": "56775"
                                },
                                {
                                    "WeekNumber": "3",
                                    "ProductId": "9",
                                    "WeeklySales": "28084"
                                },
                                {
                                    "WeekNumber": "NULL",
                                    "ProductId": "9",
                                    "WeeklySales": "95926"
                                },
                                {
                                    "WeekNumber": "1",
                                    "ProductId": "10",
                                    "WeeklySales": "4378"
                                },
                                {
                                    "WeekNumber": "2",
                                    "ProductId": "10",
                                    "WeeklySales": "21556"
                                },
                                {
                                    "WeekNumber": "3",
                                    "ProductId": "10",
                                    "WeeklySales": "9776"
                                },
                                {
                                    "WeekNumber": "NULL",
                                    "ProductId": "10",
                                    "WeeklySales": "35710"
                                },
                                {
                                    "WeekNumber": "1",
                                    "ProductId": "11",
                                    "WeeklySales": "8896"
                                },
                                {
                                    "WeekNumber": "2",
                                    "ProductId": "11",
                                    "WeeklySales": "43289"
                                },
                                {
                                    "WeekNumber": "3",
                                    "ProductId": "11",
                                    "WeeklySales": "20966"
                                },
                                {
                                    "WeekNumber": "NULL",
                                    "ProductId": "11",
                                    "WeeklySales": "73151"
                                },
                                {
                                    "WeekNumber": "1",
                                    "ProductId": "12",
                                    "WeeklySales": "8025"
                                },
                                {
                                    "WeekNumber": "2",
                                    "ProductId": "12",
                                    "WeeklySales": "39196"
                                },
                                {
                                    "WeekNumber": "3",
                                    "ProductId": "12",
                                    "WeeklySales": "19551"
                                },
                                {
                                    "WeekNumber": "NULL",
                                    "ProductId": "12",
                                    "WeeklySales": "66772"
                                },
                                {
                                    "WeekNumber": "1",
                                    "ProductId": "13",
                                    "WeeklySales": "3933"
                                },
                                {
                                    "WeekNumber": "2",
                                    "ProductId": "13",
                                    "WeeklySales": "19003"
                                },
                                {
                                    "WeekNumber": "3",
                                    "ProductId": "13",
                                    "WeeklySales": "9914"
                                },
                                {
                                    "WeekNumber": "NULL",
                                    "ProductId": "13",
                                    "WeeklySales": "32850"
                                },
                                {
                                    "WeekNumber": "NULL",
                                    "ProductId": "NULL",
                                    "WeeklySales": "819811"
                                }
                            ]
                        },
                        "text/html": "<table><tr><th>WeekNumber</th><th>ProductId</th><th>WeeklySales</th></tr><tr><td>1</td><td>1</td><td>3365</td></tr><tr><td>2</td><td>1</td><td>14935</td></tr><tr><td>3</td><td>1</td><td>7969</td></tr><tr><td>NULL</td><td>1</td><td>26269</td></tr><tr><td>1</td><td>2</td><td>15120</td></tr><tr><td>2</td><td>2</td><td>76755</td></tr><tr><td>3</td><td>2</td><td>36436</td></tr><tr><td>NULL</td><td>2</td><td>128311</td></tr><tr><td>1</td><td>3</td><td>7461</td></tr><tr><td>2</td><td>3</td><td>37393</td></tr><tr><td>3</td><td>3</td><td>17394</td></tr><tr><td>NULL</td><td>3</td><td>62248</td></tr><tr><td>1</td><td>4</td><td>4594</td></tr><tr><td>2</td><td>4</td><td>21167</td></tr><tr><td>3</td><td>4</td><td>10138</td></tr><tr><td>NULL</td><td>4</td><td>35899</td></tr><tr><td>1</td><td>5</td><td>10172</td></tr><tr><td>2</td><td>5</td><td>49319</td></tr><tr><td>3</td><td>5</td><td>25413</td></tr><tr><td>NULL</td><td>5</td><td>84904</td></tr><tr><td>1</td><td>6</td><td>9776</td></tr><tr><td>2</td><td>6</td><td>46132</td></tr><tr><td>3</td><td>6</td><td>22254</td></tr><tr><td>NULL</td><td>6</td><td>78162</td></tr><tr><td>1</td><td>7</td><td>2887</td></tr><tr><td>2</td><td>7</td><td>13408</td></tr><tr><td>3</td><td>7</td><td>7736</td></tr><tr><td>NULL</td><td>7</td><td>24031</td></tr><tr><td>1</td><td>8</td><td>9289</td></tr><tr><td>2</td><td>8</td><td>43756</td></tr><tr><td>3</td><td>8</td><td>22533</td></tr><tr><td>NULL</td><td>8</td><td>75578</td></tr><tr><td>1</td><td>9</td><td>11067</td></tr><tr><td>2</td><td>9</td><td>56775</td></tr><tr><td>3</td><td>9</td><td>28084</td></tr><tr><td>NULL</td><td>9</td><td>95926</td></tr><tr><td>1</td><td>10</td><td>4378</td></tr><tr><td>2</td><td>10</td><td>21556</td></tr><tr><td>3</td><td>10</td><td>9776</td></tr><tr><td>NULL</td><td>10</td><td>35710</td></tr><tr><td>1</td><td>11</td><td>8896</td></tr><tr><td>2</td><td>11</td><td>43289</td></tr><tr><td>3</td><td>11</td><td>20966</td></tr><tr><td>NULL</td><td>11</td><td>73151</td></tr><tr><td>1</td><td>12</td><td>8025</td></tr><tr><td>2</td><td>12</td><td>39196</td></tr><tr><td>3</td><td>12</td><td>19551</td></tr><tr><td>NULL</td><td>12</td><td>66772</td></tr><tr><td>1</td><td>13</td><td>3933</td></tr><tr><td>2</td><td>13</td><td>19003</td></tr><tr><td>3</td><td>13</td><td>9914</td></tr><tr><td>NULL</td><td>13</td><td>32850</td></tr><tr><td>NULL</td><td>NULL</td><td>819811</td></tr></table>"
                    },
                    "metadata": {}
                }
            ],
            "execution_count": 4
        },
        {
            "cell_type": "code",
            "source": [
                "-- 24. Apply union and intersection operator on the tables which consist of attribute area code. \n",
                "\n",
                "SELECT Area_Code FROM FactTable\n",
                "UNION\n",
                "SELECT Area_Code FROM LocationTable\n",
                "\n",
                "SELECT Area_Code FROM FactTable\n",
                "INTERSECT\n",
                "SELECT Area_Code FROM LocationTable\n",
                "\n",
                ""
            ],
            "metadata": {
                "language": "sql",
                "azdata_cell_guid": "75d960ca-e58f-450e-a49f-0bfe89793677"
            },
            "outputs": [
                {
                    "output_type": "display_data",
                    "data": {
                        "text/html": "(156 rows affected)"
                    },
                    "metadata": {}
                },
                {
                    "output_type": "display_data",
                    "data": {
                        "text/html": "(156 rows affected)"
                    },
                    "metadata": {}
                },
                {
                    "output_type": "display_data",
                    "data": {
                        "text/html": "Total execution time: 00:00:00.031"
                    },
                    "metadata": {}
                },
                {
                    "output_type": "execute_result",
                    "execution_count": 38,
                    "data": {
                        "application/vnd.dataresource+json": {
                            "schema": {
                                "fields": [
                                    {
                                        "name": "Area_Code"
                                    }
                                ]
                            },
                            "data": [
                                {
                                    "Area_Code": "925"
                                },
                                {
                                    "Area_Code": "430"
                                },
                                {
                                    "Area_Code": "971"
                                },
                                {
                                    "Area_Code": "209"
                                },
                                {
                                    "Area_Code": "407"
                                },
                                {
                                    "Area_Code": "361"
                                },
                                {
                                    "Area_Code": "315"
                                },
                                {
                                    "Area_Code": "816"
                                },
                                {
                                    "Area_Code": "716"
                                },
                                {
                                    "Area_Code": "773"
                                },
                                {
                                    "Area_Code": "607"
                                },
                                {
                                    "Area_Code": "650"
                                },
                                {
                                    "Area_Code": "630"
                                },
                                {
                                    "Area_Code": "530"
                                },
                                {
                                    "Area_Code": "636"
                                },
                                {
                                    "Area_Code": "979"
                                },
                                {
                                    "Area_Code": "985"
                                },
                                {
                                    "Area_Code": "805"
                                },
                                {
                                    "Area_Code": "281"
                                },
                                {
                                    "Area_Code": "951"
                                },
                                {
                                    "Area_Code": "212"
                                },
                                {
                                    "Area_Code": "719"
                                },
                                {
                                    "Area_Code": "573"
                                },
                                {
                                    "Area_Code": "916"
                                },
                                {
                                    "Area_Code": "513"
                                },
                                {
                                    "Area_Code": "619"
                                },
                                {
                                    "Area_Code": "318"
                                },
                                {
                                    "Area_Code": "959"
                                },
                                {
                                    "Area_Code": "713"
                                },
                                {
                                    "Area_Code": "567"
                                },
                                {
                                    "Area_Code": "813"
                                },
                                {
                                    "Area_Code": "321"
                                },
                                {
                                    "Area_Code": "510"
                                },
                                {
                                    "Area_Code": "845"
                                },
                                {
                                    "Area_Code": "702"
                                },
                                {
                                    "Area_Code": "504"
                                },
                                {
                                    "Area_Code": "347"
                                },
                                {
                                    "Area_Code": "213"
                                },
                                {
                                    "Area_Code": "831"
                                },
                                {
                                    "Area_Code": "330"
                                },
                                {
                                    "Area_Code": "405"
                                },
                                {
                                    "Area_Code": "860"
                                },
                                {
                                    "Area_Code": "516"
                                },
                                {
                                    "Area_Code": "754"
                                },
                                {
                                    "Area_Code": "562"
                                },
                                {
                                    "Area_Code": "708"
                                },
                                {
                                    "Area_Code": "954"
                                },
                                {
                                    "Area_Code": "917"
                                },
                                {
                                    "Area_Code": "319"
                                },
                                {
                                    "Area_Code": "714"
                                },
                                {
                                    "Area_Code": "914"
                                },
                                {
                                    "Area_Code": "413"
                                },
                                {
                                    "Area_Code": "505"
                                },
                                {
                                    "Area_Code": "585"
                                },
                                {
                                    "Area_Code": "940"
                                },
                                {
                                    "Area_Code": "239"
                                },
                                {
                                    "Area_Code": "903"
                                },
                                {
                                    "Area_Code": "216"
                                },
                                {
                                    "Area_Code": "425"
                                },
                                {
                                    "Area_Code": "310"
                                },
                                {
                                    "Area_Code": "210"
                                },
                                {
                                    "Area_Code": "920"
                                },
                                {
                                    "Area_Code": "863"
                                },
                                {
                                    "Area_Code": "857"
                                },
                                {
                                    "Area_Code": "224"
                                },
                                {
                                    "Area_Code": "419"
                                },
                                {
                                    "Area_Code": "937"
                                },
                                {
                                    "Area_Code": "559"
                                },
                                {
                                    "Area_Code": "817"
                                },
                                {
                                    "Area_Code": "608"
                                },
                                {
                                    "Area_Code": "774"
                                },
                                {
                                    "Area_Code": "508"
                                },
                                {
                                    "Area_Code": "631"
                                },
                                {
                                    "Area_Code": "682"
                                },
                                {
                                    "Area_Code": "339"
                                },
                                {
                                    "Area_Code": "253"
                                },
                                {
                                    "Area_Code": "712"
                                },
                                {
                                    "Area_Code": "760"
                                },
                                {
                                    "Area_Code": "806"
                                },
                                {
                                    "Area_Code": "305"
                                },
                                {
                                    "Area_Code": "503"
                                },
                                {
                                    "Area_Code": "234"
                                },
                                {
                                    "Area_Code": "660"
                                },
                                {
                                    "Area_Code": "720"
                                },
                                {
                                    "Area_Code": "614"
                                },
                                {
                                    "Area_Code": "858"
                                },
                                {
                                    "Area_Code": "440"
                                },
                                {
                                    "Area_Code": "626"
                                },
                                {
                                    "Area_Code": "603"
                                },
                                {
                                    "Area_Code": "775"
                                },
                                {
                                    "Area_Code": "254"
                                },
                                {
                                    "Area_Code": "646"
                                },
                                {
                                    "Area_Code": "740"
                                },
                                {
                                    "Area_Code": "949"
                                },
                                {
                                    "Area_Code": "617"
                                },
                                {
                                    "Area_Code": "262"
                                },
                                {
                                    "Area_Code": "832"
                                },
                                {
                                    "Area_Code": "408"
                                },
                                {
                                    "Area_Code": "972"
                                },
                                {
                                    "Area_Code": "563"
                                },
                                {
                                    "Area_Code": "918"
                                },
                                {
                                    "Area_Code": "325"
                                },
                                {
                                    "Area_Code": "314"
                                },
                                {
                                    "Area_Code": "815"
                                },
                                {
                                    "Area_Code": "417"
                                },
                                {
                                    "Area_Code": "909"
                                },
                                {
                                    "Area_Code": "772"
                                },
                                {
                                    "Area_Code": "225"
                                },
                                {
                                    "Area_Code": "414"
                                },
                                {
                                    "Area_Code": "915"
                                },
                                {
                                    "Area_Code": "580"
                                },
                                {
                                    "Area_Code": "337"
                                },
                                {
                                    "Area_Code": "978"
                                },
                                {
                                    "Area_Code": "941"
                                },
                                {
                                    "Area_Code": "351"
                                },
                                {
                                    "Area_Code": "786"
                                },
                                {
                                    "Area_Code": "309"
                                },
                                {
                                    "Area_Code": "641"
                                },
                                {
                                    "Area_Code": "618"
                                },
                                {
                                    "Area_Code": "781"
                                },
                                {
                                    "Area_Code": "904"
                                },
                                {
                                    "Area_Code": "850"
                                },
                                {
                                    "Area_Code": "432"
                                },
                                {
                                    "Area_Code": "718"
                                },
                                {
                                    "Area_Code": "956"
                                },
                                {
                                    "Area_Code": "409"
                                },
                                {
                                    "Area_Code": "217"
                                },
                                {
                                    "Area_Code": "518"
                                },
                                {
                                    "Area_Code": "415"
                                },
                                {
                                    "Area_Code": "509"
                                },
                                {
                                    "Area_Code": "818"
                                },
                                {
                                    "Area_Code": "203"
                                },
                                {
                                    "Area_Code": "303"
                                },
                                {
                                    "Area_Code": "352"
                                },
                                {
                                    "Area_Code": "936"
                                },
                                {
                                    "Area_Code": "475"
                                },
                                {
                                    "Area_Code": "214"
                                },
                                {
                                    "Area_Code": "830"
                                },
                                {
                                    "Area_Code": "970"
                                },
                                {
                                    "Area_Code": "312"
                                },
                                {
                                    "Area_Code": "360"
                                },
                                {
                                    "Area_Code": "801"
                                },
                                {
                                    "Area_Code": "469"
                                },
                                {
                                    "Area_Code": "707"
                                },
                                {
                                    "Area_Code": "715"
                                },
                                {
                                    "Area_Code": "561"
                                },
                                {
                                    "Area_Code": "661"
                                },
                                {
                                    "Area_Code": "323"
                                },
                                {
                                    "Area_Code": "515"
                                },
                                {
                                    "Area_Code": "512"
                                },
                                {
                                    "Area_Code": "727"
                                },
                                {
                                    "Area_Code": "206"
                                },
                                {
                                    "Area_Code": "847"
                                },
                                {
                                    "Area_Code": "386"
                                },
                                {
                                    "Area_Code": "435"
                                },
                                {
                                    "Area_Code": "541"
                                }
                            ]
                        },
                        "text/html": "<table><tr><th>Area_Code</th></tr><tr><td>925</td></tr><tr><td>430</td></tr><tr><td>971</td></tr><tr><td>209</td></tr><tr><td>407</td></tr><tr><td>361</td></tr><tr><td>315</td></tr><tr><td>816</td></tr><tr><td>716</td></tr><tr><td>773</td></tr><tr><td>607</td></tr><tr><td>650</td></tr><tr><td>630</td></tr><tr><td>530</td></tr><tr><td>636</td></tr><tr><td>979</td></tr><tr><td>985</td></tr><tr><td>805</td></tr><tr><td>281</td></tr><tr><td>951</td></tr><tr><td>212</td></tr><tr><td>719</td></tr><tr><td>573</td></tr><tr><td>916</td></tr><tr><td>513</td></tr><tr><td>619</td></tr><tr><td>318</td></tr><tr><td>959</td></tr><tr><td>713</td></tr><tr><td>567</td></tr><tr><td>813</td></tr><tr><td>321</td></tr><tr><td>510</td></tr><tr><td>845</td></tr><tr><td>702</td></tr><tr><td>504</td></tr><tr><td>347</td></tr><tr><td>213</td></tr><tr><td>831</td></tr><tr><td>330</td></tr><tr><td>405</td></tr><tr><td>860</td></tr><tr><td>516</td></tr><tr><td>754</td></tr><tr><td>562</td></tr><tr><td>708</td></tr><tr><td>954</td></tr><tr><td>917</td></tr><tr><td>319</td></tr><tr><td>714</td></tr><tr><td>914</td></tr><tr><td>413</td></tr><tr><td>505</td></tr><tr><td>585</td></tr><tr><td>940</td></tr><tr><td>239</td></tr><tr><td>903</td></tr><tr><td>216</td></tr><tr><td>425</td></tr><tr><td>310</td></tr><tr><td>210</td></tr><tr><td>920</td></tr><tr><td>863</td></tr><tr><td>857</td></tr><tr><td>224</td></tr><tr><td>419</td></tr><tr><td>937</td></tr><tr><td>559</td></tr><tr><td>817</td></tr><tr><td>608</td></tr><tr><td>774</td></tr><tr><td>508</td></tr><tr><td>631</td></tr><tr><td>682</td></tr><tr><td>339</td></tr><tr><td>253</td></tr><tr><td>712</td></tr><tr><td>760</td></tr><tr><td>806</td></tr><tr><td>305</td></tr><tr><td>503</td></tr><tr><td>234</td></tr><tr><td>660</td></tr><tr><td>720</td></tr><tr><td>614</td></tr><tr><td>858</td></tr><tr><td>440</td></tr><tr><td>626</td></tr><tr><td>603</td></tr><tr><td>775</td></tr><tr><td>254</td></tr><tr><td>646</td></tr><tr><td>740</td></tr><tr><td>949</td></tr><tr><td>617</td></tr><tr><td>262</td></tr><tr><td>832</td></tr><tr><td>408</td></tr><tr><td>972</td></tr><tr><td>563</td></tr><tr><td>918</td></tr><tr><td>325</td></tr><tr><td>314</td></tr><tr><td>815</td></tr><tr><td>417</td></tr><tr><td>909</td></tr><tr><td>772</td></tr><tr><td>225</td></tr><tr><td>414</td></tr><tr><td>915</td></tr><tr><td>580</td></tr><tr><td>337</td></tr><tr><td>978</td></tr><tr><td>941</td></tr><tr><td>351</td></tr><tr><td>786</td></tr><tr><td>309</td></tr><tr><td>641</td></tr><tr><td>618</td></tr><tr><td>781</td></tr><tr><td>904</td></tr><tr><td>850</td></tr><tr><td>432</td></tr><tr><td>718</td></tr><tr><td>956</td></tr><tr><td>409</td></tr><tr><td>217</td></tr><tr><td>518</td></tr><tr><td>415</td></tr><tr><td>509</td></tr><tr><td>818</td></tr><tr><td>203</td></tr><tr><td>303</td></tr><tr><td>352</td></tr><tr><td>936</td></tr><tr><td>475</td></tr><tr><td>214</td></tr><tr><td>830</td></tr><tr><td>970</td></tr><tr><td>312</td></tr><tr><td>360</td></tr><tr><td>801</td></tr><tr><td>469</td></tr><tr><td>707</td></tr><tr><td>715</td></tr><tr><td>561</td></tr><tr><td>661</td></tr><tr><td>323</td></tr><tr><td>515</td></tr><tr><td>512</td></tr><tr><td>727</td></tr><tr><td>206</td></tr><tr><td>847</td></tr><tr><td>386</td></tr><tr><td>435</td></tr><tr><td>541</td></tr></table>"
                    },
                    "metadata": {}
                },
                {
                    "output_type": "execute_result",
                    "execution_count": 38,
                    "data": {
                        "application/vnd.dataresource+json": {
                            "schema": {
                                "fields": [
                                    {
                                        "name": "Area_Code"
                                    }
                                ]
                            },
                            "data": [
                                {
                                    "Area_Code": "925"
                                },
                                {
                                    "Area_Code": "430"
                                },
                                {
                                    "Area_Code": "971"
                                },
                                {
                                    "Area_Code": "209"
                                },
                                {
                                    "Area_Code": "407"
                                },
                                {
                                    "Area_Code": "361"
                                },
                                {
                                    "Area_Code": "315"
                                },
                                {
                                    "Area_Code": "816"
                                },
                                {
                                    "Area_Code": "716"
                                },
                                {
                                    "Area_Code": "773"
                                },
                                {
                                    "Area_Code": "607"
                                },
                                {
                                    "Area_Code": "650"
                                },
                                {
                                    "Area_Code": "630"
                                },
                                {
                                    "Area_Code": "530"
                                },
                                {
                                    "Area_Code": "636"
                                },
                                {
                                    "Area_Code": "979"
                                },
                                {
                                    "Area_Code": "985"
                                },
                                {
                                    "Area_Code": "805"
                                },
                                {
                                    "Area_Code": "281"
                                },
                                {
                                    "Area_Code": "951"
                                },
                                {
                                    "Area_Code": "212"
                                },
                                {
                                    "Area_Code": "719"
                                },
                                {
                                    "Area_Code": "573"
                                },
                                {
                                    "Area_Code": "916"
                                },
                                {
                                    "Area_Code": "513"
                                },
                                {
                                    "Area_Code": "619"
                                },
                                {
                                    "Area_Code": "318"
                                },
                                {
                                    "Area_Code": "959"
                                },
                                {
                                    "Area_Code": "713"
                                },
                                {
                                    "Area_Code": "567"
                                },
                                {
                                    "Area_Code": "813"
                                },
                                {
                                    "Area_Code": "321"
                                },
                                {
                                    "Area_Code": "510"
                                },
                                {
                                    "Area_Code": "845"
                                },
                                {
                                    "Area_Code": "702"
                                },
                                {
                                    "Area_Code": "504"
                                },
                                {
                                    "Area_Code": "347"
                                },
                                {
                                    "Area_Code": "213"
                                },
                                {
                                    "Area_Code": "831"
                                },
                                {
                                    "Area_Code": "330"
                                },
                                {
                                    "Area_Code": "405"
                                },
                                {
                                    "Area_Code": "860"
                                },
                                {
                                    "Area_Code": "516"
                                },
                                {
                                    "Area_Code": "754"
                                },
                                {
                                    "Area_Code": "562"
                                },
                                {
                                    "Area_Code": "708"
                                },
                                {
                                    "Area_Code": "954"
                                },
                                {
                                    "Area_Code": "917"
                                },
                                {
                                    "Area_Code": "319"
                                },
                                {
                                    "Area_Code": "714"
                                },
                                {
                                    "Area_Code": "914"
                                },
                                {
                                    "Area_Code": "413"
                                },
                                {
                                    "Area_Code": "505"
                                },
                                {
                                    "Area_Code": "585"
                                },
                                {
                                    "Area_Code": "940"
                                },
                                {
                                    "Area_Code": "239"
                                },
                                {
                                    "Area_Code": "903"
                                },
                                {
                                    "Area_Code": "216"
                                },
                                {
                                    "Area_Code": "425"
                                },
                                {
                                    "Area_Code": "310"
                                },
                                {
                                    "Area_Code": "210"
                                },
                                {
                                    "Area_Code": "920"
                                },
                                {
                                    "Area_Code": "863"
                                },
                                {
                                    "Area_Code": "857"
                                },
                                {
                                    "Area_Code": "224"
                                },
                                {
                                    "Area_Code": "419"
                                },
                                {
                                    "Area_Code": "937"
                                },
                                {
                                    "Area_Code": "559"
                                },
                                {
                                    "Area_Code": "817"
                                },
                                {
                                    "Area_Code": "608"
                                },
                                {
                                    "Area_Code": "774"
                                },
                                {
                                    "Area_Code": "508"
                                },
                                {
                                    "Area_Code": "631"
                                },
                                {
                                    "Area_Code": "682"
                                },
                                {
                                    "Area_Code": "339"
                                },
                                {
                                    "Area_Code": "253"
                                },
                                {
                                    "Area_Code": "712"
                                },
                                {
                                    "Area_Code": "760"
                                },
                                {
                                    "Area_Code": "806"
                                },
                                {
                                    "Area_Code": "305"
                                },
                                {
                                    "Area_Code": "503"
                                },
                                {
                                    "Area_Code": "234"
                                },
                                {
                                    "Area_Code": "660"
                                },
                                {
                                    "Area_Code": "720"
                                },
                                {
                                    "Area_Code": "614"
                                },
                                {
                                    "Area_Code": "858"
                                },
                                {
                                    "Area_Code": "440"
                                },
                                {
                                    "Area_Code": "626"
                                },
                                {
                                    "Area_Code": "603"
                                },
                                {
                                    "Area_Code": "775"
                                },
                                {
                                    "Area_Code": "254"
                                },
                                {
                                    "Area_Code": "646"
                                },
                                {
                                    "Area_Code": "740"
                                },
                                {
                                    "Area_Code": "949"
                                },
                                {
                                    "Area_Code": "617"
                                },
                                {
                                    "Area_Code": "262"
                                },
                                {
                                    "Area_Code": "832"
                                },
                                {
                                    "Area_Code": "408"
                                },
                                {
                                    "Area_Code": "972"
                                },
                                {
                                    "Area_Code": "563"
                                },
                                {
                                    "Area_Code": "918"
                                },
                                {
                                    "Area_Code": "325"
                                },
                                {
                                    "Area_Code": "314"
                                },
                                {
                                    "Area_Code": "815"
                                },
                                {
                                    "Area_Code": "417"
                                },
                                {
                                    "Area_Code": "909"
                                },
                                {
                                    "Area_Code": "772"
                                },
                                {
                                    "Area_Code": "225"
                                },
                                {
                                    "Area_Code": "414"
                                },
                                {
                                    "Area_Code": "915"
                                },
                                {
                                    "Area_Code": "580"
                                },
                                {
                                    "Area_Code": "337"
                                },
                                {
                                    "Area_Code": "978"
                                },
                                {
                                    "Area_Code": "941"
                                },
                                {
                                    "Area_Code": "351"
                                },
                                {
                                    "Area_Code": "786"
                                },
                                {
                                    "Area_Code": "309"
                                },
                                {
                                    "Area_Code": "641"
                                },
                                {
                                    "Area_Code": "618"
                                },
                                {
                                    "Area_Code": "781"
                                },
                                {
                                    "Area_Code": "904"
                                },
                                {
                                    "Area_Code": "850"
                                },
                                {
                                    "Area_Code": "432"
                                },
                                {
                                    "Area_Code": "718"
                                },
                                {
                                    "Area_Code": "956"
                                },
                                {
                                    "Area_Code": "409"
                                },
                                {
                                    "Area_Code": "217"
                                },
                                {
                                    "Area_Code": "518"
                                },
                                {
                                    "Area_Code": "415"
                                },
                                {
                                    "Area_Code": "509"
                                },
                                {
                                    "Area_Code": "818"
                                },
                                {
                                    "Area_Code": "203"
                                },
                                {
                                    "Area_Code": "303"
                                },
                                {
                                    "Area_Code": "352"
                                },
                                {
                                    "Area_Code": "936"
                                },
                                {
                                    "Area_Code": "475"
                                },
                                {
                                    "Area_Code": "214"
                                },
                                {
                                    "Area_Code": "830"
                                },
                                {
                                    "Area_Code": "970"
                                },
                                {
                                    "Area_Code": "312"
                                },
                                {
                                    "Area_Code": "360"
                                },
                                {
                                    "Area_Code": "801"
                                },
                                {
                                    "Area_Code": "469"
                                },
                                {
                                    "Area_Code": "707"
                                },
                                {
                                    "Area_Code": "715"
                                },
                                {
                                    "Area_Code": "561"
                                },
                                {
                                    "Area_Code": "661"
                                },
                                {
                                    "Area_Code": "323"
                                },
                                {
                                    "Area_Code": "515"
                                },
                                {
                                    "Area_Code": "512"
                                },
                                {
                                    "Area_Code": "727"
                                },
                                {
                                    "Area_Code": "206"
                                },
                                {
                                    "Area_Code": "847"
                                },
                                {
                                    "Area_Code": "386"
                                },
                                {
                                    "Area_Code": "435"
                                },
                                {
                                    "Area_Code": "541"
                                }
                            ]
                        },
                        "text/html": "<table><tr><th>Area_Code</th></tr><tr><td>925</td></tr><tr><td>430</td></tr><tr><td>971</td></tr><tr><td>209</td></tr><tr><td>407</td></tr><tr><td>361</td></tr><tr><td>315</td></tr><tr><td>816</td></tr><tr><td>716</td></tr><tr><td>773</td></tr><tr><td>607</td></tr><tr><td>650</td></tr><tr><td>630</td></tr><tr><td>530</td></tr><tr><td>636</td></tr><tr><td>979</td></tr><tr><td>985</td></tr><tr><td>805</td></tr><tr><td>281</td></tr><tr><td>951</td></tr><tr><td>212</td></tr><tr><td>719</td></tr><tr><td>573</td></tr><tr><td>916</td></tr><tr><td>513</td></tr><tr><td>619</td></tr><tr><td>318</td></tr><tr><td>959</td></tr><tr><td>713</td></tr><tr><td>567</td></tr><tr><td>813</td></tr><tr><td>321</td></tr><tr><td>510</td></tr><tr><td>845</td></tr><tr><td>702</td></tr><tr><td>504</td></tr><tr><td>347</td></tr><tr><td>213</td></tr><tr><td>831</td></tr><tr><td>330</td></tr><tr><td>405</td></tr><tr><td>860</td></tr><tr><td>516</td></tr><tr><td>754</td></tr><tr><td>562</td></tr><tr><td>708</td></tr><tr><td>954</td></tr><tr><td>917</td></tr><tr><td>319</td></tr><tr><td>714</td></tr><tr><td>914</td></tr><tr><td>413</td></tr><tr><td>505</td></tr><tr><td>585</td></tr><tr><td>940</td></tr><tr><td>239</td></tr><tr><td>903</td></tr><tr><td>216</td></tr><tr><td>425</td></tr><tr><td>310</td></tr><tr><td>210</td></tr><tr><td>920</td></tr><tr><td>863</td></tr><tr><td>857</td></tr><tr><td>224</td></tr><tr><td>419</td></tr><tr><td>937</td></tr><tr><td>559</td></tr><tr><td>817</td></tr><tr><td>608</td></tr><tr><td>774</td></tr><tr><td>508</td></tr><tr><td>631</td></tr><tr><td>682</td></tr><tr><td>339</td></tr><tr><td>253</td></tr><tr><td>712</td></tr><tr><td>760</td></tr><tr><td>806</td></tr><tr><td>305</td></tr><tr><td>503</td></tr><tr><td>234</td></tr><tr><td>660</td></tr><tr><td>720</td></tr><tr><td>614</td></tr><tr><td>858</td></tr><tr><td>440</td></tr><tr><td>626</td></tr><tr><td>603</td></tr><tr><td>775</td></tr><tr><td>254</td></tr><tr><td>646</td></tr><tr><td>740</td></tr><tr><td>949</td></tr><tr><td>617</td></tr><tr><td>262</td></tr><tr><td>832</td></tr><tr><td>408</td></tr><tr><td>972</td></tr><tr><td>563</td></tr><tr><td>918</td></tr><tr><td>325</td></tr><tr><td>314</td></tr><tr><td>815</td></tr><tr><td>417</td></tr><tr><td>909</td></tr><tr><td>772</td></tr><tr><td>225</td></tr><tr><td>414</td></tr><tr><td>915</td></tr><tr><td>580</td></tr><tr><td>337</td></tr><tr><td>978</td></tr><tr><td>941</td></tr><tr><td>351</td></tr><tr><td>786</td></tr><tr><td>309</td></tr><tr><td>641</td></tr><tr><td>618</td></tr><tr><td>781</td></tr><tr><td>904</td></tr><tr><td>850</td></tr><tr><td>432</td></tr><tr><td>718</td></tr><tr><td>956</td></tr><tr><td>409</td></tr><tr><td>217</td></tr><tr><td>518</td></tr><tr><td>415</td></tr><tr><td>509</td></tr><tr><td>818</td></tr><tr><td>203</td></tr><tr><td>303</td></tr><tr><td>352</td></tr><tr><td>936</td></tr><tr><td>475</td></tr><tr><td>214</td></tr><tr><td>830</td></tr><tr><td>970</td></tr><tr><td>312</td></tr><tr><td>360</td></tr><tr><td>801</td></tr><tr><td>469</td></tr><tr><td>707</td></tr><tr><td>715</td></tr><tr><td>561</td></tr><tr><td>661</td></tr><tr><td>323</td></tr><tr><td>515</td></tr><tr><td>512</td></tr><tr><td>727</td></tr><tr><td>206</td></tr><tr><td>847</td></tr><tr><td>386</td></tr><tr><td>435</td></tr><tr><td>541</td></tr></table>"
                    },
                    "metadata": {}
                }
            ],
            "execution_count": 38
        },
        {
            "cell_type": "code",
            "source": [
                "-- 25. Create a user-defined function for the product table to fetch a particular product type based upon the user’s preference.\n",
                "\n",
                "CREATE FUNCTION fn_fetchProductType(@getProductType AS VARCHAR(20))\n",
                "RETURNS TABLE\n",
                "AS\n",
                "RETURN\n",
                "(\n",
                "    SELECT * FROM ProductTable WHERE Product_Type = @getProductType\n",
                ")"
            ],
            "metadata": {
                "language": "sql",
                "azdata_cell_guid": "df5469dc-cd0d-4a31-9d37-85c0d4779e56"
            },
            "outputs": [
                {
                    "output_type": "display_data",
                    "data": {
                        "text/html": "Commands completed successfully."
                    },
                    "metadata": {}
                },
                {
                    "output_type": "display_data",
                    "data": {
                        "text/html": "Total execution time: 00:00:00.029"
                    },
                    "metadata": {}
                }
            ],
            "execution_count": 18
        },
        {
            "cell_type": "code",
            "source": [
                "SELECT * FROM fn_fetchProductType('Coffee')"
            ],
            "metadata": {
                "language": "sql",
                "azdata_cell_guid": "cd8159a6-afd5-4ed9-9af3-de7f5e3280b2"
            },
            "outputs": [
                {
                    "output_type": "display_data",
                    "data": {
                        "text/html": "(3 rows affected)"
                    },
                    "metadata": {}
                },
                {
                    "output_type": "display_data",
                    "data": {
                        "text/html": "Total execution time: 00:00:00.014"
                    },
                    "metadata": {}
                },
                {
                    "output_type": "execute_result",
                    "execution_count": 19,
                    "data": {
                        "application/vnd.dataresource+json": {
                            "schema": {
                                "fields": [
                                    {
                                        "name": "ProductId"
                                    },
                                    {
                                        "name": "Product_Type"
                                    },
                                    {
                                        "name": "Product"
                                    },
                                    {
                                        "name": "Type"
                                    }
                                ]
                            },
                            "data": [
                                {
                                    "ProductId": "1",
                                    "Product_Type": "Coffee",
                                    "Product": "Amaretto",
                                    "Type": "Regular"
                                },
                                {
                                    "ProductId": "2",
                                    "Product_Type": "Coffee",
                                    "Product": "Columbian",
                                    "Type": "Regular"
                                },
                                {
                                    "ProductId": "3",
                                    "Product_Type": "Coffee",
                                    "Product": "Decaf Irish Cream",
                                    "Type": "Decaf"
                                }
                            ]
                        },
                        "text/html": "<table><tr><th>ProductId</th><th>Product_Type</th><th>Product</th><th>Type</th></tr><tr><td>1</td><td>Coffee</td><td>Amaretto</td><td>Regular</td></tr><tr><td>2</td><td>Coffee</td><td>Columbian</td><td>Regular</td></tr><tr><td>3</td><td>Coffee</td><td>Decaf Irish Cream</td><td>Decaf</td></tr></table>"
                    },
                    "metadata": {}
                }
            ],
            "execution_count": 19
        },
        {
            "cell_type": "code",
            "source": [
                "-- 26. Change the product type from coffee to tea where product ID is 1 and undo it. \n",
                "SELECT * FROM ProductTable WHERE ProductID = 1"
            ],
            "metadata": {
                "language": "sql",
                "azdata_cell_guid": "38e0cf11-a19a-43f9-bba2-de5d49cdef16"
            },
            "outputs": [
                {
                    "output_type": "display_data",
                    "data": {
                        "text/html": "(1 row affected)"
                    },
                    "metadata": {}
                },
                {
                    "output_type": "display_data",
                    "data": {
                        "text/html": "Total execution time: 00:00:00.042"
                    },
                    "metadata": {}
                },
                {
                    "output_type": "execute_result",
                    "execution_count": 21,
                    "data": {
                        "application/vnd.dataresource+json": {
                            "schema": {
                                "fields": [
                                    {
                                        "name": "ProductId"
                                    },
                                    {
                                        "name": "Product_Type"
                                    },
                                    {
                                        "name": "Product"
                                    },
                                    {
                                        "name": "Type"
                                    }
                                ]
                            },
                            "data": [
                                {
                                    "ProductId": "1",
                                    "Product_Type": "Coffee",
                                    "Product": "Amaretto",
                                    "Type": "Regular"
                                }
                            ]
                        },
                        "text/html": "<table><tr><th>ProductId</th><th>Product_Type</th><th>Product</th><th>Type</th></tr><tr><td>1</td><td>Coffee</td><td>Amaretto</td><td>Regular</td></tr></table>"
                    },
                    "metadata": {}
                }
            ],
            "execution_count": 21
        },
        {
            "cell_type": "code",
            "source": [
                "BEGIN TRANSACTION\n",
                "\n",
                "UPDATE ProductTable\n",
                "SET Product_Type = 'Tea'\n",
                "WHERE ProductId = 1"
            ],
            "metadata": {
                "language": "sql",
                "azdata_cell_guid": "0855c11d-9057-40ca-99bd-31113098193c"
            },
            "outputs": [
                {
                    "output_type": "display_data",
                    "data": {
                        "text/html": "(1 row affected)"
                    },
                    "metadata": {}
                },
                {
                    "output_type": "display_data",
                    "data": {
                        "text/html": "Total execution time: 00:00:00.022"
                    },
                    "metadata": {}
                }
            ],
            "execution_count": 23
        },
        {
            "cell_type": "code",
            "source": [
                "SELECT * FROM ProductTable WHERE ProductID = 1"
            ],
            "metadata": {
                "language": "sql",
                "azdata_cell_guid": "840cd235-0ddd-4846-8c06-ad658721926c"
            },
            "outputs": [
                {
                    "output_type": "display_data",
                    "data": {
                        "text/html": "(1 row affected)"
                    },
                    "metadata": {}
                },
                {
                    "output_type": "display_data",
                    "data": {
                        "text/html": "Total execution time: 00:00:00.009"
                    },
                    "metadata": {}
                },
                {
                    "output_type": "execute_result",
                    "execution_count": 24,
                    "data": {
                        "application/vnd.dataresource+json": {
                            "schema": {
                                "fields": [
                                    {
                                        "name": "ProductId"
                                    },
                                    {
                                        "name": "Product_Type"
                                    },
                                    {
                                        "name": "Product"
                                    },
                                    {
                                        "name": "Type"
                                    }
                                ]
                            },
                            "data": [
                                {
                                    "ProductId": "1",
                                    "Product_Type": "Tea",
                                    "Product": "Amaretto",
                                    "Type": "Regular"
                                }
                            ]
                        },
                        "text/html": "<table><tr><th>ProductId</th><th>Product_Type</th><th>Product</th><th>Type</th></tr><tr><td>1</td><td>Tea</td><td>Amaretto</td><td>Regular</td></tr></table>"
                    },
                    "metadata": {}
                }
            ],
            "execution_count": 24
        },
        {
            "cell_type": "code",
            "source": [
                "ROLLBACK TRANSACTION"
            ],
            "metadata": {
                "language": "sql",
                "azdata_cell_guid": "f168ada2-4a97-4a16-8fa7-d455676c38b4"
            },
            "outputs": [
                {
                    "output_type": "display_data",
                    "data": {
                        "text/html": "Commands completed successfully."
                    },
                    "metadata": {}
                },
                {
                    "output_type": "display_data",
                    "data": {
                        "text/html": "Total execution time: 00:00:00.017"
                    },
                    "metadata": {}
                }
            ],
            "execution_count": 25
        },
        {
            "cell_type": "code",
            "source": [
                "SELECT * FROM ProductTable WHERE ProductID = 1"
            ],
            "metadata": {
                "language": "sql",
                "azdata_cell_guid": "62f18c91-4540-47b8-bc2b-e46f79f7b1c7"
            },
            "outputs": [
                {
                    "output_type": "display_data",
                    "data": {
                        "text/html": "(1 row affected)"
                    },
                    "metadata": {}
                },
                {
                    "output_type": "display_data",
                    "data": {
                        "text/html": "Total execution time: 00:00:00.007"
                    },
                    "metadata": {}
                },
                {
                    "output_type": "execute_result",
                    "execution_count": 26,
                    "data": {
                        "application/vnd.dataresource+json": {
                            "schema": {
                                "fields": [
                                    {
                                        "name": "ProductId"
                                    },
                                    {
                                        "name": "Product_Type"
                                    },
                                    {
                                        "name": "Product"
                                    },
                                    {
                                        "name": "Type"
                                    }
                                ]
                            },
                            "data": [
                                {
                                    "ProductId": "1",
                                    "Product_Type": "Coffee",
                                    "Product": "Amaretto",
                                    "Type": "Regular"
                                }
                            ]
                        },
                        "text/html": "<table><tr><th>ProductId</th><th>Product_Type</th><th>Product</th><th>Type</th></tr><tr><td>1</td><td>Coffee</td><td>Amaretto</td><td>Regular</td></tr></table>"
                    },
                    "metadata": {}
                }
            ],
            "execution_count": 26
        },
        {
            "cell_type": "code",
            "source": [
                "-- 27. Display the date, product ID and sales where total expenses are between 100 to 200. \n",
                "\n",
                "SELECT Top 10 Date, ProductID, Sales, Total_Expenses\n",
                "FROM FactTable\n",
                "WHERE Total_Expenses BETWEEN 100 and 200\n",
                "\n",
                "-- Note : Number of rows are restricted to 10 because the application crashes/ Hangs\n",
                "-- Actual No of ROWS : 439"
            ],
            "metadata": {
                "language": "sql",
                "azdata_cell_guid": "9368c7c2-b0a4-46ee-bf38-e2597808f60c"
            },
            "outputs": [
                {
                    "output_type": "display_data",
                    "data": {
                        "text/html": "(10 rows affected)"
                    },
                    "metadata": {}
                },
                {
                    "output_type": "display_data",
                    "data": {
                        "text/html": "Total execution time: 00:00:00.007"
                    },
                    "metadata": {}
                },
                {
                    "output_type": "execute_result",
                    "execution_count": 40,
                    "data": {
                        "application/vnd.dataresource+json": {
                            "schema": {
                                "fields": [
                                    {
                                        "name": "Date"
                                    },
                                    {
                                        "name": "ProductID"
                                    },
                                    {
                                        "name": "Sales"
                                    },
                                    {
                                        "name": "Total_Expenses"
                                    }
                                ]
                            },
                            "data": [
                                {
                                    "Date": "2010-01-01",
                                    "ProductID": "5",
                                    "Sales": "546",
                                    "Total_Expenses": "109"
                                },
                                {
                                    "Date": "2010-01-01",
                                    "ProductID": "8",
                                    "Sales": "546",
                                    "Total_Expenses": "110"
                                },
                                {
                                    "Date": "2010-01-01",
                                    "ProductID": "12",
                                    "Sales": "546",
                                    "Total_Expenses": "126"
                                },
                                {
                                    "Date": "2010-01-01",
                                    "ProductID": "2",
                                    "Sales": "190",
                                    "Total_Expenses": "102"
                                },
                                {
                                    "Date": "2010-01-01",
                                    "ProductID": "5",
                                    "Sales": "190",
                                    "Total_Expenses": "102"
                                },
                                {
                                    "Date": "2010-01-01",
                                    "ProductID": "5",
                                    "Sales": "61",
                                    "Total_Expenses": "128"
                                },
                                {
                                    "Date": "2010-01-01",
                                    "ProductID": "2",
                                    "Sales": "678",
                                    "Total_Expenses": "145"
                                },
                                {
                                    "Date": "2010-01-01",
                                    "ProductID": "9",
                                    "Sales": "483",
                                    "Total_Expenses": "127"
                                },
                                {
                                    "Date": "2010-01-01",
                                    "ProductID": "9",
                                    "Sales": "190",
                                    "Total_Expenses": "101"
                                },
                                {
                                    "Date": "2010-01-01",
                                    "ProductID": "5",
                                    "Sales": "250",
                                    "Total_Expenses": "128"
                                }
                            ]
                        },
                        "text/html": "<table><tr><th>Date</th><th>ProductID</th><th>Sales</th><th>Total_Expenses</th></tr><tr><td>2010-01-01</td><td>5</td><td>546</td><td>109</td></tr><tr><td>2010-01-01</td><td>8</td><td>546</td><td>110</td></tr><tr><td>2010-01-01</td><td>12</td><td>546</td><td>126</td></tr><tr><td>2010-01-01</td><td>2</td><td>190</td><td>102</td></tr><tr><td>2010-01-01</td><td>5</td><td>190</td><td>102</td></tr><tr><td>2010-01-01</td><td>5</td><td>61</td><td>128</td></tr><tr><td>2010-01-01</td><td>2</td><td>678</td><td>145</td></tr><tr><td>2010-01-01</td><td>9</td><td>483</td><td>127</td></tr><tr><td>2010-01-01</td><td>9</td><td>190</td><td>101</td></tr><tr><td>2010-01-01</td><td>5</td><td>250</td><td>128</td></tr></table>"
                    },
                    "metadata": {}
                }
            ],
            "execution_count": 40
        },
        {
            "cell_type": "code",
            "source": [
                "-- 28. Delete the records in the Product Table for regular type. \n",
                "\n",
                "DELETE FROM ProductTable\n",
                "WHERE Product_Type = 'Regular'"
            ],
            "metadata": {
                "language": "sql",
                "azdata_cell_guid": "6c6e2e35-5f37-4ec9-b3ae-046fbc0e0780"
            },
            "outputs": [],
            "execution_count": null
        },
        {
            "cell_type": "code",
            "source": [
                "SELECT * FROM ProductTable WHERE Type = 'Regular'"
            ],
            "metadata": {
                "language": "sql",
                "azdata_cell_guid": "9487c2a3-2682-4a5e-baba-f224b47682ef"
            },
            "outputs": [
                {
                    "output_type": "display_data",
                    "data": {
                        "text/html": "(8 rows affected)"
                    },
                    "metadata": {}
                },
                {
                    "output_type": "display_data",
                    "data": {
                        "text/html": "Total execution time: 00:00:00.010"
                    },
                    "metadata": {}
                },
                {
                    "output_type": "execute_result",
                    "execution_count": 43,
                    "data": {
                        "application/vnd.dataresource+json": {
                            "schema": {
                                "fields": [
                                    {
                                        "name": "ProductId"
                                    },
                                    {
                                        "name": "Product_Type"
                                    },
                                    {
                                        "name": "Product"
                                    },
                                    {
                                        "name": "Type"
                                    }
                                ]
                            },
                            "data": [
                                {
                                    "ProductId": "1",
                                    "Product_Type": "Coffee",
                                    "Product": "Amaretto",
                                    "Type": "Regular"
                                },
                                {
                                    "ProductId": "2",
                                    "Product_Type": "Coffee",
                                    "Product": "Columbian",
                                    "Type": "Regular"
                                },
                                {
                                    "ProductId": "4",
                                    "Product_Type": "Espresso",
                                    "Product": "Caffe Latte",
                                    "Type": "Regular"
                                },
                                {
                                    "ProductId": "5",
                                    "Product_Type": "Espresso",
                                    "Product": "Caffe Mocha",
                                    "Type": "Regular"
                                },
                                {
                                    "ProductId": "7",
                                    "Product_Type": "Espresso",
                                    "Product": "Regular Espresso",
                                    "Type": "Regular"
                                },
                                {
                                    "ProductId": "11",
                                    "Product_Type": "Tea",
                                    "Product": "Darjeeling",
                                    "Type": "Regular"
                                },
                                {
                                    "ProductId": "12",
                                    "Product_Type": "Tea",
                                    "Product": "Earl Grey",
                                    "Type": "Regular"
                                },
                                {
                                    "ProductId": "13",
                                    "Product_Type": "Tea",
                                    "Product": "Green Tea",
                                    "Type": "Regular"
                                }
                            ]
                        },
                        "text/html": "<table><tr><th>ProductId</th><th>Product_Type</th><th>Product</th><th>Type</th></tr><tr><td>1</td><td>Coffee</td><td>Amaretto</td><td>Regular</td></tr><tr><td>2</td><td>Coffee</td><td>Columbian</td><td>Regular</td></tr><tr><td>4</td><td>Espresso</td><td>Caffe Latte</td><td>Regular</td></tr><tr><td>5</td><td>Espresso</td><td>Caffe Mocha</td><td>Regular</td></tr><tr><td>7</td><td>Espresso</td><td>Regular Espresso</td><td>Regular</td></tr><tr><td>11</td><td>Tea</td><td>Darjeeling</td><td>Regular</td></tr><tr><td>12</td><td>Tea</td><td>Earl Grey</td><td>Regular</td></tr><tr><td>13</td><td>Tea</td><td>Green Tea</td><td>Regular</td></tr></table>"
                    },
                    "metadata": {}
                }
            ],
            "execution_count": 43
        },
        {
            "cell_type": "code",
            "source": [
                "-- 29. Display the ASCII value of the fifth character from the columnProduct. \n",
                "\n",
                "-- Query for testing ASCII and Substring functions\n",
                "SELECT ASCII(SUBSTRING('Laxman Rathod', 5, 1)) AS SubstringResult;\n",
                "\n",
                "SELECT Product, SUBSTRING(Product, 5, 1) AS FifthCharacter, ASCII(SUBSTRING(Product, 5, 1)) AS ASCIIValue \n",
                "FROM Producttable\n",
                "\n",
                "\n",
                ""
            ],
            "metadata": {
                "language": "sql",
                "azdata_cell_guid": "c9746a4f-d6b9-49b7-89a1-c72603567e5e"
            },
            "outputs": [
                {
                    "output_type": "display_data",
                    "data": {
                        "text/html": "(1 row affected)"
                    },
                    "metadata": {}
                },
                {
                    "output_type": "display_data",
                    "data": {
                        "text/html": "(13 rows affected)"
                    },
                    "metadata": {}
                },
                {
                    "output_type": "display_data",
                    "data": {
                        "text/html": "Total execution time: 00:00:00.020"
                    },
                    "metadata": {}
                },
                {
                    "output_type": "execute_result",
                    "execution_count": 48,
                    "data": {
                        "application/vnd.dataresource+json": {
                            "schema": {
                                "fields": [
                                    {
                                        "name": "SubstringResult"
                                    }
                                ]
                            },
                            "data": [
                                {
                                    "SubstringResult": "97"
                                }
                            ]
                        },
                        "text/html": "<table><tr><th>SubstringResult</th></tr><tr><td>97</td></tr></table>"
                    },
                    "metadata": {}
                },
                {
                    "output_type": "execute_result",
                    "execution_count": 48,
                    "data": {
                        "application/vnd.dataresource+json": {
                            "schema": {
                                "fields": [
                                    {
                                        "name": "Product"
                                    },
                                    {
                                        "name": "FifthCharacter"
                                    },
                                    {
                                        "name": "ASCIIValue"
                                    }
                                ]
                            },
                            "data": [
                                {
                                    "Product": "Amaretto",
                                    "FifthCharacter": "e",
                                    "ASCIIValue": "101"
                                },
                                {
                                    "Product": "Columbian",
                                    "FifthCharacter": "m",
                                    "ASCIIValue": "109"
                                },
                                {
                                    "Product": "Decaf Irish Cream",
                                    "FifthCharacter": "f",
                                    "ASCIIValue": "102"
                                },
                                {
                                    "Product": "Caffe Latte",
                                    "FifthCharacter": "e",
                                    "ASCIIValue": "101"
                                },
                                {
                                    "Product": "Caffe Mocha",
                                    "FifthCharacter": "e",
                                    "ASCIIValue": "101"
                                },
                                {
                                    "Product": "Decaf Espresso",
                                    "FifthCharacter": "f",
                                    "ASCIIValue": "102"
                                },
                                {
                                    "Product": "Regular Espresso",
                                    "FifthCharacter": "l",
                                    "ASCIIValue": "108"
                                },
                                {
                                    "Product": "Chamomile",
                                    "FifthCharacter": "o",
                                    "ASCIIValue": "111"
                                },
                                {
                                    "Product": "Lemon",
                                    "FifthCharacter": "n",
                                    "ASCIIValue": "110"
                                },
                                {
                                    "Product": "Mint",
                                    "FifthCharacter": "",
                                    "ASCIIValue": "NULL"
                                },
                                {
                                    "Product": "Darjeeling",
                                    "FifthCharacter": "e",
                                    "ASCIIValue": "101"
                                },
                                {
                                    "Product": "Earl Grey",
                                    "FifthCharacter": " ",
                                    "ASCIIValue": "32"
                                },
                                {
                                    "Product": "Green Tea",
                                    "FifthCharacter": "n",
                                    "ASCIIValue": "110"
                                }
                            ]
                        },
                        "text/html": "<table><tr><th>Product</th><th>FifthCharacter</th><th>ASCIIValue</th></tr><tr><td>Amaretto</td><td>e</td><td>101</td></tr><tr><td>Columbian</td><td>m</td><td>109</td></tr><tr><td>Decaf Irish Cream</td><td>f</td><td>102</td></tr><tr><td>Caffe Latte</td><td>e</td><td>101</td></tr><tr><td>Caffe Mocha</td><td>e</td><td>101</td></tr><tr><td>Decaf Espresso</td><td>f</td><td>102</td></tr><tr><td>Regular Espresso</td><td>l</td><td>108</td></tr><tr><td>Chamomile</td><td>o</td><td>111</td></tr><tr><td>Lemon</td><td>n</td><td>110</td></tr><tr><td>Mint</td><td></td><td>NULL</td></tr><tr><td>Darjeeling</td><td>e</td><td>101</td></tr><tr><td>Earl Grey</td><td> </td><td>32</td></tr><tr><td>Green Tea</td><td>n</td><td>110</td></tr></table>"
                    },
                    "metadata": {}
                }
            ],
            "execution_count": 48
        }
    ]
}