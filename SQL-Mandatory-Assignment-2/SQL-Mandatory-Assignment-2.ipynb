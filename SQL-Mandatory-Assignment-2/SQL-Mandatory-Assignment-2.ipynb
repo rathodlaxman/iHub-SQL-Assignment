{
    "metadata": {
        "kernelspec": {
            "name": "SQL",
            "display_name": "SQL",
            "language": "sql"
        },
        "language_info": {
            "name": "sql",
            "version": ""
        }
    },
    "nbformat_minor": 2,
    "nbformat": 4,
    "cells": [
        {
            "cell_type": "markdown",
            "source": [
                "# **`SQL Mandatory Assignment 2`**"
            ],
            "metadata": {
                "azdata_cell_guid": "6f1287ec-fa69-48f6-b8b3-7ddba6d8db22"
            },
            "attachments": {}
        },
        {
            "cell_type": "markdown",
            "source": [
                "**Course**  :  <span style=\"color: rgb(0, 0, 0); font-family: &quot;Helvetica Neue&quot;; font-size: 13px;\">Executive Post Graduate Certification in Data Science &amp; Artificial Intelligence (iHub DIvya Sampark&nbsp;</span>    <span style=\"color: rgb(0, 0, 0); font-family: &quot;Helvetica Neue&quot;; font-size: 13px;\">IIT Roorkee and Intellipat</span><span style=\"color: rgb(0, 0, 0); font-family: &quot;Helvetica Neue&quot;; font-size: 13px;\">)</span>\n",
                "\n",
                "**Batch** : 240206\n",
                "\n",
                "**Course Start Date** :  Jul 2024\n",
                "\n",
                "**Registered email** : [luckyrathod.forum@gmail.com](mailto:luckyrathod.forum@gmail.com)\n",
                "\n",
                "**Submitted By** : Major Laxman Rathod"
            ],
            "metadata": {
                "azdata_cell_guid": "5dabdf8a-fd4a-42ce-86d7-b340057df71f"
            },
            "attachments": {}
        },
        {
            "cell_type": "markdown",
            "source": [
                "<hr>"
            ],
            "metadata": {
                "azdata_cell_guid": "26f7d837-fa72-4278-9b1c-93684dcd4e2c"
            },
            "attachments": {}
        },
        {
            "cell_type": "markdown",
            "source": [
                "**Dataset:** Jomato \n",
                "\n",
                "  \n",
                "\n",
                "**About the dataset:** \n",
                "\n",
                "- You work for a data analytics company, and your client is a food delivery platform similar to Jomato. They have provided you with a dataset containing information about various restaurants in a city. Your task is to analyze this dataset using SQL queries to extract valuable insights and generate reports for your client. \n",
                "\n",
                "**Tasks to be performed:** \n",
                "\n",
                "1. Create a user-defined functions to stuff the Chicken into ‘Quick Bites’. Eg: ‘Quick Chicken Bites’.\n",
                "2. Use the function to display the restaurant name and cuisine type which has the maximum number of rating.\n",
                "3. Create a Rating Status column to display the rating as ‘Excellent’ if it has more the 4 start rating, ‘Good’ if it has above 3.5 and below 5 star rating, ‘Average’ if it is above 3 and below 3.5 and ‘Bad’ if it is below 3 star rating.\n",
                "4. Find the Ceil, floor and absolute values of the rating column and display the current date and separately display the year, month\\_name and day.\n",
                "5. Display the restaurant type and total average cost using rollup."
            ],
            "metadata": {
                "language": "sql",
                "azdata_cell_guid": "1fd62091-5f61-4db6-a45a-099c0525d845"
            },
            "attachments": {}
        },
        {
            "cell_type": "markdown",
            "source": [
                "<hr>"
            ],
            "metadata": {
                "azdata_cell_guid": "872e7fd8-8fa5-4bd3-9820-bc20bd47a0bb"
            },
            "attachments": {}
        },
        {
            "cell_type": "code",
            "source": [
                "USE Assignment"
            ],
            "metadata": {
                "azdata_cell_guid": "7a1b090a-9ab7-4dd9-9231-545e2fc73383",
                "language": "sql"
            },
            "outputs": [
                {
                    "output_type": "display_data",
                    "data": {
                        "text/html": "Commands completed successfully."
                    },
                    "metadata": {}
                },
                {
                    "output_type": "display_data",
                    "data": {
                        "text/html": "Total execution time: 00:00:00.001"
                    },
                    "metadata": {}
                }
            ],
            "execution_count": 1
        },
        {
            "cell_type": "code",
            "source": [
                "SELECT TOP 10 * FROM Jomato"
            ],
            "metadata": {
                "language": "sql",
                "azdata_cell_guid": "73bc12ed-bc91-4bb0-9dad-3e782a5e4634"
            },
            "outputs": [
                {
                    "output_type": "display_data",
                    "data": {
                        "text/html": "(10 rows affected)"
                    },
                    "metadata": {}
                },
                {
                    "output_type": "display_data",
                    "data": {
                        "text/html": "Total execution time: 00:00:00.047"
                    },
                    "metadata": {}
                },
                {
                    "output_type": "execute_result",
                    "execution_count": 3,
                    "data": {
                        "application/vnd.dataresource+json": {
                            "schema": {
                                "fields": [
                                    {
                                        "name": "OrderId"
                                    },
                                    {
                                        "name": "RestaurantName"
                                    },
                                    {
                                        "name": "RestaurantType"
                                    },
                                    {
                                        "name": "Rating"
                                    },
                                    {
                                        "name": "NoofRating"
                                    },
                                    {
                                        "name": "AverageCost"
                                    },
                                    {
                                        "name": "OnlineOrder"
                                    },
                                    {
                                        "name": "TableBooking"
                                    },
                                    {
                                        "name": "CuisinesType"
                                    },
                                    {
                                        "name": "Area"
                                    },
                                    {
                                        "name": "LocalAddress"
                                    },
                                    {
                                        "name": "Delivery time"
                                    }
                                ]
                            },
                            "data": [
                                {
                                    "OrderId": "1",
                                    "RestaurantName": "L-81 Cafe",
                                    "RestaurantType": "Quick Bites",
                                    "Rating": "3.9",
                                    "NoofRating": "48",
                                    "AverageCost": "400",
                                    "OnlineOrder": "Yes",
                                    "TableBooking": "No",
                                    "CuisinesType": "Fast Food, Beverages",
                                    "Area": "Byresandra,Tavarekere,Madiwala",
                                    "LocalAddress": "HSR",
                                    "Delivery time": "59"
                                },
                                {
                                    "OrderId": "2",
                                    "RestaurantName": "refuel",
                                    "RestaurantType": "Cafe",
                                    "Rating": "3.7",
                                    "NoofRating": "37",
                                    "AverageCost": "400",
                                    "OnlineOrder": "Yes",
                                    "TableBooking": "No",
                                    "CuisinesType": "Cafe, Beverages",
                                    "Area": "Bannerghatta Road",
                                    "LocalAddress": "Bannerghatta Road",
                                    "Delivery time": "56"
                                },
                                {
                                    "OrderId": "3",
                                    "RestaurantName": "Biryani Central",
                                    "RestaurantType": "Casual Dining",
                                    "Rating": "2.7",
                                    "NoofRating": "135",
                                    "AverageCost": "550",
                                    "OnlineOrder": "Yes",
                                    "TableBooking": "No",
                                    "CuisinesType": "Biryani, Mughlai, Chinese",
                                    "Area": "Marathahalli",
                                    "LocalAddress": "Marathahalli",
                                    "Delivery time": "50"
                                },
                                {
                                    "OrderId": "4",
                                    "RestaurantName": "The Bbq",
                                    "RestaurantType": "Casual Dining",
                                    "Rating": "2.8",
                                    "NoofRating": "40",
                                    "AverageCost": "700",
                                    "OnlineOrder": "Yes",
                                    "TableBooking": "No",
                                    "CuisinesType": "BBQ, Continental, North Indian, Chinese, Beverages",
                                    "Area": "Bellandur",
                                    "LocalAddress": "Bellandur",
                                    "Delivery time": "57"
                                },
                                {
                                    "OrderId": "5",
                                    "RestaurantName": "The Bbq",
                                    "RestaurantType": "Takeaway, Delivery",
                                    "Rating": "3.4",
                                    "NoofRating": "37",
                                    "AverageCost": "200",
                                    "OnlineOrder": "No",
                                    "TableBooking": "No",
                                    "CuisinesType": "Mughlai, Biryani, Chinese, North Indian",
                                    "Area": "Whitefield",
                                    "LocalAddress": "Whitefield",
                                    "Delivery time": "63"
                                },
                                {
                                    "OrderId": "6",
                                    "RestaurantName": "Italy",
                                    "RestaurantType": "Casual Dining",
                                    "Rating": "4.1",
                                    "NoofRating": "305",
                                    "AverageCost": "700",
                                    "OnlineOrder": "Yes",
                                    "TableBooking": "No",
                                    "CuisinesType": "Italian",
                                    "Area": "Banashankari",
                                    "LocalAddress": "Kumaraswamy Layout",
                                    "Delivery time": "56"
                                },
                                {
                                    "OrderId": "7",
                                    "RestaurantName": "North Parontha Hut",
                                    "RestaurantType": "Takeaway, Delivery",
                                    "Rating": "2.8",
                                    "NoofRating": "40",
                                    "AverageCost": "300",
                                    "OnlineOrder": "No",
                                    "TableBooking": "No",
                                    "CuisinesType": "North Indian",
                                    "Area": "Indiranagar",
                                    "LocalAddress": "Old Airport Road",
                                    "Delivery time": "53"
                                },
                                {
                                    "OrderId": "8",
                                    "RestaurantName": "1000 B.C",
                                    "RestaurantType": "Quick Bites",
                                    "Rating": "3.2",
                                    "NoofRating": "49",
                                    "AverageCost": "300",
                                    "OnlineOrder": "Yes",
                                    "TableBooking": "No",
                                    "CuisinesType": "Arabian, Sandwich, Rolls, Burger",
                                    "Area": "Byresandra,Tavarekere,Madiwala",
                                    "LocalAddress": "Koramangala 5th Block",
                                    "Delivery time": "57"
                                },
                                {
                                    "OrderId": "9",
                                    "RestaurantName": "1Q1",
                                    "RestaurantType": "Casual Dining",
                                    "Rating": "3.7",
                                    "NoofRating": "41",
                                    "AverageCost": "450",
                                    "OnlineOrder": "No",
                                    "TableBooking": "No",
                                    "CuisinesType": "Biryani, North Indian",
                                    "Area": "Byresandra,Tavarekere,Madiwala",
                                    "LocalAddress": "BTM",
                                    "Delivery time": "57"
                                },
                                {
                                    "OrderId": "10",
                                    "RestaurantName": "11 to 11 Express Biriyanis",
                                    "RestaurantType": "Quick Bites",
                                    "Rating": "3.5",
                                    "NoofRating": "22",
                                    "AverageCost": "300",
                                    "OnlineOrder": "Yes",
                                    "TableBooking": "No",
                                    "CuisinesType": "Biryani, Kebab",
                                    "Area": "Electronic City",
                                    "LocalAddress": "Electronic City",
                                    "Delivery time": "57"
                                }
                            ]
                        },
                        "text/html": "<table><tr><th>OrderId</th><th>RestaurantName</th><th>RestaurantType</th><th>Rating</th><th>NoofRating</th><th>AverageCost</th><th>OnlineOrder</th><th>TableBooking</th><th>CuisinesType</th><th>Area</th><th>LocalAddress</th><th>Delivery time</th></tr><tr><td>1</td><td>L-81 Cafe</td><td>Quick Bites</td><td>3.9</td><td>48</td><td>400</td><td>Yes</td><td>No</td><td>Fast Food, Beverages</td><td>Byresandra,Tavarekere,Madiwala</td><td>HSR</td><td>59</td></tr><tr><td>2</td><td>refuel</td><td>Cafe</td><td>3.7</td><td>37</td><td>400</td><td>Yes</td><td>No</td><td>Cafe, Beverages</td><td>Bannerghatta Road</td><td>Bannerghatta Road</td><td>56</td></tr><tr><td>3</td><td>Biryani Central</td><td>Casual Dining</td><td>2.7</td><td>135</td><td>550</td><td>Yes</td><td>No</td><td>Biryani, Mughlai, Chinese</td><td>Marathahalli</td><td>Marathahalli</td><td>50</td></tr><tr><td>4</td><td>The Bbq</td><td>Casual Dining</td><td>2.8</td><td>40</td><td>700</td><td>Yes</td><td>No</td><td>BBQ, Continental, North Indian, Chinese, Beverages</td><td>Bellandur</td><td>Bellandur</td><td>57</td></tr><tr><td>5</td><td>The Bbq</td><td>Takeaway, Delivery</td><td>3.4</td><td>37</td><td>200</td><td>No</td><td>No</td><td>Mughlai, Biryani, Chinese, North Indian</td><td>Whitefield</td><td>Whitefield</td><td>63</td></tr><tr><td>6</td><td>Italy</td><td>Casual Dining</td><td>4.1</td><td>305</td><td>700</td><td>Yes</td><td>No</td><td>Italian</td><td>Banashankari</td><td>Kumaraswamy Layout</td><td>56</td></tr><tr><td>7</td><td>North Parontha Hut</td><td>Takeaway, Delivery</td><td>2.8</td><td>40</td><td>300</td><td>No</td><td>No</td><td>North Indian</td><td>Indiranagar</td><td>Old Airport Road</td><td>53</td></tr><tr><td>8</td><td>1000 B.C</td><td>Quick Bites</td><td>3.2</td><td>49</td><td>300</td><td>Yes</td><td>No</td><td>Arabian, Sandwich, Rolls, Burger</td><td>Byresandra,Tavarekere,Madiwala</td><td>Koramangala 5th Block</td><td>57</td></tr><tr><td>9</td><td>1Q1</td><td>Casual Dining</td><td>3.7</td><td>41</td><td>450</td><td>No</td><td>No</td><td>Biryani, North Indian</td><td>Byresandra,Tavarekere,Madiwala</td><td>BTM</td><td>57</td></tr><tr><td>10</td><td>11 to 11 Express Biriyanis</td><td>Quick Bites</td><td>3.5</td><td>22</td><td>300</td><td>Yes</td><td>No</td><td>Biryani, Kebab</td><td>Electronic City</td><td>Electronic City</td><td>57</td></tr></table>"
                    },
                    "metadata": {}
                }
            ],
            "execution_count": 3
        },
        {
            "cell_type": "markdown",
            "source": [
                "**1. <span style=\"color: rgb(0, 0, 0); font-family: &quot;Helvetica Neue&quot;; font-size: 13px;\">Create a user-defined functions to stuff the Chicken into ‘Quick Bites’. Eg: ‘Quick Chicken Bites’.</span>**"
            ],
            "metadata": {
                "language": "sql",
                "azdata_cell_guid": "439e3a20-e628-4b22-9dbb-63c18213f938"
            },
            "attachments": {}
        },
        {
            "cell_type": "code",
            "source": [
                "CREATE FUNCTION StuffChickenIntoQuickBites(@RestaurantType VARCHAR(29))\n",
                "RETURNS VARCHAR(29)\n",
                "AS\n",
                "BEGIN\n",
                "    DECLARE @Result VARCHAR(29);\n",
                "\n",
                "    IF @RestaurantType = 'Quick Bites'\n",
                "       SET @Result = 'Quick Chicken Bites';\n",
                "    ELSE\n",
                "       SET @Result = @RestaurantType;\n",
                "\n",
                "    RETURN @Result;\n",
                "END;"
            ],
            "metadata": {
                "azdata_cell_guid": "9b9505cb-d351-4f88-9781-44fb87d6e874",
                "language": "sql"
            },
            "outputs": [
                {
                    "output_type": "error",
                    "ename": "",
                    "evalue": "Msg 2714, Level 16, State 3, Procedure StuffChickenIntoQuickBites, Line 1\nThere is already an object named 'StuffChickenIntoQuickBites' in the database.",
                    "traceback": []
                },
                {
                    "output_type": "display_data",
                    "data": {
                        "text/html": "Total execution time: 00:00:00.056"
                    },
                    "metadata": {}
                }
            ],
            "execution_count": 4
        },
        {
            "cell_type": "code",
            "source": [
                "SELECT dbo.StuffChickenIntoQuickBites('Quick Bites') AS Result;"
            ],
            "metadata": {
                "language": "sql",
                "azdata_cell_guid": "df0c9d58-6523-4e42-9a56-d4314551df03"
            },
            "outputs": [
                {
                    "output_type": "display_data",
                    "data": {
                        "text/html": "(1 row affected)"
                    },
                    "metadata": {}
                },
                {
                    "output_type": "display_data",
                    "data": {
                        "text/html": "Total execution time: 00:00:00.019"
                    },
                    "metadata": {}
                },
                {
                    "output_type": "execute_result",
                    "execution_count": 5,
                    "data": {
                        "application/vnd.dataresource+json": {
                            "schema": {
                                "fields": [
                                    {
                                        "name": "Result"
                                    }
                                ]
                            },
                            "data": [
                                {
                                    "Result": "Quick Chicken Bites"
                                }
                            ]
                        },
                        "text/html": "<table><tr><th>Result</th></tr><tr><td>Quick Chicken Bites</td></tr></table>"
                    },
                    "metadata": {}
                }
            ],
            "execution_count": 5
        },
        {
            "cell_type": "markdown",
            "source": [
                "**2\\. Use the function to display the restaurant name and cuisine type which has the maximum number of rating.**"
            ],
            "metadata": {
                "language": "sql",
                "azdata_cell_guid": "b6ca2f92-437c-426e-ab29-41043d0233a1"
            },
            "attachments": {}
        },
        {
            "cell_type": "code",
            "source": [
                "-- Displaying restaurant name and cuisine type with the maximum number of ratings\n",
                "SELECT RestaurantName, CuisinesType\n",
                "FROM Jomato\n",
                "WHERE NoofRating = (SELECT MAX(NoofRating) FROM Jomato);\n",
                ""
            ],
            "metadata": {
                "language": "sql",
                "azdata_cell_guid": "6c329dad-743c-40d1-a72c-07c666998e7c"
            },
            "outputs": [
                {
                    "output_type": "display_data",
                    "data": {
                        "text/html": "(1 row affected)"
                    },
                    "metadata": {}
                },
                {
                    "output_type": "display_data",
                    "data": {
                        "text/html": "Total execution time: 00:00:00.029"
                    },
                    "metadata": {}
                },
                {
                    "output_type": "execute_result",
                    "execution_count": 6,
                    "data": {
                        "application/vnd.dataresource+json": {
                            "schema": {
                                "fields": [
                                    {
                                        "name": "RestaurantName"
                                    },
                                    {
                                        "name": "CuisinesType"
                                    }
                                ]
                            },
                            "data": [
                                {
                                    "RestaurantName": "Byg Brewski Brewing Company",
                                    "CuisinesType": "Continental, North Indian, Italian, South Indian, Finger Food"
                                }
                            ]
                        },
                        "text/html": "<table><tr><th>RestaurantName</th><th>CuisinesType</th></tr><tr><td>Byg Brewski Brewing Company</td><td>Continental, North Indian, Italian, South Indian, Finger Food</td></tr></table>"
                    },
                    "metadata": {}
                }
            ],
            "execution_count": 6
        },
        {
            "cell_type": "markdown",
            "source": [
                "**3. <span style=\"color: rgb(0, 0, 0); font-family: &quot;Helvetica Neue&quot;; font-size: 13px;\">Create a Rating Status column to display the rating as ‘Excellent’ if it has more the 4 start rating, ‘Good’ if it has above 3.5 and below 5 star rating, ‘Average’ if it is above 3 and below 3.5 and ‘Bad’ if it is below 3 star rating.</span>**"
            ],
            "metadata": {
                "language": "sql",
                "azdata_cell_guid": "a00553ff-06b1-48aa-a767-7a9a167dcc01"
            },
            "attachments": {}
        },
        {
            "cell_type": "code",
            "source": [
                "-- Creating a Rating Status column\n",
                "SELECT TOP 10 *,\n",
                "    CASE\n",
                "        WHEN Rating > 4 THEN 'Excellent'\n",
                "        WHEN Rating > 3.5 AND Rating <= 4 THEN 'Good'\n",
                "        WHEN Rating > 3 AND Rating <= 3.5 THEN 'Average'\n",
                "        ELSE 'Bad'\n",
                "    END AS RatingStatus\n",
                "FROM Jomato;\n",
                "\n",
                "-- Note : The total number of rows in output is 7104 but I have dispalyed only TOP 10 to avoid hanging of the application"
            ],
            "metadata": {
                "language": "sql",
                "azdata_cell_guid": "99c1b963-6af9-48c5-9211-a92f5ed5e15d"
            },
            "outputs": [
                {
                    "output_type": "display_data",
                    "data": {
                        "text/html": "(10 rows affected)"
                    },
                    "metadata": {}
                },
                {
                    "output_type": "display_data",
                    "data": {
                        "text/html": "Total execution time: 00:00:00.009"
                    },
                    "metadata": {}
                },
                {
                    "output_type": "execute_result",
                    "execution_count": 7,
                    "data": {
                        "application/vnd.dataresource+json": {
                            "schema": {
                                "fields": [
                                    {
                                        "name": "OrderId"
                                    },
                                    {
                                        "name": "RestaurantName"
                                    },
                                    {
                                        "name": "RestaurantType"
                                    },
                                    {
                                        "name": "Rating"
                                    },
                                    {
                                        "name": "NoofRating"
                                    },
                                    {
                                        "name": "AverageCost"
                                    },
                                    {
                                        "name": "OnlineOrder"
                                    },
                                    {
                                        "name": "TableBooking"
                                    },
                                    {
                                        "name": "CuisinesType"
                                    },
                                    {
                                        "name": "Area"
                                    },
                                    {
                                        "name": "LocalAddress"
                                    },
                                    {
                                        "name": "Delivery time"
                                    },
                                    {
                                        "name": "RatingStatus"
                                    }
                                ]
                            },
                            "data": [
                                {
                                    "OrderId": "1",
                                    "RestaurantName": "L-81 Cafe",
                                    "RestaurantType": "Quick Bites",
                                    "Rating": "3.9",
                                    "NoofRating": "48",
                                    "AverageCost": "400",
                                    "OnlineOrder": "Yes",
                                    "TableBooking": "No",
                                    "CuisinesType": "Fast Food, Beverages",
                                    "Area": "Byresandra,Tavarekere,Madiwala",
                                    "LocalAddress": "HSR",
                                    "Delivery time": "59",
                                    "RatingStatus": "Good"
                                },
                                {
                                    "OrderId": "2",
                                    "RestaurantName": "refuel",
                                    "RestaurantType": "Cafe",
                                    "Rating": "3.7",
                                    "NoofRating": "37",
                                    "AverageCost": "400",
                                    "OnlineOrder": "Yes",
                                    "TableBooking": "No",
                                    "CuisinesType": "Cafe, Beverages",
                                    "Area": "Bannerghatta Road",
                                    "LocalAddress": "Bannerghatta Road",
                                    "Delivery time": "56",
                                    "RatingStatus": "Good"
                                },
                                {
                                    "OrderId": "3",
                                    "RestaurantName": "Biryani Central",
                                    "RestaurantType": "Casual Dining",
                                    "Rating": "2.7",
                                    "NoofRating": "135",
                                    "AverageCost": "550",
                                    "OnlineOrder": "Yes",
                                    "TableBooking": "No",
                                    "CuisinesType": "Biryani, Mughlai, Chinese",
                                    "Area": "Marathahalli",
                                    "LocalAddress": "Marathahalli",
                                    "Delivery time": "50",
                                    "RatingStatus": "Bad"
                                },
                                {
                                    "OrderId": "4",
                                    "RestaurantName": "The Bbq",
                                    "RestaurantType": "Casual Dining",
                                    "Rating": "2.8",
                                    "NoofRating": "40",
                                    "AverageCost": "700",
                                    "OnlineOrder": "Yes",
                                    "TableBooking": "No",
                                    "CuisinesType": "BBQ, Continental, North Indian, Chinese, Beverages",
                                    "Area": "Bellandur",
                                    "LocalAddress": "Bellandur",
                                    "Delivery time": "57",
                                    "RatingStatus": "Bad"
                                },
                                {
                                    "OrderId": "5",
                                    "RestaurantName": "The Bbq",
                                    "RestaurantType": "Takeaway, Delivery",
                                    "Rating": "3.4",
                                    "NoofRating": "37",
                                    "AverageCost": "200",
                                    "OnlineOrder": "No",
                                    "TableBooking": "No",
                                    "CuisinesType": "Mughlai, Biryani, Chinese, North Indian",
                                    "Area": "Whitefield",
                                    "LocalAddress": "Whitefield",
                                    "Delivery time": "63",
                                    "RatingStatus": "Average"
                                },
                                {
                                    "OrderId": "6",
                                    "RestaurantName": "Italy",
                                    "RestaurantType": "Casual Dining",
                                    "Rating": "4.1",
                                    "NoofRating": "305",
                                    "AverageCost": "700",
                                    "OnlineOrder": "Yes",
                                    "TableBooking": "No",
                                    "CuisinesType": "Italian",
                                    "Area": "Banashankari",
                                    "LocalAddress": "Kumaraswamy Layout",
                                    "Delivery time": "56",
                                    "RatingStatus": "Excellent"
                                },
                                {
                                    "OrderId": "7",
                                    "RestaurantName": "North Parontha Hut",
                                    "RestaurantType": "Takeaway, Delivery",
                                    "Rating": "2.8",
                                    "NoofRating": "40",
                                    "AverageCost": "300",
                                    "OnlineOrder": "No",
                                    "TableBooking": "No",
                                    "CuisinesType": "North Indian",
                                    "Area": "Indiranagar",
                                    "LocalAddress": "Old Airport Road",
                                    "Delivery time": "53",
                                    "RatingStatus": "Bad"
                                },
                                {
                                    "OrderId": "8",
                                    "RestaurantName": "1000 B.C",
                                    "RestaurantType": "Quick Bites",
                                    "Rating": "3.2",
                                    "NoofRating": "49",
                                    "AverageCost": "300",
                                    "OnlineOrder": "Yes",
                                    "TableBooking": "No",
                                    "CuisinesType": "Arabian, Sandwich, Rolls, Burger",
                                    "Area": "Byresandra,Tavarekere,Madiwala",
                                    "LocalAddress": "Koramangala 5th Block",
                                    "Delivery time": "57",
                                    "RatingStatus": "Average"
                                },
                                {
                                    "OrderId": "9",
                                    "RestaurantName": "1Q1",
                                    "RestaurantType": "Casual Dining",
                                    "Rating": "3.7",
                                    "NoofRating": "41",
                                    "AverageCost": "450",
                                    "OnlineOrder": "No",
                                    "TableBooking": "No",
                                    "CuisinesType": "Biryani, North Indian",
                                    "Area": "Byresandra,Tavarekere,Madiwala",
                                    "LocalAddress": "BTM",
                                    "Delivery time": "57",
                                    "RatingStatus": "Good"
                                },
                                {
                                    "OrderId": "10",
                                    "RestaurantName": "11 to 11 Express Biriyanis",
                                    "RestaurantType": "Quick Bites",
                                    "Rating": "3.5",
                                    "NoofRating": "22",
                                    "AverageCost": "300",
                                    "OnlineOrder": "Yes",
                                    "TableBooking": "No",
                                    "CuisinesType": "Biryani, Kebab",
                                    "Area": "Electronic City",
                                    "LocalAddress": "Electronic City",
                                    "Delivery time": "57",
                                    "RatingStatus": "Average"
                                }
                            ]
                        },
                        "text/html": "<table><tr><th>OrderId</th><th>RestaurantName</th><th>RestaurantType</th><th>Rating</th><th>NoofRating</th><th>AverageCost</th><th>OnlineOrder</th><th>TableBooking</th><th>CuisinesType</th><th>Area</th><th>LocalAddress</th><th>Delivery time</th><th>RatingStatus</th></tr><tr><td>1</td><td>L-81 Cafe</td><td>Quick Bites</td><td>3.9</td><td>48</td><td>400</td><td>Yes</td><td>No</td><td>Fast Food, Beverages</td><td>Byresandra,Tavarekere,Madiwala</td><td>HSR</td><td>59</td><td>Good</td></tr><tr><td>2</td><td>refuel</td><td>Cafe</td><td>3.7</td><td>37</td><td>400</td><td>Yes</td><td>No</td><td>Cafe, Beverages</td><td>Bannerghatta Road</td><td>Bannerghatta Road</td><td>56</td><td>Good</td></tr><tr><td>3</td><td>Biryani Central</td><td>Casual Dining</td><td>2.7</td><td>135</td><td>550</td><td>Yes</td><td>No</td><td>Biryani, Mughlai, Chinese</td><td>Marathahalli</td><td>Marathahalli</td><td>50</td><td>Bad</td></tr><tr><td>4</td><td>The Bbq</td><td>Casual Dining</td><td>2.8</td><td>40</td><td>700</td><td>Yes</td><td>No</td><td>BBQ, Continental, North Indian, Chinese, Beverages</td><td>Bellandur</td><td>Bellandur</td><td>57</td><td>Bad</td></tr><tr><td>5</td><td>The Bbq</td><td>Takeaway, Delivery</td><td>3.4</td><td>37</td><td>200</td><td>No</td><td>No</td><td>Mughlai, Biryani, Chinese, North Indian</td><td>Whitefield</td><td>Whitefield</td><td>63</td><td>Average</td></tr><tr><td>6</td><td>Italy</td><td>Casual Dining</td><td>4.1</td><td>305</td><td>700</td><td>Yes</td><td>No</td><td>Italian</td><td>Banashankari</td><td>Kumaraswamy Layout</td><td>56</td><td>Excellent</td></tr><tr><td>7</td><td>North Parontha Hut</td><td>Takeaway, Delivery</td><td>2.8</td><td>40</td><td>300</td><td>No</td><td>No</td><td>North Indian</td><td>Indiranagar</td><td>Old Airport Road</td><td>53</td><td>Bad</td></tr><tr><td>8</td><td>1000 B.C</td><td>Quick Bites</td><td>3.2</td><td>49</td><td>300</td><td>Yes</td><td>No</td><td>Arabian, Sandwich, Rolls, Burger</td><td>Byresandra,Tavarekere,Madiwala</td><td>Koramangala 5th Block</td><td>57</td><td>Average</td></tr><tr><td>9</td><td>1Q1</td><td>Casual Dining</td><td>3.7</td><td>41</td><td>450</td><td>No</td><td>No</td><td>Biryani, North Indian</td><td>Byresandra,Tavarekere,Madiwala</td><td>BTM</td><td>57</td><td>Good</td></tr><tr><td>10</td><td>11 to 11 Express Biriyanis</td><td>Quick Bites</td><td>3.5</td><td>22</td><td>300</td><td>Yes</td><td>No</td><td>Biryani, Kebab</td><td>Electronic City</td><td>Electronic City</td><td>57</td><td>Average</td></tr></table>"
                    },
                    "metadata": {}
                }
            ],
            "execution_count": 7
        },
        {
            "cell_type": "markdown",
            "source": [
                "**4\\. Find the Ceil, floor and absolute values of the rating column and display the current date and separately display the year, month\\_name and day.**"
            ],
            "metadata": {
                "language": "sql",
                "azdata_cell_guid": "772cf097-c983-447a-b990-2966dc5adff8"
            },
            "attachments": {}
        },
        {
            "cell_type": "code",
            "source": [
                "SELECT TOP 10 CEILING(Rating), FLOOR(Rating), ABS(Rating),\n",
                "       GETDATE() AS CurrentDate, YEAR(GETDATE()) AS Year, MONTH(GETDATE()) AS MonthName, DAY(GETDATE()) AS Day\n",
                "FROM Jomato;\n",
                "\n",
                "-- Note : The total number of rows in output is 7104 but I have dispalyed only TOP 10 to avoid hanging of the application"
            ],
            "metadata": {
                "language": "sql",
                "azdata_cell_guid": "70da9b1f-ec1a-48ff-afe2-a2dbe647162e"
            },
            "outputs": [
                {
                    "output_type": "display_data",
                    "data": {
                        "text/html": "(10 rows affected)"
                    },
                    "metadata": {}
                },
                {
                    "output_type": "display_data",
                    "data": {
                        "text/html": "Total execution time: 00:00:00.008"
                    },
                    "metadata": {}
                },
                {
                    "output_type": "execute_result",
                    "metadata": {},
                    "execution_count": 2,
                    "data": {
                        "application/vnd.dataresource+json": {
                            "schema": {
                                "fields": [
                                    {
                                        "name": "(No column name)"
                                    },
                                    {
                                        "name": "(No column name)"
                                    },
                                    {
                                        "name": "(No column name)"
                                    },
                                    {
                                        "name": "CurrentDate"
                                    },
                                    {
                                        "name": "Year"
                                    },
                                    {
                                        "name": "MonthName"
                                    },
                                    {
                                        "name": "Day"
                                    }
                                ]
                            },
                            "data": [
                                {
                                    "(No column name)": "3.9",
                                    "CurrentDate": "2024-07-10 14:32:14.650",
                                    "Year": "2024",
                                    "MonthName": "7",
                                    "Day": "10"
                                },
                                {
                                    "(No column name)": "3.7",
                                    "CurrentDate": "2024-07-10 14:32:14.650",
                                    "Year": "2024",
                                    "MonthName": "7",
                                    "Day": "10"
                                },
                                {
                                    "(No column name)": "2.7",
                                    "CurrentDate": "2024-07-10 14:32:14.650",
                                    "Year": "2024",
                                    "MonthName": "7",
                                    "Day": "10"
                                },
                                {
                                    "(No column name)": "2.8",
                                    "CurrentDate": "2024-07-10 14:32:14.650",
                                    "Year": "2024",
                                    "MonthName": "7",
                                    "Day": "10"
                                },
                                {
                                    "(No column name)": "3.4",
                                    "CurrentDate": "2024-07-10 14:32:14.650",
                                    "Year": "2024",
                                    "MonthName": "7",
                                    "Day": "10"
                                },
                                {
                                    "(No column name)": "4.1",
                                    "CurrentDate": "2024-07-10 14:32:14.650",
                                    "Year": "2024",
                                    "MonthName": "7",
                                    "Day": "10"
                                },
                                {
                                    "(No column name)": "2.8",
                                    "CurrentDate": "2024-07-10 14:32:14.650",
                                    "Year": "2024",
                                    "MonthName": "7",
                                    "Day": "10"
                                },
                                {
                                    "(No column name)": "3.2",
                                    "CurrentDate": "2024-07-10 14:32:14.650",
                                    "Year": "2024",
                                    "MonthName": "7",
                                    "Day": "10"
                                },
                                {
                                    "(No column name)": "3.7",
                                    "CurrentDate": "2024-07-10 14:32:14.650",
                                    "Year": "2024",
                                    "MonthName": "7",
                                    "Day": "10"
                                },
                                {
                                    "(No column name)": "3.5",
                                    "CurrentDate": "2024-07-10 14:32:14.650",
                                    "Year": "2024",
                                    "MonthName": "7",
                                    "Day": "10"
                                }
                            ]
                        },
                        "text/html": [
                            "<table>",
                            "<tr><th>(No column name)</th><th>(No column name)</th><th>(No column name)</th><th>CurrentDate</th><th>Year</th><th>MonthName</th><th>Day</th></tr>",
                            "<tr><td>4</td><td>3</td><td>3.9</td><td>2024-07-10 14:32:14.650</td><td>2024</td><td>7</td><td>10</td></tr>",
                            "<tr><td>4</td><td>3</td><td>3.7</td><td>2024-07-10 14:32:14.650</td><td>2024</td><td>7</td><td>10</td></tr>",
                            "<tr><td>3</td><td>2</td><td>2.7</td><td>2024-07-10 14:32:14.650</td><td>2024</td><td>7</td><td>10</td></tr>",
                            "<tr><td>3</td><td>2</td><td>2.8</td><td>2024-07-10 14:32:14.650</td><td>2024</td><td>7</td><td>10</td></tr>",
                            "<tr><td>4</td><td>3</td><td>3.4</td><td>2024-07-10 14:32:14.650</td><td>2024</td><td>7</td><td>10</td></tr>",
                            "<tr><td>5</td><td>4</td><td>4.1</td><td>2024-07-10 14:32:14.650</td><td>2024</td><td>7</td><td>10</td></tr>",
                            "<tr><td>3</td><td>2</td><td>2.8</td><td>2024-07-10 14:32:14.650</td><td>2024</td><td>7</td><td>10</td></tr>",
                            "<tr><td>4</td><td>3</td><td>3.2</td><td>2024-07-10 14:32:14.650</td><td>2024</td><td>7</td><td>10</td></tr>",
                            "<tr><td>4</td><td>3</td><td>3.7</td><td>2024-07-10 14:32:14.650</td><td>2024</td><td>7</td><td>10</td></tr>",
                            "<tr><td>4</td><td>3</td><td>3.5</td><td>2024-07-10 14:32:14.650</td><td>2024</td><td>7</td><td>10</td></tr>",
                            "</table>"
                        ]
                    }
                }
            ],
            "execution_count": 2
        },
        {
            "cell_type": "markdown",
            "source": [
                "**5. <span style=\"color: rgb(0, 0, 0); font-family: &quot;Helvetica Neue&quot;; font-size: 13px;\">Display the restaurant type and total average cost using rollup.</span>**"
            ],
            "metadata": {
                "language": "sql",
                "azdata_cell_guid": "2bc79d82-0efb-4c5c-8010-d8add7d9f1fc"
            },
            "attachments": {}
        },
        {
            "cell_type": "code",
            "source": [
                "-- Displaying restaurant type and total average cost using ROLLUP\n",
                "SELECT COALESCE(RestaurantType, 'Total') AS RestaurantType,\n",
                "    SUM(AverageCost) AS TotalAverageCost\n",
                "FROM Jomato\n",
                "GROUP BY ROLLUP (RestaurantType);\n",
                ""
            ],
            "metadata": {
                "language": "sql",
                "azdata_cell_guid": "987caf32-d5f4-435b-bbec-1f8222c6749e"
            },
            "outputs": [
                {
                    "output_type": "display_data",
                    "data": {
                        "text/html": "Warning: Null value is eliminated by an aggregate or other SET operation."
                    },
                    "metadata": {}
                },
                {
                    "output_type": "display_data",
                    "data": {
                        "text/html": "(82 rows affected)"
                    },
                    "metadata": {}
                },
                {
                    "output_type": "display_data",
                    "data": {
                        "text/html": "Total execution time: 00:00:00.023"
                    },
                    "metadata": {}
                },
                {
                    "output_type": "execute_result",
                    "execution_count": 9,
                    "data": {
                        "application/vnd.dataresource+json": {
                            "schema": {
                                "fields": [
                                    {
                                        "name": "RestaurantType"
                                    },
                                    {
                                        "name": "TotalAverageCost"
                                    }
                                ]
                            },
                            "data": [
                                {
                                    "RestaurantType": "Bakery",
                                    "TotalAverageCost": "53770"
                                },
                                {
                                    "RestaurantType": "Bakery, Beverage Shop",
                                    "TotalAverageCost": "250"
                                },
                                {
                                    "RestaurantType": "Bakery, Cafe",
                                    "TotalAverageCost": "4100"
                                },
                                {
                                    "RestaurantType": "Bakery, Dessert Parlor",
                                    "TotalAverageCost": "5200"
                                },
                                {
                                    "RestaurantType": "Bakery, Quick Bites",
                                    "TotalAverageCost": "6300"
                                },
                                {
                                    "RestaurantType": "Bar",
                                    "TotalAverageCost": "104400"
                                },
                                {
                                    "RestaurantType": "Bar, Casual Dining",
                                    "TotalAverageCost": "71750"
                                },
                                {
                                    "RestaurantType": "Bar, Lounge",
                                    "TotalAverageCost": "4900"
                                },
                                {
                                    "RestaurantType": "Bar, Pub",
                                    "TotalAverageCost": "850"
                                },
                                {
                                    "RestaurantType": "Beverage Shop",
                                    "TotalAverageCost": "24350"
                                },
                                {
                                    "RestaurantType": "Beverage Shop, Cafe",
                                    "TotalAverageCost": "500"
                                },
                                {
                                    "RestaurantType": "Beverage Shop, Dessert Parlor",
                                    "TotalAverageCost": "2050"
                                },
                                {
                                    "RestaurantType": "Beverage Shop, Quick Bites",
                                    "TotalAverageCost": "6700"
                                },
                                {
                                    "RestaurantType": "Bhojanalya",
                                    "TotalAverageCost": "300"
                                },
                                {
                                    "RestaurantType": "Cafe",
                                    "TotalAverageCost": "234150"
                                },
                                {
                                    "RestaurantType": "Cafe, Bakery",
                                    "TotalAverageCost": "6500"
                                },
                                {
                                    "RestaurantType": "Cafe, Bar",
                                    "TotalAverageCost": "1200"
                                },
                                {
                                    "RestaurantType": "Cafe, Casual Dining",
                                    "TotalAverageCost": "15500"
                                },
                                {
                                    "RestaurantType": "Cafe, Dessert Parlor",
                                    "TotalAverageCost": "10200"
                                },
                                {
                                    "RestaurantType": "Cafe, Lounge",
                                    "TotalAverageCost": "1000"
                                },
                                {
                                    "RestaurantType": "Cafe, Quick Bites",
                                    "TotalAverageCost": "4950"
                                },
                                {
                                    "RestaurantType": "Casual Dining",
                                    "TotalAverageCost": "1220950"
                                },
                                {
                                    "RestaurantType": "Casual Dining, Bar",
                                    "TotalAverageCost": "138650"
                                },
                                {
                                    "RestaurantType": "Casual Dining, Cafe",
                                    "TotalAverageCost": "26500"
                                },
                                {
                                    "RestaurantType": "Casual Dining, Irani Cafee",
                                    "TotalAverageCost": "1300"
                                },
                                {
                                    "RestaurantType": "Casual Dining, Lounge",
                                    "TotalAverageCost": "3700"
                                },
                                {
                                    "RestaurantType": "Casual Dining, Microbrewery",
                                    "TotalAverageCost": "7200"
                                },
                                {
                                    "RestaurantType": "Casual Dining, Pub",
                                    "TotalAverageCost": "15300"
                                },
                                {
                                    "RestaurantType": "Casual Dining, Quick Bites",
                                    "TotalAverageCost": "300"
                                },
                                {
                                    "RestaurantType": "Casual Dining, Sweet Shop",
                                    "TotalAverageCost": "400"
                                },
                                {
                                    "RestaurantType": "Club",
                                    "TotalAverageCost": "9700"
                                },
                                {
                                    "RestaurantType": "Club, Casual Dining",
                                    "TotalAverageCost": "2400"
                                },
                                {
                                    "RestaurantType": "Confectionery",
                                    "TotalAverageCost": "1300"
                                },
                                {
                                    "RestaurantType": "Delivery",
                                    "TotalAverageCost": "148850"
                                },
                                {
                                    "RestaurantType": "Dessert Parlor",
                                    "TotalAverageCost": "67460"
                                },
                                {
                                    "RestaurantType": "Dessert Parlor, Bakery",
                                    "TotalAverageCost": "2500"
                                },
                                {
                                    "RestaurantType": "Dessert Parlor, Beverage Shop",
                                    "TotalAverageCost": "1900"
                                },
                                {
                                    "RestaurantType": "Dessert Parlor, Cafe",
                                    "TotalAverageCost": "1900"
                                },
                                {
                                    "RestaurantType": "Dessert Parlor, Food Court",
                                    "TotalAverageCost": "100"
                                },
                                {
                                    "RestaurantType": "Dessert Parlor, Quick Bites",
                                    "TotalAverageCost": "6550"
                                },
                                {
                                    "RestaurantType": "Dessert Parlor, Sweet Shop",
                                    "TotalAverageCost": "650"
                                },
                                {
                                    "RestaurantType": "Dhaba",
                                    "TotalAverageCost": "2250"
                                },
                                {
                                    "RestaurantType": "Fine Dining",
                                    "TotalAverageCost": "220000"
                                },
                                {
                                    "RestaurantType": "Fine Dining, Bar",
                                    "TotalAverageCost": "22900"
                                },
                                {
                                    "RestaurantType": "Fine Dining, Lounge",
                                    "TotalAverageCost": "3000"
                                },
                                {
                                    "RestaurantType": "Fine Dining, Microbrewery",
                                    "TotalAverageCost": "3000"
                                },
                                {
                                    "RestaurantType": "Food Court",
                                    "TotalAverageCost": "34330"
                                },
                                {
                                    "RestaurantType": "Food Court, Beverage Shop",
                                    "TotalAverageCost": "200"
                                },
                                {
                                    "RestaurantType": "Food Court, Casual Dining",
                                    "TotalAverageCost": "1100"
                                },
                                {
                                    "RestaurantType": "Food Court, Dessert Parlor",
                                    "TotalAverageCost": "250"
                                },
                                {
                                    "RestaurantType": "Food Court, Quick Bites",
                                    "TotalAverageCost": "4400"
                                },
                                {
                                    "RestaurantType": "Food Truck",
                                    "TotalAverageCost": "5550"
                                },
                                {
                                    "RestaurantType": "Kiosk",
                                    "TotalAverageCost": "9400"
                                },
                                {
                                    "RestaurantType": "Lounge",
                                    "TotalAverageCost": "102750"
                                },
                                {
                                    "RestaurantType": "Lounge, Bar",
                                    "TotalAverageCost": "9300"
                                },
                                {
                                    "RestaurantType": "Lounge, Cafe",
                                    "TotalAverageCost": "1600"
                                },
                                {
                                    "RestaurantType": "Lounge, Casual Dining",
                                    "TotalAverageCost": "11200"
                                },
                                {
                                    "RestaurantType": "Lounge, Microbrewery",
                                    "TotalAverageCost": "2000"
                                },
                                {
                                    "RestaurantType": "Mess",
                                    "TotalAverageCost": "12000"
                                },
                                {
                                    "RestaurantType": "Microbrewery",
                                    "TotalAverageCost": "9600"
                                },
                                {
                                    "RestaurantType": "Microbrewery, Bar",
                                    "TotalAverageCost": "1200"
                                },
                                {
                                    "RestaurantType": "Microbrewery, Casual Dining",
                                    "TotalAverageCost": "26800"
                                },
                                {
                                    "RestaurantType": "Microbrewery, Lounge",
                                    "TotalAverageCost": "1700"
                                },
                                {
                                    "RestaurantType": "Microbrewery, Pub",
                                    "TotalAverageCost": "13800"
                                },
                                {
                                    "RestaurantType": "Pub",
                                    "TotalAverageCost": "41150"
                                },
                                {
                                    "RestaurantType": "Pub, Bar",
                                    "TotalAverageCost": "2100"
                                },
                                {
                                    "RestaurantType": "Pub, Casual Dining",
                                    "TotalAverageCost": "32200"
                                },
                                {
                                    "RestaurantType": "Pub, Microbrewery",
                                    "TotalAverageCost": "10600"
                                },
                                {
                                    "RestaurantType": "Quick Bites",
                                    "TotalAverageCost": "860740"
                                },
                                {
                                    "RestaurantType": "Quick Bites, Bakery",
                                    "TotalAverageCost": "1450"
                                },
                                {
                                    "RestaurantType": "Quick Bites, Beverage Shop",
                                    "TotalAverageCost": "3450"
                                },
                                {
                                    "RestaurantType": "Quick Bites, Cafe",
                                    "TotalAverageCost": "1650"
                                },
                                {
                                    "RestaurantType": "Quick Bites, Dessert Parlor",
                                    "TotalAverageCost": "2550"
                                },
                                {
                                    "RestaurantType": "Quick Bites, Food Court",
                                    "TotalAverageCost": "200"
                                },
                                {
                                    "RestaurantType": "Quick Bites, Meat Shop",
                                    "TotalAverageCost": "350"
                                },
                                {
                                    "RestaurantType": "Quick Bites, Mess",
                                    "TotalAverageCost": "400"
                                },
                                {
                                    "RestaurantType": "Quick Bites, Sweet Shop",
                                    "TotalAverageCost": "2300"
                                },
                                {
                                    "RestaurantType": "Sweet Shop",
                                    "TotalAverageCost": "10550"
                                },
                                {
                                    "RestaurantType": "Sweet Shop, Quick Bites",
                                    "TotalAverageCost": "6600"
                                },
                                {
                                    "RestaurantType": "Takeaway",
                                    "TotalAverageCost": "4650"
                                },
                                {
                                    "RestaurantType": "Takeaway, Delivery",
                                    "TotalAverageCost": "111939"
                                },
                                {
                                    "RestaurantType": "Total",
                                    "TotalAverageCost": "3807739"
                                }
                            ]
                        },
                        "text/html": "<table><tr><th>RestaurantType</th><th>TotalAverageCost</th></tr><tr><td>Bakery</td><td>53770</td></tr><tr><td>Bakery, Beverage Shop</td><td>250</td></tr><tr><td>Bakery, Cafe</td><td>4100</td></tr><tr><td>Bakery, Dessert Parlor</td><td>5200</td></tr><tr><td>Bakery, Quick Bites</td><td>6300</td></tr><tr><td>Bar</td><td>104400</td></tr><tr><td>Bar, Casual Dining</td><td>71750</td></tr><tr><td>Bar, Lounge</td><td>4900</td></tr><tr><td>Bar, Pub</td><td>850</td></tr><tr><td>Beverage Shop</td><td>24350</td></tr><tr><td>Beverage Shop, Cafe</td><td>500</td></tr><tr><td>Beverage Shop, Dessert Parlor</td><td>2050</td></tr><tr><td>Beverage Shop, Quick Bites</td><td>6700</td></tr><tr><td>Bhojanalya</td><td>300</td></tr><tr><td>Cafe</td><td>234150</td></tr><tr><td>Cafe, Bakery</td><td>6500</td></tr><tr><td>Cafe, Bar</td><td>1200</td></tr><tr><td>Cafe, Casual Dining</td><td>15500</td></tr><tr><td>Cafe, Dessert Parlor</td><td>10200</td></tr><tr><td>Cafe, Lounge</td><td>1000</td></tr><tr><td>Cafe, Quick Bites</td><td>4950</td></tr><tr><td>Casual Dining</td><td>1220950</td></tr><tr><td>Casual Dining, Bar</td><td>138650</td></tr><tr><td>Casual Dining, Cafe</td><td>26500</td></tr><tr><td>Casual Dining, Irani Cafee</td><td>1300</td></tr><tr><td>Casual Dining, Lounge</td><td>3700</td></tr><tr><td>Casual Dining, Microbrewery</td><td>7200</td></tr><tr><td>Casual Dining, Pub</td><td>15300</td></tr><tr><td>Casual Dining, Quick Bites</td><td>300</td></tr><tr><td>Casual Dining, Sweet Shop</td><td>400</td></tr><tr><td>Club</td><td>9700</td></tr><tr><td>Club, Casual Dining</td><td>2400</td></tr><tr><td>Confectionery</td><td>1300</td></tr><tr><td>Delivery</td><td>148850</td></tr><tr><td>Dessert Parlor</td><td>67460</td></tr><tr><td>Dessert Parlor, Bakery</td><td>2500</td></tr><tr><td>Dessert Parlor, Beverage Shop</td><td>1900</td></tr><tr><td>Dessert Parlor, Cafe</td><td>1900</td></tr><tr><td>Dessert Parlor, Food Court</td><td>100</td></tr><tr><td>Dessert Parlor, Quick Bites</td><td>6550</td></tr><tr><td>Dessert Parlor, Sweet Shop</td><td>650</td></tr><tr><td>Dhaba</td><td>2250</td></tr><tr><td>Fine Dining</td><td>220000</td></tr><tr><td>Fine Dining, Bar</td><td>22900</td></tr><tr><td>Fine Dining, Lounge</td><td>3000</td></tr><tr><td>Fine Dining, Microbrewery</td><td>3000</td></tr><tr><td>Food Court</td><td>34330</td></tr><tr><td>Food Court, Beverage Shop</td><td>200</td></tr><tr><td>Food Court, Casual Dining</td><td>1100</td></tr><tr><td>Food Court, Dessert Parlor</td><td>250</td></tr><tr><td>Food Court, Quick Bites</td><td>4400</td></tr><tr><td>Food Truck</td><td>5550</td></tr><tr><td>Kiosk</td><td>9400</td></tr><tr><td>Lounge</td><td>102750</td></tr><tr><td>Lounge, Bar</td><td>9300</td></tr><tr><td>Lounge, Cafe</td><td>1600</td></tr><tr><td>Lounge, Casual Dining</td><td>11200</td></tr><tr><td>Lounge, Microbrewery</td><td>2000</td></tr><tr><td>Mess</td><td>12000</td></tr><tr><td>Microbrewery</td><td>9600</td></tr><tr><td>Microbrewery, Bar</td><td>1200</td></tr><tr><td>Microbrewery, Casual Dining</td><td>26800</td></tr><tr><td>Microbrewery, Lounge</td><td>1700</td></tr><tr><td>Microbrewery, Pub</td><td>13800</td></tr><tr><td>Pub</td><td>41150</td></tr><tr><td>Pub, Bar</td><td>2100</td></tr><tr><td>Pub, Casual Dining</td><td>32200</td></tr><tr><td>Pub, Microbrewery</td><td>10600</td></tr><tr><td>Quick Bites</td><td>860740</td></tr><tr><td>Quick Bites, Bakery</td><td>1450</td></tr><tr><td>Quick Bites, Beverage Shop</td><td>3450</td></tr><tr><td>Quick Bites, Cafe</td><td>1650</td></tr><tr><td>Quick Bites, Dessert Parlor</td><td>2550</td></tr><tr><td>Quick Bites, Food Court</td><td>200</td></tr><tr><td>Quick Bites, Meat Shop</td><td>350</td></tr><tr><td>Quick Bites, Mess</td><td>400</td></tr><tr><td>Quick Bites, Sweet Shop</td><td>2300</td></tr><tr><td>Sweet Shop</td><td>10550</td></tr><tr><td>Sweet Shop, Quick Bites</td><td>6600</td></tr><tr><td>Takeaway</td><td>4650</td></tr><tr><td>Takeaway, Delivery</td><td>111939</td></tr><tr><td>Total</td><td>3807739</td></tr></table>"
                    },
                    "metadata": {}
                }
            ],
            "execution_count": 9
        }
    ]
}