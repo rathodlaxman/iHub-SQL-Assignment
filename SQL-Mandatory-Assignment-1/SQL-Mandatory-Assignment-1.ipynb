{
    "metadata": {
        "kernelspec": {
            "name": "SQL",
            "display_name": "SQL",
            "language": "sql"
        },
        "language_info": {
            "name": "sql",
            "version": ""
        }
    },
    "nbformat_minor": 2,
    "nbformat": 4,
    "cells": [
        {
            "cell_type": "markdown",
            "source": [
                "# **`SQL Mandatory Assignment 1`**"
            ],
            "metadata": {
                "azdata_cell_guid": "1bcb7546-cb0f-45f0-9309-fcf86a17447f"
            },
            "attachments": {}
        },
        {
            "cell_type": "markdown",
            "source": [
                "**Course**  :  <span style=\"color:rgb(0, 0, 0);font-family:&quot;Helvetica Neue&quot;;font-size:13px;\">Executive Post Graduate Certification in Data Science &amp; Artificial Intelligence (iHub DIvya Sampark&nbsp;</span>  <span style=\"color:rgb(0, 0, 0);font-family:&quot;Helvetica Neue&quot;;font-size:13px;\">IIT Roorkee and Intellipat</span><span style=\"color:rgb(0, 0, 0);font-family:&quot;Helvetica Neue&quot;;font-size:13px;\">)</span>\n",
                "\n",
                "**Batch** : 240206\n",
                "\n",
                "**Course Start Date** :  Jul 2024\n",
                "\n",
                "**Registered email** : [luckyrathod.forum@gmail.com](mailto:luckyrathod.forum@gmail.com)\n",
                "\n",
                "**Name** : Laxman Rathod"
            ],
            "metadata": {
                "azdata_cell_guid": "4fdf7eeb-0b0e-4198-824a-75675ba9f21d"
            },
            "attachments": {}
        },
        {
            "cell_type": "markdown",
            "source": [
                "<hr>"
            ],
            "metadata": {
                "azdata_cell_guid": "27a81c00-636c-4189-b187-40449a99fe97"
            },
            "attachments": {}
        },
        {
            "cell_type": "markdown",
            "source": [
                "### <span style=\"font-size: 11.000000pt; font-family: 'Arial'; font-weight: 700\">Problem Statement:</span>\n",
                "\n",
                "<span style=\"font-size: 11.000000pt; font-family: 'ArialMT'\">ABC Fashion is a leading retailer with a vast customer base and a team of dedicated sales representatives. They have a Sales Order Processing System that helps manage customer orders and interactions.&nbsp;</span>  \n",
                "\n",
                "### <span style=\"font-size: 11.000000pt; font-family: 'Arial'; font-weight: 700\">Dataset:</span>\n",
                "\n",
                "<span style=\"font-size: 11.000000pt; font-family: 'ArialMT'\">Find the below information and the script for the table creation and record insertion.</span>\n",
                "\n",
                "<span style=\"font-family: -apple-system, BlinkMacSystemFont, sans-serif; color: var(--vscode-foreground);\">https://docs.google.com/document/d/1ngN7Q0Mpo8j5BXidNHGRHmgbMSuG5XcFYnp_gD3woLA/edit</span>  \n",
                "\n",
                "<span style=\"font-family: -apple-system, BlinkMacSystemFont, sans-serif; color: var(--vscode-foreground);\"><br></span>\n",
                "\n",
                "### <span style=\"font-family: Arial; font-size: 11pt; font-weight: 700; color: var(--vscode-foreground);\">Tasks to be Performed:</span>\n",
                "\n",
                "1. <span style=\"font-size: 11pt;\">Insert a new record in your Orders table.</span>\n",
                "    \n",
                "2. <span style=\"font-size: 11pt;\">Add Primary key constraint for SalesmanId column in Salesman table. Add default</span>\n",
                "    \n",
                "    <span style=\"font-size: 11pt;\">constraint for City column in Salesman table. Add Foreign key constraint for SalesmanId column in Customer table. Add not null constraint in Customer_name column for the Customer table.</span>\n",
                "    \n",
                "3. <span style=\"font-size: 11pt;\">Fetch the data where the Customer’s name is ending with ‘N’ also get the purchase amount value greater than 500.</span>\n",
                "    \n",
                "4. <span style=\"font-size: 11pt;\">Using SET operators, retrieve the first result with unique SalesmanId values from two tables, and the other result containing SalesmanId with duplicates from two tables.</span>\n",
                "    \n",
                "5. <span style=\"font-size: 11pt;\">Display the below columns which has the matching data.<br></span><span style=\"font-size: 11.000000pt; font-family: 'Arial'; font-weight: 700\">Orderdate, Salesman Name, Customer Name, Commission, and City </span> <span style=\"font-size: 11pt;\">which has the range of Purchase Amount between 500 to 1500.</span>\n",
                "    \n",
                "6. <span style=\"font-size: 11pt;\">Using right join fetch all the results from Salesman and Orders table&nbsp;</span>"
            ],
            "metadata": {
                "azdata_cell_guid": "6c427068-e0aa-4d16-af73-a0ebacc6863c"
            },
            "attachments": {}
        },
        {
            "cell_type": "markdown",
            "source": [
                "<hr>"
            ],
            "metadata": {
                "azdata_cell_guid": "35542c75-1bc2-45fe-a355-c1543e93b514"
            },
            "attachments": {}
        },
        {
            "cell_type": "code",
            "source": [
                "CREATE DATABASE Assignment"
            ],
            "metadata": {
                "azdata_cell_guid": "f92fd5cd-8bc4-4a24-a710-bd736592e4af",
                "language": "sql"
            },
            "outputs": [
                {
                    "output_type": "display_data",
                    "data": {
                        "text/html": "Commands completed successfully."
                    },
                    "metadata": {}
                },
                {
                    "output_type": "display_data",
                    "data": {
                        "text/html": "Total execution time: 00:00:00.514"
                    },
                    "metadata": {}
                }
            ],
            "execution_count": 1
        },
        {
            "cell_type": "code",
            "source": [
                "USE Assignment"
            ],
            "metadata": {
                "language": "sql",
                "azdata_cell_guid": "c8994baf-892b-49d4-bd09-544a80d40b36"
            },
            "outputs": [
                {
                    "output_type": "display_data",
                    "data": {
                        "text/html": "Commands completed successfully."
                    },
                    "metadata": {}
                },
                {
                    "output_type": "display_data",
                    "data": {
                        "text/html": "Total execution time: 00:00:00.006"
                    },
                    "metadata": {}
                }
            ],
            "execution_count": 2
        },
        {
            "cell_type": "code",
            "source": [
                "-- Salesman table creation\n",
                "\n",
                "CREATE TABLE Salesman (\n",
                "    SalesmanId INT,\n",
                "    Name VARCHAR(255),\n",
                "    Commission DECIMAL(10, 2),\n",
                "    City VARCHAR(255),\n",
                "    Age INT\n",
                ");\n",
                ""
            ],
            "metadata": {
                "language": "sql",
                "azdata_cell_guid": "930020ae-daea-457b-9fdf-93b7e5841233"
            },
            "outputs": [
                {
                    "output_type": "display_data",
                    "data": {
                        "text/html": "Commands completed successfully."
                    },
                    "metadata": {}
                },
                {
                    "output_type": "display_data",
                    "data": {
                        "text/html": "Total execution time: 00:00:00.008"
                    },
                    "metadata": {}
                }
            ],
            "execution_count": 31
        },
        {
            "cell_type": "code",
            "source": [
                "-- Salesman table record insertion \n",
                "\n",
                "INSERT INTO Salesman (SalesmanId, Name, Commission, City, Age)\n",
                "VALUES\n",
                "    (101, 'Joe', 50, 'California', 17),\n",
                "    (102, 'Simon', 75, 'Texas', 25),\n",
                "    (103, 'Jessie', 105, 'Florida', 35),\n",
                "    (104, 'Danny', 100, 'Texas', 22),\n",
                "    (105, 'Lia', 65, 'New Jersey', 30);\n",
                ""
            ],
            "metadata": {
                "azdata_cell_guid": "f94ce352-b017-4d8c-af04-f392f6d52792",
                "language": "sql"
            },
            "outputs": [
                {
                    "output_type": "display_data",
                    "data": {
                        "text/html": "(5 rows affected)"
                    },
                    "metadata": {}
                },
                {
                    "output_type": "display_data",
                    "data": {
                        "text/html": "Total execution time: 00:00:00.011"
                    },
                    "metadata": {}
                }
            ],
            "execution_count": 32
        },
        {
            "cell_type": "code",
            "source": [
                "SELECT * FROM Salesman"
            ],
            "metadata": {
                "language": "sql",
                "azdata_cell_guid": "1d19042b-97c1-4354-8ce6-dc684521f0a8"
            },
            "outputs": [
                {
                    "output_type": "display_data",
                    "data": {
                        "text/html": "(5 rows affected)"
                    },
                    "metadata": {}
                },
                {
                    "output_type": "display_data",
                    "data": {
                        "text/html": "Total execution time: 00:00:00.053"
                    },
                    "metadata": {}
                },
                {
                    "output_type": "execute_result",
                    "execution_count": 6,
                    "data": {
                        "application/vnd.dataresource+json": {
                            "schema": {
                                "fields": [
                                    {
                                        "name": "SalesmanId"
                                    },
                                    {
                                        "name": "Name"
                                    },
                                    {
                                        "name": "Commission"
                                    },
                                    {
                                        "name": "City"
                                    },
                                    {
                                        "name": "Age"
                                    }
                                ]
                            },
                            "data": [
                                {
                                    "SalesmanId": "101",
                                    "Name": "Joe",
                                    "Commission": "50.00",
                                    "City": "California",
                                    "Age": "17"
                                },
                                {
                                    "SalesmanId": "102",
                                    "Name": "Simon",
                                    "Commission": "75.00",
                                    "City": "Texas",
                                    "Age": "25"
                                },
                                {
                                    "SalesmanId": "103",
                                    "Name": "Jessie",
                                    "Commission": "105.00",
                                    "City": "Florida",
                                    "Age": "35"
                                },
                                {
                                    "SalesmanId": "104",
                                    "Name": "Danny",
                                    "Commission": "100.00",
                                    "City": "Texas",
                                    "Age": "22"
                                },
                                {
                                    "SalesmanId": "105",
                                    "Name": "Lia",
                                    "Commission": "65.00",
                                    "City": "New Jersey",
                                    "Age": "30"
                                }
                            ]
                        },
                        "text/html": "<table><tr><th>SalesmanId</th><th>Name</th><th>Commission</th><th>City</th><th>Age</th></tr><tr><td>101</td><td>Joe</td><td>50.00</td><td>California</td><td>17</td></tr><tr><td>102</td><td>Simon</td><td>75.00</td><td>Texas</td><td>25</td></tr><tr><td>103</td><td>Jessie</td><td>105.00</td><td>Florida</td><td>35</td></tr><tr><td>104</td><td>Danny</td><td>100.00</td><td>Texas</td><td>22</td></tr><tr><td>105</td><td>Lia</td><td>65.00</td><td>New Jersey</td><td>30</td></tr></table>"
                    },
                    "metadata": {}
                }
            ],
            "execution_count": 6
        },
        {
            "cell_type": "code",
            "source": [
                "-- Customer table creation\n",
                "\n",
                "CREATE TABLE Customer (\n",
                "    SalesmanId INT,\n",
                "    CustomerId INT,\n",
                "    CustomerName VARCHAR(255),\n",
                "    PurchaseAmount INT,\n",
                "    );\n",
                ""
            ],
            "metadata": {
                "language": "sql",
                "azdata_cell_guid": "8a4af653-8c8b-46d9-bdf8-65a8cb03bcb5"
            },
            "outputs": [
                {
                    "output_type": "display_data",
                    "data": {
                        "text/html": "Commands completed successfully."
                    },
                    "metadata": {}
                },
                {
                    "output_type": "display_data",
                    "data": {
                        "text/html": "Total execution time: 00:00:00.031"
                    },
                    "metadata": {}
                }
            ],
            "execution_count": 7
        },
        {
            "cell_type": "code",
            "source": [
                "-- Customer table record insertion \n",
                "\n",
                "INSERT INTO Customer (SalesmanId, CustomerId, CustomerName, PurchaseAmount)\n",
                "VALUES\n",
                "    (101, 2345, 'Andrew', 550),\n",
                "    (103, 1575, 'Lucky', 4500),\n",
                "    (104, 2345, 'Andrew', 4000),\n",
                "    (107, 3747, 'Remona', 2700),\n",
                "    (110, 4004, 'Julia', 4545);\n",
                ""
            ],
            "metadata": {
                "language": "sql",
                "azdata_cell_guid": "3cb7e0a4-5f97-497f-842b-6a4b286d1e85"
            },
            "outputs": [
                {
                    "output_type": "display_data",
                    "data": {
                        "text/html": "(5 rows affected)"
                    },
                    "metadata": {}
                },
                {
                    "output_type": "display_data",
                    "data": {
                        "text/html": "Total execution time: 00:00:00.021"
                    },
                    "metadata": {}
                }
            ],
            "execution_count": 8
        },
        {
            "cell_type": "code",
            "source": [
                "SELECT * FROM Customer"
            ],
            "metadata": {
                "language": "sql",
                "azdata_cell_guid": "ce3f8169-32c8-4745-b8e0-11ccaed101b8"
            },
            "outputs": [
                {
                    "output_type": "display_data",
                    "data": {
                        "text/html": "(5 rows affected)"
                    },
                    "metadata": {}
                },
                {
                    "output_type": "display_data",
                    "data": {
                        "text/html": "Total execution time: 00:00:00.008"
                    },
                    "metadata": {}
                },
                {
                    "output_type": "execute_result",
                    "execution_count": 9,
                    "data": {
                        "application/vnd.dataresource+json": {
                            "schema": {
                                "fields": [
                                    {
                                        "name": "SalesmanId"
                                    },
                                    {
                                        "name": "CustomerId"
                                    },
                                    {
                                        "name": "CustomerName"
                                    },
                                    {
                                        "name": "PurchaseAmount"
                                    }
                                ]
                            },
                            "data": [
                                {
                                    "SalesmanId": "101",
                                    "CustomerId": "2345",
                                    "CustomerName": "Andrew",
                                    "PurchaseAmount": "550"
                                },
                                {
                                    "SalesmanId": "103",
                                    "CustomerId": "1575",
                                    "CustomerName": "Lucky",
                                    "PurchaseAmount": "4500"
                                },
                                {
                                    "SalesmanId": "104",
                                    "CustomerId": "2345",
                                    "CustomerName": "Andrew",
                                    "PurchaseAmount": "4000"
                                },
                                {
                                    "SalesmanId": "107",
                                    "CustomerId": "3747",
                                    "CustomerName": "Remona",
                                    "PurchaseAmount": "2700"
                                },
                                {
                                    "SalesmanId": "110",
                                    "CustomerId": "4004",
                                    "CustomerName": "Julia",
                                    "PurchaseAmount": "4545"
                                }
                            ]
                        },
                        "text/html": "<table><tr><th>SalesmanId</th><th>CustomerId</th><th>CustomerName</th><th>PurchaseAmount</th></tr><tr><td>101</td><td>2345</td><td>Andrew</td><td>550</td></tr><tr><td>103</td><td>1575</td><td>Lucky</td><td>4500</td></tr><tr><td>104</td><td>2345</td><td>Andrew</td><td>4000</td></tr><tr><td>107</td><td>3747</td><td>Remona</td><td>2700</td></tr><tr><td>110</td><td>4004</td><td>Julia</td><td>4545</td></tr></table>"
                    },
                    "metadata": {}
                }
            ],
            "execution_count": 9
        },
        {
            "cell_type": "code",
            "source": [
                "-- Orders table Creation\n",
                "\n",
                "CREATE TABLE Orders (OrderId int, CustomerId int, SalesmanId int, Orderdate Date, Amount money)\n",
                ""
            ],
            "metadata": {
                "language": "sql",
                "azdata_cell_guid": "1d28dbdf-dc09-4a32-96cb-fa31c7991a2f"
            },
            "outputs": [
                {
                    "output_type": "display_data",
                    "data": {
                        "text/html": "Commands completed successfully."
                    },
                    "metadata": {}
                },
                {
                    "output_type": "display_data",
                    "data": {
                        "text/html": "Total execution time: 00:00:00.018"
                    },
                    "metadata": {}
                }
            ],
            "execution_count": 10
        },
        {
            "cell_type": "code",
            "source": [
                "-- Orders table record insertion \n",
                "\n",
                "INSERT INTO Orders Values \n",
                "(5001,2345,101,'2021-07-01',550),\n",
                "(5003,1234,105,'2022-02-15',1500)\n",
                ""
            ],
            "metadata": {
                "language": "sql",
                "azdata_cell_guid": "311c96f7-e457-49c1-b252-6d6e0917a58c"
            },
            "outputs": [
                {
                    "output_type": "display_data",
                    "data": {
                        "text/html": "(2 rows affected)"
                    },
                    "metadata": {}
                },
                {
                    "output_type": "display_data",
                    "data": {
                        "text/html": "Total execution time: 00:00:00.022"
                    },
                    "metadata": {}
                }
            ],
            "execution_count": 11
        },
        {
            "cell_type": "code",
            "source": [
                "SELECT * FROM Orders"
            ],
            "metadata": {
                "language": "sql",
                "azdata_cell_guid": "b246b637-8060-4b1b-8b54-1bdacc9322d5"
            },
            "outputs": [
                {
                    "output_type": "display_data",
                    "data": {
                        "text/html": "(2 rows affected)"
                    },
                    "metadata": {}
                },
                {
                    "output_type": "display_data",
                    "data": {
                        "text/html": "Total execution time: 00:00:00.011"
                    },
                    "metadata": {}
                },
                {
                    "output_type": "execute_result",
                    "execution_count": 12,
                    "data": {
                        "application/vnd.dataresource+json": {
                            "schema": {
                                "fields": [
                                    {
                                        "name": "OrderId"
                                    },
                                    {
                                        "name": "CustomerId"
                                    },
                                    {
                                        "name": "SalesmanId"
                                    },
                                    {
                                        "name": "Orderdate"
                                    },
                                    {
                                        "name": "Amount"
                                    }
                                ]
                            },
                            "data": [
                                {
                                    "OrderId": "5001",
                                    "CustomerId": "2345",
                                    "SalesmanId": "101",
                                    "Orderdate": "2021-07-01",
                                    "Amount": "550.00"
                                },
                                {
                                    "OrderId": "5003",
                                    "CustomerId": "1234",
                                    "SalesmanId": "105",
                                    "Orderdate": "2022-02-15",
                                    "Amount": "1500.00"
                                }
                            ]
                        },
                        "text/html": "<table><tr><th>OrderId</th><th>CustomerId</th><th>SalesmanId</th><th>Orderdate</th><th>Amount</th></tr><tr><td>5001</td><td>2345</td><td>101</td><td>2021-07-01</td><td>550.00</td></tr><tr><td>5003</td><td>1234</td><td>105</td><td>2022-02-15</td><td>1500.00</td></tr></table>"
                    },
                    "metadata": {}
                }
            ],
            "execution_count": 12
        },
        {
            "cell_type": "markdown",
            "source": [
                "1. <span style=\"font-size: 11pt;\"><b>Insert a new record in your Orders table.</b></span>"
            ],
            "metadata": {
                "language": "sql",
                "azdata_cell_guid": "9d1be5e0-f245-4f59-968e-8c5ef8bb3ffd"
            },
            "attachments": {}
        },
        {
            "cell_type": "code",
            "source": [
                "INSERT INTO Orders VALUES (5005, 3456, 110, '2023-12-14', 2500)"
            ],
            "metadata": {
                "language": "sql",
                "azdata_cell_guid": "c8ab3103-4990-4642-8fbc-9905914da099"
            },
            "outputs": [
                {
                    "output_type": "display_data",
                    "data": {
                        "text/html": "(1 row affected)"
                    },
                    "metadata": {}
                },
                {
                    "output_type": "display_data",
                    "data": {
                        "text/html": "Total execution time: 00:00:00.020"
                    },
                    "metadata": {}
                }
            ],
            "execution_count": 13
        },
        {
            "cell_type": "code",
            "source": [
                "SELECT * FROM Orders"
            ],
            "metadata": {
                "language": "sql",
                "azdata_cell_guid": "4c2fc5b5-5b08-4f8b-b92f-0a0760f4d955"
            },
            "outputs": [
                {
                    "output_type": "display_data",
                    "data": {
                        "text/html": "(3 rows affected)"
                    },
                    "metadata": {}
                },
                {
                    "output_type": "display_data",
                    "data": {
                        "text/html": "Total execution time: 00:00:00.006"
                    },
                    "metadata": {}
                },
                {
                    "output_type": "execute_result",
                    "execution_count": 14,
                    "data": {
                        "application/vnd.dataresource+json": {
                            "schema": {
                                "fields": [
                                    {
                                        "name": "OrderId"
                                    },
                                    {
                                        "name": "CustomerId"
                                    },
                                    {
                                        "name": "SalesmanId"
                                    },
                                    {
                                        "name": "Orderdate"
                                    },
                                    {
                                        "name": "Amount"
                                    }
                                ]
                            },
                            "data": [
                                {
                                    "OrderId": "5001",
                                    "CustomerId": "2345",
                                    "SalesmanId": "101",
                                    "Orderdate": "2021-07-01",
                                    "Amount": "550.00"
                                },
                                {
                                    "OrderId": "5003",
                                    "CustomerId": "1234",
                                    "SalesmanId": "105",
                                    "Orderdate": "2022-02-15",
                                    "Amount": "1500.00"
                                },
                                {
                                    "OrderId": "5005",
                                    "CustomerId": "3456",
                                    "SalesmanId": "110",
                                    "Orderdate": "2023-12-14",
                                    "Amount": "2500.00"
                                }
                            ]
                        },
                        "text/html": "<table><tr><th>OrderId</th><th>CustomerId</th><th>SalesmanId</th><th>Orderdate</th><th>Amount</th></tr><tr><td>5001</td><td>2345</td><td>101</td><td>2021-07-01</td><td>550.00</td></tr><tr><td>5003</td><td>1234</td><td>105</td><td>2022-02-15</td><td>1500.00</td></tr><tr><td>5005</td><td>3456</td><td>110</td><td>2023-12-14</td><td>2500.00</td></tr></table>"
                    },
                    "metadata": {}
                }
            ],
            "execution_count": 14
        },
        {
            "cell_type": "markdown",
            "source": [
                "**2. <span style=\"font-family: &quot;Helvetica Neue&quot;; font-size: 13px; color: rgb(0, 0, 0);\">Add Primary key constraint for SalesmanId column in Salesman table.&nbsp;</span>** \n",
                "\n",
                "**<span style=\"font-family: &quot;Helvetica Neue&quot;; font-size: 13px; color: rgb(0, 0, 0);\">Add default</span><span style=\"font-family: &quot;Helvetica Neue&quot;; font-size: 13px; color: rgb(0, 0, 0);\">constraint for City column in Salesman table.&nbsp;</span>** \n",
                "\n",
                "**<span style=\"font-family: &quot;Helvetica Neue&quot;; font-size: 13px; color: rgb(0, 0, 0);\">Add Foreign key constraint for SalesmanId column in Customer table.&nbsp;</span>** \n",
                "\n",
                "**<span style=\"font-family: &quot;Helvetica Neue&quot;; font-size: 13px; color: rgb(0, 0, 0);\">Add not null constraint in Customer_name column for the Customer table.</span>**"
            ],
            "metadata": {
                "language": "sql",
                "azdata_cell_guid": "6f1be2c7-17b1-4243-8c5a-0671441bf13f"
            },
            "attachments": {}
        },
        {
            "cell_type": "code",
            "source": [
                "SP_HELP Salesman"
            ],
            "metadata": {
                "language": "sql",
                "azdata_cell_guid": "4787599c-51ff-449e-a381-eb74cbbebd9d"
            },
            "outputs": [
                {
                    "output_type": "display_data",
                    "data": {
                        "text/html": " "
                    },
                    "metadata": {}
                },
                {
                    "output_type": "display_data",
                    "data": {
                        "text/html": " "
                    },
                    "metadata": {}
                },
                {
                    "output_type": "display_data",
                    "data": {
                        "text/html": " "
                    },
                    "metadata": {}
                },
                {
                    "output_type": "display_data",
                    "data": {
                        "text/html": " "
                    },
                    "metadata": {}
                },
                {
                    "output_type": "display_data",
                    "data": {
                        "text/html": " "
                    },
                    "metadata": {}
                },
                {
                    "output_type": "display_data",
                    "data": {
                        "text/html": " "
                    },
                    "metadata": {}
                },
                {
                    "output_type": "display_data",
                    "data": {
                        "text/html": "The object 'Salesman' does not have any indexes, or you do not have permissions."
                    },
                    "metadata": {}
                },
                {
                    "output_type": "display_data",
                    "data": {
                        "text/html": " "
                    },
                    "metadata": {}
                },
                {
                    "output_type": "display_data",
                    "data": {
                        "text/html": "No constraints are defined on object 'Salesman', or you do not have permissions."
                    },
                    "metadata": {}
                },
                {
                    "output_type": "display_data",
                    "data": {
                        "text/html": " "
                    },
                    "metadata": {}
                },
                {
                    "output_type": "display_data",
                    "data": {
                        "text/html": "No foreign keys reference table 'Salesman', or you do not have permissions on referencing tables."
                    },
                    "metadata": {}
                },
                {
                    "output_type": "display_data",
                    "data": {
                        "text/html": "No views with schema binding reference table 'Salesman'."
                    },
                    "metadata": {}
                },
                {
                    "output_type": "display_data",
                    "data": {
                        "text/html": "Total execution time: 00:00:00.422"
                    },
                    "metadata": {}
                },
                {
                    "output_type": "execute_result",
                    "execution_count": 16,
                    "data": {
                        "application/vnd.dataresource+json": {
                            "schema": {
                                "fields": [
                                    {
                                        "name": "Name"
                                    },
                                    {
                                        "name": "Owner"
                                    },
                                    {
                                        "name": "Type"
                                    },
                                    {
                                        "name": "Created_datetime"
                                    }
                                ]
                            },
                            "data": [
                                {
                                    "Name": "Salesman",
                                    "Owner": "dbo",
                                    "Type": "user table",
                                    "Created_datetime": "2023-12-14 07:36:06.107"
                                }
                            ]
                        },
                        "text/html": "<table><tr><th>Name</th><th>Owner</th><th>Type</th><th>Created_datetime</th></tr><tr><td>Salesman</td><td>dbo</td><td>user table</td><td>2023-12-14 07:36:06.107</td></tr></table>"
                    },
                    "metadata": {}
                },
                {
                    "output_type": "execute_result",
                    "execution_count": 16,
                    "data": {
                        "application/vnd.dataresource+json": {
                            "schema": {
                                "fields": [
                                    {
                                        "name": "Column_name"
                                    },
                                    {
                                        "name": "Type"
                                    },
                                    {
                                        "name": "Computed"
                                    },
                                    {
                                        "name": "Length"
                                    },
                                    {
                                        "name": "Prec"
                                    },
                                    {
                                        "name": "Scale"
                                    },
                                    {
                                        "name": "Nullable"
                                    },
                                    {
                                        "name": "TrimTrailingBlanks"
                                    },
                                    {
                                        "name": "FixedLenNullInSource"
                                    },
                                    {
                                        "name": "Collation"
                                    }
                                ]
                            },
                            "data": [
                                {
                                    "Column_name": "SalesmanId",
                                    "Type": "int",
                                    "Computed": "no",
                                    "Length": "4",
                                    "Prec": "10   ",
                                    "Scale": "0    ",
                                    "Nullable": "yes",
                                    "TrimTrailingBlanks": "(n/a)",
                                    "FixedLenNullInSource": "(n/a)",
                                    "Collation": "NULL"
                                },
                                {
                                    "Column_name": "Name",
                                    "Type": "varchar",
                                    "Computed": "no",
                                    "Length": "255",
                                    "Prec": "     ",
                                    "Scale": "     ",
                                    "Nullable": "yes",
                                    "TrimTrailingBlanks": "no",
                                    "FixedLenNullInSource": "yes",
                                    "Collation": "SQL_Latin1_General_CP1_CI_AS"
                                },
                                {
                                    "Column_name": "Commission",
                                    "Type": "decimal",
                                    "Computed": "no",
                                    "Length": "9",
                                    "Prec": "10   ",
                                    "Scale": "2    ",
                                    "Nullable": "yes",
                                    "TrimTrailingBlanks": "(n/a)",
                                    "FixedLenNullInSource": "(n/a)",
                                    "Collation": "NULL"
                                },
                                {
                                    "Column_name": "City",
                                    "Type": "varchar",
                                    "Computed": "no",
                                    "Length": "255",
                                    "Prec": "     ",
                                    "Scale": "     ",
                                    "Nullable": "yes",
                                    "TrimTrailingBlanks": "no",
                                    "FixedLenNullInSource": "yes",
                                    "Collation": "SQL_Latin1_General_CP1_CI_AS"
                                },
                                {
                                    "Column_name": "Age",
                                    "Type": "int",
                                    "Computed": "no",
                                    "Length": "4",
                                    "Prec": "10   ",
                                    "Scale": "0    ",
                                    "Nullable": "yes",
                                    "TrimTrailingBlanks": "(n/a)",
                                    "FixedLenNullInSource": "(n/a)",
                                    "Collation": "NULL"
                                }
                            ]
                        },
                        "text/html": "<table><tr><th>Column_name</th><th>Type</th><th>Computed</th><th>Length</th><th>Prec</th><th>Scale</th><th>Nullable</th><th>TrimTrailingBlanks</th><th>FixedLenNullInSource</th><th>Collation</th></tr><tr><td>SalesmanId</td><td>int</td><td>no</td><td>4</td><td>10   </td><td>0    </td><td>yes</td><td>(n/a)</td><td>(n/a)</td><td>NULL</td></tr><tr><td>Name</td><td>varchar</td><td>no</td><td>255</td><td>     </td><td>     </td><td>yes</td><td>no</td><td>yes</td><td>SQL_Latin1_General_CP1_CI_AS</td></tr><tr><td>Commission</td><td>decimal</td><td>no</td><td>9</td><td>10   </td><td>2    </td><td>yes</td><td>(n/a)</td><td>(n/a)</td><td>NULL</td></tr><tr><td>City</td><td>varchar</td><td>no</td><td>255</td><td>     </td><td>     </td><td>yes</td><td>no</td><td>yes</td><td>SQL_Latin1_General_CP1_CI_AS</td></tr><tr><td>Age</td><td>int</td><td>no</td><td>4</td><td>10   </td><td>0    </td><td>yes</td><td>(n/a)</td><td>(n/a)</td><td>NULL</td></tr></table>"
                    },
                    "metadata": {}
                },
                {
                    "output_type": "execute_result",
                    "execution_count": 16,
                    "data": {
                        "application/vnd.dataresource+json": {
                            "schema": {
                                "fields": [
                                    {
                                        "name": "Identity"
                                    },
                                    {
                                        "name": "Seed"
                                    },
                                    {
                                        "name": "Increment"
                                    },
                                    {
                                        "name": "Not For Replication"
                                    }
                                ]
                            },
                            "data": [
                                {
                                    "Identity": "No identity column defined.",
                                    "Seed": "NULL",
                                    "Increment": "NULL",
                                    "Not For Replication": "NULL"
                                }
                            ]
                        },
                        "text/html": "<table><tr><th>Identity</th><th>Seed</th><th>Increment</th><th>Not For Replication</th></tr><tr><td>No identity column defined.</td><td>NULL</td><td>NULL</td><td>NULL</td></tr></table>"
                    },
                    "metadata": {}
                },
                {
                    "output_type": "execute_result",
                    "execution_count": 16,
                    "data": {
                        "application/vnd.dataresource+json": {
                            "schema": {
                                "fields": [
                                    {
                                        "name": "RowGuidCol"
                                    }
                                ]
                            },
                            "data": [
                                {
                                    "RowGuidCol": "No rowguidcol column defined."
                                }
                            ]
                        },
                        "text/html": "<table><tr><th>RowGuidCol</th></tr><tr><td>No rowguidcol column defined.</td></tr></table>"
                    },
                    "metadata": {}
                },
                {
                    "output_type": "execute_result",
                    "execution_count": 16,
                    "data": {
                        "application/vnd.dataresource+json": {
                            "schema": {
                                "fields": [
                                    {
                                        "name": "Data_located_on_filegroup"
                                    }
                                ]
                            },
                            "data": [
                                {
                                    "Data_located_on_filegroup": "PRIMARY"
                                }
                            ]
                        },
                        "text/html": "<table><tr><th>Data_located_on_filegroup</th></tr><tr><td>PRIMARY</td></tr></table>"
                    },
                    "metadata": {}
                }
            ],
            "execution_count": 16
        },
        {
            "cell_type": "code",
            "source": [
                "-- Add Primary key constraint for SalesmanId column in Salesman table\n",
                "ALTER TABLE Salesman\n",
                "ADD CONSTRAINT PK_SalesmanId PRIMARY KEY (SalesmanId);\n",
                ""
            ],
            "metadata": {
                "language": "sql",
                "azdata_cell_guid": "631ceadc-8a9f-4cb5-8155-25aa2360f67d",
                "tags": []
            },
            "outputs": [
                {
                    "output_type": "error",
                    "ename": "",
                    "evalue": "Msg 8111, Level 16, State 1, Line 2\nCannot define PRIMARY KEY constraint on nullable column in table 'Salesman'.",
                    "traceback": []
                },
                {
                    "output_type": "error",
                    "ename": "",
                    "evalue": "Msg 1750, Level 16, State 0, Line 2\nCould not create constraint or index. See previous errors.",
                    "traceback": []
                },
                {
                    "output_type": "display_data",
                    "data": {
                        "text/html": "Total execution time: 00:00:00.017"
                    },
                    "metadata": {}
                }
            ],
            "execution_count": 18
        },
        {
            "cell_type": "code",
            "source": [
                "-- To avoid the above error we need to alter the column to accept NOT NULL values. Only therafter we can add\n",
                "-- PRIMARY KEY Constraint on SalesmanId\n",
                "-- Note you need not truncate the table before altering the column to NOT NULL \n",
                "-- And also note that there is no need of adding UNIQUE Constraint. Still it will add PRIMARY KEY COnstraint \n",
                "-- as seen in the next query, provided there is no duplicate value in the SalemanId column\n",
                "\n",
                "ALTER TABLE Salesman\n",
                "ALTER COLUMN SalesmanId INT NOT NULL"
            ],
            "metadata": {
                "language": "sql",
                "azdata_cell_guid": "96ef8cb4-1bd5-4e5d-9053-caef976173dc"
            },
            "outputs": [
                {
                    "output_type": "display_data",
                    "data": {
                        "text/html": "Commands completed successfully."
                    },
                    "metadata": {}
                },
                {
                    "output_type": "display_data",
                    "data": {
                        "text/html": "Total execution time: 00:00:00.012"
                    },
                    "metadata": {}
                }
            ],
            "execution_count": 33
        },
        {
            "cell_type": "code",
            "source": [
                "-- Add Primary key constraint for SalesmanId column in Salesman table\n",
                "ALTER TABLE Salesman\n",
                "ADD CONSTRAINT PK_SalesmanId PRIMARY KEY (SalesmanId);"
            ],
            "metadata": {
                "language": "sql",
                "azdata_cell_guid": "ed9ba2c5-c43e-4724-a752-efba1e7c1bc7",
                "tags": [
                    "hide_input"
                ]
            },
            "outputs": [
                {
                    "output_type": "display_data",
                    "data": {
                        "text/html": "Commands completed successfully."
                    },
                    "metadata": {}
                },
                {
                    "output_type": "display_data",
                    "data": {
                        "text/html": "Total execution time: 00:00:00.029"
                    },
                    "metadata": {}
                }
            ],
            "execution_count": 34
        },
        {
            "cell_type": "code",
            "source": [
                "-- Add default constraint for City column in Salesman table\n",
                "ALTER TABLE Salesman\n",
                "ADD CONSTRAINT DF_City DEFAULT 'Unknown' FOR City;"
            ],
            "metadata": {
                "language": "sql",
                "azdata_cell_guid": "62fdae23-1890-4af8-80c3-47cf8fe1b2d2"
            },
            "outputs": [
                {
                    "output_type": "display_data",
                    "data": {
                        "text/html": "Commands completed successfully."
                    },
                    "metadata": {}
                },
                {
                    "output_type": "display_data",
                    "data": {
                        "text/html": "Total execution time: 00:00:00.031"
                    },
                    "metadata": {}
                }
            ],
            "execution_count": 35
        },
        {
            "cell_type": "code",
            "source": [
                "-- Add Foreign key constraint for SalesmanId column in Customer table\n",
                "ALTER TABLE Customer\n",
                "ADD CONSTRAINT FK_SalesmanId FOREIGN KEY (SalesmanId)\n",
                "REFERENCES Salesman(SalesmanId);"
            ],
            "metadata": {
                "language": "sql",
                "azdata_cell_guid": "2ade9e93-b900-4c0d-bc77-e4de0442a04a"
            },
            "outputs": [
                {
                    "output_type": "error",
                    "ename": "",
                    "evalue": "Msg 547, Level 16, State 0, Line 2\nThe ALTER TABLE statement conflicted with the FOREIGN KEY constraint \"FK_SalesmanId\". The conflict occurred in database \"Assignment\", table \"dbo.Salesman\", column 'SalesmanId'.",
                    "traceback": []
                },
                {
                    "output_type": "display_data",
                    "data": {
                        "text/html": "Total execution time: 00:00:00.023"
                    },
                    "metadata": {}
                }
            ],
            "execution_count": 40
        },
        {
            "cell_type": "code",
            "source": [
                "SP_HELP Salesman"
            ],
            "metadata": {
                "language": "sql",
                "azdata_cell_guid": "e15f22bb-1137-45a8-b981-0b150da4fe2d"
            },
            "outputs": [
                {
                    "output_type": "display_data",
                    "data": {
                        "text/html": " "
                    },
                    "metadata": {}
                },
                {
                    "output_type": "display_data",
                    "data": {
                        "text/html": " "
                    },
                    "metadata": {}
                },
                {
                    "output_type": "display_data",
                    "data": {
                        "text/html": " "
                    },
                    "metadata": {}
                },
                {
                    "output_type": "display_data",
                    "data": {
                        "text/html": " "
                    },
                    "metadata": {}
                },
                {
                    "output_type": "display_data",
                    "data": {
                        "text/html": " "
                    },
                    "metadata": {}
                },
                {
                    "output_type": "display_data",
                    "data": {
                        "text/html": " "
                    },
                    "metadata": {}
                },
                {
                    "output_type": "display_data",
                    "data": {
                        "text/html": " "
                    },
                    "metadata": {}
                },
                {
                    "output_type": "display_data",
                    "data": {
                        "text/html": " "
                    },
                    "metadata": {}
                },
                {
                    "output_type": "display_data",
                    "data": {
                        "text/html": "No foreign keys reference table 'Salesman', or you do not have permissions on referencing tables."
                    },
                    "metadata": {}
                },
                {
                    "output_type": "display_data",
                    "data": {
                        "text/html": "No views with schema binding reference table 'Salesman'."
                    },
                    "metadata": {}
                },
                {
                    "output_type": "display_data",
                    "data": {
                        "text/html": "Total execution time: 00:00:00.063"
                    },
                    "metadata": {}
                },
                {
                    "output_type": "execute_result",
                    "execution_count": 39,
                    "data": {
                        "application/vnd.dataresource+json": {
                            "schema": {
                                "fields": [
                                    {
                                        "name": "Name"
                                    },
                                    {
                                        "name": "Owner"
                                    },
                                    {
                                        "name": "Type"
                                    },
                                    {
                                        "name": "Created_datetime"
                                    }
                                ]
                            },
                            "data": [
                                {
                                    "Name": "Salesman",
                                    "Owner": "dbo",
                                    "Type": "user table",
                                    "Created_datetime": "2023-12-14 08:04:51.627"
                                }
                            ]
                        },
                        "text/html": "<table><tr><th>Name</th><th>Owner</th><th>Type</th><th>Created_datetime</th></tr><tr><td>Salesman</td><td>dbo</td><td>user table</td><td>2023-12-14 08:04:51.627</td></tr></table>"
                    },
                    "metadata": {}
                },
                {
                    "output_type": "execute_result",
                    "execution_count": 39,
                    "data": {
                        "application/vnd.dataresource+json": {
                            "schema": {
                                "fields": [
                                    {
                                        "name": "Column_name"
                                    },
                                    {
                                        "name": "Type"
                                    },
                                    {
                                        "name": "Computed"
                                    },
                                    {
                                        "name": "Length"
                                    },
                                    {
                                        "name": "Prec"
                                    },
                                    {
                                        "name": "Scale"
                                    },
                                    {
                                        "name": "Nullable"
                                    },
                                    {
                                        "name": "TrimTrailingBlanks"
                                    },
                                    {
                                        "name": "FixedLenNullInSource"
                                    },
                                    {
                                        "name": "Collation"
                                    }
                                ]
                            },
                            "data": [
                                {
                                    "Column_name": "SalesmanId",
                                    "Type": "int",
                                    "Computed": "no",
                                    "Length": "4",
                                    "Prec": "10   ",
                                    "Scale": "0    ",
                                    "Nullable": "no",
                                    "TrimTrailingBlanks": "(n/a)",
                                    "FixedLenNullInSource": "(n/a)",
                                    "Collation": "NULL"
                                },
                                {
                                    "Column_name": "Name",
                                    "Type": "varchar",
                                    "Computed": "no",
                                    "Length": "255",
                                    "Prec": "     ",
                                    "Scale": "     ",
                                    "Nullable": "yes",
                                    "TrimTrailingBlanks": "no",
                                    "FixedLenNullInSource": "yes",
                                    "Collation": "SQL_Latin1_General_CP1_CI_AS"
                                },
                                {
                                    "Column_name": "Commission",
                                    "Type": "decimal",
                                    "Computed": "no",
                                    "Length": "9",
                                    "Prec": "10   ",
                                    "Scale": "2    ",
                                    "Nullable": "yes",
                                    "TrimTrailingBlanks": "(n/a)",
                                    "FixedLenNullInSource": "(n/a)",
                                    "Collation": "NULL"
                                },
                                {
                                    "Column_name": "City",
                                    "Type": "varchar",
                                    "Computed": "no",
                                    "Length": "255",
                                    "Prec": "     ",
                                    "Scale": "     ",
                                    "Nullable": "yes",
                                    "TrimTrailingBlanks": "no",
                                    "FixedLenNullInSource": "yes",
                                    "Collation": "SQL_Latin1_General_CP1_CI_AS"
                                },
                                {
                                    "Column_name": "Age",
                                    "Type": "int",
                                    "Computed": "no",
                                    "Length": "4",
                                    "Prec": "10   ",
                                    "Scale": "0    ",
                                    "Nullable": "yes",
                                    "TrimTrailingBlanks": "(n/a)",
                                    "FixedLenNullInSource": "(n/a)",
                                    "Collation": "NULL"
                                }
                            ]
                        },
                        "text/html": "<table><tr><th>Column_name</th><th>Type</th><th>Computed</th><th>Length</th><th>Prec</th><th>Scale</th><th>Nullable</th><th>TrimTrailingBlanks</th><th>FixedLenNullInSource</th><th>Collation</th></tr><tr><td>SalesmanId</td><td>int</td><td>no</td><td>4</td><td>10   </td><td>0    </td><td>no</td><td>(n/a)</td><td>(n/a)</td><td>NULL</td></tr><tr><td>Name</td><td>varchar</td><td>no</td><td>255</td><td>     </td><td>     </td><td>yes</td><td>no</td><td>yes</td><td>SQL_Latin1_General_CP1_CI_AS</td></tr><tr><td>Commission</td><td>decimal</td><td>no</td><td>9</td><td>10   </td><td>2    </td><td>yes</td><td>(n/a)</td><td>(n/a)</td><td>NULL</td></tr><tr><td>City</td><td>varchar</td><td>no</td><td>255</td><td>     </td><td>     </td><td>yes</td><td>no</td><td>yes</td><td>SQL_Latin1_General_CP1_CI_AS</td></tr><tr><td>Age</td><td>int</td><td>no</td><td>4</td><td>10   </td><td>0    </td><td>yes</td><td>(n/a)</td><td>(n/a)</td><td>NULL</td></tr></table>"
                    },
                    "metadata": {}
                },
                {
                    "output_type": "execute_result",
                    "execution_count": 39,
                    "data": {
                        "application/vnd.dataresource+json": {
                            "schema": {
                                "fields": [
                                    {
                                        "name": "Identity"
                                    },
                                    {
                                        "name": "Seed"
                                    },
                                    {
                                        "name": "Increment"
                                    },
                                    {
                                        "name": "Not For Replication"
                                    }
                                ]
                            },
                            "data": [
                                {
                                    "Identity": "No identity column defined.",
                                    "Seed": "NULL",
                                    "Increment": "NULL",
                                    "Not For Replication": "NULL"
                                }
                            ]
                        },
                        "text/html": "<table><tr><th>Identity</th><th>Seed</th><th>Increment</th><th>Not For Replication</th></tr><tr><td>No identity column defined.</td><td>NULL</td><td>NULL</td><td>NULL</td></tr></table>"
                    },
                    "metadata": {}
                },
                {
                    "output_type": "execute_result",
                    "execution_count": 39,
                    "data": {
                        "application/vnd.dataresource+json": {
                            "schema": {
                                "fields": [
                                    {
                                        "name": "RowGuidCol"
                                    }
                                ]
                            },
                            "data": [
                                {
                                    "RowGuidCol": "No rowguidcol column defined."
                                }
                            ]
                        },
                        "text/html": "<table><tr><th>RowGuidCol</th></tr><tr><td>No rowguidcol column defined.</td></tr></table>"
                    },
                    "metadata": {}
                },
                {
                    "output_type": "execute_result",
                    "execution_count": 39,
                    "data": {
                        "application/vnd.dataresource+json": {
                            "schema": {
                                "fields": [
                                    {
                                        "name": "Data_located_on_filegroup"
                                    }
                                ]
                            },
                            "data": [
                                {
                                    "Data_located_on_filegroup": "PRIMARY"
                                }
                            ]
                        },
                        "text/html": "<table><tr><th>Data_located_on_filegroup</th></tr><tr><td>PRIMARY</td></tr></table>"
                    },
                    "metadata": {}
                },
                {
                    "output_type": "execute_result",
                    "execution_count": 39,
                    "data": {
                        "application/vnd.dataresource+json": {
                            "schema": {
                                "fields": [
                                    {
                                        "name": "index_name"
                                    },
                                    {
                                        "name": "index_description"
                                    },
                                    {
                                        "name": "index_keys"
                                    }
                                ]
                            },
                            "data": [
                                {
                                    "index_name": "PK_SalesmanId",
                                    "index_description": "clustered, unique, primary key located on PRIMARY",
                                    "index_keys": "SalesmanId"
                                }
                            ]
                        },
                        "text/html": "<table><tr><th>index_name</th><th>index_description</th><th>index_keys</th></tr><tr><td>PK_SalesmanId</td><td>clustered, unique, primary key located on PRIMARY</td><td>SalesmanId</td></tr></table>"
                    },
                    "metadata": {}
                },
                {
                    "output_type": "execute_result",
                    "execution_count": 39,
                    "data": {
                        "application/vnd.dataresource+json": {
                            "schema": {
                                "fields": [
                                    {
                                        "name": "constraint_type"
                                    },
                                    {
                                        "name": "constraint_name"
                                    },
                                    {
                                        "name": "delete_action"
                                    },
                                    {
                                        "name": "update_action"
                                    },
                                    {
                                        "name": "status_enabled"
                                    },
                                    {
                                        "name": "status_for_replication"
                                    },
                                    {
                                        "name": "constraint_keys"
                                    }
                                ]
                            },
                            "data": [
                                {
                                    "constraint_type": "DEFAULT on column City",
                                    "constraint_name": "DF_City",
                                    "delete_action": "(n/a)",
                                    "update_action": "(n/a)",
                                    "status_enabled": "(n/a)",
                                    "status_for_replication": "(n/a)",
                                    "constraint_keys": "('Unknown')"
                                },
                                {
                                    "constraint_type": "PRIMARY KEY (clustered)",
                                    "constraint_name": "PK_SalesmanId",
                                    "delete_action": "(n/a)",
                                    "update_action": "(n/a)",
                                    "status_enabled": "(n/a)",
                                    "status_for_replication": "(n/a)",
                                    "constraint_keys": "SalesmanId"
                                }
                            ]
                        },
                        "text/html": "<table><tr><th>constraint_type</th><th>constraint_name</th><th>delete_action</th><th>update_action</th><th>status_enabled</th><th>status_for_replication</th><th>constraint_keys</th></tr><tr><td>DEFAULT on column City</td><td>DF_City</td><td>(n/a)</td><td>(n/a)</td><td>(n/a)</td><td>(n/a)</td><td>(&#39;Unknown&#39;)</td></tr><tr><td>PRIMARY KEY (clustered)</td><td>PK_SalesmanId</td><td>(n/a)</td><td>(n/a)</td><td>(n/a)</td><td>(n/a)</td><td>SalesmanId</td></tr></table>"
                    },
                    "metadata": {}
                }
            ],
            "execution_count": 39
        },
        {
            "cell_type": "code",
            "source": [
                "\n",
                "-- Add Not Null constraint for CustomerName column in Customer table\n",
                "ALTER TABLE Customer\n",
                "ALTER COLUMN CustomerName VARCHAR(255) NOT NULL;\n",
                ""
            ],
            "metadata": {
                "language": "sql",
                "azdata_cell_guid": "33382dd7-fe64-4e0d-b146-8549bc5f17ec"
            },
            "outputs": [],
            "execution_count": null
        },
        {
            "cell_type": "markdown",
            "source": [
                "**3. <span style=\"font-family: &quot;Helvetica Neue&quot;; font-size: 13px; color: rgb(0, 0, 0);\">Fetch the data where the Customer’s name is ending with ‘N’ also get the purchase amount value greater than 500.</span>**"
            ],
            "metadata": {
                "language": "sql",
                "azdata_cell_guid": "83186304-d7b7-4e3a-91ce-450d52120e5c"
            },
            "attachments": {}
        },
        {
            "cell_type": "code",
            "source": [
                "SELECT *\n",
                "FROM Customer\n",
                "WHERE RIGHT(CustomerName, 1) = 'N' AND PurchaseAmount > 500;\n",
                ""
            ],
            "metadata": {
                "language": "sql",
                "azdata_cell_guid": "562668da-b7fc-4cc9-9c09-5ed71fe46fd5"
            },
            "outputs": [
                {
                    "output_type": "display_data",
                    "data": {
                        "text/html": "(0 rows affected)"
                    },
                    "metadata": {}
                },
                {
                    "output_type": "display_data",
                    "data": {
                        "text/html": "Total execution time: 00:00:00.056"
                    },
                    "metadata": {}
                },
                {
                    "output_type": "execute_result",
                    "execution_count": 3,
                    "data": {
                        "application/vnd.dataresource+json": {
                            "schema": {
                                "fields": [
                                    {
                                        "name": "SalesmanId"
                                    },
                                    {
                                        "name": "CustomerId"
                                    },
                                    {
                                        "name": "CustomerName"
                                    },
                                    {
                                        "name": "PurchaseAmount"
                                    }
                                ]
                            },
                            "data": []
                        },
                        "text/html": "<table><tr><th>SalesmanId</th><th>CustomerId</th><th>CustomerName</th><th>PurchaseAmount</th></tr></table>"
                    },
                    "metadata": {}
                }
            ],
            "execution_count": 3
        },
        {
            "cell_type": "markdown",
            "source": [
                "**4. <span style=\"font-family: &quot;Helvetica Neue&quot;; font-size: 13px; color: rgb(0, 0, 0);\">Using SET operators, retrieve the first result with unique SalesmanId values from two tables, and the other result containing SalesmanId with duplicates from two tables.</span>**"
            ],
            "metadata": {
                "language": "sql",
                "azdata_cell_guid": "7a79b735-25cf-471a-abda-60a5770fd04f"
            },
            "attachments": {}
        },
        {
            "cell_type": "code",
            "source": [
                "-- Unique SalesmanId values\n",
                "SELECT SalesmanId FROM Salesman\n",
                "UNION\n",
                "SELECT SalesmanId FROM Customer;\n",
                ""
            ],
            "metadata": {
                "language": "sql",
                "azdata_cell_guid": "ebe09c64-b628-4882-b29e-496b54929319"
            },
            "outputs": [
                {
                    "output_type": "display_data",
                    "data": {
                        "text/html": "(7 rows affected)"
                    },
                    "metadata": {}
                },
                {
                    "output_type": "display_data",
                    "data": {
                        "text/html": "Total execution time: 00:00:00.794"
                    },
                    "metadata": {}
                },
                {
                    "output_type": "execute_result",
                    "execution_count": 4,
                    "data": {
                        "application/vnd.dataresource+json": {
                            "schema": {
                                "fields": [
                                    {
                                        "name": "SalesmanId"
                                    }
                                ]
                            },
                            "data": [
                                {
                                    "SalesmanId": "101"
                                },
                                {
                                    "SalesmanId": "102"
                                },
                                {
                                    "SalesmanId": "103"
                                },
                                {
                                    "SalesmanId": "104"
                                },
                                {
                                    "SalesmanId": "105"
                                },
                                {
                                    "SalesmanId": "107"
                                },
                                {
                                    "SalesmanId": "110"
                                }
                            ]
                        },
                        "text/html": "<table><tr><th>SalesmanId</th></tr><tr><td>101</td></tr><tr><td>102</td></tr><tr><td>103</td></tr><tr><td>104</td></tr><tr><td>105</td></tr><tr><td>107</td></tr><tr><td>110</td></tr></table>"
                    },
                    "metadata": {}
                }
            ],
            "execution_count": 4
        },
        {
            "cell_type": "code",
            "source": [
                "-- SalesmanId with duplicates\n",
                "SELECT SalesmanId FROM Salesman\n",
                "INTERSECT\n",
                "SELECT SalesmanId FROM Customer;"
            ],
            "metadata": {
                "language": "sql",
                "azdata_cell_guid": "3b708953-0460-41c0-885d-d19234dde198"
            },
            "outputs": [
                {
                    "output_type": "display_data",
                    "data": {
                        "text/html": "(3 rows affected)"
                    },
                    "metadata": {}
                },
                {
                    "output_type": "display_data",
                    "data": {
                        "text/html": "Total execution time: 00:00:00.010"
                    },
                    "metadata": {}
                },
                {
                    "output_type": "execute_result",
                    "execution_count": 5,
                    "data": {
                        "application/vnd.dataresource+json": {
                            "schema": {
                                "fields": [
                                    {
                                        "name": "SalesmanId"
                                    }
                                ]
                            },
                            "data": [
                                {
                                    "SalesmanId": "101"
                                },
                                {
                                    "SalesmanId": "103"
                                },
                                {
                                    "SalesmanId": "104"
                                }
                            ]
                        },
                        "text/html": "<table><tr><th>SalesmanId</th></tr><tr><td>101</td></tr><tr><td>103</td></tr><tr><td>104</td></tr></table>"
                    },
                    "metadata": {}
                }
            ],
            "execution_count": 5
        },
        {
            "cell_type": "markdown",
            "source": [
                "**5. <span style=\"font-family: &quot;Helvetica Neue&quot;; font-size: 13px; color: rgb(0, 0, 0);\">Display the below columns which has the matching data.&nbsp;</span>  Orderdate, Salesman Name, Customer Name, Commission, and City <span style=\"font-family: &quot;Helvetica Neue&quot;; font-size: 13px; color: rgb(0, 0, 0);\">which has the range of Purchase Amount between 500 to 1500.</span>**"
            ],
            "metadata": {
                "language": "sql",
                "azdata_cell_guid": "5a055184-902b-41e6-a09a-bde9d5207734"
            },
            "attachments": {}
        },
        {
            "cell_type": "code",
            "source": [
                "SELECT O.Orderdate, S.Name AS 'Salesman Name', C.CustomerName, S.Commission, S.City\n",
                "FROM Orders O\n",
                "JOIN Salesman S ON O.SalesmanId = S.SalesmanId\n",
                "JOIN Customer C ON O.CustomerId = C.CustomerId\n",
                "WHERE O.Amount BETWEEN 500 AND 1500;\n",
                ""
            ],
            "metadata": {
                "language": "sql",
                "azdata_cell_guid": "f4959bcf-3f20-45c4-b117-d4d757aba7cf"
            },
            "outputs": [
                {
                    "output_type": "display_data",
                    "data": {
                        "text/html": "(2 rows affected)"
                    },
                    "metadata": {}
                },
                {
                    "output_type": "display_data",
                    "data": {
                        "text/html": "Total execution time: 00:00:00.046"
                    },
                    "metadata": {}
                },
                {
                    "output_type": "execute_result",
                    "execution_count": 6,
                    "data": {
                        "application/vnd.dataresource+json": {
                            "schema": {
                                "fields": [
                                    {
                                        "name": "Orderdate"
                                    },
                                    {
                                        "name": "Salesman Name"
                                    },
                                    {
                                        "name": "CustomerName"
                                    },
                                    {
                                        "name": "Commission"
                                    },
                                    {
                                        "name": "City"
                                    }
                                ]
                            },
                            "data": [
                                {
                                    "Orderdate": "2021-07-01",
                                    "Salesman Name": "Joe",
                                    "CustomerName": "Andrew",
                                    "Commission": "50.00",
                                    "City": "California"
                                },
                                {
                                    "Orderdate": "2021-07-01",
                                    "Salesman Name": "Joe",
                                    "CustomerName": "Andrew",
                                    "Commission": "50.00",
                                    "City": "California"
                                }
                            ]
                        },
                        "text/html": "<table><tr><th>Orderdate</th><th>Salesman Name</th><th>CustomerName</th><th>Commission</th><th>City</th></tr><tr><td>2021-07-01</td><td>Joe</td><td>Andrew</td><td>50.00</td><td>California</td></tr><tr><td>2021-07-01</td><td>Joe</td><td>Andrew</td><td>50.00</td><td>California</td></tr></table>"
                    },
                    "metadata": {}
                }
            ],
            "execution_count": 6
        },
        {
            "cell_type": "markdown",
            "source": [
                "**6. <span style=\"font-family: &quot;Helvetica Neue&quot;; font-size: 13px; color: rgb(0, 0, 0);\">Using right join fetch all the results from Salesman and Orders table&nbsp;</span>**"
            ],
            "metadata": {
                "language": "",
                "azdata_cell_guid": "703e8a5e-2f45-4ba1-8ea1-f5055f9fbb44"
            },
            "attachments": {}
        },
        {
            "cell_type": "code",
            "source": [
                "SELECT *\n",
                "FROM Salesman\n",
                "RIGHT JOIN Orders ON Salesman.SalesmanId = Orders.SalesmanId;\n",
                ""
            ],
            "metadata": {
                "azdata_cell_guid": "f3064510-c45f-474c-8526-2054ced39983",
                "language": "sql"
            },
            "outputs": [
                {
                    "output_type": "display_data",
                    "data": {
                        "text/html": "(3 rows affected)"
                    },
                    "metadata": {}
                },
                {
                    "output_type": "display_data",
                    "data": {
                        "text/html": "Total execution time: 00:00:00.033"
                    },
                    "metadata": {}
                },
                {
                    "output_type": "execute_result",
                    "metadata": {},
                    "execution_count": 3,
                    "data": {
                        "application/vnd.dataresource+json": {
                            "schema": {
                                "fields": [
                                    {
                                        "name": "SalesmanId"
                                    },
                                    {
                                        "name": "Name"
                                    },
                                    {
                                        "name": "Commission"
                                    },
                                    {
                                        "name": "City"
                                    },
                                    {
                                        "name": "Age"
                                    },
                                    {
                                        "name": "OrderId"
                                    },
                                    {
                                        "name": "CustomerId"
                                    },
                                    {
                                        "name": "SalesmanId"
                                    },
                                    {
                                        "name": "Orderdate"
                                    },
                                    {
                                        "name": "Amount"
                                    }
                                ]
                            },
                            "data": [
                                {
                                    "SalesmanId": "101",
                                    "Name": "Joe",
                                    "Commission": "50.00",
                                    "City": "California",
                                    "Age": "17",
                                    "OrderId": "5001",
                                    "CustomerId": "2345",
                                    "Orderdate": "2021-07-01",
                                    "Amount": "550.00"
                                },
                                {
                                    "SalesmanId": "105",
                                    "Name": "Lia",
                                    "Commission": "65.00",
                                    "City": "New Jersey",
                                    "Age": "30",
                                    "OrderId": "5003",
                                    "CustomerId": "1234",
                                    "Orderdate": "2022-02-15",
                                    "Amount": "1500.00"
                                },
                                {
                                    "SalesmanId": "110",
                                    "Name": "NULL",
                                    "Commission": "NULL",
                                    "City": "NULL",
                                    "Age": "NULL",
                                    "OrderId": "5005",
                                    "CustomerId": "3456",
                                    "Orderdate": "2023-12-14",
                                    "Amount": "2500.00"
                                }
                            ]
                        },
                        "text/html": [
                            "<table>",
                            "<tr><th>SalesmanId</th><th>Name</th><th>Commission</th><th>City</th><th>Age</th><th>OrderId</th><th>CustomerId</th><th>SalesmanId</th><th>Orderdate</th><th>Amount</th></tr>",
                            "<tr><td>101</td><td>Joe</td><td>50.00</td><td>California</td><td>17</td><td>5001</td><td>2345</td><td>101</td><td>2021-07-01</td><td>550.00</td></tr>",
                            "<tr><td>105</td><td>Lia</td><td>65.00</td><td>New Jersey</td><td>30</td><td>5003</td><td>1234</td><td>105</td><td>2022-02-15</td><td>1500.00</td></tr>",
                            "<tr><td>NULL</td><td>NULL</td><td>NULL</td><td>NULL</td><td>NULL</td><td>5005</td><td>3456</td><td>110</td><td>2023-12-14</td><td>2500.00</td></tr>",
                            "</table>"
                        ]
                    }
                }
            ],
            "execution_count": 3
        }
    ]
}