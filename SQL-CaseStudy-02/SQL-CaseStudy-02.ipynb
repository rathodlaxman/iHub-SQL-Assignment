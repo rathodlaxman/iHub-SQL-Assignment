{
    "metadata": {
        "kernelspec": {
            "name": "SQL",
            "display_name": "SQL",
            "language": "sql"
        },
        "language_info": {
            "name": "sql",
            "version": ""
        }
    },
    "nbformat_minor": 2,
    "nbformat": 4,
    "cells": [
        {
            "cell_type": "markdown",
            "source": [
                "# **`SQL-CaseStudy-02`**\n",
                "\n",
                "**Course**  :  <span style=\"color:rgb(0, 0, 0);font-family:&quot;Helvetica Neue&quot;;font-size:13px;\">Executive Post Graduate Certification in Data Science &amp; Artificial Intelligence (iHub DIvya Sampark&nbsp;</span>      <span style=\"color:rgb(0, 0, 0);font-family:&quot;Helvetica Neue&quot;;font-size:13px;\">IIT Roorkee and Intellipat</span><span style=\"color:rgb(0, 0, 0);font-family:&quot;Helvetica Neue&quot;;font-size:13px;\">)</span>\n",
                "\n",
                "**Batch** : 240206\n",
                "\n",
                "**Course Start Date** :  Jul 2024\n",
                "\n",
                "**Registered email** : [luckyrathod.forum@gmail.com](mailto:luckyrathod.forum@gmail.com)\n",
                "\n",
                "**Submitted By** : Major Laxman Rathod"
            ],
            "metadata": {
                "azdata_cell_guid": "faee7222-c476-4375-9e57-a828a84fd1af"
            },
            "attachments": {}
        },
        {
            "cell_type": "markdown",
            "source": [
                "<hr>"
            ],
            "metadata": {
                "azdata_cell_guid": "3e463ac3-b43d-418b-a83c-52b6c60fc482"
            },
            "attachments": {}
        },
        {
            "cell_type": "code",
            "source": [
                "CREATE DATABASE sql_case_study"
            ],
            "metadata": {
                "azdata_cell_guid": "b4fe4c75-5378-413a-ac7d-9a64bcf88026",
                "language": "sql"
            },
            "outputs": [
                {
                    "output_type": "display_data",
                    "data": {
                        "text/html": "Commands completed successfully."
                    },
                    "metadata": {}
                },
                {
                    "output_type": "display_data",
                    "data": {
                        "text/html": "Total execution time: 00:00:00.520"
                    },
                    "metadata": {}
                }
            ],
            "execution_count": 1
        },
        {
            "cell_type": "code",
            "source": [
                "USE sql_case_study"
            ],
            "metadata": {
                "language": "sql",
                "azdata_cell_guid": "289b9b9b-bf84-46c2-acef-fb59d8c0d54c"
            },
            "outputs": [
                {
                    "output_type": "display_data",
                    "data": {
                        "text/html": "Commands completed successfully."
                    },
                    "metadata": {}
                },
                {
                    "output_type": "display_data",
                    "data": {
                        "text/html": "Total execution time: 00:00:00.006"
                    },
                    "metadata": {}
                }
            ],
            "execution_count": 1
        },
        {
            "cell_type": "code",
            "source": [
                "CREATE TABLE LOCATION (\n",
                "  Location_ID INT PRIMARY KEY,\n",
                "  City VARCHAR(50)\n",
                ");\n",
                ""
            ],
            "metadata": {
                "language": "sql",
                "azdata_cell_guid": "7a37a267-5f19-4b59-aec6-11145f16956b"
            },
            "outputs": [
                {
                    "output_type": "display_data",
                    "data": {
                        "text/html": "Commands completed successfully."
                    },
                    "metadata": {}
                },
                {
                    "output_type": "display_data",
                    "data": {
                        "text/html": "Total execution time: 00:00:00.031"
                    },
                    "metadata": {}
                }
            ],
            "execution_count": 10
        },
        {
            "cell_type": "code",
            "source": [
                "\n",
                "INSERT INTO LOCATION (Location_ID, City)\n",
                "VALUES (122, 'New York'),\n",
                "       (123, 'Dallas'),\n",
                "       (124, 'Chicago'),\n",
                "       (167, 'Boston');\n",
                "\n",
                ""
            ],
            "metadata": {
                "language": "sql",
                "azdata_cell_guid": "c3e4f601-7e47-47f9-8bec-66812f7c215c"
            },
            "outputs": [
                {
                    "output_type": "display_data",
                    "data": {
                        "text/html": "(4 rows affected)"
                    },
                    "metadata": {}
                },
                {
                    "output_type": "display_data",
                    "data": {
                        "text/html": "Total execution time: 00:00:00.036"
                    },
                    "metadata": {}
                }
            ],
            "execution_count": 11
        },
        {
            "cell_type": "code",
            "source": [
                "SELECT * FROM Location"
            ],
            "metadata": {
                "language": "sql",
                "azdata_cell_guid": "7a77d4be-fd0e-47a0-ba1d-8ee667664509"
            },
            "outputs": [
                {
                    "output_type": "display_data",
                    "data": {
                        "text/html": "(4 rows affected)"
                    },
                    "metadata": {}
                },
                {
                    "output_type": "display_data",
                    "data": {
                        "text/html": "Total execution time: 00:00:00.023"
                    },
                    "metadata": {}
                },
                {
                    "output_type": "execute_result",
                    "execution_count": 12,
                    "data": {
                        "application/vnd.dataresource+json": {
                            "schema": {
                                "fields": [
                                    {
                                        "name": "Location_ID"
                                    },
                                    {
                                        "name": "City"
                                    }
                                ]
                            },
                            "data": [
                                {
                                    "Location_ID": "122",
                                    "City": "New York"
                                },
                                {
                                    "Location_ID": "123",
                                    "City": "Dallas"
                                },
                                {
                                    "Location_ID": "124",
                                    "City": "Chicago"
                                },
                                {
                                    "Location_ID": "167",
                                    "City": "Boston"
                                }
                            ]
                        },
                        "text/html": "<table><tr><th>Location_ID</th><th>City</th></tr><tr><td>122</td><td>New York</td></tr><tr><td>123</td><td>Dallas</td></tr><tr><td>124</td><td>Chicago</td></tr><tr><td>167</td><td>Boston</td></tr></table>"
                    },
                    "metadata": {}
                }
            ],
            "execution_count": 12
        },
        {
            "cell_type": "code",
            "source": [
                "\n",
                "  CREATE TABLE DEPARTMENT (\n",
                "  Department_Id INT PRIMARY KEY,\n",
                "  Name VARCHAR(50),\n",
                "  Location_Id INT,\n",
                "  FOREIGN KEY (Location_Id) REFERENCES LOCATION(Location_ID)\n",
                ");\n",
                "\n",
                ""
            ],
            "metadata": {
                "language": "sql",
                "azdata_cell_guid": "02367aa7-793a-471a-8cd8-ee0c2d32e4e0"
            },
            "outputs": [
                {
                    "output_type": "display_data",
                    "data": {
                        "text/html": "Commands completed successfully."
                    },
                    "metadata": {}
                },
                {
                    "output_type": "display_data",
                    "data": {
                        "text/html": "Total execution time: 00:00:00.024"
                    },
                    "metadata": {}
                }
            ],
            "execution_count": 13
        },
        {
            "cell_type": "code",
            "source": [
                "\n",
                "INSERT INTO DEPARTMENT (Department_Id, Name, Location_Id)\n",
                "VALUES (10, 'Accounting', 122),\n",
                "       (20, 'Sales', 124),\n",
                "       (30, 'Research', 123),\n",
                "       (40, 'Operations', 167);\n",
                "\n",
                "\t   CREATE TABLE JOB (\n",
                "  Job_ID INT PRIMARY KEY,\n",
                "  Designation VARCHAR(50)\n",
                ");\n",
                ""
            ],
            "metadata": {
                "language": "sql",
                "azdata_cell_guid": "73532bcc-c801-4223-a6f1-6dc62a4b21a3"
            },
            "outputs": [
                {
                    "output_type": "display_data",
                    "data": {
                        "text/html": "(4 rows affected)"
                    },
                    "metadata": {}
                },
                {
                    "output_type": "display_data",
                    "data": {
                        "text/html": "Total execution time: 00:00:00.034"
                    },
                    "metadata": {}
                }
            ],
            "execution_count": 14
        },
        {
            "cell_type": "code",
            "source": [
                "SELECT * FROM Department"
            ],
            "metadata": {
                "language": "sql",
                "azdata_cell_guid": "69fe04ea-24ba-434b-bc8d-eec002cac129"
            },
            "outputs": [
                {
                    "output_type": "display_data",
                    "data": {
                        "text/html": "(4 rows affected)"
                    },
                    "metadata": {}
                },
                {
                    "output_type": "display_data",
                    "data": {
                        "text/html": "Total execution time: 00:00:00.022"
                    },
                    "metadata": {}
                },
                {
                    "output_type": "execute_result",
                    "execution_count": 15,
                    "data": {
                        "application/vnd.dataresource+json": {
                            "schema": {
                                "fields": [
                                    {
                                        "name": "Department_Id"
                                    },
                                    {
                                        "name": "Name"
                                    },
                                    {
                                        "name": "Location_Id"
                                    }
                                ]
                            },
                            "data": [
                                {
                                    "Department_Id": "10",
                                    "Name": "Accounting",
                                    "Location_Id": "122"
                                },
                                {
                                    "Department_Id": "20",
                                    "Name": "Sales",
                                    "Location_Id": "124"
                                },
                                {
                                    "Department_Id": "30",
                                    "Name": "Research",
                                    "Location_Id": "123"
                                },
                                {
                                    "Department_Id": "40",
                                    "Name": "Operations",
                                    "Location_Id": "167"
                                }
                            ]
                        },
                        "text/html": "<table><tr><th>Department_Id</th><th>Name</th><th>Location_Id</th></tr><tr><td>10</td><td>Accounting</td><td>122</td></tr><tr><td>20</td><td>Sales</td><td>124</td></tr><tr><td>30</td><td>Research</td><td>123</td></tr><tr><td>40</td><td>Operations</td><td>167</td></tr></table>"
                    },
                    "metadata": {}
                }
            ],
            "execution_count": 15
        },
        {
            "cell_type": "code",
            "source": [
                "\n",
                "CREATE TABLE JOB\n",
                "(JOB_ID INT PRIMARY KEY,\n",
                "DESIGNATION VARCHAR(20))\n",
                ""
            ],
            "metadata": {
                "language": "sql",
                "azdata_cell_guid": "8c944643-82af-4680-9362-11a005e7652e"
            },
            "outputs": [
                {
                    "output_type": "display_data",
                    "data": {
                        "text/html": "Commands completed successfully."
                    },
                    "metadata": {}
                },
                {
                    "output_type": "display_data",
                    "data": {
                        "text/html": "Total execution time: 00:00:00.007"
                    },
                    "metadata": {}
                }
            ],
            "execution_count": 18
        },
        {
            "cell_type": "code",
            "source": [
                "\n",
                "INSERT  INTO JOB VALUES\n",
                "(667, 'CLERK'),\n",
                "(668,'STAFF'),\n",
                "(669,'ANALYST'),\n",
                "(670,'SALES_PERSON'),\n",
                "(671,'MANAGER'),\n",
                "(672, 'PRESIDENT')\n",
                "\n",
                ""
            ],
            "metadata": {
                "language": "sql",
                "azdata_cell_guid": "b906a23d-0c6a-478d-b687-7c62f9712a5d"
            },
            "outputs": [
                {
                    "output_type": "display_data",
                    "data": {
                        "text/html": "(6 rows affected)"
                    },
                    "metadata": {}
                },
                {
                    "output_type": "display_data",
                    "data": {
                        "text/html": "Total execution time: 00:00:00.044"
                    },
                    "metadata": {}
                }
            ],
            "execution_count": 19
        },
        {
            "cell_type": "code",
            "source": [
                "SELECT * FROM Job"
            ],
            "metadata": {
                "language": "sql",
                "azdata_cell_guid": "4ef584ef-3e6f-44d3-a8f6-230b1d937156"
            },
            "outputs": [
                {
                    "output_type": "display_data",
                    "data": {
                        "text/html": "(6 rows affected)"
                    },
                    "metadata": {}
                },
                {
                    "output_type": "display_data",
                    "data": {
                        "text/html": "Total execution time: 00:00:00.030"
                    },
                    "metadata": {}
                },
                {
                    "output_type": "execute_result",
                    "execution_count": 20,
                    "data": {
                        "application/vnd.dataresource+json": {
                            "schema": {
                                "fields": [
                                    {
                                        "name": "JOB_ID"
                                    },
                                    {
                                        "name": "DESIGNATION"
                                    }
                                ]
                            },
                            "data": [
                                {
                                    "JOB_ID": "667",
                                    "DESIGNATION": "CLERK"
                                },
                                {
                                    "JOB_ID": "668",
                                    "DESIGNATION": "STAFF"
                                },
                                {
                                    "JOB_ID": "669",
                                    "DESIGNATION": "ANALYST"
                                },
                                {
                                    "JOB_ID": "670",
                                    "DESIGNATION": "SALES_PERSON"
                                },
                                {
                                    "JOB_ID": "671",
                                    "DESIGNATION": "MANAGER"
                                },
                                {
                                    "JOB_ID": "672",
                                    "DESIGNATION": "PRESIDENT"
                                }
                            ]
                        },
                        "text/html": "<table><tr><th>JOB_ID</th><th>DESIGNATION</th></tr><tr><td>667</td><td>CLERK</td></tr><tr><td>668</td><td>STAFF</td></tr><tr><td>669</td><td>ANALYST</td></tr><tr><td>670</td><td>SALES_PERSON</td></tr><tr><td>671</td><td>MANAGER</td></tr><tr><td>672</td><td>PRESIDENT</td></tr></table>"
                    },
                    "metadata": {}
                }
            ],
            "execution_count": 20
        },
        {
            "cell_type": "code",
            "source": [
                "\n",
                "CREATE TABLE EMPLOYEE\n",
                "(EMPLOYEE_ID INT,\n",
                "LAST_NAME VARCHAR(20),\n",
                "FIRST_NAME VARCHAR(20),\n",
                "MIDDLE_NAME CHAR(1),\n",
                "JOB_ID INT FOREIGN KEY\n",
                "REFERENCES JOB(JOB_ID),\n",
                "MANAGER_ID INT,\n",
                "HIRE_DATE DATE,\n",
                "SALARY INT,\n",
                "COMM INT,\n",
                "DEPARTMENT_ID  INT FOREIGN KEY\n",
                "REFERENCES DEPARTMENT(DEPARTMENT_ID))\n",
                ""
            ],
            "metadata": {
                "language": "sql",
                "azdata_cell_guid": "115079db-4d3e-449d-80fa-efffb693a3dc"
            },
            "outputs": [
                {
                    "output_type": "display_data",
                    "data": {
                        "text/html": "Commands completed successfully."
                    },
                    "metadata": {}
                },
                {
                    "output_type": "display_data",
                    "data": {
                        "text/html": "Total execution time: 00:00:00.015"
                    },
                    "metadata": {}
                }
            ],
            "execution_count": 21
        },
        {
            "cell_type": "code",
            "source": [
                "\n",
                "INSERT INTO EMPLOYEE VALUES\n",
                "(7369,'SMITH','JOHN','Q',667,7902,'17-DEC-84',800,NULL,20),\n",
                "(7499,'ALLEN','KEVIN','J',670,7698,'20-FEB-84',1600,300,30),\n",
                "(7505,'DOYLE','JEAN','K',671,7839,'04-APR-85',2850,NULl,30),\n",
                "(7506,'DENNIS','LYNN','S',671,7839,'15-MAY-85',2750,NULL,30),\n",
                "(7507,'BAKER','LESLIE','D',671,7839,'10-JUN-85',2200,NULL,40),\n",
                "(7521,'WARK','CYNTHIA','D',670,7698,'22-FEB-85',1250,500,30)\n",
                "\n",
                ""
            ],
            "metadata": {
                "language": "sql",
                "azdata_cell_guid": "457e9d1e-e296-477a-a7e4-b1e770bb04f2"
            },
            "outputs": [
                {
                    "output_type": "display_data",
                    "data": {
                        "text/html": "(6 rows affected)"
                    },
                    "metadata": {}
                },
                {
                    "output_type": "display_data",
                    "data": {
                        "text/html": "Total execution time: 00:00:00.042"
                    },
                    "metadata": {}
                }
            ],
            "execution_count": 22
        },
        {
            "cell_type": "code",
            "source": [
                "SELECT * FROM Employee"
            ],
            "metadata": {
                "language": "sql",
                "azdata_cell_guid": "90e2d9cc-3014-4ada-a036-fd7de8ee7d7f"
            },
            "outputs": [
                {
                    "output_type": "display_data",
                    "data": {
                        "text/html": "(6 rows affected)"
                    },
                    "metadata": {}
                },
                {
                    "output_type": "display_data",
                    "data": {
                        "text/html": "Total execution time: 00:00:00.024"
                    },
                    "metadata": {}
                },
                {
                    "output_type": "execute_result",
                    "execution_count": 23,
                    "data": {
                        "application/vnd.dataresource+json": {
                            "schema": {
                                "fields": [
                                    {
                                        "name": "EMPLOYEE_ID"
                                    },
                                    {
                                        "name": "LAST_NAME"
                                    },
                                    {
                                        "name": "FIRST_NAME"
                                    },
                                    {
                                        "name": "MIDDLE_NAME"
                                    },
                                    {
                                        "name": "JOB_ID"
                                    },
                                    {
                                        "name": "MANAGER_ID"
                                    },
                                    {
                                        "name": "HIRE_DATE"
                                    },
                                    {
                                        "name": "SALARY"
                                    },
                                    {
                                        "name": "COMM"
                                    },
                                    {
                                        "name": "DEPARTMENT_ID"
                                    }
                                ]
                            },
                            "data": [
                                {
                                    "EMPLOYEE_ID": "7369",
                                    "LAST_NAME": "SMITH",
                                    "FIRST_NAME": "JOHN",
                                    "MIDDLE_NAME": "Q",
                                    "JOB_ID": "667",
                                    "MANAGER_ID": "7902",
                                    "HIRE_DATE": "1984-12-17",
                                    "SALARY": "800",
                                    "COMM": "NULL",
                                    "DEPARTMENT_ID": "20"
                                },
                                {
                                    "EMPLOYEE_ID": "7499",
                                    "LAST_NAME": "ALLEN",
                                    "FIRST_NAME": "KEVIN",
                                    "MIDDLE_NAME": "J",
                                    "JOB_ID": "670",
                                    "MANAGER_ID": "7698",
                                    "HIRE_DATE": "1984-02-20",
                                    "SALARY": "1600",
                                    "COMM": "300",
                                    "DEPARTMENT_ID": "30"
                                },
                                {
                                    "EMPLOYEE_ID": "7505",
                                    "LAST_NAME": "DOYLE",
                                    "FIRST_NAME": "JEAN",
                                    "MIDDLE_NAME": "K",
                                    "JOB_ID": "671",
                                    "MANAGER_ID": "7839",
                                    "HIRE_DATE": "1985-04-04",
                                    "SALARY": "2850",
                                    "COMM": "NULL",
                                    "DEPARTMENT_ID": "30"
                                },
                                {
                                    "EMPLOYEE_ID": "7506",
                                    "LAST_NAME": "DENNIS",
                                    "FIRST_NAME": "LYNN",
                                    "MIDDLE_NAME": "S",
                                    "JOB_ID": "671",
                                    "MANAGER_ID": "7839",
                                    "HIRE_DATE": "1985-05-15",
                                    "SALARY": "2750",
                                    "COMM": "NULL",
                                    "DEPARTMENT_ID": "30"
                                },
                                {
                                    "EMPLOYEE_ID": "7507",
                                    "LAST_NAME": "BAKER",
                                    "FIRST_NAME": "LESLIE",
                                    "MIDDLE_NAME": "D",
                                    "JOB_ID": "671",
                                    "MANAGER_ID": "7839",
                                    "HIRE_DATE": "1985-06-10",
                                    "SALARY": "2200",
                                    "COMM": "NULL",
                                    "DEPARTMENT_ID": "40"
                                },
                                {
                                    "EMPLOYEE_ID": "7521",
                                    "LAST_NAME": "WARK",
                                    "FIRST_NAME": "CYNTHIA",
                                    "MIDDLE_NAME": "D",
                                    "JOB_ID": "670",
                                    "MANAGER_ID": "7698",
                                    "HIRE_DATE": "1985-02-22",
                                    "SALARY": "1250",
                                    "COMM": "500",
                                    "DEPARTMENT_ID": "30"
                                }
                            ]
                        },
                        "text/html": "<table><tr><th>EMPLOYEE_ID</th><th>LAST_NAME</th><th>FIRST_NAME</th><th>MIDDLE_NAME</th><th>JOB_ID</th><th>MANAGER_ID</th><th>HIRE_DATE</th><th>SALARY</th><th>COMM</th><th>DEPARTMENT_ID</th></tr><tr><td>7369</td><td>SMITH</td><td>JOHN</td><td>Q</td><td>667</td><td>7902</td><td>1984-12-17</td><td>800</td><td>NULL</td><td>20</td></tr><tr><td>7499</td><td>ALLEN</td><td>KEVIN</td><td>J</td><td>670</td><td>7698</td><td>1984-02-20</td><td>1600</td><td>300</td><td>30</td></tr><tr><td>7505</td><td>DOYLE</td><td>JEAN</td><td>K</td><td>671</td><td>7839</td><td>1985-04-04</td><td>2850</td><td>NULL</td><td>30</td></tr><tr><td>7506</td><td>DENNIS</td><td>LYNN</td><td>S</td><td>671</td><td>7839</td><td>1985-05-15</td><td>2750</td><td>NULL</td><td>30</td></tr><tr><td>7507</td><td>BAKER</td><td>LESLIE</td><td>D</td><td>671</td><td>7839</td><td>1985-06-10</td><td>2200</td><td>NULL</td><td>40</td></tr><tr><td>7521</td><td>WARK</td><td>CYNTHIA</td><td>D</td><td>670</td><td>7698</td><td>1985-02-22</td><td>1250</td><td>500</td><td>30</td></tr></table>"
                    },
                    "metadata": {}
                }
            ],
            "execution_count": 23
        },
        {
            "cell_type": "markdown",
            "source": [
                "# **Simple Queries**"
            ],
            "metadata": {
                "language": "sql",
                "azdata_cell_guid": "0682b81d-4b29-4d13-90a7-e48a9d6a75ac"
            },
            "attachments": {}
        },
        {
            "cell_type": "code",
            "source": [
                "-- Task 1 : List all the employee details.\n",
                "USE sql_case_study\n",
                "\n",
                "Select * FROM Employee"
            ],
            "metadata": {
                "language": "sql",
                "azdata_cell_guid": "73a72ba5-5d34-4b02-98ac-b9b9022b79eb"
            },
            "outputs": [
                {
                    "output_type": "display_data",
                    "data": {
                        "text/html": "(6 rows affected)"
                    },
                    "metadata": {}
                },
                {
                    "output_type": "display_data",
                    "data": {
                        "text/html": "Total execution time: 00:00:00.016"
                    },
                    "metadata": {}
                },
                {
                    "output_type": "execute_result",
                    "execution_count": 4,
                    "data": {
                        "application/vnd.dataresource+json": {
                            "schema": {
                                "fields": [
                                    {
                                        "name": "EMPLOYEE_ID"
                                    },
                                    {
                                        "name": "LAST_NAME"
                                    },
                                    {
                                        "name": "FIRST_NAME"
                                    },
                                    {
                                        "name": "MIDDLE_NAME"
                                    },
                                    {
                                        "name": "JOB_ID"
                                    },
                                    {
                                        "name": "MANAGER_ID"
                                    },
                                    {
                                        "name": "HIRE_DATE"
                                    },
                                    {
                                        "name": "SALARY"
                                    },
                                    {
                                        "name": "COMM"
                                    },
                                    {
                                        "name": "DEPARTMENT_ID"
                                    }
                                ]
                            },
                            "data": [
                                {
                                    "EMPLOYEE_ID": "7369",
                                    "LAST_NAME": "SMITH",
                                    "FIRST_NAME": "JOHN",
                                    "MIDDLE_NAME": "Q",
                                    "JOB_ID": "667",
                                    "MANAGER_ID": "7902",
                                    "HIRE_DATE": "1984-12-17",
                                    "SALARY": "800",
                                    "COMM": "NULL",
                                    "DEPARTMENT_ID": "20"
                                },
                                {
                                    "EMPLOYEE_ID": "7499",
                                    "LAST_NAME": "ALLEN",
                                    "FIRST_NAME": "KEVIN",
                                    "MIDDLE_NAME": "J",
                                    "JOB_ID": "670",
                                    "MANAGER_ID": "7698",
                                    "HIRE_DATE": "1984-02-20",
                                    "SALARY": "1600",
                                    "COMM": "300",
                                    "DEPARTMENT_ID": "30"
                                },
                                {
                                    "EMPLOYEE_ID": "7505",
                                    "LAST_NAME": "DOYLE",
                                    "FIRST_NAME": "JEAN",
                                    "MIDDLE_NAME": "K",
                                    "JOB_ID": "671",
                                    "MANAGER_ID": "7839",
                                    "HIRE_DATE": "1985-04-04",
                                    "SALARY": "2850",
                                    "COMM": "NULL",
                                    "DEPARTMENT_ID": "30"
                                },
                                {
                                    "EMPLOYEE_ID": "7506",
                                    "LAST_NAME": "DENNIS",
                                    "FIRST_NAME": "LYNN",
                                    "MIDDLE_NAME": "S",
                                    "JOB_ID": "671",
                                    "MANAGER_ID": "7839",
                                    "HIRE_DATE": "1985-05-15",
                                    "SALARY": "2750",
                                    "COMM": "NULL",
                                    "DEPARTMENT_ID": "30"
                                },
                                {
                                    "EMPLOYEE_ID": "7507",
                                    "LAST_NAME": "BAKER",
                                    "FIRST_NAME": "LESLIE",
                                    "MIDDLE_NAME": "D",
                                    "JOB_ID": "671",
                                    "MANAGER_ID": "7839",
                                    "HIRE_DATE": "1985-06-10",
                                    "SALARY": "2200",
                                    "COMM": "NULL",
                                    "DEPARTMENT_ID": "40"
                                },
                                {
                                    "EMPLOYEE_ID": "7521",
                                    "LAST_NAME": "WARK",
                                    "FIRST_NAME": "CYNTHIA",
                                    "MIDDLE_NAME": "D",
                                    "JOB_ID": "670",
                                    "MANAGER_ID": "7698",
                                    "HIRE_DATE": "1985-02-22",
                                    "SALARY": "1250",
                                    "COMM": "500",
                                    "DEPARTMENT_ID": "30"
                                }
                            ]
                        },
                        "text/html": "<table><tr><th>EMPLOYEE_ID</th><th>LAST_NAME</th><th>FIRST_NAME</th><th>MIDDLE_NAME</th><th>JOB_ID</th><th>MANAGER_ID</th><th>HIRE_DATE</th><th>SALARY</th><th>COMM</th><th>DEPARTMENT_ID</th></tr><tr><td>7369</td><td>SMITH</td><td>JOHN</td><td>Q</td><td>667</td><td>7902</td><td>1984-12-17</td><td>800</td><td>NULL</td><td>20</td></tr><tr><td>7499</td><td>ALLEN</td><td>KEVIN</td><td>J</td><td>670</td><td>7698</td><td>1984-02-20</td><td>1600</td><td>300</td><td>30</td></tr><tr><td>7505</td><td>DOYLE</td><td>JEAN</td><td>K</td><td>671</td><td>7839</td><td>1985-04-04</td><td>2850</td><td>NULL</td><td>30</td></tr><tr><td>7506</td><td>DENNIS</td><td>LYNN</td><td>S</td><td>671</td><td>7839</td><td>1985-05-15</td><td>2750</td><td>NULL</td><td>30</td></tr><tr><td>7507</td><td>BAKER</td><td>LESLIE</td><td>D</td><td>671</td><td>7839</td><td>1985-06-10</td><td>2200</td><td>NULL</td><td>40</td></tr><tr><td>7521</td><td>WARK</td><td>CYNTHIA</td><td>D</td><td>670</td><td>7698</td><td>1985-02-22</td><td>1250</td><td>500</td><td>30</td></tr></table>"
                    },
                    "metadata": {}
                }
            ],
            "execution_count": 4
        },
        {
            "cell_type": "code",
            "source": [
                "-- Task 2 : List all the department details.\n",
                "\n",
                "Select * from Department"
            ],
            "metadata": {
                "language": "sql",
                "azdata_cell_guid": "e2ad0888-02a9-4f8e-be1c-6cce9a027797"
            },
            "outputs": [
                {
                    "output_type": "display_data",
                    "data": {
                        "text/html": "(4 rows affected)"
                    },
                    "metadata": {}
                },
                {
                    "output_type": "display_data",
                    "data": {
                        "text/html": "Total execution time: 00:00:00.013"
                    },
                    "metadata": {}
                },
                {
                    "output_type": "execute_result",
                    "execution_count": 5,
                    "data": {
                        "application/vnd.dataresource+json": {
                            "schema": {
                                "fields": [
                                    {
                                        "name": "Department_Id"
                                    },
                                    {
                                        "name": "Name"
                                    },
                                    {
                                        "name": "Location_Id"
                                    }
                                ]
                            },
                            "data": [
                                {
                                    "Department_Id": "10",
                                    "Name": "Accounting",
                                    "Location_Id": "122"
                                },
                                {
                                    "Department_Id": "20",
                                    "Name": "Sales",
                                    "Location_Id": "124"
                                },
                                {
                                    "Department_Id": "30",
                                    "Name": "Research",
                                    "Location_Id": "123"
                                },
                                {
                                    "Department_Id": "40",
                                    "Name": "Operations",
                                    "Location_Id": "167"
                                }
                            ]
                        },
                        "text/html": "<table><tr><th>Department_Id</th><th>Name</th><th>Location_Id</th></tr><tr><td>10</td><td>Accounting</td><td>122</td></tr><tr><td>20</td><td>Sales</td><td>124</td></tr><tr><td>30</td><td>Research</td><td>123</td></tr><tr><td>40</td><td>Operations</td><td>167</td></tr></table>"
                    },
                    "metadata": {}
                }
            ],
            "execution_count": 5
        },
        {
            "cell_type": "code",
            "source": [
                "-- Task 3 : List all job details.\n",
                "\n",
                "Select * from JOb"
            ],
            "metadata": {
                "language": "sql",
                "azdata_cell_guid": "609947a2-3f70-405c-9f1b-ac19065af0d0"
            },
            "outputs": [
                {
                    "output_type": "display_data",
                    "data": {
                        "text/html": "(6 rows affected)"
                    },
                    "metadata": {}
                },
                {
                    "output_type": "display_data",
                    "data": {
                        "text/html": "Total execution time: 00:00:00.032"
                    },
                    "metadata": {}
                },
                {
                    "output_type": "execute_result",
                    "execution_count": 6,
                    "data": {
                        "application/vnd.dataresource+json": {
                            "schema": {
                                "fields": [
                                    {
                                        "name": "JOB_ID"
                                    },
                                    {
                                        "name": "DESIGNATION"
                                    }
                                ]
                            },
                            "data": [
                                {
                                    "JOB_ID": "667",
                                    "DESIGNATION": "CLERK"
                                },
                                {
                                    "JOB_ID": "668",
                                    "DESIGNATION": "STAFF"
                                },
                                {
                                    "JOB_ID": "669",
                                    "DESIGNATION": "ANALYST"
                                },
                                {
                                    "JOB_ID": "670",
                                    "DESIGNATION": "SALES_PERSON"
                                },
                                {
                                    "JOB_ID": "671",
                                    "DESIGNATION": "MANAGER"
                                },
                                {
                                    "JOB_ID": "672",
                                    "DESIGNATION": "PRESIDENT"
                                }
                            ]
                        },
                        "text/html": "<table><tr><th>JOB_ID</th><th>DESIGNATION</th></tr><tr><td>667</td><td>CLERK</td></tr><tr><td>668</td><td>STAFF</td></tr><tr><td>669</td><td>ANALYST</td></tr><tr><td>670</td><td>SALES_PERSON</td></tr><tr><td>671</td><td>MANAGER</td></tr><tr><td>672</td><td>PRESIDENT</td></tr></table>"
                    },
                    "metadata": {}
                }
            ],
            "execution_count": 6
        },
        {
            "cell_type": "code",
            "source": [
                "-- Task 4 : List all the locations.\n",
                "\n",
                "SELECT * FROM Location"
            ],
            "metadata": {
                "language": "sql",
                "azdata_cell_guid": "b6b0f7a9-a6e4-4e10-8d9b-0b942336f365"
            },
            "outputs": [
                {
                    "output_type": "display_data",
                    "data": {
                        "text/html": "(4 rows affected)"
                    },
                    "metadata": {}
                },
                {
                    "output_type": "display_data",
                    "data": {
                        "text/html": "Total execution time: 00:00:00.006"
                    },
                    "metadata": {}
                },
                {
                    "output_type": "execute_result",
                    "execution_count": 7,
                    "data": {
                        "application/vnd.dataresource+json": {
                            "schema": {
                                "fields": [
                                    {
                                        "name": "Location_ID"
                                    },
                                    {
                                        "name": "City"
                                    }
                                ]
                            },
                            "data": [
                                {
                                    "Location_ID": "122",
                                    "City": "New York"
                                },
                                {
                                    "Location_ID": "123",
                                    "City": "Dallas"
                                },
                                {
                                    "Location_ID": "124",
                                    "City": "Chicago"
                                },
                                {
                                    "Location_ID": "167",
                                    "City": "Boston"
                                }
                            ]
                        },
                        "text/html": "<table><tr><th>Location_ID</th><th>City</th></tr><tr><td>122</td><td>New York</td></tr><tr><td>123</td><td>Dallas</td></tr><tr><td>124</td><td>Chicago</td></tr><tr><td>167</td><td>Boston</td></tr></table>"
                    },
                    "metadata": {}
                }
            ],
            "execution_count": 7
        },
        {
            "cell_type": "code",
            "source": [
                "-- Task 5 : List out the First Name, Last Name, Salary, Commission for all Employees.\n",
                "\n",
                "SELECT first_name, last_name, Salary, Comm\n",
                "FROM Employee"
            ],
            "metadata": {
                "language": "sql",
                "azdata_cell_guid": "116a4a26-7e60-4c4b-a45e-34cfd451452b"
            },
            "outputs": [
                {
                    "output_type": "display_data",
                    "data": {
                        "text/html": "(6 rows affected)"
                    },
                    "metadata": {}
                },
                {
                    "output_type": "display_data",
                    "data": {
                        "text/html": "Total execution time: 00:00:00.043"
                    },
                    "metadata": {}
                },
                {
                    "output_type": "execute_result",
                    "execution_count": 8,
                    "data": {
                        "application/vnd.dataresource+json": {
                            "schema": {
                                "fields": [
                                    {
                                        "name": "first_name"
                                    },
                                    {
                                        "name": "last_name"
                                    },
                                    {
                                        "name": "Salary"
                                    },
                                    {
                                        "name": "Comm"
                                    }
                                ]
                            },
                            "data": [
                                {
                                    "first_name": "JOHN",
                                    "last_name": "SMITH",
                                    "Salary": "800",
                                    "Comm": "NULL"
                                },
                                {
                                    "first_name": "KEVIN",
                                    "last_name": "ALLEN",
                                    "Salary": "1600",
                                    "Comm": "300"
                                },
                                {
                                    "first_name": "JEAN",
                                    "last_name": "DOYLE",
                                    "Salary": "2850",
                                    "Comm": "NULL"
                                },
                                {
                                    "first_name": "LYNN",
                                    "last_name": "DENNIS",
                                    "Salary": "2750",
                                    "Comm": "NULL"
                                },
                                {
                                    "first_name": "LESLIE",
                                    "last_name": "BAKER",
                                    "Salary": "2200",
                                    "Comm": "NULL"
                                },
                                {
                                    "first_name": "CYNTHIA",
                                    "last_name": "WARK",
                                    "Salary": "1250",
                                    "Comm": "500"
                                }
                            ]
                        },
                        "text/html": "<table><tr><th>first_name</th><th>last_name</th><th>Salary</th><th>Comm</th></tr><tr><td>JOHN</td><td>SMITH</td><td>800</td><td>NULL</td></tr><tr><td>KEVIN</td><td>ALLEN</td><td>1600</td><td>300</td></tr><tr><td>JEAN</td><td>DOYLE</td><td>2850</td><td>NULL</td></tr><tr><td>LYNN</td><td>DENNIS</td><td>2750</td><td>NULL</td></tr><tr><td>LESLIE</td><td>BAKER</td><td>2200</td><td>NULL</td></tr><tr><td>CYNTHIA</td><td>WARK</td><td>1250</td><td>500</td></tr></table>"
                    },
                    "metadata": {}
                }
            ],
            "execution_count": 8
        },
        {
            "cell_type": "code",
            "source": [
                "-- Task 6 : List out the Employee ID, Last Name, Department ID for all employees and alias\n",
                "-- Employee ID as \"ID of the Employee\", Last Name as \"Name of the\n",
                "-- Employee\", Department ID as \"Dep_id\".\n",
                "\n",
                "SELECT employee_id AS 'ID of the Employee', last_name AS 'Name of the Employee', department_id AS 'Dep_id'\n",
                "FROM Employee"
            ],
            "metadata": {
                "language": "sql",
                "azdata_cell_guid": "89c92ada-30e6-453f-b03c-c0291e67936b"
            },
            "outputs": [
                {
                    "output_type": "display_data",
                    "data": {
                        "text/html": "(6 rows affected)"
                    },
                    "metadata": {}
                },
                {
                    "output_type": "display_data",
                    "data": {
                        "text/html": "Total execution time: 00:00:00.025"
                    },
                    "metadata": {}
                },
                {
                    "output_type": "execute_result",
                    "execution_count": 9,
                    "data": {
                        "application/vnd.dataresource+json": {
                            "schema": {
                                "fields": [
                                    {
                                        "name": "ID of the Employee"
                                    },
                                    {
                                        "name": "Name of the Employee"
                                    },
                                    {
                                        "name": "Dep_id"
                                    }
                                ]
                            },
                            "data": [
                                {
                                    "ID of the Employee": "7369",
                                    "Name of the Employee": "SMITH",
                                    "Dep_id": "20"
                                },
                                {
                                    "ID of the Employee": "7499",
                                    "Name of the Employee": "ALLEN",
                                    "Dep_id": "30"
                                },
                                {
                                    "ID of the Employee": "7505",
                                    "Name of the Employee": "DOYLE",
                                    "Dep_id": "30"
                                },
                                {
                                    "ID of the Employee": "7506",
                                    "Name of the Employee": "DENNIS",
                                    "Dep_id": "30"
                                },
                                {
                                    "ID of the Employee": "7507",
                                    "Name of the Employee": "BAKER",
                                    "Dep_id": "40"
                                },
                                {
                                    "ID of the Employee": "7521",
                                    "Name of the Employee": "WARK",
                                    "Dep_id": "30"
                                }
                            ]
                        },
                        "text/html": "<table><tr><th>ID of the Employee</th><th>Name of the Employee</th><th>Dep_id</th></tr><tr><td>7369</td><td>SMITH</td><td>20</td></tr><tr><td>7499</td><td>ALLEN</td><td>30</td></tr><tr><td>7505</td><td>DOYLE</td><td>30</td></tr><tr><td>7506</td><td>DENNIS</td><td>30</td></tr><tr><td>7507</td><td>BAKER</td><td>40</td></tr><tr><td>7521</td><td>WARK</td><td>30</td></tr></table>"
                    },
                    "metadata": {}
                }
            ],
            "execution_count": 9
        },
        {
            "cell_type": "code",
            "source": [
                "-- Task 7 : List out the annual salary of the employees with their names only.\n",
                "\n",
                "SELECT first_name, middle_name, last_name, salary\n",
                "FROM Employee"
            ],
            "metadata": {
                "language": "sql",
                "azdata_cell_guid": "6fa0cdab-6760-467f-89b8-3b09aa44331c"
            },
            "outputs": [
                {
                    "output_type": "display_data",
                    "data": {
                        "text/html": "(6 rows affected)"
                    },
                    "metadata": {}
                },
                {
                    "output_type": "display_data",
                    "data": {
                        "text/html": "Total execution time: 00:00:00.015"
                    },
                    "metadata": {}
                },
                {
                    "output_type": "execute_result",
                    "execution_count": 10,
                    "data": {
                        "application/vnd.dataresource+json": {
                            "schema": {
                                "fields": [
                                    {
                                        "name": "first_name"
                                    },
                                    {
                                        "name": "middle_name"
                                    },
                                    {
                                        "name": "last_name"
                                    },
                                    {
                                        "name": "salary"
                                    }
                                ]
                            },
                            "data": [
                                {
                                    "first_name": "JOHN",
                                    "middle_name": "Q",
                                    "last_name": "SMITH",
                                    "salary": "800"
                                },
                                {
                                    "first_name": "KEVIN",
                                    "middle_name": "J",
                                    "last_name": "ALLEN",
                                    "salary": "1600"
                                },
                                {
                                    "first_name": "JEAN",
                                    "middle_name": "K",
                                    "last_name": "DOYLE",
                                    "salary": "2850"
                                },
                                {
                                    "first_name": "LYNN",
                                    "middle_name": "S",
                                    "last_name": "DENNIS",
                                    "salary": "2750"
                                },
                                {
                                    "first_name": "LESLIE",
                                    "middle_name": "D",
                                    "last_name": "BAKER",
                                    "salary": "2200"
                                },
                                {
                                    "first_name": "CYNTHIA",
                                    "middle_name": "D",
                                    "last_name": "WARK",
                                    "salary": "1250"
                                }
                            ]
                        },
                        "text/html": "<table><tr><th>first_name</th><th>middle_name</th><th>last_name</th><th>salary</th></tr><tr><td>JOHN</td><td>Q</td><td>SMITH</td><td>800</td></tr><tr><td>KEVIN</td><td>J</td><td>ALLEN</td><td>1600</td></tr><tr><td>JEAN</td><td>K</td><td>DOYLE</td><td>2850</td></tr><tr><td>LYNN</td><td>S</td><td>DENNIS</td><td>2750</td></tr><tr><td>LESLIE</td><td>D</td><td>BAKER</td><td>2200</td></tr><tr><td>CYNTHIA</td><td>D</td><td>WARK</td><td>1250</td></tr></table>"
                    },
                    "metadata": {}
                }
            ],
            "execution_count": 10
        },
        {
            "cell_type": "markdown",
            "source": [
                "# **WHERE Condition**"
            ],
            "metadata": {
                "language": "sql",
                "azdata_cell_guid": "0fb4b4a5-2a91-4a86-b77b-5efbb9c2e258"
            },
            "attachments": {}
        },
        {
            "cell_type": "code",
            "source": [
                "-- Task 1 : List the details about \"Smith\".\n",
                "\n",
                "SELECT * \n",
                "FROM Employee\n",
                "WHERE first_name = 'Smith' OR last_name = 'Smith'"
            ],
            "metadata": {
                "language": "sql",
                "azdata_cell_guid": "748bcdee-e478-4969-8306-2c4705ca0455"
            },
            "outputs": [
                {
                    "output_type": "display_data",
                    "data": {
                        "text/html": "(1 row affected)"
                    },
                    "metadata": {}
                },
                {
                    "output_type": "display_data",
                    "data": {
                        "text/html": "Total execution time: 00:00:00.082"
                    },
                    "metadata": {}
                },
                {
                    "output_type": "execute_result",
                    "execution_count": 11,
                    "data": {
                        "application/vnd.dataresource+json": {
                            "schema": {
                                "fields": [
                                    {
                                        "name": "EMPLOYEE_ID"
                                    },
                                    {
                                        "name": "LAST_NAME"
                                    },
                                    {
                                        "name": "FIRST_NAME"
                                    },
                                    {
                                        "name": "MIDDLE_NAME"
                                    },
                                    {
                                        "name": "JOB_ID"
                                    },
                                    {
                                        "name": "MANAGER_ID"
                                    },
                                    {
                                        "name": "HIRE_DATE"
                                    },
                                    {
                                        "name": "SALARY"
                                    },
                                    {
                                        "name": "COMM"
                                    },
                                    {
                                        "name": "DEPARTMENT_ID"
                                    }
                                ]
                            },
                            "data": [
                                {
                                    "EMPLOYEE_ID": "7369",
                                    "LAST_NAME": "SMITH",
                                    "FIRST_NAME": "JOHN",
                                    "MIDDLE_NAME": "Q",
                                    "JOB_ID": "667",
                                    "MANAGER_ID": "7902",
                                    "HIRE_DATE": "1984-12-17",
                                    "SALARY": "800",
                                    "COMM": "NULL",
                                    "DEPARTMENT_ID": "20"
                                }
                            ]
                        },
                        "text/html": "<table><tr><th>EMPLOYEE_ID</th><th>LAST_NAME</th><th>FIRST_NAME</th><th>MIDDLE_NAME</th><th>JOB_ID</th><th>MANAGER_ID</th><th>HIRE_DATE</th><th>SALARY</th><th>COMM</th><th>DEPARTMENT_ID</th></tr><tr><td>7369</td><td>SMITH</td><td>JOHN</td><td>Q</td><td>667</td><td>7902</td><td>1984-12-17</td><td>800</td><td>NULL</td><td>20</td></tr></table>"
                    },
                    "metadata": {}
                }
            ],
            "execution_count": 11
        },
        {
            "cell_type": "code",
            "source": [
                "-- Task 2 : List out the employees who are working in department 20.\n",
                "\n",
                "SELECT * \n",
                "FROM Employee\n",
                "WHERE department_id = 20"
            ],
            "metadata": {
                "language": "sql",
                "azdata_cell_guid": "350e6e02-cb6b-4110-98b6-6d18e6f78659"
            },
            "outputs": [
                {
                    "output_type": "display_data",
                    "data": {
                        "text/html": "(1 row affected)"
                    },
                    "metadata": {}
                },
                {
                    "output_type": "display_data",
                    "data": {
                        "text/html": "Total execution time: 00:00:00.059"
                    },
                    "metadata": {}
                },
                {
                    "output_type": "execute_result",
                    "execution_count": 12,
                    "data": {
                        "application/vnd.dataresource+json": {
                            "schema": {
                                "fields": [
                                    {
                                        "name": "EMPLOYEE_ID"
                                    },
                                    {
                                        "name": "LAST_NAME"
                                    },
                                    {
                                        "name": "FIRST_NAME"
                                    },
                                    {
                                        "name": "MIDDLE_NAME"
                                    },
                                    {
                                        "name": "JOB_ID"
                                    },
                                    {
                                        "name": "MANAGER_ID"
                                    },
                                    {
                                        "name": "HIRE_DATE"
                                    },
                                    {
                                        "name": "SALARY"
                                    },
                                    {
                                        "name": "COMM"
                                    },
                                    {
                                        "name": "DEPARTMENT_ID"
                                    }
                                ]
                            },
                            "data": [
                                {
                                    "EMPLOYEE_ID": "7369",
                                    "LAST_NAME": "SMITH",
                                    "FIRST_NAME": "JOHN",
                                    "MIDDLE_NAME": "Q",
                                    "JOB_ID": "667",
                                    "MANAGER_ID": "7902",
                                    "HIRE_DATE": "1984-12-17",
                                    "SALARY": "800",
                                    "COMM": "NULL",
                                    "DEPARTMENT_ID": "20"
                                }
                            ]
                        },
                        "text/html": "<table><tr><th>EMPLOYEE_ID</th><th>LAST_NAME</th><th>FIRST_NAME</th><th>MIDDLE_NAME</th><th>JOB_ID</th><th>MANAGER_ID</th><th>HIRE_DATE</th><th>SALARY</th><th>COMM</th><th>DEPARTMENT_ID</th></tr><tr><td>7369</td><td>SMITH</td><td>JOHN</td><td>Q</td><td>667</td><td>7902</td><td>1984-12-17</td><td>800</td><td>NULL</td><td>20</td></tr></table>"
                    },
                    "metadata": {}
                }
            ],
            "execution_count": 12
        },
        {
            "cell_type": "code",
            "source": [
                "-- Task 3 : List out the employees who are earning salaries between 3000 and 4500.\n",
                "SELECT * \n",
                "FROM Employee\n",
                "WHERE Salary BETWEEN 3000 and 4500"
            ],
            "metadata": {
                "language": "sql",
                "azdata_cell_guid": "e8651799-b49d-4d16-92dd-cba0037fd34b"
            },
            "outputs": [
                {
                    "output_type": "display_data",
                    "data": {
                        "text/html": "(0 rows affected)"
                    },
                    "metadata": {}
                },
                {
                    "output_type": "display_data",
                    "data": {
                        "text/html": "Total execution time: 00:00:00.072"
                    },
                    "metadata": {}
                },
                {
                    "output_type": "execute_result",
                    "execution_count": 13,
                    "data": {
                        "application/vnd.dataresource+json": {
                            "schema": {
                                "fields": [
                                    {
                                        "name": "EMPLOYEE_ID"
                                    },
                                    {
                                        "name": "LAST_NAME"
                                    },
                                    {
                                        "name": "FIRST_NAME"
                                    },
                                    {
                                        "name": "MIDDLE_NAME"
                                    },
                                    {
                                        "name": "JOB_ID"
                                    },
                                    {
                                        "name": "MANAGER_ID"
                                    },
                                    {
                                        "name": "HIRE_DATE"
                                    },
                                    {
                                        "name": "SALARY"
                                    },
                                    {
                                        "name": "COMM"
                                    },
                                    {
                                        "name": "DEPARTMENT_ID"
                                    }
                                ]
                            },
                            "data": []
                        },
                        "text/html": "<table><tr><th>EMPLOYEE_ID</th><th>LAST_NAME</th><th>FIRST_NAME</th><th>MIDDLE_NAME</th><th>JOB_ID</th><th>MANAGER_ID</th><th>HIRE_DATE</th><th>SALARY</th><th>COMM</th><th>DEPARTMENT_ID</th></tr></table>"
                    },
                    "metadata": {}
                }
            ],
            "execution_count": 13
        },
        {
            "cell_type": "code",
            "source": [
                "-- Task 4 : List out the employees who are working in department 10 or 20.\n",
                "\n",
                "SELECT * \n",
                "FROM Employee\n",
                "WHERE Department_id IN (10,20)"
            ],
            "metadata": {
                "language": "sql",
                "azdata_cell_guid": "a5228ab3-4a81-4d23-b7c8-38c0998ad140"
            },
            "outputs": [
                {
                    "output_type": "display_data",
                    "data": {
                        "text/html": "(1 row affected)"
                    },
                    "metadata": {}
                },
                {
                    "output_type": "display_data",
                    "data": {
                        "text/html": "Total execution time: 00:00:00.028"
                    },
                    "metadata": {}
                },
                {
                    "output_type": "execute_result",
                    "execution_count": 14,
                    "data": {
                        "application/vnd.dataresource+json": {
                            "schema": {
                                "fields": [
                                    {
                                        "name": "EMPLOYEE_ID"
                                    },
                                    {
                                        "name": "LAST_NAME"
                                    },
                                    {
                                        "name": "FIRST_NAME"
                                    },
                                    {
                                        "name": "MIDDLE_NAME"
                                    },
                                    {
                                        "name": "JOB_ID"
                                    },
                                    {
                                        "name": "MANAGER_ID"
                                    },
                                    {
                                        "name": "HIRE_DATE"
                                    },
                                    {
                                        "name": "SALARY"
                                    },
                                    {
                                        "name": "COMM"
                                    },
                                    {
                                        "name": "DEPARTMENT_ID"
                                    }
                                ]
                            },
                            "data": [
                                {
                                    "EMPLOYEE_ID": "7369",
                                    "LAST_NAME": "SMITH",
                                    "FIRST_NAME": "JOHN",
                                    "MIDDLE_NAME": "Q",
                                    "JOB_ID": "667",
                                    "MANAGER_ID": "7902",
                                    "HIRE_DATE": "1984-12-17",
                                    "SALARY": "800",
                                    "COMM": "NULL",
                                    "DEPARTMENT_ID": "20"
                                }
                            ]
                        },
                        "text/html": "<table><tr><th>EMPLOYEE_ID</th><th>LAST_NAME</th><th>FIRST_NAME</th><th>MIDDLE_NAME</th><th>JOB_ID</th><th>MANAGER_ID</th><th>HIRE_DATE</th><th>SALARY</th><th>COMM</th><th>DEPARTMENT_ID</th></tr><tr><td>7369</td><td>SMITH</td><td>JOHN</td><td>Q</td><td>667</td><td>7902</td><td>1984-12-17</td><td>800</td><td>NULL</td><td>20</td></tr></table>"
                    },
                    "metadata": {}
                }
            ],
            "execution_count": 14
        },
        {
            "cell_type": "code",
            "source": [
                "-- Task 5 : Find out the employees who are not working in department 10 or 30.\n",
                "\n",
                "SELECT * \n",
                "FROM Employee\n",
                "WHERE Department_id NOT IN (10,30)"
            ],
            "metadata": {
                "language": "sql",
                "azdata_cell_guid": "f400059e-e91a-4c63-91ac-2a1e107cf719"
            },
            "outputs": [
                {
                    "output_type": "display_data",
                    "data": {
                        "text/html": "(2 rows affected)"
                    },
                    "metadata": {}
                },
                {
                    "output_type": "display_data",
                    "data": {
                        "text/html": "Total execution time: 00:00:00.051"
                    },
                    "metadata": {}
                },
                {
                    "output_type": "execute_result",
                    "execution_count": 15,
                    "data": {
                        "application/vnd.dataresource+json": {
                            "schema": {
                                "fields": [
                                    {
                                        "name": "EMPLOYEE_ID"
                                    },
                                    {
                                        "name": "LAST_NAME"
                                    },
                                    {
                                        "name": "FIRST_NAME"
                                    },
                                    {
                                        "name": "MIDDLE_NAME"
                                    },
                                    {
                                        "name": "JOB_ID"
                                    },
                                    {
                                        "name": "MANAGER_ID"
                                    },
                                    {
                                        "name": "HIRE_DATE"
                                    },
                                    {
                                        "name": "SALARY"
                                    },
                                    {
                                        "name": "COMM"
                                    },
                                    {
                                        "name": "DEPARTMENT_ID"
                                    }
                                ]
                            },
                            "data": [
                                {
                                    "EMPLOYEE_ID": "7369",
                                    "LAST_NAME": "SMITH",
                                    "FIRST_NAME": "JOHN",
                                    "MIDDLE_NAME": "Q",
                                    "JOB_ID": "667",
                                    "MANAGER_ID": "7902",
                                    "HIRE_DATE": "1984-12-17",
                                    "SALARY": "800",
                                    "COMM": "NULL",
                                    "DEPARTMENT_ID": "20"
                                },
                                {
                                    "EMPLOYEE_ID": "7507",
                                    "LAST_NAME": "BAKER",
                                    "FIRST_NAME": "LESLIE",
                                    "MIDDLE_NAME": "D",
                                    "JOB_ID": "671",
                                    "MANAGER_ID": "7839",
                                    "HIRE_DATE": "1985-06-10",
                                    "SALARY": "2200",
                                    "COMM": "NULL",
                                    "DEPARTMENT_ID": "40"
                                }
                            ]
                        },
                        "text/html": "<table><tr><th>EMPLOYEE_ID</th><th>LAST_NAME</th><th>FIRST_NAME</th><th>MIDDLE_NAME</th><th>JOB_ID</th><th>MANAGER_ID</th><th>HIRE_DATE</th><th>SALARY</th><th>COMM</th><th>DEPARTMENT_ID</th></tr><tr><td>7369</td><td>SMITH</td><td>JOHN</td><td>Q</td><td>667</td><td>7902</td><td>1984-12-17</td><td>800</td><td>NULL</td><td>20</td></tr><tr><td>7507</td><td>BAKER</td><td>LESLIE</td><td>D</td><td>671</td><td>7839</td><td>1985-06-10</td><td>2200</td><td>NULL</td><td>40</td></tr></table>"
                    },
                    "metadata": {}
                }
            ],
            "execution_count": 15
        },
        {
            "cell_type": "code",
            "source": [
                "-- Task 6 : List out the employees whose name starts with 'S'.\n",
                "\n",
                "-- Assumption : from here onwards wherever the name is referred it will be considered as last_name\n",
                "\n",
                "SELECT * \n",
                "FROM Employee\n",
                "WHERE last_name LIKE 'S%'"
            ],
            "metadata": {
                "language": "sql",
                "azdata_cell_guid": "871018b3-b3d7-4261-8c75-bf0f1fce5e25"
            },
            "outputs": [
                {
                    "output_type": "display_data",
                    "data": {
                        "text/html": "(1 row affected)"
                    },
                    "metadata": {}
                },
                {
                    "output_type": "display_data",
                    "data": {
                        "text/html": "Total execution time: 00:00:00.045"
                    },
                    "metadata": {}
                },
                {
                    "output_type": "execute_result",
                    "execution_count": 16,
                    "data": {
                        "application/vnd.dataresource+json": {
                            "schema": {
                                "fields": [
                                    {
                                        "name": "EMPLOYEE_ID"
                                    },
                                    {
                                        "name": "LAST_NAME"
                                    },
                                    {
                                        "name": "FIRST_NAME"
                                    },
                                    {
                                        "name": "MIDDLE_NAME"
                                    },
                                    {
                                        "name": "JOB_ID"
                                    },
                                    {
                                        "name": "MANAGER_ID"
                                    },
                                    {
                                        "name": "HIRE_DATE"
                                    },
                                    {
                                        "name": "SALARY"
                                    },
                                    {
                                        "name": "COMM"
                                    },
                                    {
                                        "name": "DEPARTMENT_ID"
                                    }
                                ]
                            },
                            "data": [
                                {
                                    "EMPLOYEE_ID": "7369",
                                    "LAST_NAME": "SMITH",
                                    "FIRST_NAME": "JOHN",
                                    "MIDDLE_NAME": "Q",
                                    "JOB_ID": "667",
                                    "MANAGER_ID": "7902",
                                    "HIRE_DATE": "1984-12-17",
                                    "SALARY": "800",
                                    "COMM": "NULL",
                                    "DEPARTMENT_ID": "20"
                                }
                            ]
                        },
                        "text/html": "<table><tr><th>EMPLOYEE_ID</th><th>LAST_NAME</th><th>FIRST_NAME</th><th>MIDDLE_NAME</th><th>JOB_ID</th><th>MANAGER_ID</th><th>HIRE_DATE</th><th>SALARY</th><th>COMM</th><th>DEPARTMENT_ID</th></tr><tr><td>7369</td><td>SMITH</td><td>JOHN</td><td>Q</td><td>667</td><td>7902</td><td>1984-12-17</td><td>800</td><td>NULL</td><td>20</td></tr></table>"
                    },
                    "metadata": {}
                }
            ],
            "execution_count": 16
        },
        {
            "cell_type": "code",
            "source": [
                "-- Task 7 : List out the employees whose name starts with 'S' and ends with 'H'.\n",
                "\n",
                "SELECT * \n",
                "FROM Employee\n",
                "WHERE last_name LIKE 'S%H'"
            ],
            "metadata": {
                "language": "sql",
                "azdata_cell_guid": "1430ce24-6074-493a-84b9-3cf9dbef5415"
            },
            "outputs": [
                {
                    "output_type": "display_data",
                    "data": {
                        "text/html": "(1 row affected)"
                    },
                    "metadata": {}
                },
                {
                    "output_type": "display_data",
                    "data": {
                        "text/html": "Total execution time: 00:00:00.055"
                    },
                    "metadata": {}
                },
                {
                    "output_type": "execute_result",
                    "execution_count": 17,
                    "data": {
                        "application/vnd.dataresource+json": {
                            "schema": {
                                "fields": [
                                    {
                                        "name": "EMPLOYEE_ID"
                                    },
                                    {
                                        "name": "LAST_NAME"
                                    },
                                    {
                                        "name": "FIRST_NAME"
                                    },
                                    {
                                        "name": "MIDDLE_NAME"
                                    },
                                    {
                                        "name": "JOB_ID"
                                    },
                                    {
                                        "name": "MANAGER_ID"
                                    },
                                    {
                                        "name": "HIRE_DATE"
                                    },
                                    {
                                        "name": "SALARY"
                                    },
                                    {
                                        "name": "COMM"
                                    },
                                    {
                                        "name": "DEPARTMENT_ID"
                                    }
                                ]
                            },
                            "data": [
                                {
                                    "EMPLOYEE_ID": "7369",
                                    "LAST_NAME": "SMITH",
                                    "FIRST_NAME": "JOHN",
                                    "MIDDLE_NAME": "Q",
                                    "JOB_ID": "667",
                                    "MANAGER_ID": "7902",
                                    "HIRE_DATE": "1984-12-17",
                                    "SALARY": "800",
                                    "COMM": "NULL",
                                    "DEPARTMENT_ID": "20"
                                }
                            ]
                        },
                        "text/html": "<table><tr><th>EMPLOYEE_ID</th><th>LAST_NAME</th><th>FIRST_NAME</th><th>MIDDLE_NAME</th><th>JOB_ID</th><th>MANAGER_ID</th><th>HIRE_DATE</th><th>SALARY</th><th>COMM</th><th>DEPARTMENT_ID</th></tr><tr><td>7369</td><td>SMITH</td><td>JOHN</td><td>Q</td><td>667</td><td>7902</td><td>1984-12-17</td><td>800</td><td>NULL</td><td>20</td></tr></table>"
                    },
                    "metadata": {}
                }
            ],
            "execution_count": 17
        },
        {
            "cell_type": "code",
            "source": [
                "-- Task 8 : List out the employees whose name length is 4 and start with 'S'.\n",
                "\n",
                "SELECT * \n",
                "FROM Employee\n",
                "WHERE last_name LIKE 'S%' and LEN(last_name) = 4"
            ],
            "metadata": {
                "language": "sql",
                "azdata_cell_guid": "51db5fcb-d3a7-419a-ae59-bfbbaff56959"
            },
            "outputs": [
                {
                    "output_type": "display_data",
                    "data": {
                        "text/html": "(0 rows affected)"
                    },
                    "metadata": {}
                },
                {
                    "output_type": "display_data",
                    "data": {
                        "text/html": "Total execution time: 00:00:00.034"
                    },
                    "metadata": {}
                },
                {
                    "output_type": "execute_result",
                    "execution_count": 18,
                    "data": {
                        "application/vnd.dataresource+json": {
                            "schema": {
                                "fields": [
                                    {
                                        "name": "EMPLOYEE_ID"
                                    },
                                    {
                                        "name": "LAST_NAME"
                                    },
                                    {
                                        "name": "FIRST_NAME"
                                    },
                                    {
                                        "name": "MIDDLE_NAME"
                                    },
                                    {
                                        "name": "JOB_ID"
                                    },
                                    {
                                        "name": "MANAGER_ID"
                                    },
                                    {
                                        "name": "HIRE_DATE"
                                    },
                                    {
                                        "name": "SALARY"
                                    },
                                    {
                                        "name": "COMM"
                                    },
                                    {
                                        "name": "DEPARTMENT_ID"
                                    }
                                ]
                            },
                            "data": []
                        },
                        "text/html": "<table><tr><th>EMPLOYEE_ID</th><th>LAST_NAME</th><th>FIRST_NAME</th><th>MIDDLE_NAME</th><th>JOB_ID</th><th>MANAGER_ID</th><th>HIRE_DATE</th><th>SALARY</th><th>COMM</th><th>DEPARTMENT_ID</th></tr></table>"
                    },
                    "metadata": {}
                }
            ],
            "execution_count": 18
        },
        {
            "cell_type": "code",
            "source": [
                "-- Task 9 : List out employees who are working in department 10 and draw salaries more than 3500.\n",
                "\n",
                "SELECT * \n",
                "FROM Employee\n",
                "WHERE department_id = 10 AND salary > 3500"
            ],
            "metadata": {
                "language": "sql",
                "azdata_cell_guid": "cd1118b9-ca8a-4ccf-b702-d7e0ac913281"
            },
            "outputs": [
                {
                    "output_type": "display_data",
                    "data": {
                        "text/html": "(0 rows affected)"
                    },
                    "metadata": {}
                },
                {
                    "output_type": "display_data",
                    "data": {
                        "text/html": "Total execution time: 00:00:00.005"
                    },
                    "metadata": {}
                },
                {
                    "output_type": "execute_result",
                    "execution_count": 20,
                    "data": {
                        "application/vnd.dataresource+json": {
                            "schema": {
                                "fields": [
                                    {
                                        "name": "EMPLOYEE_ID"
                                    },
                                    {
                                        "name": "LAST_NAME"
                                    },
                                    {
                                        "name": "FIRST_NAME"
                                    },
                                    {
                                        "name": "MIDDLE_NAME"
                                    },
                                    {
                                        "name": "JOB_ID"
                                    },
                                    {
                                        "name": "MANAGER_ID"
                                    },
                                    {
                                        "name": "HIRE_DATE"
                                    },
                                    {
                                        "name": "SALARY"
                                    },
                                    {
                                        "name": "COMM"
                                    },
                                    {
                                        "name": "DEPARTMENT_ID"
                                    }
                                ]
                            },
                            "data": []
                        },
                        "text/html": "<table><tr><th>EMPLOYEE_ID</th><th>LAST_NAME</th><th>FIRST_NAME</th><th>MIDDLE_NAME</th><th>JOB_ID</th><th>MANAGER_ID</th><th>HIRE_DATE</th><th>SALARY</th><th>COMM</th><th>DEPARTMENT_ID</th></tr></table>"
                    },
                    "metadata": {}
                }
            ],
            "execution_count": 20
        },
        {
            "cell_type": "code",
            "source": [
                "-- Task 10 : List out the employees who are not receiving commission.\n",
                "\n",
                "SELECT * \n",
                "FROM Employee\n",
                "WHERE comm IS NULL"
            ],
            "metadata": {
                "language": "sql",
                "azdata_cell_guid": "2d530d65-b020-49e0-a881-787bdefffc54"
            },
            "outputs": [
                {
                    "output_type": "display_data",
                    "data": {
                        "text/html": "(4 rows affected)"
                    },
                    "metadata": {}
                },
                {
                    "output_type": "display_data",
                    "data": {
                        "text/html": "Total execution time: 00:00:00.053"
                    },
                    "metadata": {}
                },
                {
                    "output_type": "execute_result",
                    "execution_count": 21,
                    "data": {
                        "application/vnd.dataresource+json": {
                            "schema": {
                                "fields": [
                                    {
                                        "name": "EMPLOYEE_ID"
                                    },
                                    {
                                        "name": "LAST_NAME"
                                    },
                                    {
                                        "name": "FIRST_NAME"
                                    },
                                    {
                                        "name": "MIDDLE_NAME"
                                    },
                                    {
                                        "name": "JOB_ID"
                                    },
                                    {
                                        "name": "MANAGER_ID"
                                    },
                                    {
                                        "name": "HIRE_DATE"
                                    },
                                    {
                                        "name": "SALARY"
                                    },
                                    {
                                        "name": "COMM"
                                    },
                                    {
                                        "name": "DEPARTMENT_ID"
                                    }
                                ]
                            },
                            "data": [
                                {
                                    "EMPLOYEE_ID": "7369",
                                    "LAST_NAME": "SMITH",
                                    "FIRST_NAME": "JOHN",
                                    "MIDDLE_NAME": "Q",
                                    "JOB_ID": "667",
                                    "MANAGER_ID": "7902",
                                    "HIRE_DATE": "1984-12-17",
                                    "SALARY": "800",
                                    "COMM": "NULL",
                                    "DEPARTMENT_ID": "20"
                                },
                                {
                                    "EMPLOYEE_ID": "7505",
                                    "LAST_NAME": "DOYLE",
                                    "FIRST_NAME": "JEAN",
                                    "MIDDLE_NAME": "K",
                                    "JOB_ID": "671",
                                    "MANAGER_ID": "7839",
                                    "HIRE_DATE": "1985-04-04",
                                    "SALARY": "2850",
                                    "COMM": "NULL",
                                    "DEPARTMENT_ID": "30"
                                },
                                {
                                    "EMPLOYEE_ID": "7506",
                                    "LAST_NAME": "DENNIS",
                                    "FIRST_NAME": "LYNN",
                                    "MIDDLE_NAME": "S",
                                    "JOB_ID": "671",
                                    "MANAGER_ID": "7839",
                                    "HIRE_DATE": "1985-05-15",
                                    "SALARY": "2750",
                                    "COMM": "NULL",
                                    "DEPARTMENT_ID": "30"
                                },
                                {
                                    "EMPLOYEE_ID": "7507",
                                    "LAST_NAME": "BAKER",
                                    "FIRST_NAME": "LESLIE",
                                    "MIDDLE_NAME": "D",
                                    "JOB_ID": "671",
                                    "MANAGER_ID": "7839",
                                    "HIRE_DATE": "1985-06-10",
                                    "SALARY": "2200",
                                    "COMM": "NULL",
                                    "DEPARTMENT_ID": "40"
                                }
                            ]
                        },
                        "text/html": "<table><tr><th>EMPLOYEE_ID</th><th>LAST_NAME</th><th>FIRST_NAME</th><th>MIDDLE_NAME</th><th>JOB_ID</th><th>MANAGER_ID</th><th>HIRE_DATE</th><th>SALARY</th><th>COMM</th><th>DEPARTMENT_ID</th></tr><tr><td>7369</td><td>SMITH</td><td>JOHN</td><td>Q</td><td>667</td><td>7902</td><td>1984-12-17</td><td>800</td><td>NULL</td><td>20</td></tr><tr><td>7505</td><td>DOYLE</td><td>JEAN</td><td>K</td><td>671</td><td>7839</td><td>1985-04-04</td><td>2850</td><td>NULL</td><td>30</td></tr><tr><td>7506</td><td>DENNIS</td><td>LYNN</td><td>S</td><td>671</td><td>7839</td><td>1985-05-15</td><td>2750</td><td>NULL</td><td>30</td></tr><tr><td>7507</td><td>BAKER</td><td>LESLIE</td><td>D</td><td>671</td><td>7839</td><td>1985-06-10</td><td>2200</td><td>NULL</td><td>40</td></tr></table>"
                    },
                    "metadata": {}
                }
            ],
            "execution_count": 21
        },
        {
            "cell_type": "markdown",
            "source": [
                "# **ORDER BY Clause**"
            ],
            "metadata": {
                "language": "sql",
                "azdata_cell_guid": "d83ad085-65fb-413b-972c-e90462e20f8a"
            },
            "attachments": {}
        },
        {
            "cell_type": "code",
            "source": [
                "-- Task 1 : List out the Employee ID and Last Name in ascending order based on the Employee ID.\n",
                "\n",
                "SELECT employee_id, last_name\n",
                "FROM Employee\n",
                "ORDER BY employee_id -- As the default order is ASC"
            ],
            "metadata": {
                "language": "sql",
                "azdata_cell_guid": "6edc5838-b451-475f-b122-cc8529c5d6d4"
            },
            "outputs": [
                {
                    "output_type": "display_data",
                    "data": {
                        "text/html": "(6 rows affected)"
                    },
                    "metadata": {}
                },
                {
                    "output_type": "display_data",
                    "data": {
                        "text/html": "Total execution time: 00:00:00.039"
                    },
                    "metadata": {}
                },
                {
                    "output_type": "execute_result",
                    "execution_count": 22,
                    "data": {
                        "application/vnd.dataresource+json": {
                            "schema": {
                                "fields": [
                                    {
                                        "name": "employee_id"
                                    },
                                    {
                                        "name": "last_name"
                                    }
                                ]
                            },
                            "data": [
                                {
                                    "employee_id": "7369",
                                    "last_name": "SMITH"
                                },
                                {
                                    "employee_id": "7499",
                                    "last_name": "ALLEN"
                                },
                                {
                                    "employee_id": "7505",
                                    "last_name": "DOYLE"
                                },
                                {
                                    "employee_id": "7506",
                                    "last_name": "DENNIS"
                                },
                                {
                                    "employee_id": "7507",
                                    "last_name": "BAKER"
                                },
                                {
                                    "employee_id": "7521",
                                    "last_name": "WARK"
                                }
                            ]
                        },
                        "text/html": "<table><tr><th>employee_id</th><th>last_name</th></tr><tr><td>7369</td><td>SMITH</td></tr><tr><td>7499</td><td>ALLEN</td></tr><tr><td>7505</td><td>DOYLE</td></tr><tr><td>7506</td><td>DENNIS</td></tr><tr><td>7507</td><td>BAKER</td></tr><tr><td>7521</td><td>WARK</td></tr></table>"
                    },
                    "metadata": {}
                }
            ],
            "execution_count": 22
        },
        {
            "cell_type": "code",
            "source": [
                "-- Task 2 : List out the Employee ID and Name in descending order based on salary.\n",
                "\n",
                "SELECT employee_id, last_name\n",
                "FROM Employee\n",
                "ORDER BY Salary DESC"
            ],
            "metadata": {
                "language": "sql",
                "azdata_cell_guid": "9d3c8ffd-c5a6-47d8-bb28-7ef8ef149d84"
            },
            "outputs": [
                {
                    "output_type": "display_data",
                    "data": {
                        "text/html": "(6 rows affected)"
                    },
                    "metadata": {}
                },
                {
                    "output_type": "display_data",
                    "data": {
                        "text/html": "Total execution time: 00:00:00.034"
                    },
                    "metadata": {}
                },
                {
                    "output_type": "execute_result",
                    "execution_count": 23,
                    "data": {
                        "application/vnd.dataresource+json": {
                            "schema": {
                                "fields": [
                                    {
                                        "name": "employee_id"
                                    },
                                    {
                                        "name": "last_name"
                                    }
                                ]
                            },
                            "data": [
                                {
                                    "employee_id": "7505",
                                    "last_name": "DOYLE"
                                },
                                {
                                    "employee_id": "7506",
                                    "last_name": "DENNIS"
                                },
                                {
                                    "employee_id": "7507",
                                    "last_name": "BAKER"
                                },
                                {
                                    "employee_id": "7499",
                                    "last_name": "ALLEN"
                                },
                                {
                                    "employee_id": "7521",
                                    "last_name": "WARK"
                                },
                                {
                                    "employee_id": "7369",
                                    "last_name": "SMITH"
                                }
                            ]
                        },
                        "text/html": "<table><tr><th>employee_id</th><th>last_name</th></tr><tr><td>7505</td><td>DOYLE</td></tr><tr><td>7506</td><td>DENNIS</td></tr><tr><td>7507</td><td>BAKER</td></tr><tr><td>7499</td><td>ALLEN</td></tr><tr><td>7521</td><td>WARK</td></tr><tr><td>7369</td><td>SMITH</td></tr></table>"
                    },
                    "metadata": {}
                }
            ],
            "execution_count": 23
        },
        {
            "cell_type": "code",
            "source": [
                "-- Task 3 : List out the employee details according to their Last Name in ascending-order.\n",
                "\n",
                "SELECT *\n",
                "FROM Employee\n",
                "ORDER BY last_name ASC"
            ],
            "metadata": {
                "language": "sql",
                "azdata_cell_guid": "8ef9fb70-2e79-4e71-8211-898606f64d4a"
            },
            "outputs": [
                {
                    "output_type": "display_data",
                    "data": {
                        "text/html": "(6 rows affected)"
                    },
                    "metadata": {}
                },
                {
                    "output_type": "display_data",
                    "data": {
                        "text/html": "Total execution time: 00:00:00.041"
                    },
                    "metadata": {}
                },
                {
                    "output_type": "execute_result",
                    "execution_count": 24,
                    "data": {
                        "application/vnd.dataresource+json": {
                            "schema": {
                                "fields": [
                                    {
                                        "name": "EMPLOYEE_ID"
                                    },
                                    {
                                        "name": "LAST_NAME"
                                    },
                                    {
                                        "name": "FIRST_NAME"
                                    },
                                    {
                                        "name": "MIDDLE_NAME"
                                    },
                                    {
                                        "name": "JOB_ID"
                                    },
                                    {
                                        "name": "MANAGER_ID"
                                    },
                                    {
                                        "name": "HIRE_DATE"
                                    },
                                    {
                                        "name": "SALARY"
                                    },
                                    {
                                        "name": "COMM"
                                    },
                                    {
                                        "name": "DEPARTMENT_ID"
                                    }
                                ]
                            },
                            "data": [
                                {
                                    "EMPLOYEE_ID": "7499",
                                    "LAST_NAME": "ALLEN",
                                    "FIRST_NAME": "KEVIN",
                                    "MIDDLE_NAME": "J",
                                    "JOB_ID": "670",
                                    "MANAGER_ID": "7698",
                                    "HIRE_DATE": "1984-02-20",
                                    "SALARY": "1600",
                                    "COMM": "300",
                                    "DEPARTMENT_ID": "30"
                                },
                                {
                                    "EMPLOYEE_ID": "7507",
                                    "LAST_NAME": "BAKER",
                                    "FIRST_NAME": "LESLIE",
                                    "MIDDLE_NAME": "D",
                                    "JOB_ID": "671",
                                    "MANAGER_ID": "7839",
                                    "HIRE_DATE": "1985-06-10",
                                    "SALARY": "2200",
                                    "COMM": "NULL",
                                    "DEPARTMENT_ID": "40"
                                },
                                {
                                    "EMPLOYEE_ID": "7506",
                                    "LAST_NAME": "DENNIS",
                                    "FIRST_NAME": "LYNN",
                                    "MIDDLE_NAME": "S",
                                    "JOB_ID": "671",
                                    "MANAGER_ID": "7839",
                                    "HIRE_DATE": "1985-05-15",
                                    "SALARY": "2750",
                                    "COMM": "NULL",
                                    "DEPARTMENT_ID": "30"
                                },
                                {
                                    "EMPLOYEE_ID": "7505",
                                    "LAST_NAME": "DOYLE",
                                    "FIRST_NAME": "JEAN",
                                    "MIDDLE_NAME": "K",
                                    "JOB_ID": "671",
                                    "MANAGER_ID": "7839",
                                    "HIRE_DATE": "1985-04-04",
                                    "SALARY": "2850",
                                    "COMM": "NULL",
                                    "DEPARTMENT_ID": "30"
                                },
                                {
                                    "EMPLOYEE_ID": "7369",
                                    "LAST_NAME": "SMITH",
                                    "FIRST_NAME": "JOHN",
                                    "MIDDLE_NAME": "Q",
                                    "JOB_ID": "667",
                                    "MANAGER_ID": "7902",
                                    "HIRE_DATE": "1984-12-17",
                                    "SALARY": "800",
                                    "COMM": "NULL",
                                    "DEPARTMENT_ID": "20"
                                },
                                {
                                    "EMPLOYEE_ID": "7521",
                                    "LAST_NAME": "WARK",
                                    "FIRST_NAME": "CYNTHIA",
                                    "MIDDLE_NAME": "D",
                                    "JOB_ID": "670",
                                    "MANAGER_ID": "7698",
                                    "HIRE_DATE": "1985-02-22",
                                    "SALARY": "1250",
                                    "COMM": "500",
                                    "DEPARTMENT_ID": "30"
                                }
                            ]
                        },
                        "text/html": "<table><tr><th>EMPLOYEE_ID</th><th>LAST_NAME</th><th>FIRST_NAME</th><th>MIDDLE_NAME</th><th>JOB_ID</th><th>MANAGER_ID</th><th>HIRE_DATE</th><th>SALARY</th><th>COMM</th><th>DEPARTMENT_ID</th></tr><tr><td>7499</td><td>ALLEN</td><td>KEVIN</td><td>J</td><td>670</td><td>7698</td><td>1984-02-20</td><td>1600</td><td>300</td><td>30</td></tr><tr><td>7507</td><td>BAKER</td><td>LESLIE</td><td>D</td><td>671</td><td>7839</td><td>1985-06-10</td><td>2200</td><td>NULL</td><td>40</td></tr><tr><td>7506</td><td>DENNIS</td><td>LYNN</td><td>S</td><td>671</td><td>7839</td><td>1985-05-15</td><td>2750</td><td>NULL</td><td>30</td></tr><tr><td>7505</td><td>DOYLE</td><td>JEAN</td><td>K</td><td>671</td><td>7839</td><td>1985-04-04</td><td>2850</td><td>NULL</td><td>30</td></tr><tr><td>7369</td><td>SMITH</td><td>JOHN</td><td>Q</td><td>667</td><td>7902</td><td>1984-12-17</td><td>800</td><td>NULL</td><td>20</td></tr><tr><td>7521</td><td>WARK</td><td>CYNTHIA</td><td>D</td><td>670</td><td>7698</td><td>1985-02-22</td><td>1250</td><td>500</td><td>30</td></tr></table>"
                    },
                    "metadata": {}
                }
            ],
            "execution_count": 24
        },
        {
            "cell_type": "code",
            "source": [
                "-- Task 4 : List out the employee details according to their Last Name in ascending\n",
                "-- order and then Department ID in descending order\n",
                "\n",
                "SELECT *\n",
                "FROM Employee\n",
                "ORDER BY last_name ASC, department_id DESC"
            ],
            "metadata": {
                "language": "sql",
                "azdata_cell_guid": "4368b838-1267-47c9-a22e-d7e708eef645"
            },
            "outputs": [
                {
                    "output_type": "display_data",
                    "data": {
                        "text/html": "(6 rows affected)"
                    },
                    "metadata": {}
                },
                {
                    "output_type": "display_data",
                    "data": {
                        "text/html": "Total execution time: 00:00:00.028"
                    },
                    "metadata": {}
                },
                {
                    "output_type": "execute_result",
                    "execution_count": 25,
                    "data": {
                        "application/vnd.dataresource+json": {
                            "schema": {
                                "fields": [
                                    {
                                        "name": "EMPLOYEE_ID"
                                    },
                                    {
                                        "name": "LAST_NAME"
                                    },
                                    {
                                        "name": "FIRST_NAME"
                                    },
                                    {
                                        "name": "MIDDLE_NAME"
                                    },
                                    {
                                        "name": "JOB_ID"
                                    },
                                    {
                                        "name": "MANAGER_ID"
                                    },
                                    {
                                        "name": "HIRE_DATE"
                                    },
                                    {
                                        "name": "SALARY"
                                    },
                                    {
                                        "name": "COMM"
                                    },
                                    {
                                        "name": "DEPARTMENT_ID"
                                    }
                                ]
                            },
                            "data": [
                                {
                                    "EMPLOYEE_ID": "7499",
                                    "LAST_NAME": "ALLEN",
                                    "FIRST_NAME": "KEVIN",
                                    "MIDDLE_NAME": "J",
                                    "JOB_ID": "670",
                                    "MANAGER_ID": "7698",
                                    "HIRE_DATE": "1984-02-20",
                                    "SALARY": "1600",
                                    "COMM": "300",
                                    "DEPARTMENT_ID": "30"
                                },
                                {
                                    "EMPLOYEE_ID": "7507",
                                    "LAST_NAME": "BAKER",
                                    "FIRST_NAME": "LESLIE",
                                    "MIDDLE_NAME": "D",
                                    "JOB_ID": "671",
                                    "MANAGER_ID": "7839",
                                    "HIRE_DATE": "1985-06-10",
                                    "SALARY": "2200",
                                    "COMM": "NULL",
                                    "DEPARTMENT_ID": "40"
                                },
                                {
                                    "EMPLOYEE_ID": "7506",
                                    "LAST_NAME": "DENNIS",
                                    "FIRST_NAME": "LYNN",
                                    "MIDDLE_NAME": "S",
                                    "JOB_ID": "671",
                                    "MANAGER_ID": "7839",
                                    "HIRE_DATE": "1985-05-15",
                                    "SALARY": "2750",
                                    "COMM": "NULL",
                                    "DEPARTMENT_ID": "30"
                                },
                                {
                                    "EMPLOYEE_ID": "7505",
                                    "LAST_NAME": "DOYLE",
                                    "FIRST_NAME": "JEAN",
                                    "MIDDLE_NAME": "K",
                                    "JOB_ID": "671",
                                    "MANAGER_ID": "7839",
                                    "HIRE_DATE": "1985-04-04",
                                    "SALARY": "2850",
                                    "COMM": "NULL",
                                    "DEPARTMENT_ID": "30"
                                },
                                {
                                    "EMPLOYEE_ID": "7369",
                                    "LAST_NAME": "SMITH",
                                    "FIRST_NAME": "JOHN",
                                    "MIDDLE_NAME": "Q",
                                    "JOB_ID": "667",
                                    "MANAGER_ID": "7902",
                                    "HIRE_DATE": "1984-12-17",
                                    "SALARY": "800",
                                    "COMM": "NULL",
                                    "DEPARTMENT_ID": "20"
                                },
                                {
                                    "EMPLOYEE_ID": "7521",
                                    "LAST_NAME": "WARK",
                                    "FIRST_NAME": "CYNTHIA",
                                    "MIDDLE_NAME": "D",
                                    "JOB_ID": "670",
                                    "MANAGER_ID": "7698",
                                    "HIRE_DATE": "1985-02-22",
                                    "SALARY": "1250",
                                    "COMM": "500",
                                    "DEPARTMENT_ID": "30"
                                }
                            ]
                        },
                        "text/html": "<table><tr><th>EMPLOYEE_ID</th><th>LAST_NAME</th><th>FIRST_NAME</th><th>MIDDLE_NAME</th><th>JOB_ID</th><th>MANAGER_ID</th><th>HIRE_DATE</th><th>SALARY</th><th>COMM</th><th>DEPARTMENT_ID</th></tr><tr><td>7499</td><td>ALLEN</td><td>KEVIN</td><td>J</td><td>670</td><td>7698</td><td>1984-02-20</td><td>1600</td><td>300</td><td>30</td></tr><tr><td>7507</td><td>BAKER</td><td>LESLIE</td><td>D</td><td>671</td><td>7839</td><td>1985-06-10</td><td>2200</td><td>NULL</td><td>40</td></tr><tr><td>7506</td><td>DENNIS</td><td>LYNN</td><td>S</td><td>671</td><td>7839</td><td>1985-05-15</td><td>2750</td><td>NULL</td><td>30</td></tr><tr><td>7505</td><td>DOYLE</td><td>JEAN</td><td>K</td><td>671</td><td>7839</td><td>1985-04-04</td><td>2850</td><td>NULL</td><td>30</td></tr><tr><td>7369</td><td>SMITH</td><td>JOHN</td><td>Q</td><td>667</td><td>7902</td><td>1984-12-17</td><td>800</td><td>NULL</td><td>20</td></tr><tr><td>7521</td><td>WARK</td><td>CYNTHIA</td><td>D</td><td>670</td><td>7698</td><td>1985-02-22</td><td>1250</td><td>500</td><td>30</td></tr></table>"
                    },
                    "metadata": {}
                }
            ],
            "execution_count": 25
        },
        {
            "cell_type": "markdown",
            "source": [
                "# **GROUP BY and HAVING Clause**"
            ],
            "metadata": {
                "language": "sql",
                "azdata_cell_guid": "73150135-8fdd-4e92-8110-46ccb76542ca"
            },
            "attachments": {}
        },
        {
            "cell_type": "code",
            "source": [
                "-- Task 1 : List out the department wise maximum salary, minimum salary and average salary of the employees.\n",
                "\n",
                "SELECT department_id, MAX(Salary) AS MaxSalary, MIN(Salary) AS MinSalry, AVG(Salary) AS AvgSalary\n",
                "FROM Employee\n",
                "GROUP BY department_id"
            ],
            "metadata": {
                "language": "sql",
                "azdata_cell_guid": "c9ea837d-1339-4a5d-aa41-0558546f6065"
            },
            "outputs": [
                {
                    "output_type": "display_data",
                    "data": {
                        "text/html": "(3 rows affected)"
                    },
                    "metadata": {}
                },
                {
                    "output_type": "display_data",
                    "data": {
                        "text/html": "Total execution time: 00:00:00.012"
                    },
                    "metadata": {}
                },
                {
                    "output_type": "execute_result",
                    "execution_count": 30,
                    "data": {
                        "application/vnd.dataresource+json": {
                            "schema": {
                                "fields": [
                                    {
                                        "name": "department_id"
                                    },
                                    {
                                        "name": "MaxSalary"
                                    },
                                    {
                                        "name": "MinSalry"
                                    },
                                    {
                                        "name": "AvgSalary"
                                    }
                                ]
                            },
                            "data": [
                                {
                                    "department_id": "20",
                                    "MaxSalary": "800",
                                    "MinSalry": "800",
                                    "AvgSalary": "800"
                                },
                                {
                                    "department_id": "30",
                                    "MaxSalary": "2850",
                                    "MinSalry": "1250",
                                    "AvgSalary": "2112"
                                },
                                {
                                    "department_id": "40",
                                    "MaxSalary": "2200",
                                    "MinSalry": "2200",
                                    "AvgSalary": "2200"
                                }
                            ]
                        },
                        "text/html": "<table><tr><th>department_id</th><th>MaxSalary</th><th>MinSalry</th><th>AvgSalary</th></tr><tr><td>20</td><td>800</td><td>800</td><td>800</td></tr><tr><td>30</td><td>2850</td><td>1250</td><td>2112</td></tr><tr><td>40</td><td>2200</td><td>2200</td><td>2200</td></tr></table>"
                    },
                    "metadata": {}
                }
            ],
            "execution_count": 30
        },
        {
            "cell_type": "code",
            "source": [
                "-- Task 2 : List out the job wise maximum salary, minimum salary and average salary of the employees.\n",
                "\n",
                "SELECT job_id, MAX(Salary) AS MaxSalary, MIN(Salary) AS MinSalry, AVG(Salary) AS AvgSalary\n",
                "FROM Employee\n",
                "GROUP BY job_id"
            ],
            "metadata": {
                "language": "sql",
                "azdata_cell_guid": "ce0b093c-f1e6-4bc1-b90c-78b2c1b95ba8"
            },
            "outputs": [
                {
                    "output_type": "display_data",
                    "data": {
                        "text/html": "(3 rows affected)"
                    },
                    "metadata": {}
                },
                {
                    "output_type": "display_data",
                    "data": {
                        "text/html": "Total execution time: 00:00:00.073"
                    },
                    "metadata": {}
                },
                {
                    "output_type": "execute_result",
                    "execution_count": 28,
                    "data": {
                        "application/vnd.dataresource+json": {
                            "schema": {
                                "fields": [
                                    {
                                        "name": "job_id"
                                    },
                                    {
                                        "name": "(No column name)"
                                    },
                                    {
                                        "name": "(No column name)"
                                    },
                                    {
                                        "name": "(No column name)"
                                    }
                                ]
                            },
                            "data": [
                                {
                                    "job_id": "667",
                                    "(No column name)": "800"
                                },
                                {
                                    "job_id": "670",
                                    "(No column name)": "1425"
                                },
                                {
                                    "job_id": "671",
                                    "(No column name)": "2600"
                                }
                            ]
                        },
                        "text/html": "<table><tr><th>job_id</th><th>(No column name)</th><th>(No column name)</th><th>(No column name)</th></tr><tr><td>667</td><td>800</td><td>800</td><td>800</td></tr><tr><td>670</td><td>1600</td><td>1250</td><td>1425</td></tr><tr><td>671</td><td>2850</td><td>2200</td><td>2600</td></tr></table>"
                    },
                    "metadata": {}
                }
            ],
            "execution_count": 28
        },
        {
            "cell_type": "code",
            "source": [
                "-- Task 3 : List out the number of employees who joined each month in ascending order.\n",
                "\n",
                "SELECT DATEPART(MONTH,hire_date) AS MonthOfYear, count(last_name) AS NoOfEmployees\n",
                "FROM Employee\n",
                "GROUP BY DATEPART(MONTH,hire_date)\n",
                "ORDER BY DATEPART(MONTH,hire_date) ASC\n",
                ""
            ],
            "metadata": {
                "language": "sql",
                "azdata_cell_guid": "6d813b87-bd18-49a4-9ed9-bfe8af226c71"
            },
            "outputs": [
                {
                    "output_type": "display_data",
                    "data": {
                        "text/html": "(5 rows affected)"
                    },
                    "metadata": {}
                },
                {
                    "output_type": "display_data",
                    "data": {
                        "text/html": "Total execution time: 00:00:00.047"
                    },
                    "metadata": {}
                },
                {
                    "output_type": "execute_result",
                    "execution_count": 34,
                    "data": {
                        "application/vnd.dataresource+json": {
                            "schema": {
                                "fields": [
                                    {
                                        "name": "MonthOfYear"
                                    },
                                    {
                                        "name": "NoOfEmployees"
                                    }
                                ]
                            },
                            "data": [
                                {
                                    "MonthOfYear": "2",
                                    "NoOfEmployees": "2"
                                },
                                {
                                    "MonthOfYear": "4",
                                    "NoOfEmployees": "1"
                                },
                                {
                                    "MonthOfYear": "5",
                                    "NoOfEmployees": "1"
                                },
                                {
                                    "MonthOfYear": "6",
                                    "NoOfEmployees": "1"
                                },
                                {
                                    "MonthOfYear": "12",
                                    "NoOfEmployees": "1"
                                }
                            ]
                        },
                        "text/html": "<table><tr><th>MonthOfYear</th><th>NoOfEmployees</th></tr><tr><td>2</td><td>2</td></tr><tr><td>4</td><td>1</td></tr><tr><td>5</td><td>1</td></tr><tr><td>6</td><td>1</td></tr><tr><td>12</td><td>1</td></tr></table>"
                    },
                    "metadata": {}
                }
            ],
            "execution_count": 34
        },
        {
            "cell_type": "code",
            "source": [
                "-- Task 4 : List out the number of employees for each month and year in ascending order based on the year and month.\n",
                "SELECT DATEPART(MONTH,hire_date) AS Month, DATEPART(YEAR,hire_date) AS Year, COUNT(last_name) AS NoOfEmployees\n",
                "FROM Employee\n",
                "GROUP BY DATEPART(MONTH,hire_date), DATEPART(YEAR,hire_date) \n",
                "ORDER BY DATEPART(YEAR,hire_date), DATEPART(MONTH,hire_date) ASC"
            ],
            "metadata": {
                "language": "sql",
                "azdata_cell_guid": "878e3980-8cab-4b94-bff2-b4cdd3571f7d"
            },
            "outputs": [
                {
                    "output_type": "display_data",
                    "data": {
                        "text/html": "(6 rows affected)"
                    },
                    "metadata": {}
                },
                {
                    "output_type": "display_data",
                    "data": {
                        "text/html": "Total execution time: 00:00:00.058"
                    },
                    "metadata": {}
                },
                {
                    "output_type": "execute_result",
                    "execution_count": 35,
                    "data": {
                        "application/vnd.dataresource+json": {
                            "schema": {
                                "fields": [
                                    {
                                        "name": "Month"
                                    },
                                    {
                                        "name": "Year"
                                    },
                                    {
                                        "name": "NoOfEmployees"
                                    }
                                ]
                            },
                            "data": [
                                {
                                    "Month": "2",
                                    "Year": "1984",
                                    "NoOfEmployees": "1"
                                },
                                {
                                    "Month": "12",
                                    "Year": "1984",
                                    "NoOfEmployees": "1"
                                },
                                {
                                    "Month": "2",
                                    "Year": "1985",
                                    "NoOfEmployees": "1"
                                },
                                {
                                    "Month": "4",
                                    "Year": "1985",
                                    "NoOfEmployees": "1"
                                },
                                {
                                    "Month": "5",
                                    "Year": "1985",
                                    "NoOfEmployees": "1"
                                },
                                {
                                    "Month": "6",
                                    "Year": "1985",
                                    "NoOfEmployees": "1"
                                }
                            ]
                        },
                        "text/html": "<table><tr><th>Month</th><th>Year</th><th>NoOfEmployees</th></tr><tr><td>2</td><td>1984</td><td>1</td></tr><tr><td>12</td><td>1984</td><td>1</td></tr><tr><td>2</td><td>1985</td><td>1</td></tr><tr><td>4</td><td>1985</td><td>1</td></tr><tr><td>5</td><td>1985</td><td>1</td></tr><tr><td>6</td><td>1985</td><td>1</td></tr></table>"
                    },
                    "metadata": {}
                }
            ],
            "execution_count": 35
        },
        {
            "cell_type": "code",
            "source": [
                "-- Task 5 : List out the Department ID having at least four employees.\n",
                "\n",
                "SELECT department_id, COUNT(last_name) AS NoOfEmployees\n",
                "FROM Employee\n",
                "GROUP BY department_id\n",
                "HAVING COUNT(last_name) >= 4"
            ],
            "metadata": {
                "language": "sql",
                "azdata_cell_guid": "b0ddd7a2-d841-447e-8e31-0049454108da",
                "tags": []
            },
            "outputs": [
                {
                    "output_type": "display_data",
                    "data": {
                        "text/html": "(1 row affected)"
                    },
                    "metadata": {}
                },
                {
                    "output_type": "display_data",
                    "data": {
                        "text/html": "Total execution time: 00:00:00.052"
                    },
                    "metadata": {}
                },
                {
                    "output_type": "execute_result",
                    "execution_count": 37,
                    "data": {
                        "application/vnd.dataresource+json": {
                            "schema": {
                                "fields": [
                                    {
                                        "name": "department_id"
                                    },
                                    {
                                        "name": "NoOfEmployees"
                                    }
                                ]
                            },
                            "data": [
                                {
                                    "department_id": "30",
                                    "NoOfEmployees": "4"
                                }
                            ]
                        },
                        "text/html": "<table><tr><th>department_id</th><th>NoOfEmployees</th></tr><tr><td>30</td><td>4</td></tr></table>"
                    },
                    "metadata": {}
                }
            ],
            "execution_count": 37
        },
        {
            "cell_type": "code",
            "source": [
                "-- Task 6 : How many employees joined in the month of January?\n",
                "\n",
                "SELECT DATEPART(MONTH,hire_date) AS MonthOfYear, count(last_name) AS NoOfEmployees\n",
                "FROM Employee\n",
                "WHERE DATEPART(MONTH,hire_date) = 1\n",
                "GROUP BY DATEPART(MONTH,hire_date)"
            ],
            "metadata": {
                "language": "sql",
                "azdata_cell_guid": "6605cf00-b3b7-4ebc-a0ca-02fb97e57d02"
            },
            "outputs": [
                {
                    "output_type": "display_data",
                    "data": {
                        "text/html": "(0 rows affected)"
                    },
                    "metadata": {}
                },
                {
                    "output_type": "display_data",
                    "data": {
                        "text/html": "Total execution time: 00:00:00.033"
                    },
                    "metadata": {}
                },
                {
                    "output_type": "execute_result",
                    "execution_count": 38,
                    "data": {
                        "application/vnd.dataresource+json": {
                            "schema": {
                                "fields": [
                                    {
                                        "name": "MonthOfYear"
                                    },
                                    {
                                        "name": "NoOfEmployees"
                                    }
                                ]
                            },
                            "data": []
                        },
                        "text/html": "<table><tr><th>MonthOfYear</th><th>NoOfEmployees</th></tr></table>"
                    },
                    "metadata": {}
                }
            ],
            "execution_count": 38
        },
        {
            "cell_type": "code",
            "source": [
                "-- Task 7 : How many employees joined in the month of January or September?\n",
                "\n",
                "SELECT DATEPART(MONTH,hire_date) AS MonthOfYear, count(last_name) AS NoOfEmployees\n",
                "FROM Employee\n",
                "WHERE DATEPART(MONTH,hire_date) IN (1,9)\n",
                "GROUP BY DATEPART(MONTH,hire_date)"
            ],
            "metadata": {
                "language": "sql",
                "azdata_cell_guid": "bc9ccad1-720c-4b04-b661-72bb7e9b0486"
            },
            "outputs": [
                {
                    "output_type": "display_data",
                    "data": {
                        "text/html": "(0 rows affected)"
                    },
                    "metadata": {}
                },
                {
                    "output_type": "display_data",
                    "data": {
                        "text/html": "Total execution time: 00:00:00.051"
                    },
                    "metadata": {}
                },
                {
                    "output_type": "execute_result",
                    "execution_count": 39,
                    "data": {
                        "application/vnd.dataresource+json": {
                            "schema": {
                                "fields": [
                                    {
                                        "name": "MonthOfYear"
                                    },
                                    {
                                        "name": "NoOfEmployees"
                                    }
                                ]
                            },
                            "data": []
                        },
                        "text/html": "<table><tr><th>MonthOfYear</th><th>NoOfEmployees</th></tr></table>"
                    },
                    "metadata": {}
                }
            ],
            "execution_count": 39
        },
        {
            "cell_type": "code",
            "source": [
                "-- Task 8 : How many employees joined in 1985?\n",
                "\n",
                "SELECT DATEPART(YEAR,hire_date) AS Year, count(last_name) AS NoOfEmployees\n",
                "FROM Employee\n",
                "WHERE DATEPART(YEAR,hire_date) = 1985\n",
                "GROUP BY DATEPART(YEAR,hire_date)"
            ],
            "metadata": {
                "language": "sql",
                "azdata_cell_guid": "cc71ddc6-204a-44db-82c7-afc7fe4ff159"
            },
            "outputs": [
                {
                    "output_type": "display_data",
                    "data": {
                        "text/html": "(1 row affected)"
                    },
                    "metadata": {}
                },
                {
                    "output_type": "display_data",
                    "data": {
                        "text/html": "Total execution time: 00:00:00.016"
                    },
                    "metadata": {}
                },
                {
                    "output_type": "execute_result",
                    "execution_count": 46,
                    "data": {
                        "application/vnd.dataresource+json": {
                            "schema": {
                                "fields": [
                                    {
                                        "name": "Year"
                                    },
                                    {
                                        "name": "NoOfEmployees"
                                    }
                                ]
                            },
                            "data": [
                                {
                                    "Year": "1985",
                                    "NoOfEmployees": "4"
                                }
                            ]
                        },
                        "text/html": "<table><tr><th>Year</th><th>NoOfEmployees</th></tr><tr><td>1985</td><td>4</td></tr></table>"
                    },
                    "metadata": {}
                }
            ],
            "execution_count": 46
        },
        {
            "cell_type": "code",
            "source": [
                "-- Task 9 : How many employees joined each month in 1985?\n",
                "\n",
                "SELECT DATEPART(MONTH,hire_date) AS Month, count(last_name) AS NoOfEmployees\n",
                "FROM Employee\n",
                "WHERE DATEPART(YEAR,hire_date) = 1985\n",
                "GROUP BY DATEPART(MONTH,hire_date)\n",
                ""
            ],
            "metadata": {
                "language": "sql",
                "azdata_cell_guid": "624331b9-8ccc-4066-b357-35301b50603f"
            },
            "outputs": [
                {
                    "output_type": "error",
                    "ename": "",
                    "evalue": "Msg 8121, Level 16, State 1, Line 6\nColumn 'Employee.HIRE_DATE' is invalid in the HAVING clause because it is not contained in either an aggregate function or the GROUP BY clause.",
                    "traceback": []
                },
                {
                    "output_type": "display_data",
                    "data": {
                        "text/html": "Total execution time: 00:00:00.046"
                    },
                    "metadata": {}
                }
            ],
            "execution_count": 49
        },
        {
            "cell_type": "code",
            "source": [
                "-- Task 10 : How many employees joined in March 1985?\n",
                "\n",
                "-- Method 1 : With GROUP BY\n",
                "SELECT DATEPART(MONTH,hire_date) AS Month, count(last_name) AS NoOfEmployees\n",
                "FROM Employee\n",
                "WHERE DATEPART(MONTH,hire_date) = 3\n",
                "GROUP BY DATEPART(MONTH,hire_date)\n",
                "\n",
                "-- Method 2 : Without GROUP BY\n",
                "SELECT count(1) AS NoOfEmployees\n",
                "FROM Employee\n",
                "WHERE DATEPART(YEAR,hire_date) = 3\n",
                ""
            ],
            "metadata": {
                "language": "sql",
                "azdata_cell_guid": "3e754ffe-7a6e-48eb-afa2-0861014ae320"
            },
            "outputs": [
                {
                    "output_type": "display_data",
                    "data": {
                        "text/html": "(0 rows affected)"
                    },
                    "metadata": {}
                },
                {
                    "output_type": "display_data",
                    "data": {
                        "text/html": "(1 row affected)"
                    },
                    "metadata": {}
                },
                {
                    "output_type": "display_data",
                    "data": {
                        "text/html": "Total execution time: 00:00:00.033"
                    },
                    "metadata": {}
                },
                {
                    "output_type": "execute_result",
                    "execution_count": 53,
                    "data": {
                        "application/vnd.dataresource+json": {
                            "schema": {
                                "fields": [
                                    {
                                        "name": "Month"
                                    },
                                    {
                                        "name": "NoOfEmployees"
                                    }
                                ]
                            },
                            "data": []
                        },
                        "text/html": "<table><tr><th>Month</th><th>NoOfEmployees</th></tr></table>"
                    },
                    "metadata": {}
                },
                {
                    "output_type": "execute_result",
                    "execution_count": 53,
                    "data": {
                        "application/vnd.dataresource+json": {
                            "schema": {
                                "fields": [
                                    {
                                        "name": "NoOfEmployees"
                                    }
                                ]
                            },
                            "data": [
                                {
                                    "NoOfEmployees": "0"
                                }
                            ]
                        },
                        "text/html": "<table><tr><th>NoOfEmployees</th></tr><tr><td>0</td></tr></table>"
                    },
                    "metadata": {}
                }
            ],
            "execution_count": 53
        },
        {
            "cell_type": "code",
            "source": [
                "-- Task 11 : Which is the Department ID having greater than or equal to 3 employees joining in April 1985?\n",
                "\n",
                "\n",
                "SELECT department_id, COUNT(last_name) AS NoOfEmployees\n",
                "FROM Employee\n",
                "WHERE DATEPART(MONTH, hire_date) =4 AND DATEPART(YEAR,hire_date) = 1985\n",
                "GROUP BY department_id\n",
                "HAVING COUNT(last_name) >= 3"
            ],
            "metadata": {
                "language": "sql",
                "azdata_cell_guid": "7269637c-bdf0-41f4-bd57-8cc147eb9f34"
            },
            "outputs": [
                {
                    "output_type": "display_data",
                    "data": {
                        "text/html": "(0 rows affected)"
                    },
                    "metadata": {}
                },
                {
                    "output_type": "display_data",
                    "data": {
                        "text/html": "Total execution time: 00:00:00.045"
                    },
                    "metadata": {}
                },
                {
                    "output_type": "execute_result",
                    "execution_count": 54,
                    "data": {
                        "application/vnd.dataresource+json": {
                            "schema": {
                                "fields": [
                                    {
                                        "name": "department_id"
                                    },
                                    {
                                        "name": "NoOfEmployees"
                                    }
                                ]
                            },
                            "data": []
                        },
                        "text/html": "<table><tr><th>department_id</th><th>NoOfEmployees</th></tr></table>"
                    },
                    "metadata": {}
                }
            ],
            "execution_count": 54
        },
        {
            "cell_type": "markdown",
            "source": [
                "# **JOINS**"
            ],
            "metadata": {
                "language": "sql",
                "azdata_cell_guid": "6dfd6aa2-832f-41e8-811e-16903abf9fde"
            },
            "attachments": {}
        },
        {
            "cell_type": "code",
            "source": [
                "-- Task 1 : List out employees with their department names.\n",
                "\n",
                "SELECT E.first_name, E.last_name, D.Name\n",
                "FROM Employee E\n",
                "JOIN Department D\n",
                "ON E.department_id = D.department_id\n",
                ""
            ],
            "metadata": {
                "language": "sql",
                "azdata_cell_guid": "1346f7f0-c058-4da7-bbc6-c5bba82f9ca2"
            },
            "outputs": [
                {
                    "output_type": "display_data",
                    "data": {
                        "text/html": "(6 rows affected)"
                    },
                    "metadata": {}
                },
                {
                    "output_type": "display_data",
                    "data": {
                        "text/html": "Total execution time: 00:00:00.028"
                    },
                    "metadata": {}
                },
                {
                    "output_type": "execute_result",
                    "execution_count": 59,
                    "data": {
                        "application/vnd.dataresource+json": {
                            "schema": {
                                "fields": [
                                    {
                                        "name": "first_name"
                                    },
                                    {
                                        "name": "last_name"
                                    },
                                    {
                                        "name": "Name"
                                    }
                                ]
                            },
                            "data": [
                                {
                                    "first_name": "JOHN",
                                    "last_name": "SMITH",
                                    "Name": "Sales"
                                },
                                {
                                    "first_name": "KEVIN",
                                    "last_name": "ALLEN",
                                    "Name": "Research"
                                },
                                {
                                    "first_name": "JEAN",
                                    "last_name": "DOYLE",
                                    "Name": "Research"
                                },
                                {
                                    "first_name": "LYNN",
                                    "last_name": "DENNIS",
                                    "Name": "Research"
                                },
                                {
                                    "first_name": "LESLIE",
                                    "last_name": "BAKER",
                                    "Name": "Operations"
                                },
                                {
                                    "first_name": "CYNTHIA",
                                    "last_name": "WARK",
                                    "Name": "Research"
                                }
                            ]
                        },
                        "text/html": "<table><tr><th>first_name</th><th>last_name</th><th>Name</th></tr><tr><td>JOHN</td><td>SMITH</td><td>Sales</td></tr><tr><td>KEVIN</td><td>ALLEN</td><td>Research</td></tr><tr><td>JEAN</td><td>DOYLE</td><td>Research</td></tr><tr><td>LYNN</td><td>DENNIS</td><td>Research</td></tr><tr><td>LESLIE</td><td>BAKER</td><td>Operations</td></tr><tr><td>CYNTHIA</td><td>WARK</td><td>Research</td></tr></table>"
                    },
                    "metadata": {}
                }
            ],
            "execution_count": 59
        },
        {
            "cell_type": "code",
            "source": [
                "-- Task 2 : Display employees with their designations.\n",
                "\n",
                "SELECT E.first_name, E.last_name, J.Designation\n",
                "FROM Employee E\n",
                "JOIN Job J ON E.Job_id = J.Job_id\n",
                ""
            ],
            "metadata": {
                "language": "sql",
                "azdata_cell_guid": "71a86ae8-a3c6-471e-bd3d-1d7d2b6485f1"
            },
            "outputs": [
                {
                    "output_type": "display_data",
                    "data": {
                        "text/html": "(6 rows affected)"
                    },
                    "metadata": {}
                },
                {
                    "output_type": "display_data",
                    "data": {
                        "text/html": "Total execution time: 00:00:00.036"
                    },
                    "metadata": {}
                },
                {
                    "output_type": "execute_result",
                    "execution_count": 68,
                    "data": {
                        "application/vnd.dataresource+json": {
                            "schema": {
                                "fields": [
                                    {
                                        "name": "first_name"
                                    },
                                    {
                                        "name": "last_name"
                                    },
                                    {
                                        "name": "Designation"
                                    }
                                ]
                            },
                            "data": [
                                {
                                    "first_name": "JOHN",
                                    "last_name": "SMITH",
                                    "Designation": "CLERK"
                                },
                                {
                                    "first_name": "KEVIN",
                                    "last_name": "ALLEN",
                                    "Designation": "SALES_PERSON"
                                },
                                {
                                    "first_name": "JEAN",
                                    "last_name": "DOYLE",
                                    "Designation": "MANAGER"
                                },
                                {
                                    "first_name": "LYNN",
                                    "last_name": "DENNIS",
                                    "Designation": "MANAGER"
                                },
                                {
                                    "first_name": "LESLIE",
                                    "last_name": "BAKER",
                                    "Designation": "MANAGER"
                                },
                                {
                                    "first_name": "CYNTHIA",
                                    "last_name": "WARK",
                                    "Designation": "SALES_PERSON"
                                }
                            ]
                        },
                        "text/html": "<table><tr><th>first_name</th><th>last_name</th><th>Designation</th></tr><tr><td>JOHN</td><td>SMITH</td><td>CLERK</td></tr><tr><td>KEVIN</td><td>ALLEN</td><td>SALES_PERSON</td></tr><tr><td>JEAN</td><td>DOYLE</td><td>MANAGER</td></tr><tr><td>LYNN</td><td>DENNIS</td><td>MANAGER</td></tr><tr><td>LESLIE</td><td>BAKER</td><td>MANAGER</td></tr><tr><td>CYNTHIA</td><td>WARK</td><td>SALES_PERSON</td></tr></table>"
                    },
                    "metadata": {}
                }
            ],
            "execution_count": 68
        },
        {
            "cell_type": "code",
            "source": [
                "-- Task 3 : Display the employees with their department names and regional groups.\n",
                "SELECT E.first_name, E.last_name, D.Name, L.City\n",
                "FROM Employee E\n",
                "JOIN Department D ON E.department_id = D.department_id\n",
                "JOIN Location L ON D.Location_Id = L.Location_Id"
            ],
            "metadata": {
                "language": "sql",
                "azdata_cell_guid": "1502861a-8732-4f55-9b61-ed2de9158346"
            },
            "outputs": [
                {
                    "output_type": "display_data",
                    "data": {
                        "text/html": "(6 rows affected)"
                    },
                    "metadata": {}
                },
                {
                    "output_type": "display_data",
                    "data": {
                        "text/html": "Total execution time: 00:00:00.079"
                    },
                    "metadata": {}
                },
                {
                    "output_type": "execute_result",
                    "execution_count": 66,
                    "data": {
                        "application/vnd.dataresource+json": {
                            "schema": {
                                "fields": [
                                    {
                                        "name": "first_name"
                                    },
                                    {
                                        "name": "last_name"
                                    },
                                    {
                                        "name": "Name"
                                    },
                                    {
                                        "name": "City"
                                    }
                                ]
                            },
                            "data": [
                                {
                                    "first_name": "JOHN",
                                    "last_name": "SMITH",
                                    "Name": "Sales",
                                    "City": "Chicago"
                                },
                                {
                                    "first_name": "KEVIN",
                                    "last_name": "ALLEN",
                                    "Name": "Research",
                                    "City": "Dallas"
                                },
                                {
                                    "first_name": "JEAN",
                                    "last_name": "DOYLE",
                                    "Name": "Research",
                                    "City": "Dallas"
                                },
                                {
                                    "first_name": "LYNN",
                                    "last_name": "DENNIS",
                                    "Name": "Research",
                                    "City": "Dallas"
                                },
                                {
                                    "first_name": "LESLIE",
                                    "last_name": "BAKER",
                                    "Name": "Operations",
                                    "City": "Boston"
                                },
                                {
                                    "first_name": "CYNTHIA",
                                    "last_name": "WARK",
                                    "Name": "Research",
                                    "City": "Dallas"
                                }
                            ]
                        },
                        "text/html": "<table><tr><th>first_name</th><th>last_name</th><th>Name</th><th>City</th></tr><tr><td>JOHN</td><td>SMITH</td><td>Sales</td><td>Chicago</td></tr><tr><td>KEVIN</td><td>ALLEN</td><td>Research</td><td>Dallas</td></tr><tr><td>JEAN</td><td>DOYLE</td><td>Research</td><td>Dallas</td></tr><tr><td>LYNN</td><td>DENNIS</td><td>Research</td><td>Dallas</td></tr><tr><td>LESLIE</td><td>BAKER</td><td>Operations</td><td>Boston</td></tr><tr><td>CYNTHIA</td><td>WARK</td><td>Research</td><td>Dallas</td></tr></table>"
                    },
                    "metadata": {}
                }
            ],
            "execution_count": 66
        },
        {
            "cell_type": "code",
            "source": [
                "-- Task 4 : How many employees are working in different departments? Display with department names.\n",
                "\n",
                "SELECT  D.Name AS Department, COUNT(E.last_name) AS NoOfEmployees\n",
                "FROM Employee E\n",
                "JOIN Department D ON E.department_id = D.department_id\n",
                "GROUP BY D.Name"
            ],
            "metadata": {
                "language": "sql",
                "azdata_cell_guid": "afec6afc-e338-4220-b832-f9c8e326de72"
            },
            "outputs": [
                {
                    "output_type": "display_data",
                    "data": {
                        "text/html": "(3 rows affected)"
                    },
                    "metadata": {}
                },
                {
                    "output_type": "display_data",
                    "data": {
                        "text/html": "Total execution time: 00:00:00.038"
                    },
                    "metadata": {}
                },
                {
                    "output_type": "execute_result",
                    "execution_count": 72,
                    "data": {
                        "application/vnd.dataresource+json": {
                            "schema": {
                                "fields": [
                                    {
                                        "name": "Department"
                                    },
                                    {
                                        "name": "NoOfEmployees"
                                    }
                                ]
                            },
                            "data": [
                                {
                                    "Department": "Operations",
                                    "NoOfEmployees": "1"
                                },
                                {
                                    "Department": "Research",
                                    "NoOfEmployees": "4"
                                },
                                {
                                    "Department": "Sales",
                                    "NoOfEmployees": "1"
                                }
                            ]
                        },
                        "text/html": "<table><tr><th>Department</th><th>NoOfEmployees</th></tr><tr><td>Operations</td><td>1</td></tr><tr><td>Research</td><td>4</td></tr><tr><td>Sales</td><td>1</td></tr></table>"
                    },
                    "metadata": {}
                }
            ],
            "execution_count": 72
        },
        {
            "cell_type": "code",
            "source": [
                "-- Task 5 : How many employees are working in the sales department?\n",
                "\n",
                "-- METHOD 1 : Using WHERE CLAUSE\n",
                "SELECT  D.Name AS Department, COUNT(E.last_name) AS NoOfEmployees\n",
                "FROM Employee E\n",
                "JOIN Department D ON E.department_id = D.department_id\n",
                "WHERE D.Name = 'Sales'\n",
                "GROUP BY D.Name\n",
                "\n",
                "\n",
                "-- METHOD 2 : Using HAVING CLAUSE\n",
                "SELECT  D.Name AS Department, COUNT(E.last_name) AS NoOfEmployees\n",
                "FROM Employee E\n",
                "JOIN Department D ON E.department_id = D.department_id\n",
                "GROUP BY D.Name\n",
                "HAVING D.Name = 'Sales'"
            ],
            "metadata": {
                "language": "sql",
                "azdata_cell_guid": "84e1d8cc-83d2-47bb-ad81-63f3e027ca95"
            },
            "outputs": [
                {
                    "output_type": "display_data",
                    "data": {
                        "text/html": "(1 row affected)"
                    },
                    "metadata": {}
                },
                {
                    "output_type": "display_data",
                    "data": {
                        "text/html": "(1 row affected)"
                    },
                    "metadata": {}
                },
                {
                    "output_type": "display_data",
                    "data": {
                        "text/html": "Total execution time: 00:00:00.032"
                    },
                    "metadata": {}
                },
                {
                    "output_type": "execute_result",
                    "execution_count": 75,
                    "data": {
                        "application/vnd.dataresource+json": {
                            "schema": {
                                "fields": [
                                    {
                                        "name": "Department"
                                    },
                                    {
                                        "name": "NoOfEmployees"
                                    }
                                ]
                            },
                            "data": [
                                {
                                    "Department": "Sales",
                                    "NoOfEmployees": "1"
                                }
                            ]
                        },
                        "text/html": "<table><tr><th>Department</th><th>NoOfEmployees</th></tr><tr><td>Sales</td><td>1</td></tr></table>"
                    },
                    "metadata": {}
                },
                {
                    "output_type": "execute_result",
                    "execution_count": 75,
                    "data": {
                        "application/vnd.dataresource+json": {
                            "schema": {
                                "fields": [
                                    {
                                        "name": "Department"
                                    },
                                    {
                                        "name": "NoOfEmployees"
                                    }
                                ]
                            },
                            "data": [
                                {
                                    "Department": "Sales",
                                    "NoOfEmployees": "1"
                                }
                            ]
                        },
                        "text/html": "<table><tr><th>Department</th><th>NoOfEmployees</th></tr><tr><td>Sales</td><td>1</td></tr></table>"
                    },
                    "metadata": {}
                }
            ],
            "execution_count": 75
        },
        {
            "cell_type": "code",
            "source": [
                "-- Task 6 : Which is the department having greater than or equal to 5 employees? Display the department names in ascending order.\n",
                "\n",
                "SELECT  D.Name AS Department, COUNT(E.last_name) AS NoOfEmployees\n",
                "FROM Employee E\n",
                "JOIN Department D ON E.department_id = D.department_id\n",
                "GROUP BY D.Name\n",
                "HAVING COUNT(E.last_name) >= 5\n",
                "\n",
                "-- Note : There are no Department with greater than or equal to 5 employees"
            ],
            "metadata": {
                "language": "sql",
                "azdata_cell_guid": "0c6d0457-22e6-4a6d-ad4d-4eb524cb7b55"
            },
            "outputs": [
                {
                    "output_type": "display_data",
                    "data": {
                        "text/html": "(0 rows affected)"
                    },
                    "metadata": {}
                },
                {
                    "output_type": "display_data",
                    "data": {
                        "text/html": "Total execution time: 00:00:00.067"
                    },
                    "metadata": {}
                },
                {
                    "output_type": "execute_result",
                    "execution_count": 78,
                    "data": {
                        "application/vnd.dataresource+json": {
                            "schema": {
                                "fields": [
                                    {
                                        "name": "Department"
                                    },
                                    {
                                        "name": "NoOfEmployees"
                                    }
                                ]
                            },
                            "data": []
                        },
                        "text/html": "<table><tr><th>Department</th><th>NoOfEmployees</th></tr></table>"
                    },
                    "metadata": {}
                }
            ],
            "execution_count": 78
        },
        {
            "cell_type": "code",
            "source": [
                "-- Task 7 : How many employees are working in \"New York\"?\n",
                "\n",
                "SELECT L.City, COUNT(E.last_name)\n",
                "FROM Employee E\n",
                "JOIN Department D ON E.department_id = D.department_id\n",
                "JOIN Location L ON D.Location_Id = L.Location_Id\n",
                "GROUP BY L.City\n",
                "HAVING L.City = 'Dallas'\n",
                "\n",
                "-- Note : The Answer is 0 because there are no employees with location as 'New York'"
            ],
            "metadata": {
                "language": "sql",
                "azdata_cell_guid": "2d38600d-1b8c-4520-a5bd-13e2386e80b8"
            },
            "outputs": [
                {
                    "output_type": "display_data",
                    "data": {
                        "text/html": "(1 row affected)"
                    },
                    "metadata": {}
                },
                {
                    "output_type": "display_data",
                    "data": {
                        "text/html": "Total execution time: 00:00:00.068"
                    },
                    "metadata": {}
                },
                {
                    "output_type": "execute_result",
                    "metadata": {},
                    "execution_count": 2,
                    "data": {
                        "application/vnd.dataresource+json": {
                            "schema": {
                                "fields": [
                                    {
                                        "name": "City"
                                    },
                                    {
                                        "name": "(No column name)"
                                    }
                                ]
                            },
                            "data": [
                                {
                                    "City": "Dallas",
                                    "(No column name)": "4"
                                }
                            ]
                        },
                        "text/html": [
                            "<table>",
                            "<tr><th>City</th><th>(No column name)</th></tr>",
                            "<tr><td>Dallas</td><td>4</td></tr>",
                            "</table>"
                        ]
                    }
                }
            ],
            "execution_count": 2
        },
        {
            "cell_type": "code",
            "source": [
                "-- Task 08 : Display all employees in sales or operation departments.\n",
                "\n",
                "SELECT E.first_name, E.last_name, D.Name\n",
                "FROM Employee E\n",
                "JOIN Department D ON E.department_id = D.department_id\n",
                "WHERE D.Name IN ('Sales', 'Operation')"
            ],
            "metadata": {
                "language": "sql",
                "azdata_cell_guid": "f4483720-69ee-4cbe-b719-9fb956a8b6bd"
            },
            "outputs": [
                {
                    "output_type": "display_data",
                    "data": {
                        "text/html": "(1 row affected)"
                    },
                    "metadata": {}
                },
                {
                    "output_type": "display_data",
                    "data": {
                        "text/html": "Total execution time: 00:00:00.036"
                    },
                    "metadata": {}
                },
                {
                    "output_type": "execute_result",
                    "execution_count": 100,
                    "data": {
                        "application/vnd.dataresource+json": {
                            "schema": {
                                "fields": [
                                    {
                                        "name": "first_name"
                                    },
                                    {
                                        "name": "last_name"
                                    },
                                    {
                                        "name": "Name"
                                    }
                                ]
                            },
                            "data": [
                                {
                                    "first_name": "JOHN",
                                    "last_name": "SMITH",
                                    "Name": "Sales"
                                }
                            ]
                        },
                        "text/html": "<table><tr><th>first_name</th><th>last_name</th><th>Name</th></tr><tr><td>JOHN</td><td>SMITH</td><td>Sales</td></tr></table>"
                    },
                    "metadata": {}
                }
            ],
            "execution_count": 100
        },
        {
            "cell_type": "markdown",
            "source": [
                "# **CONDITIONAL STATEMENTS**"
            ],
            "metadata": {
                "language": "sql",
                "azdata_cell_guid": "3a705002-2fdc-4e13-b679-06924657e833"
            },
            "attachments": {}
        },
        {
            "cell_type": "code",
            "source": [
                "-- Task 1 : Display the employee details with salary grades. Use conditional statement to create grade column\n",
                "\n",
                "SELECT \n",
                "    EMPLOYEE_ID, \n",
                "    LAST_NAME, \n",
                "    FIRST_NAME, \n",
                "    SALARY,\n",
                "    CASE \n",
                "        WHEN SALARY < 2000 THEN 'Low'\n",
                "        WHEN SALARY BETWEEN 2000 AND 5000 THEN 'Medium'\n",
                "        ELSE 'High'\n",
                "    END AS Grade\n",
                "FROM EMPLOYEE;\n",
                "\n",
                "\n",
                ""
            ],
            "metadata": {
                "language": "sql",
                "azdata_cell_guid": "a1822f96-6f6c-4884-af1b-c61a41626986"
            },
            "outputs": [
                {
                    "output_type": "display_data",
                    "data": {
                        "text/html": "(6 rows affected)"
                    },
                    "metadata": {}
                },
                {
                    "output_type": "display_data",
                    "data": {
                        "text/html": "Total execution time: 00:00:00.043"
                    },
                    "metadata": {}
                },
                {
                    "output_type": "execute_result",
                    "metadata": {},
                    "execution_count": 4,
                    "data": {
                        "application/vnd.dataresource+json": {
                            "schema": {
                                "fields": [
                                    {
                                        "name": "EMPLOYEE_ID"
                                    },
                                    {
                                        "name": "LAST_NAME"
                                    },
                                    {
                                        "name": "FIRST_NAME"
                                    },
                                    {
                                        "name": "SALARY"
                                    },
                                    {
                                        "name": "Grade"
                                    }
                                ]
                            },
                            "data": [
                                {
                                    "EMPLOYEE_ID": "7369",
                                    "LAST_NAME": "SMITH",
                                    "FIRST_NAME": "JOHN",
                                    "SALARY": "880",
                                    "Grade": "Low"
                                },
                                {
                                    "EMPLOYEE_ID": "7499",
                                    "LAST_NAME": "ALLEN",
                                    "FIRST_NAME": "KEVIN",
                                    "SALARY": "1600",
                                    "Grade": "Low"
                                },
                                {
                                    "EMPLOYEE_ID": "7505",
                                    "LAST_NAME": "DOYLE",
                                    "FIRST_NAME": "JEAN",
                                    "SALARY": "2850",
                                    "Grade": "Medium"
                                },
                                {
                                    "EMPLOYEE_ID": "7506",
                                    "LAST_NAME": "DENNIS",
                                    "FIRST_NAME": "LYNN",
                                    "SALARY": "2750",
                                    "Grade": "Medium"
                                },
                                {
                                    "EMPLOYEE_ID": "7507",
                                    "LAST_NAME": "BAKER",
                                    "FIRST_NAME": "LESLIE",
                                    "SALARY": "2200",
                                    "Grade": "Medium"
                                },
                                {
                                    "EMPLOYEE_ID": "7521",
                                    "LAST_NAME": "WARK",
                                    "FIRST_NAME": "CYNTHIA",
                                    "SALARY": "1250",
                                    "Grade": "Low"
                                }
                            ]
                        },
                        "text/html": [
                            "<table>",
                            "<tr><th>EMPLOYEE_ID</th><th>LAST_NAME</th><th>FIRST_NAME</th><th>SALARY</th><th>Grade</th></tr>",
                            "<tr><td>7369</td><td>SMITH</td><td>JOHN</td><td>880</td><td>Low</td></tr>",
                            "<tr><td>7499</td><td>ALLEN</td><td>KEVIN</td><td>1600</td><td>Low</td></tr>",
                            "<tr><td>7505</td><td>DOYLE</td><td>JEAN</td><td>2850</td><td>Medium</td></tr>",
                            "<tr><td>7506</td><td>DENNIS</td><td>LYNN</td><td>2750</td><td>Medium</td></tr>",
                            "<tr><td>7507</td><td>BAKER</td><td>LESLIE</td><td>2200</td><td>Medium</td></tr>",
                            "<tr><td>7521</td><td>WARK</td><td>CYNTHIA</td><td>1250</td><td>Low</td></tr>",
                            "</table>"
                        ]
                    }
                }
            ],
            "execution_count": 4
        },
        {
            "cell_type": "code",
            "source": [
                "-- Task 2 : List out the number of employees grade wise. Use conditional statement to create grade column\n",
                "\n",
                "SELECT \n",
                "    Grade,\n",
                "    COUNT(*) AS NumberOfEmployees\n",
                "FROM (\n",
                "    SELECT \n",
                "        EMPLOYEE_ID, \n",
                "        LAST_NAME, \n",
                "        FIRST_NAME, \n",
                "        SALARY,\n",
                "        CASE \n",
                "            WHEN SALARY < 2000 THEN 'Low'\n",
                "            WHEN SALARY BETWEEN 2000 AND 5000 THEN 'Medium'\n",
                "            ELSE 'High'\n",
                "        END AS Grade\n",
                "    FROM EMPLOYEE\n",
                ") AS GradedEmployees\n",
                "GROUP BY Grade;\n",
                "\n",
                ""
            ],
            "metadata": {
                "language": "sql",
                "azdata_cell_guid": "edd6ccd3-d38f-4592-9c74-dbfa2cfd4d81"
            },
            "outputs": [
                {
                    "output_type": "display_data",
                    "data": {
                        "text/html": "(2 rows affected)"
                    },
                    "metadata": {}
                },
                {
                    "output_type": "display_data",
                    "data": {
                        "text/html": "Total execution time: 00:00:00.019"
                    },
                    "metadata": {}
                },
                {
                    "output_type": "execute_result",
                    "metadata": {},
                    "execution_count": 5,
                    "data": {
                        "application/vnd.dataresource+json": {
                            "schema": {
                                "fields": [
                                    {
                                        "name": "Grade"
                                    },
                                    {
                                        "name": "NumberOfEmployees"
                                    }
                                ]
                            },
                            "data": [
                                {
                                    "Grade": "Low",
                                    "NumberOfEmployees": "3"
                                },
                                {
                                    "Grade": "Medium",
                                    "NumberOfEmployees": "3"
                                }
                            ]
                        },
                        "text/html": [
                            "<table>",
                            "<tr><th>Grade</th><th>NumberOfEmployees</th></tr>",
                            "<tr><td>Low</td><td>3</td></tr>",
                            "<tr><td>Medium</td><td>3</td></tr>",
                            "</table>"
                        ]
                    }
                }
            ],
            "execution_count": 5
        },
        {
            "cell_type": "code",
            "source": [
                "-- Task 3 : Display the employee salary grades and the number of employees between 2000 to 5000 range of salary\n",
                "\n",
                "SELECT \n",
                "    Grade,\n",
                "    COUNT(*) AS NumberOfEmployees\n",
                "FROM (\n",
                "    SELECT \n",
                "        EMPLOYEE_ID, \n",
                "        LAST_NAME, \n",
                "        FIRST_NAME, \n",
                "        SALARY,\n",
                "        CASE \n",
                "            WHEN SALARY < 2000 THEN 'Low'\n",
                "            WHEN SALARY BETWEEN 2000 AND 5000 THEN 'Medium'\n",
                "            ELSE 'High'\n",
                "        END AS Grade\n",
                "    FROM EMPLOYEE\n",
                ") AS GradedEmployees\n",
                "WHERE Grade = 'Medium'\n",
                "GROUP BY Grade;\n",
                ""
            ],
            "metadata": {
                "language": "sql",
                "azdata_cell_guid": "b5759133-19a8-404e-b7b5-c1f81bd2d2dc"
            },
            "outputs": [
                {
                    "output_type": "display_data",
                    "data": {
                        "text/html": "(1 row affected)"
                    },
                    "metadata": {}
                },
                {
                    "output_type": "display_data",
                    "data": {
                        "text/html": "Total execution time: 00:00:00.020"
                    },
                    "metadata": {}
                },
                {
                    "output_type": "execute_result",
                    "metadata": {},
                    "execution_count": 6,
                    "data": {
                        "application/vnd.dataresource+json": {
                            "schema": {
                                "fields": [
                                    {
                                        "name": "Grade"
                                    },
                                    {
                                        "name": "NumberOfEmployees"
                                    }
                                ]
                            },
                            "data": [
                                {
                                    "Grade": "Medium",
                                    "NumberOfEmployees": "3"
                                }
                            ]
                        },
                        "text/html": [
                            "<table>",
                            "<tr><th>Grade</th><th>NumberOfEmployees</th></tr>",
                            "<tr><td>Medium</td><td>3</td></tr>",
                            "</table>"
                        ]
                    }
                }
            ],
            "execution_count": 6
        },
        {
            "cell_type": "markdown",
            "source": [
                "# **Subqueries**"
            ],
            "metadata": {
                "language": "sql",
                "azdata_cell_guid": "2af5bc84-dfa5-46b1-a46b-82a5c127dc54"
            },
            "attachments": {}
        },
        {
            "cell_type": "code",
            "source": [
                "-- Task 1 : Display the employees list who got the maximum salary.\n",
                "\n",
                "SELECT first_name, last_name, Salary\n",
                "FROM Employee\n",
                "WHERE Salary = (SELECT MAX(Salary) FROM Employee)"
            ],
            "metadata": {
                "language": "sql",
                "azdata_cell_guid": "ed4da042-e655-4269-b1df-2d83eaa04443"
            },
            "outputs": [
                {
                    "output_type": "display_data",
                    "data": {
                        "text/html": "(1 row affected)"
                    },
                    "metadata": {}
                },
                {
                    "output_type": "display_data",
                    "data": {
                        "text/html": "Total execution time: 00:00:00.051"
                    },
                    "metadata": {}
                },
                {
                    "output_type": "execute_result",
                    "execution_count": 111,
                    "data": {
                        "application/vnd.dataresource+json": {
                            "schema": {
                                "fields": [
                                    {
                                        "name": "first_name"
                                    },
                                    {
                                        "name": "last_name"
                                    },
                                    {
                                        "name": "Salary"
                                    }
                                ]
                            },
                            "data": [
                                {
                                    "first_name": "JEAN",
                                    "last_name": "DOYLE",
                                    "Salary": "2850"
                                }
                            ]
                        },
                        "text/html": "<table><tr><th>first_name</th><th>last_name</th><th>Salary</th></tr><tr><td>JEAN</td><td>DOYLE</td><td>2850</td></tr></table>"
                    },
                    "metadata": {}
                }
            ],
            "execution_count": 111
        },
        {
            "cell_type": "code",
            "source": [
                "-- Task 2 : Display the employees who are working in the sales department.\n",
                "\n",
                "-- Method 1 : Using SubQueries\n",
                "SELECT first_name, last_name\n",
                "FROM Employee\n",
                "WHERE Department_id = (SELECT Department_id  FROM Department WHERE Name='Sales')\n",
                "\n",
                "-- Method 2 : Using JOIN\n",
                "SELECT E.first_name, E.last_name, D.Name\n",
                "FROM Employee E\n",
                "JOIN Department D ON E.department_id = D.department_id\n",
                "WHERE D.Name = 'Sales'"
            ],
            "metadata": {
                "language": "sql",
                "azdata_cell_guid": "310e4822-69ad-4032-8bac-0ec8bd2c333d",
                "tags": []
            },
            "outputs": [
                {
                    "output_type": "display_data",
                    "data": {
                        "text/html": "(1 row affected)"
                    },
                    "metadata": {}
                },
                {
                    "output_type": "display_data",
                    "data": {
                        "text/html": "(1 row affected)"
                    },
                    "metadata": {}
                },
                {
                    "output_type": "display_data",
                    "data": {
                        "text/html": "Total execution time: 00:00:00.057"
                    },
                    "metadata": {}
                },
                {
                    "output_type": "execute_result",
                    "execution_count": 113,
                    "data": {
                        "application/vnd.dataresource+json": {
                            "schema": {
                                "fields": [
                                    {
                                        "name": "first_name"
                                    },
                                    {
                                        "name": "last_name"
                                    },
                                    {
                                        "name": "Salary"
                                    }
                                ]
                            },
                            "data": [
                                {
                                    "first_name": "JOHN",
                                    "last_name": "SMITH",
                                    "Salary": "800"
                                }
                            ]
                        },
                        "text/html": "<table><tr><th>first_name</th><th>last_name</th><th>Salary</th></tr><tr><td>JOHN</td><td>SMITH</td><td>800</td></tr></table>"
                    },
                    "metadata": {}
                },
                {
                    "output_type": "execute_result",
                    "execution_count": 113,
                    "data": {
                        "application/vnd.dataresource+json": {
                            "schema": {
                                "fields": [
                                    {
                                        "name": "first_name"
                                    },
                                    {
                                        "name": "last_name"
                                    },
                                    {
                                        "name": "Name"
                                    }
                                ]
                            },
                            "data": [
                                {
                                    "first_name": "JOHN",
                                    "last_name": "SMITH",
                                    "Name": "Sales"
                                }
                            ]
                        },
                        "text/html": "<table><tr><th>first_name</th><th>last_name</th><th>Name</th></tr><tr><td>JOHN</td><td>SMITH</td><td>Sales</td></tr></table>"
                    },
                    "metadata": {}
                }
            ],
            "execution_count": 113
        },
        {
            "cell_type": "code",
            "source": [
                "-- Task 3 : Display the employees who are working as 'Clerk'.\n",
                "\n",
                "-- Method 1 : Using SubQueries\n",
                "SELECT first_name, last_name\n",
                "FROM Employee\n",
                "WHERE Job_id = (SELECT Job_id  FROM Job WHERE Designation='Clerk')\n",
                "\n",
                "-- Method 2 : Using JOIN\n",
                "SELECT E.first_name, E.last_name, J.Designation\n",
                "FROM Employee E\n",
                "JOIN Job J ON E.Job_id = J.Job_id\n",
                "WHERE J.Designation = 'Clerk'"
            ],
            "metadata": {
                "language": "sql",
                "azdata_cell_guid": "277fc510-051a-4385-87a5-32dcd6436110"
            },
            "outputs": [
                {
                    "output_type": "display_data",
                    "data": {
                        "text/html": "(1 row affected)"
                    },
                    "metadata": {}
                },
                {
                    "output_type": "display_data",
                    "data": {
                        "text/html": "(1 row affected)"
                    },
                    "metadata": {}
                },
                {
                    "output_type": "display_data",
                    "data": {
                        "text/html": "Total execution time: 00:00:00.070"
                    },
                    "metadata": {}
                },
                {
                    "output_type": "execute_result",
                    "execution_count": 115,
                    "data": {
                        "application/vnd.dataresource+json": {
                            "schema": {
                                "fields": [
                                    {
                                        "name": "first_name"
                                    },
                                    {
                                        "name": "last_name"
                                    }
                                ]
                            },
                            "data": [
                                {
                                    "first_name": "JOHN",
                                    "last_name": "SMITH"
                                }
                            ]
                        },
                        "text/html": "<table><tr><th>first_name</th><th>last_name</th></tr><tr><td>JOHN</td><td>SMITH</td></tr></table>"
                    },
                    "metadata": {}
                },
                {
                    "output_type": "execute_result",
                    "execution_count": 115,
                    "data": {
                        "application/vnd.dataresource+json": {
                            "schema": {
                                "fields": [
                                    {
                                        "name": "first_name"
                                    },
                                    {
                                        "name": "last_name"
                                    },
                                    {
                                        "name": "Designation"
                                    }
                                ]
                            },
                            "data": [
                                {
                                    "first_name": "JOHN",
                                    "last_name": "SMITH",
                                    "Designation": "CLERK"
                                }
                            ]
                        },
                        "text/html": "<table><tr><th>first_name</th><th>last_name</th><th>Designation</th></tr><tr><td>JOHN</td><td>SMITH</td><td>CLERK</td></tr></table>"
                    },
                    "metadata": {}
                }
            ],
            "execution_count": 115
        },
        {
            "cell_type": "code",
            "source": [
                "-- Task 4 : Display the list of employees who are living in \"Boston\".\n",
                "\n",
                "-- Method 1 : Using SubQueries\n",
                "SELECT first_name, last_name\n",
                "FROM Employee\n",
                "WHERE Department_id = (Select department_id FROM Department WHERE Location_id = (SELECT Location_id  FROM Location WHERE City='Boston'))\n",
                "\n",
                "-- The answer is 0 because there is no location with city as 'New York'"
            ],
            "metadata": {
                "language": "sql",
                "azdata_cell_guid": "280082ef-222f-4486-a070-a146cb52d875"
            },
            "outputs": [
                {
                    "output_type": "display_data",
                    "data": {
                        "text/html": "(1 row affected)"
                    },
                    "metadata": {}
                },
                {
                    "output_type": "display_data",
                    "data": {
                        "text/html": "Total execution time: 00:00:00.032"
                    },
                    "metadata": {}
                },
                {
                    "output_type": "execute_result",
                    "metadata": {},
                    "execution_count": 3,
                    "data": {
                        "application/vnd.dataresource+json": {
                            "schema": {
                                "fields": [
                                    {
                                        "name": "first_name"
                                    },
                                    {
                                        "name": "last_name"
                                    }
                                ]
                            },
                            "data": [
                                {
                                    "first_name": "LESLIE",
                                    "last_name": "BAKER"
                                }
                            ]
                        },
                        "text/html": [
                            "<table>",
                            "<tr><th>first_name</th><th>last_name</th></tr>",
                            "<tr><td>LESLIE</td><td>BAKER</td></tr>",
                            "</table>"
                        ]
                    }
                }
            ],
            "execution_count": 3
        },
        {
            "cell_type": "code",
            "source": [
                "-- Task 5 : Find out the number of employees working in the sales department.\n",
                "\n",
                "SELECT COUNT(last_name) AS NoOfEmployees\n",
                "FROM Employee\n",
                "WHERE Department_id = (SELECT Department_id  FROM Department WHERE Name='Sales')"
            ],
            "metadata": {
                "language": "sql",
                "azdata_cell_guid": "8b973eff-f7a3-492a-9061-32706dcce01d"
            },
            "outputs": [
                {
                    "output_type": "display_data",
                    "data": {
                        "text/html": "(1 row affected)"
                    },
                    "metadata": {}
                },
                {
                    "output_type": "display_data",
                    "data": {
                        "text/html": "Total execution time: 00:00:00.021"
                    },
                    "metadata": {}
                },
                {
                    "output_type": "execute_result",
                    "execution_count": 120,
                    "data": {
                        "application/vnd.dataresource+json": {
                            "schema": {
                                "fields": [
                                    {
                                        "name": "NoOfEmployees"
                                    }
                                ]
                            },
                            "data": [
                                {
                                    "NoOfEmployees": "1"
                                }
                            ]
                        },
                        "text/html": "<table><tr><th>NoOfEmployees</th></tr><tr><td>1</td></tr></table>"
                    },
                    "metadata": {}
                }
            ],
            "execution_count": 120
        },
        {
            "cell_type": "code",
            "source": [
                "-- Task 6 : Update the salaries of employees who are working as clerks on the basis of 10%.\n",
                "\n",
                "SELECT first_name, last_name, salary from Employee WHERE Job_id = (SELECT Job_id FROM Job WHERE Designation='Clerk')\n",
                "\n",
                "UPDATE Employee \n",
                "SET Salary = Salary + Salary*0.10\n",
                "WHERE Job_id = (SELECT Job_id FROM Job WHERE Designation='Clerk')\n",
                "\n",
                "SELECT first_name, last_name, salary from Employee WHERE Job_id = (SELECT Job_id FROM Job WHERE Designation='Clerk')"
            ],
            "metadata": {
                "language": "sql",
                "azdata_cell_guid": "7f863799-9014-4298-a696-921d80caf01b"
            },
            "outputs": [
                {
                    "output_type": "display_data",
                    "data": {
                        "text/html": "(1 row affected)"
                    },
                    "metadata": {}
                },
                {
                    "output_type": "display_data",
                    "data": {
                        "text/html": "(1 row affected)"
                    },
                    "metadata": {}
                },
                {
                    "output_type": "display_data",
                    "data": {
                        "text/html": "(1 row affected)"
                    },
                    "metadata": {}
                },
                {
                    "output_type": "display_data",
                    "data": {
                        "text/html": "Total execution time: 00:00:00.021"
                    },
                    "metadata": {}
                },
                {
                    "output_type": "execute_result",
                    "execution_count": 124,
                    "data": {
                        "application/vnd.dataresource+json": {
                            "schema": {
                                "fields": [
                                    {
                                        "name": "first_name"
                                    },
                                    {
                                        "name": "last_name"
                                    },
                                    {
                                        "name": "salary"
                                    }
                                ]
                            },
                            "data": [
                                {
                                    "first_name": "JOHN",
                                    "last_name": "SMITH",
                                    "salary": "800"
                                }
                            ]
                        },
                        "text/html": "<table><tr><th>first_name</th><th>last_name</th><th>salary</th></tr><tr><td>JOHN</td><td>SMITH</td><td>800</td></tr></table>"
                    },
                    "metadata": {}
                },
                {
                    "output_type": "execute_result",
                    "execution_count": 124,
                    "data": {
                        "application/vnd.dataresource+json": {
                            "schema": {
                                "fields": [
                                    {
                                        "name": "first_name"
                                    },
                                    {
                                        "name": "last_name"
                                    },
                                    {
                                        "name": "salary"
                                    }
                                ]
                            },
                            "data": [
                                {
                                    "first_name": "JOHN",
                                    "last_name": "SMITH",
                                    "salary": "880"
                                }
                            ]
                        },
                        "text/html": "<table><tr><th>first_name</th><th>last_name</th><th>salary</th></tr><tr><td>JOHN</td><td>SMITH</td><td>880</td></tr></table>"
                    },
                    "metadata": {}
                }
            ],
            "execution_count": 124
        },
        {
            "cell_type": "code",
            "source": [
                "-- Task 7 : Display the second highest salary drawing employee details.\n",
                "\n",
                "WITH SecondHighestSalary\n",
                "AS\n",
                "(\n",
                "    SELECT first_name, last_name, Salary, DENSE_RANK() OVER (ORDER BY Salary DESC) AS DepartmentSalaryRank\n",
                "    FROM Employee\n",
                ")\n",
                "SELECT * FROM SecondHighestSalary WHERE DepartmentSalaryRank = 2\n",
                ""
            ],
            "metadata": {
                "language": "sql",
                "azdata_cell_guid": "f0aee6aa-75aa-4e71-8c8b-ba8fe6f4c768"
            },
            "outputs": [
                {
                    "output_type": "display_data",
                    "data": {
                        "text/html": "(1 row affected)"
                    },
                    "metadata": {}
                },
                {
                    "output_type": "display_data",
                    "data": {
                        "text/html": "Total execution time: 00:00:00.031"
                    },
                    "metadata": {}
                },
                {
                    "output_type": "execute_result",
                    "execution_count": 139,
                    "data": {
                        "application/vnd.dataresource+json": {
                            "schema": {
                                "fields": [
                                    {
                                        "name": "first_name"
                                    },
                                    {
                                        "name": "last_name"
                                    },
                                    {
                                        "name": "Salary"
                                    },
                                    {
                                        "name": "DepartmentSalaryRank"
                                    }
                                ]
                            },
                            "data": [
                                {
                                    "first_name": "LYNN",
                                    "last_name": "DENNIS",
                                    "Salary": "2750",
                                    "DepartmentSalaryRank": "2"
                                }
                            ]
                        },
                        "text/html": "<table><tr><th>first_name</th><th>last_name</th><th>Salary</th><th>DepartmentSalaryRank</th></tr><tr><td>LYNN</td><td>DENNIS</td><td>2750</td><td>2</td></tr></table>"
                    },
                    "metadata": {}
                }
            ],
            "execution_count": 139
        },
        {
            "cell_type": "code",
            "source": [
                "-- Task 08 : List out the employees who earn more than every employee in department 30.\n",
                "\n",
                "SELECT * FROM Employee \n",
                "WHERE Salary > (SELECT MAX(Salary) FROM Employee WHERE Department_id = 30)"
            ],
            "metadata": {
                "language": "sql",
                "azdata_cell_guid": "4fd75634-e141-4ade-9d32-636d0a38ae94"
            },
            "outputs": [
                {
                    "output_type": "display_data",
                    "data": {
                        "text/html": "(0 rows affected)"
                    },
                    "metadata": {}
                },
                {
                    "output_type": "display_data",
                    "data": {
                        "text/html": "Total execution time: 00:00:00.036"
                    },
                    "metadata": {}
                },
                {
                    "output_type": "execute_result",
                    "execution_count": 149,
                    "data": {
                        "application/vnd.dataresource+json": {
                            "schema": {
                                "fields": [
                                    {
                                        "name": "EMPLOYEE_ID"
                                    },
                                    {
                                        "name": "LAST_NAME"
                                    },
                                    {
                                        "name": "FIRST_NAME"
                                    },
                                    {
                                        "name": "MIDDLE_NAME"
                                    },
                                    {
                                        "name": "JOB_ID"
                                    },
                                    {
                                        "name": "MANAGER_ID"
                                    },
                                    {
                                        "name": "HIRE_DATE"
                                    },
                                    {
                                        "name": "SALARY"
                                    },
                                    {
                                        "name": "COMM"
                                    },
                                    {
                                        "name": "DEPARTMENT_ID"
                                    }
                                ]
                            },
                            "data": []
                        },
                        "text/html": "<table><tr><th>EMPLOYEE_ID</th><th>LAST_NAME</th><th>FIRST_NAME</th><th>MIDDLE_NAME</th><th>JOB_ID</th><th>MANAGER_ID</th><th>HIRE_DATE</th><th>SALARY</th><th>COMM</th><th>DEPARTMENT_ID</th></tr></table>"
                    },
                    "metadata": {}
                }
            ],
            "execution_count": 149
        },
        {
            "cell_type": "code",
            "source": [
                "-- Task 09 : Find out which department has no employees.\n",
                "\n",
                "\n",
                "SELECT Department_id, Name \n",
                "FROM Department\n",
                "WHERE Department_id NOT IN (SELECT DISTINCT department_id FROM Employee)"
            ],
            "metadata": {
                "language": "sql",
                "azdata_cell_guid": "6ef41b09-58c4-4424-b07b-49604c0a1d85"
            },
            "outputs": [
                {
                    "output_type": "display_data",
                    "data": {
                        "text/html": "(1 row affected)"
                    },
                    "metadata": {}
                },
                {
                    "output_type": "display_data",
                    "data": {
                        "text/html": "Total execution time: 00:00:00.042"
                    },
                    "metadata": {}
                },
                {
                    "output_type": "execute_result",
                    "execution_count": 156,
                    "data": {
                        "application/vnd.dataresource+json": {
                            "schema": {
                                "fields": [
                                    {
                                        "name": "Department_id"
                                    },
                                    {
                                        "name": "Name"
                                    }
                                ]
                            },
                            "data": [
                                {
                                    "Department_id": "10",
                                    "Name": "Accounting"
                                }
                            ]
                        },
                        "text/html": "<table><tr><th>Department_id</th><th>Name</th></tr><tr><td>10</td><td>Accounting</td></tr></table>"
                    },
                    "metadata": {}
                }
            ],
            "execution_count": 156
        },
        {
            "cell_type": "code",
            "source": [
                "-- Task 10 : Find out the employees who earn greater than the average salary for their department.\n",
                "\n",
                "WITH AverageSalary\n",
                "AS\n",
                "(\n",
                "    SELECT Department_id, AVG(Salary) AS AvgSalary\n",
                "    FROM Employee \n",
                "    GROUP BY Department_id\n",
                ")\n",
                "SELECT E.first_name, E.last_name, E.Salary\n",
                "FROM Employee E\n",
                "JOIN AverageSalary A\n",
                "ON E.Department_Id = A.Department_Id\n",
                "WHERE E.Salary > A.AvgSalary\n",
                ""
            ],
            "metadata": {
                "language": "sql",
                "azdata_cell_guid": "7ecb9028-7405-4147-85e3-85dac8513562"
            },
            "outputs": [
                {
                    "output_type": "display_data",
                    "data": {
                        "text/html": "(2 rows affected)"
                    },
                    "metadata": {}
                },
                {
                    "output_type": "display_data",
                    "data": {
                        "text/html": "Total execution time: 00:00:00.049"
                    },
                    "metadata": {}
                },
                {
                    "output_type": "execute_result",
                    "execution_count": 160,
                    "data": {
                        "application/vnd.dataresource+json": {
                            "schema": {
                                "fields": [
                                    {
                                        "name": "first_name"
                                    },
                                    {
                                        "name": "last_name"
                                    },
                                    {
                                        "name": "Salary"
                                    }
                                ]
                            },
                            "data": [
                                {
                                    "first_name": "JEAN",
                                    "last_name": "DOYLE",
                                    "Salary": "2850"
                                },
                                {
                                    "first_name": "LYNN",
                                    "last_name": "DENNIS",
                                    "Salary": "2750"
                                }
                            ]
                        },
                        "text/html": "<table><tr><th>first_name</th><th>last_name</th><th>Salary</th></tr><tr><td>JEAN</td><td>DOYLE</td><td>2850</td></tr><tr><td>LYNN</td><td>DENNIS</td><td>2750</td></tr></table>"
                    },
                    "metadata": {}
                }
            ],
            "execution_count": 160
        },
        {
            "cell_type": "code",
            "source": [
                "-- Note : Query to check above answer\n",
                "\n",
                "SELECT E.first_name, E.last_name, E.Salary, E.Department_id, D.Name\n",
                "FROM Employee E\n",
                "JOIN Department D\n",
                "ON E.Department_Id = D.Department_Id\n",
                "\n",
                "SELECT Department_id, AVG(Salary) AS AvgSalary\n",
                "FROM Employee \n",
                "GROUP BY Department_id"
            ],
            "metadata": {
                "language": "sql",
                "azdata_cell_guid": "a5720606-ed68-413e-8227-9400287cc2d0",
                "tags": []
            },
            "outputs": [
                {
                    "output_type": "display_data",
                    "data": {
                        "text/html": "(6 rows affected)"
                    },
                    "metadata": {}
                },
                {
                    "output_type": "display_data",
                    "data": {
                        "text/html": "(3 rows affected)"
                    },
                    "metadata": {}
                },
                {
                    "output_type": "display_data",
                    "data": {
                        "text/html": "Total execution time: 00:00:00.034"
                    },
                    "metadata": {}
                },
                {
                    "output_type": "execute_result",
                    "execution_count": 161,
                    "data": {
                        "application/vnd.dataresource+json": {
                            "schema": {
                                "fields": [
                                    {
                                        "name": "first_name"
                                    },
                                    {
                                        "name": "last_name"
                                    },
                                    {
                                        "name": "Salary"
                                    },
                                    {
                                        "name": "Department_id"
                                    },
                                    {
                                        "name": "Name"
                                    }
                                ]
                            },
                            "data": [
                                {
                                    "first_name": "JOHN",
                                    "last_name": "SMITH",
                                    "Salary": "880",
                                    "Department_id": "20",
                                    "Name": "Sales"
                                },
                                {
                                    "first_name": "KEVIN",
                                    "last_name": "ALLEN",
                                    "Salary": "1600",
                                    "Department_id": "30",
                                    "Name": "Research"
                                },
                                {
                                    "first_name": "JEAN",
                                    "last_name": "DOYLE",
                                    "Salary": "2850",
                                    "Department_id": "30",
                                    "Name": "Research"
                                },
                                {
                                    "first_name": "LYNN",
                                    "last_name": "DENNIS",
                                    "Salary": "2750",
                                    "Department_id": "30",
                                    "Name": "Research"
                                },
                                {
                                    "first_name": "LESLIE",
                                    "last_name": "BAKER",
                                    "Salary": "2200",
                                    "Department_id": "40",
                                    "Name": "Operations"
                                },
                                {
                                    "first_name": "CYNTHIA",
                                    "last_name": "WARK",
                                    "Salary": "1250",
                                    "Department_id": "30",
                                    "Name": "Research"
                                }
                            ]
                        },
                        "text/html": "<table><tr><th>first_name</th><th>last_name</th><th>Salary</th><th>Department_id</th><th>Name</th></tr><tr><td>JOHN</td><td>SMITH</td><td>880</td><td>20</td><td>Sales</td></tr><tr><td>KEVIN</td><td>ALLEN</td><td>1600</td><td>30</td><td>Research</td></tr><tr><td>JEAN</td><td>DOYLE</td><td>2850</td><td>30</td><td>Research</td></tr><tr><td>LYNN</td><td>DENNIS</td><td>2750</td><td>30</td><td>Research</td></tr><tr><td>LESLIE</td><td>BAKER</td><td>2200</td><td>40</td><td>Operations</td></tr><tr><td>CYNTHIA</td><td>WARK</td><td>1250</td><td>30</td><td>Research</td></tr></table>"
                    },
                    "metadata": {}
                },
                {
                    "output_type": "execute_result",
                    "execution_count": 161,
                    "data": {
                        "application/vnd.dataresource+json": {
                            "schema": {
                                "fields": [
                                    {
                                        "name": "Department_id"
                                    },
                                    {
                                        "name": "AvgSalary"
                                    }
                                ]
                            },
                            "data": [
                                {
                                    "Department_id": "20",
                                    "AvgSalary": "880"
                                },
                                {
                                    "Department_id": "30",
                                    "AvgSalary": "2112"
                                },
                                {
                                    "Department_id": "40",
                                    "AvgSalary": "2200"
                                }
                            ]
                        },
                        "text/html": "<table><tr><th>Department_id</th><th>AvgSalary</th></tr><tr><td>20</td><td>880</td></tr><tr><td>30</td><td>2112</td></tr><tr><td>40</td><td>2200</td></tr></table>"
                    },
                    "metadata": {}
                }
            ],
            "execution_count": 161
        }
    ]
}